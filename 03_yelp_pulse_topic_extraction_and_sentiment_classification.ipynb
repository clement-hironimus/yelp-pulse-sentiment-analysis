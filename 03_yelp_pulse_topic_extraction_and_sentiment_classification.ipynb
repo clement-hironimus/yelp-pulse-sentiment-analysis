{
 "cells": [
  {
   "cell_type": "markdown",
   "source": [
    "# Yelp Pulse\n",
    "\n",
    "##### Generating Positive vs Negative Mentions from Yelp reviews for deeper sentiment understanding, leveraging LDA and BERT.\n",
    "\n",
    "Hypothetical Requirement: [https://github.com/clement-hironimus/yelp-pulse-sentiment-analysis/blob/main/README.md](https://github.com/clement-hironimus/yelp-pulse-sentiment-analysis/blob/main/README.md)\n",
    "\n",
    "&nbsp;\n",
    "PROJECT OUTLINE:\n",
    "- Step 1: Data Wrangling & Cleaning (see: 01_yelp_pulse_data_wrangling_and_cleaning.ipynb)\n",
    "- Step 2: Exploratory Data Analysis (see: yelp_pulse_exploratory_data_analysis.ipynb)\n",
    "- Step 3: Topic Extraction and Sentiment Classification (THIS NOTEBOOK)"
   ],
   "metadata": {
    "collapsed": false
   },
   "id": "929e2a6f0059f8be"
  },
  {
   "cell_type": "markdown",
   "source": [
    "Steps:\n",
    "1. Topic Identification using LDA\n",
    "2. Segementing the Topics\n",
    "3. Feature Extraction with DistilBERT\n",
    "4. Integraiton of Numerical/Categorical Features\n",
    "5. Sentiment Classification using Dense/LSTM Neural Network\n",
    "6. Model Validation\n",
    "\n",
    "Reference on combining models (concatenation): https://www.educative.io/answers/how-to-merge-two-different-models-in-keras"
   ],
   "metadata": {
    "collapsed": false
   },
   "id": "c4109902151e86fc"
  },
  {
   "cell_type": "markdown",
   "source": [
    "## Detailed Steps with Examples:\n",
    "\n",
    "Step 1: Topic Identification with LDA\n",
    "- **Input**: Collection of reviews.\n",
    "- **Process**: Apply LDA to identify prevalent topics.\n",
    "- **Output**:\n",
    "  - Topics: \"Ambiance\", \"Beverages\", \"Food\"\n",
    "\n",
    "Step 2: Segmentation Based on Topics\n",
    "- **Input**: Full review text.\n",
    "- **Process**: Segment text by topics identified in Step 1.\n",
    "- **Output**:\n",
    "  - \"Ambiance\": \"The ambiance at Cafe Paris is cozy and inviting.\"\n",
    "  - \"Beverages\": \"The coffee is excellent.\"\n",
    "  - \"Food\": \"The cakes are too sweet for my taste.\"\n",
    "\n",
    "Step 3: Feature Extraction with DistilBERT\n",
    "- **Input**: Text segments.\n",
    "- **Process**: Use DistilBERT to obtain deep contextual embeddings for each text segment.\n",
    "- **Output**:\n",
    "  - Embeddings for \"Ambiance\", \"Beverages\", \"Food\".\n",
    "\n",
    "Step 4: Integration of Numerical/Categorical Features\n",
    "- **Input**: Embeddings from DistilBERT; numerical features like review stars and useful counts.\n",
    "- **Process**: Concatenate numerical features with text embeddings.\n",
    "- **Output**:\n",
    "  - Combined feature vectors:\n",
    "    - \"Ambiance\": [Embeddings, 4 (Stars), 5 (Useful)]\n",
    "    - \"Beverages\": [Embeddings, 4, 5]\n",
    "    - \"Food\": [Embeddings, 4, 5]\n",
    "\n",
    "Step 5: Sentiment Classification using Dense Neural Network\n",
    "- **Input**: Combined feature vectors for each segment.\n",
    "- **Technique**: Utilize a neural network with a dense layer followed by softmax activation for classification.\n",
    "- **Output**:\n",
    "  - Sentiments for each segment:\n",
    "    - \"Ambiance\": Positive\n",
    "    - \"Beverages\": Positive\n",
    "    - \"Food\": Negative\n",
    "\n",
    "Step 6: Model Validation\n",
    "- **Input**: Sentiment predictions.\n",
    "- **Process**: Evaluate the model's performance using metrics like F1-score and accuracy, comparing against a manually annotated test set.\n",
    "- **Output**: Evaluation results and performance metrics.\n",
    "\n",
    "Step 7: Visualization and Reporting\n",
    "- Develop a dashboard to display sentiments by topics for each business, allowing users to understand the nuanced sentiments regarding different aspects like ambiance, beverages, and food.\n",
    "\n"
   ],
   "metadata": {
    "collapsed": false
   },
   "id": "aff1ba6c6639c9d"
  },
  {
   "cell_type": "markdown",
   "source": [
    "Numerical/Categorical features (Input) --> Dense Neural Network - - -  \\\n",
    "`                                                                         Concatenate -------> Output\n",
    "Text Embeddings (Input) --> LSTM - - - - - - - - - - - - - - - - - - - /"
   ],
   "metadata": {
    "collapsed": false
   },
   "id": "e67b0cb43130bb60"
  },
  {
   "cell_type": "markdown",
   "source": [
    "## Executive Summary: Key Preprocessing Steps and Decisions"
   ],
   "metadata": {
    "collapsed": false
   },
   "id": "230e141ec9753526"
  },
  {
   "cell_type": "code",
   "execution_count": null,
   "outputs": [],
   "source": [],
   "metadata": {
    "collapsed": false
   },
   "id": "988dc2b928710b2"
  }
 ],
 "metadata": {
  "kernelspec": {
   "display_name": "Python 3",
   "language": "python",
   "name": "python3"
  },
  "language_info": {
   "codemirror_mode": {
    "name": "ipython",
    "version": 2
   },
   "file_extension": ".py",
   "mimetype": "text/x-python",
   "name": "python",
   "nbconvert_exporter": "python",
   "pygments_lexer": "ipython2",
   "version": "2.7.6"
  }
 },
 "nbformat": 4,
 "nbformat_minor": 5
}
