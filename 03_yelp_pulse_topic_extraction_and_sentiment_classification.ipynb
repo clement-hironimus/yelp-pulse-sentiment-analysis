{
 "cells": [
  {
   "cell_type": "markdown",
   "source": [
    "# Yelp Pulse\n",
    "\n",
    "##### Generating Positive vs Negative Mentions from Yelp reviews for deeper sentiment understanding, leveraging LDA and BERT.\n",
    "\n",
    "Hypothetical Requirement: [https://github.com/clement-hironimus/yelp-pulse-sentiment-analysis/blob/main/README.md](https://github.com/clement-hironimus/yelp-pulse-sentiment-analysis/blob/main/README.md)\n",
    "&nbsp;\n",
    "\n",
    "PROJECT OUTLINE:\n",
    "\n",
    "Step 1: Data Preprocessing (see: yelp_pulse_data_preprocessing)\n",
    "\n",
    "Step 2: Exploratory Data Analysis (see: yelp_pulse_exploratory_data_analysis.ipynb)\n",
    "\n",
    "Step 3: Topic Extraction and Sentiment Classification (THIS NOTEBOOK)\n",
    "1. Topic Extraction using LDA\n",
    "2. Initial Sentiment Classification Using DistilBERT\n",
    "3. Segmentation and Sentiment Classification at the Topic Level\n",
    "\n",
    "Step 4: LSTM Model Building and Tuning (see: yelp_pulse_lstm_model.ipynb)"
   ],
   "metadata": {
    "collapsed": false
   },
   "id": "929e2a6f0059f8be"
  },
  {
   "cell_type": "markdown",
   "source": [
    "## Executive Summary: Key Preprocessing Steps and Decisions"
   ],
   "metadata": {
    "collapsed": false
   },
   "id": "230e141ec9753526"
  },
  {
   "cell_type": "code",
   "execution_count": null,
   "outputs": [],
   "source": [],
   "metadata": {
    "collapsed": false
   },
   "id": "988dc2b928710b2"
  }
 ],
 "metadata": {
  "kernelspec": {
   "display_name": "Python 3",
   "language": "python",
   "name": "python3"
  },
  "language_info": {
   "codemirror_mode": {
    "name": "ipython",
    "version": 2
   },
   "file_extension": ".py",
   "mimetype": "text/x-python",
   "name": "python",
   "nbconvert_exporter": "python",
   "pygments_lexer": "ipython2",
   "version": "2.7.6"
  }
 },
 "nbformat": 4,
 "nbformat_minor": 5
}
