{
 "cells": [
  {
   "cell_type": "markdown",
   "source": [
    "# Yelp Pulse\n",
    "\n",
    "#### Generating Positive vs Negative Mentions from Yelp reviews for deeper sentiment understanding, leveraging LDA and BERT.\n",
    "\n",
    "Requirement (Hypothetical): [https://github.com/clement-hironimus/yelp-pulse-sentiment-analysis/blob/main/README.md](https://github.com/clement-hironimus/yelp-pulse-sentiment-analysis/blob/main/README.md)\n",
    "\n",
    "&nbsp;\n",
    "PROJECT OUTLINE:\n",
    "- Step 1: Data Wrangling & Cleaning (THIS NOTEBOOK)\n",
    "- Step 2: Exploratory Data Analysis (see: yelp_pulse_exploratory_data_analysis.ipynb)\n",
    "- Step 3: Topic Extraction and Sentiment Classification (see: yelp_pulse_topic_extraction_and_sentiment_classification.ipynb)"
   ],
   "metadata": {
    "collapsed": false
   },
   "id": "ba662c837e89a08c"
  },
  {
   "cell_type": "markdown",
   "source": [
    "## TLDR Summary: Key Data Wrangling Steps and Decisions\n",
    "\n",
    "### Key Steps:\n",
    "- **Initial Setup**: Loaded necessary libraries and datasets, followed by checking semantic consistency and data types.\n",
    "- **Data Integrity Checks**: Identified and handled duplicates and missing values across datasets.\n",
    "- **Text Preprocessing**: Executed comprehensive text cleaning tailored for both LDA and DistilBERT, focusing on normalization, emoji conversion, removal of URLs/special characters/stop words, and lemmatization.\n",
    "- **Data Integration and Enhancement**: Merged datasets and introduced a new 'Business Country' column; conducted typo checks in 'Business State' and 'Business City' fields.\n",
    "\n",
    "### Key Findings:\n",
    "- **Data Quality Issues**:\n",
    "  - Detected minor duplicate entries in reviews and various missing values in business attributes, which were deemed random and non-critical for immediate model input but retained for possible later use.\n",
    "  - Found anomalies in review counts (negative values), which were adjusted to `NaN` to maintain data integrity without losing valid review text.\n",
    "  - Addressed the absence of 'Business Country' by implementing a geocoding approach, though faced some challenges with city name typos leading to unresolved entries.\n",
    "- **Linguistic Uniformity**:\n",
    "  - Confirmed that all reviews are in English, simplifying the NLP processing requirements.\n",
    "  - Minor instances of reviews from businesses outside the US and Canada but still in English, indicating a broader but consistent review language base.\n",
    "\n",
    "### Text Cleaning Strategy:\n",
    "- Focused on enhancing the quality of review text for advanced NLP tasks:\n",
    "  - **Normalization and Content Modification**: Standardized text presentation and removed noise (URLs, special characters).\n",
    "  - **Semantic Preparation**: Applied lemmatization and stopword removal to refine the text for more effective topic modeling and sentiment analysis.\n",
    "\n",
    "### Next Steps:\n",
    "- **Further Data Validation**: Revisit and resolve any outstanding data quality issues identified during EDA.\n",
    "- **Expand Geocoding Corrections**: Address and correct typographical errors in city names to improve the accuracy of 'Business Country' mapping.\n",
    "- **Optimize Text Cleaning Processes**: Continually refine text preprocessing techniques to enhance data quality for subsequent modeling phases.\n"
   ],
   "metadata": {
    "collapsed": false
   },
   "id": "fe6c91bc7e3b8c1d"
  },
  {
   "cell_type": "markdown",
   "source": [
    "# Step 1. Data Preprocessing\n",
    "\n",
    "Let's assume that \"TODAY\" is Jan 2022 as indicated from the latest Yelp review data."
   ],
   "metadata": {
    "collapsed": false
   },
   "id": "6d32cb230caf52e8"
  },
  {
   "cell_type": "markdown",
   "source": [
    "## Load Libraries"
   ],
   "metadata": {
    "collapsed": false
   },
   "id": "6145e2b88d162c7e"
  },
  {
   "cell_type": "code",
   "execution_count": 1,
   "outputs": [],
   "source": [
    "import pandas as pd\n",
    "import numpy as np\n",
    "import matplotlib.pyplot as plt\n",
    "import time\n",
    "\n",
    "# For text preprocessing\n",
    "import re # RegEx\n",
    "from nltk.corpus import stopwords\n",
    "from nltk.stem import WordNetLemmatizer\n",
    "import nltk\n",
    "# nltk.download('stopwords')\n",
    "# nltk.download('wordnet')\n",
    "import emoji # To convert emojis into text (eg. emoji.demojize('😊') ===> will return \":smiling_face_with_smiling_eyes:\")\n",
    "from langdetect import detect # Detecting a language\n",
    "\n",
    "# Visualize missing data\n",
    "import matplotlib.pyplot as plt\n",
    "import seaborn as sns\n",
    "\n",
    "# To map state & city with the Country\n",
    "from geopy.geocoders import Nominatim\n",
    "from geopy.exc import GeocoderTimedOut, GeocoderServiceError"
   ],
   "metadata": {
    "collapsed": false,
    "ExecuteTime": {
     "end_time": "2024-05-04T22:03:10.030601Z",
     "start_time": "2024-05-04T22:03:09.756261Z"
    }
   },
   "id": "ffd1324f6e7c327f"
  },
  {
   "cell_type": "markdown",
   "source": [
    "## Load Yelp Dataset\n",
    "\n",
    "Dataset Documentation: [https://www.yelp.com/dataset/documentation/main](https://www.yelp.com/dataset/documentation/main)\n",
    "\n",
    "&nbsp;\n",
    "<img src=\"yelp_dataset/dataset_info.png\" alt=\"Yelp Dataset Info\" style=\"height: 200px; width: auto; display: block; margin-left: auto; margin-right: auto;\">"
   ],
   "metadata": {
    "collapsed": false
   },
   "id": "13b928f2e95e32ed"
  },
  {
   "cell_type": "markdown",
   "source": [
    "### Load Yelp Review Data\n",
    "\n",
    "Containing reviews from \"2005-02-16\" to \"2022-01-19\".\n",
    "\n",
    "Column semantic & value example\n",
    "\n",
    "```\n",
    "{\n",
    "    // string, 22 character unique review id\n",
    "    \"review_id\": \"zdSx_SD6obEhz9VrW9uAWA\",\n",
    "\n",
    "    // string, 22 character unique user id, maps to the user in user.json\n",
    "    \"user_id\": \"Ha3iJu77CxlrFm-vQRs_8g\",\n",
    "\n",
    "    // string, 22 character business id, maps to business in business.json\n",
    "    \"business_id\": \"tnhfDv5Il8EaGSXZGiuQGg\",\n",
    "\n",
    "    // integer, star rating\n",
    "    \"stars\": 4,\n",
    "\n",
    "    // string, date formatted YYYY-MM-DD\n",
    "    \"date\": \"2016-03-09\",\n",
    "\n",
    "    // string, the review itself\n",
    "    \"text\": \"Great place to hang out after work: the prices are decent, and the ambience is fun. It's a bit loud, but very lively. The staff is friendly, and the food is good. They have a good selection of drinks.\",\n",
    "\n",
    "    // integer, number of useful votes received\n",
    "    \"useful\": 0,\n",
    "\n",
    "    // integer, number of funny votes received\n",
    "    \"funny\": 0,\n",
    "\n",
    "    // integer, number of cool votes received\n",
    "    \"cool\": 0\n",
    "}\n",
    "```"
   ],
   "metadata": {
    "collapsed": false
   },
   "id": "2558b160845977a"
  },
  {
   "cell_type": "markdown",
   "source": [
    "This step involves loading the Yelp review data and filtering it to only include reviews from the years 2017 to 2021. I'm excluding data from 2022 as it contains only reviews from January, which could introduce biases due to incomplete representation of the year—particularly relevant if seasonality affects review patterns. Additionally, reviews older than 2017 are excluded to manage the dataset’s size and focus the analysis on more recent reviews, which are likely more relevant to current trends and business practices."
   ],
   "metadata": {
    "collapsed": false
   },
   "id": "f541292fb555c84c"
  },
  {
   "cell_type": "code",
   "execution_count": 2,
   "outputs": [
    {
     "name": "stdout",
     "output_type": "stream",
     "text": [
      "Rows & Cols count after filtering: (3806440, 9)\n"
     ]
    },
    {
     "data": {
      "text/plain": "                 review_id                 user_id             business_id  \\\n0   KU_O5udG6zpxOg-VcAEodg  mh_-eMZ6K5RLWhZyISBhwA  XQfwVwDr-v0ZS3_CbbE5Xw   \n4   Sx8TMOWLNuJBWer-0pcmoA  bcjbaE6dDog4jkNY91ncLQ  e4Vwtrqf-wpJfwesgvdgxQ   \n24  lUUhg8ltDsUZ9h0xnwY4Dg  RreNy--tOmXMl1en0wiBOg  cPepkJeRMtHapc_b2Oe_dw   \n30  -P5E9BYUaK7s3PwBF5oAyg  Jha0USGDMefGFRLik_xFQg  bMratNjTG5ZFEA6hVyr-xQ   \n31  YbMyvlDA2W3Py5lTz8VK-A  4hBhtCSgoxkrFgHa4YAD-w  bbEXAEFr4RYHLlZ-HFssTA   \n\n    stars  useful  funny  cool  \\\n0       3       0      0     0   \n4       4       1      0     1   \n24      4       1      0     1   \n30      5       0      0     0   \n31      5       0      0     0   \n\n                                                 text                date  \n0   If you decide to eat here, just be aware it is... 2018-07-07 22:09:11  \n4   Cute interior and owner (?) gave us tour of up... 2017-01-14 20:54:15  \n24  I was really between 3 and 4 stars for this on... 2018-07-17 03:30:07  \n30  First time there and it was excellent!!! It fe... 2017-02-19 13:32:05  \n31  Great burgers,fries and salad!  Burgers have a... 2017-01-02 03:17:34  ",
      "text/html": "<div>\n<style scoped>\n    .dataframe tbody tr th:only-of-type {\n        vertical-align: middle;\n    }\n\n    .dataframe tbody tr th {\n        vertical-align: top;\n    }\n\n    .dataframe thead th {\n        text-align: right;\n    }\n</style>\n<table border=\"1\" class=\"dataframe\">\n  <thead>\n    <tr style=\"text-align: right;\">\n      <th></th>\n      <th>review_id</th>\n      <th>user_id</th>\n      <th>business_id</th>\n      <th>stars</th>\n      <th>useful</th>\n      <th>funny</th>\n      <th>cool</th>\n      <th>text</th>\n      <th>date</th>\n    </tr>\n  </thead>\n  <tbody>\n    <tr>\n      <th>0</th>\n      <td>KU_O5udG6zpxOg-VcAEodg</td>\n      <td>mh_-eMZ6K5RLWhZyISBhwA</td>\n      <td>XQfwVwDr-v0ZS3_CbbE5Xw</td>\n      <td>3</td>\n      <td>0</td>\n      <td>0</td>\n      <td>0</td>\n      <td>If you decide to eat here, just be aware it is...</td>\n      <td>2018-07-07 22:09:11</td>\n    </tr>\n    <tr>\n      <th>4</th>\n      <td>Sx8TMOWLNuJBWer-0pcmoA</td>\n      <td>bcjbaE6dDog4jkNY91ncLQ</td>\n      <td>e4Vwtrqf-wpJfwesgvdgxQ</td>\n      <td>4</td>\n      <td>1</td>\n      <td>0</td>\n      <td>1</td>\n      <td>Cute interior and owner (?) gave us tour of up...</td>\n      <td>2017-01-14 20:54:15</td>\n    </tr>\n    <tr>\n      <th>24</th>\n      <td>lUUhg8ltDsUZ9h0xnwY4Dg</td>\n      <td>RreNy--tOmXMl1en0wiBOg</td>\n      <td>cPepkJeRMtHapc_b2Oe_dw</td>\n      <td>4</td>\n      <td>1</td>\n      <td>0</td>\n      <td>1</td>\n      <td>I was really between 3 and 4 stars for this on...</td>\n      <td>2018-07-17 03:30:07</td>\n    </tr>\n    <tr>\n      <th>30</th>\n      <td>-P5E9BYUaK7s3PwBF5oAyg</td>\n      <td>Jha0USGDMefGFRLik_xFQg</td>\n      <td>bMratNjTG5ZFEA6hVyr-xQ</td>\n      <td>5</td>\n      <td>0</td>\n      <td>0</td>\n      <td>0</td>\n      <td>First time there and it was excellent!!! It fe...</td>\n      <td>2017-02-19 13:32:05</td>\n    </tr>\n    <tr>\n      <th>31</th>\n      <td>YbMyvlDA2W3Py5lTz8VK-A</td>\n      <td>4hBhtCSgoxkrFgHa4YAD-w</td>\n      <td>bbEXAEFr4RYHLlZ-HFssTA</td>\n      <td>5</td>\n      <td>0</td>\n      <td>0</td>\n      <td>0</td>\n      <td>Great burgers,fries and salad!  Burgers have a...</td>\n      <td>2017-01-02 03:17:34</td>\n    </tr>\n  </tbody>\n</table>\n</div>"
     },
     "execution_count": 2,
     "metadata": {},
     "output_type": "execute_result"
    }
   ],
   "source": [
    "# Load Yelp Reviews\n",
    "df_yelp_review = pd.read_json(\n",
    "    'yelp_dataset/yelp_academic_dataset_review.json', \n",
    "    lines=True  # Using \"lines\" because each line in the file is a separate JSON object\n",
    ")\n",
    "\n",
    "# Convert 'date' column to datetime format to facilitate filtering\n",
    "df_yelp_review['date'] = pd.to_datetime(df_yelp_review['date'])\n",
    "\n",
    "# Filter reviews to include only those from 2017 to 2021\n",
    "df_yelp_review = df_yelp_review[df_yelp_review['date'].dt.year.between(2017, 2021)]\n",
    "\n",
    "# Show data preview and the new rows & columns count after filtering\n",
    "print(f'Rows & Cols count after filtering: {df_yelp_review.shape}')\n",
    "df_yelp_review.head()\n"
   ],
   "metadata": {
    "collapsed": false,
    "ExecuteTime": {
     "end_time": "2024-05-04T22:05:01.466194Z",
     "start_time": "2024-05-04T22:03:10.028485Z"
    }
   },
   "id": "61635d843f38d3ab"
  },
  {
   "cell_type": "code",
   "execution_count": 3,
   "outputs": [],
   "source": [
    "# Renaming some columns for more clarity, specifying all columns to make sure column names are compatible with the rest of this notebook\n",
    "df_yelp_review.rename(\n",
    "    columns={\n",
    "        'review_id': 'review_id',\n",
    "        'user_id': 'user_id',\n",
    "        'business_id': 'business_id',\n",
    "        'stars': 'review_stars',\n",
    "        'useful': 'review_useful_count',\n",
    "        'funny': 'review_funny_count',\n",
    "        'cool': 'review_cool_count',\n",
    "        'text': 'review_text',\n",
    "        'date': 'review_date'\n",
    "    },\n",
    "    inplace=True\n",
    ")"
   ],
   "metadata": {
    "collapsed": false,
    "ExecuteTime": {
     "end_time": "2024-05-04T22:05:01.469872Z",
     "start_time": "2024-05-04T22:05:01.458632Z"
    }
   },
   "id": "8d73ab92942461d5"
  },
  {
   "cell_type": "code",
   "execution_count": 4,
   "outputs": [
    {
     "data": {
      "text/plain": "       review_stars  review_useful_count  review_funny_count  \\\ncount  3.806440e+06         3.806440e+06        3.806440e+06   \nmean   3.764915e+00         9.738512e-01        2.404268e-01   \nmin    1.000000e+00        -1.000000e+00       -1.000000e+00   \n25%    3.000000e+00         0.000000e+00        0.000000e+00   \n50%    5.000000e+00         0.000000e+00        0.000000e+00   \n75%    5.000000e+00         1.000000e+00        0.000000e+00   \nmax    5.000000e+00         9.330000e+02        7.920000e+02   \nstd    1.546930e+00         2.936411e+00        1.410730e+00   \n\n       review_cool_count                    review_date  \ncount       3.806440e+06                        3806440  \nmean        4.704919e-01  2019-04-17 13:57:20.745206272  \nmin        -1.000000e+00            2017-01-01 00:00:35  \n25%         0.000000e+00  2018-02-26 02:04:26.750000128  \n50%         0.000000e+00            2019-03-12 16:47:41  \n75%         0.000000e+00  2020-05-20 14:03:59.249999872  \nmax         3.040000e+02            2021-12-31 23:59:26  \nstd         2.267318e+00                            NaN  ",
      "text/html": "<div>\n<style scoped>\n    .dataframe tbody tr th:only-of-type {\n        vertical-align: middle;\n    }\n\n    .dataframe tbody tr th {\n        vertical-align: top;\n    }\n\n    .dataframe thead th {\n        text-align: right;\n    }\n</style>\n<table border=\"1\" class=\"dataframe\">\n  <thead>\n    <tr style=\"text-align: right;\">\n      <th></th>\n      <th>review_stars</th>\n      <th>review_useful_count</th>\n      <th>review_funny_count</th>\n      <th>review_cool_count</th>\n      <th>review_date</th>\n    </tr>\n  </thead>\n  <tbody>\n    <tr>\n      <th>count</th>\n      <td>3.806440e+06</td>\n      <td>3.806440e+06</td>\n      <td>3.806440e+06</td>\n      <td>3.806440e+06</td>\n      <td>3806440</td>\n    </tr>\n    <tr>\n      <th>mean</th>\n      <td>3.764915e+00</td>\n      <td>9.738512e-01</td>\n      <td>2.404268e-01</td>\n      <td>4.704919e-01</td>\n      <td>2019-04-17 13:57:20.745206272</td>\n    </tr>\n    <tr>\n      <th>min</th>\n      <td>1.000000e+00</td>\n      <td>-1.000000e+00</td>\n      <td>-1.000000e+00</td>\n      <td>-1.000000e+00</td>\n      <td>2017-01-01 00:00:35</td>\n    </tr>\n    <tr>\n      <th>25%</th>\n      <td>3.000000e+00</td>\n      <td>0.000000e+00</td>\n      <td>0.000000e+00</td>\n      <td>0.000000e+00</td>\n      <td>2018-02-26 02:04:26.750000128</td>\n    </tr>\n    <tr>\n      <th>50%</th>\n      <td>5.000000e+00</td>\n      <td>0.000000e+00</td>\n      <td>0.000000e+00</td>\n      <td>0.000000e+00</td>\n      <td>2019-03-12 16:47:41</td>\n    </tr>\n    <tr>\n      <th>75%</th>\n      <td>5.000000e+00</td>\n      <td>1.000000e+00</td>\n      <td>0.000000e+00</td>\n      <td>0.000000e+00</td>\n      <td>2020-05-20 14:03:59.249999872</td>\n    </tr>\n    <tr>\n      <th>max</th>\n      <td>5.000000e+00</td>\n      <td>9.330000e+02</td>\n      <td>7.920000e+02</td>\n      <td>3.040000e+02</td>\n      <td>2021-12-31 23:59:26</td>\n    </tr>\n    <tr>\n      <th>std</th>\n      <td>1.546930e+00</td>\n      <td>2.936411e+00</td>\n      <td>1.410730e+00</td>\n      <td>2.267318e+00</td>\n      <td>NaN</td>\n    </tr>\n  </tbody>\n</table>\n</div>"
     },
     "execution_count": 4,
     "metadata": {},
     "output_type": "execute_result"
    }
   ],
   "source": [
    "# Quick data summary & confirming date filter\n",
    "df_yelp_review.describe()"
   ],
   "metadata": {
    "collapsed": false,
    "ExecuteTime": {
     "end_time": "2024-05-04T22:05:01.693020Z",
     "start_time": "2024-05-04T22:05:01.461549Z"
    }
   },
   "id": "fbc54476d4e84e80"
  },
  {
   "cell_type": "code",
   "execution_count": 5,
   "outputs": [
    {
     "data": {
      "text/plain": "             data_size\nreview_date           \n2017            820048\n2018            906362\n2019            907284\n2020            554557\n2021            618189",
      "text/html": "<div>\n<style scoped>\n    .dataframe tbody tr th:only-of-type {\n        vertical-align: middle;\n    }\n\n    .dataframe tbody tr th {\n        vertical-align: top;\n    }\n\n    .dataframe thead th {\n        text-align: right;\n    }\n</style>\n<table border=\"1\" class=\"dataframe\">\n  <thead>\n    <tr style=\"text-align: right;\">\n      <th></th>\n      <th>data_size</th>\n    </tr>\n    <tr>\n      <th>review_date</th>\n      <th></th>\n    </tr>\n  </thead>\n  <tbody>\n    <tr>\n      <th>2017</th>\n      <td>820048</td>\n    </tr>\n    <tr>\n      <th>2018</th>\n      <td>906362</td>\n    </tr>\n    <tr>\n      <th>2019</th>\n      <td>907284</td>\n    </tr>\n    <tr>\n      <th>2020</th>\n      <td>554557</td>\n    </tr>\n    <tr>\n      <th>2021</th>\n      <td>618189</td>\n    </tr>\n  </tbody>\n</table>\n</div>"
     },
     "execution_count": 5,
     "metadata": {},
     "output_type": "execute_result"
    }
   ],
   "source": [
    "# Show the data size for each year\n",
    "pd.DataFrame(\n",
    "    df_yelp_review.groupby(df_yelp_review['review_date'].dt.year).size(),\n",
    "    columns=['data_size']\n",
    ")"
   ],
   "metadata": {
    "collapsed": false,
    "ExecuteTime": {
     "end_time": "2024-05-04T22:05:01.850980Z",
     "start_time": "2024-05-04T22:05:01.692207Z"
    }
   },
   "id": "6fcbb482c15d3d2e"
  },
  {
   "cell_type": "markdown",
   "source": [
    "### Load Yelp Business Data\n",
    "\n",
    "Column semantic & value example\n",
    "\n",
    "```\n",
    "{\n",
    "    // string, 22 character unique string business id\n",
    "    \"business_id\": \"tnhfDv5Il8EaGSXZGiuQGg\",\n",
    "\n",
    "    // string, the business's name\n",
    "    \"name\": \"Garaje\",\n",
    "\n",
    "    // string, the full address of the business\n",
    "    \"address\": \"475 3rd St\",\n",
    "\n",
    "    // string, the city\n",
    "    \"city\": \"San Francisco\",\n",
    "\n",
    "    // string, 2 character state code, if applicable\n",
    "    \"state\": \"CA\",\n",
    "\n",
    "    // string, the postal code\n",
    "    \"postal code\": \"94107\",\n",
    "\n",
    "    // float, latitude\n",
    "    \"latitude\": 37.7817529521,\n",
    "\n",
    "    // float, longitude\n",
    "    \"longitude\": -122.39612197,\n",
    "\n",
    "    // float, star rating, rounded to half-stars\n",
    "    \"stars\": 4.5,\n",
    "\n",
    "    // integer, number of reviews\n",
    "    \"review_count\": 1198,\n",
    "\n",
    "    // integer, 0 or 1 for closed or open, respectively\n",
    "    \"is_open\": 1,\n",
    "\n",
    "    // object, business attributes to values. note: some attribute values might be objects\n",
    "    \"attributes\": {\n",
    "        \"RestaurantsTakeOut\": true,\n",
    "        \"BusinessParking\": {\n",
    "            \"garage\": false,\n",
    "            \"street\": true,\n",
    "            \"validated\": false,\n",
    "            \"lot\": false,\n",
    "            \"valet\": false\n",
    "        },\n",
    "    },\n",
    "\n",
    "    // an array of strings of business categories\n",
    "    \"categories\": [\n",
    "        \"Mexican\",\n",
    "        \"Burgers\",\n",
    "        \"Gastropubs\"\n",
    "    ],\n",
    "\n",
    "    // an object of key day to value hours, hours are using a 24hr clock\n",
    "    \"hours\": {\n",
    "        \"Monday\": \"10:00-21:00\",\n",
    "        \"Tuesday\": \"10:00-21:00\",\n",
    "        \"Friday\": \"10:00-21:00\",\n",
    "        \"Wednesday\": \"10:00-21:00\",\n",
    "        \"Thursday\": \"10:00-21:00\",\n",
    "        \"Sunday\": \"11:00-18:00\",\n",
    "        \"Saturday\": \"10:00-21:00\"\n",
    "    }\n",
    "}\n",
    "```\n",
    "\n"
   ],
   "metadata": {
    "collapsed": false
   },
   "id": "adfce9de3e01d960"
  },
  {
   "cell_type": "code",
   "execution_count": 6,
   "outputs": [
    {
     "name": "stdout",
     "output_type": "stream",
     "text": [
      "Rows & Cols count: (150346, 14)\n"
     ]
    },
    {
     "data": {
      "text/plain": "              business_id                      name  \\\n0  Pns2l4eNsfO8kk83dixA6A  Abby Rappoport, LAC, CMQ   \n1  mpf3x-BjTdTEA3yCZrAYPw             The UPS Store   \n2  tUFrWirKiKi_TAnsVWINQQ                    Target   \n3  MTSW4McQd7CbVtyjqoe9mw        St Honore Pastries   \n4  mWMc6_wTdE0EUBKIGXDVfA  Perkiomen Valley Brewery   \n\n                           address           city state postal_code  \\\n0           1616 Chapala St, Ste 2  Santa Barbara    CA       93101   \n1  87 Grasso Plaza Shopping Center         Affton    MO       63123   \n2             5255 E Broadway Blvd         Tucson    AZ       85711   \n3                      935 Race St   Philadelphia    PA       19107   \n4                    101 Walnut St     Green Lane    PA       18054   \n\n    latitude   longitude  stars  review_count  is_open  \\\n0  34.426679 -119.711197    5.0             7        0   \n1  38.551126  -90.335695    3.0            15        1   \n2  32.223236 -110.880452    3.5            22        0   \n3  39.955505  -75.155564    4.0            80        1   \n4  40.338183  -75.471659    4.5            13        1   \n\n                                          attributes  \\\n0                      {'ByAppointmentOnly': 'True'}   \n1             {'BusinessAcceptsCreditCards': 'True'}   \n2  {'BikeParking': 'True', 'BusinessAcceptsCredit...   \n3  {'RestaurantsDelivery': 'False', 'OutdoorSeati...   \n4  {'BusinessAcceptsCreditCards': 'True', 'Wheelc...   \n\n                                          categories  \\\n0  Doctors, Traditional Chinese Medicine, Naturop...   \n1  Shipping Centers, Local Services, Notaries, Ma...   \n2  Department Stores, Shopping, Fashion, Home & G...   \n3  Restaurants, Food, Bubble Tea, Coffee & Tea, B...   \n4                          Brewpubs, Breweries, Food   \n\n                                               hours  \n0                                               None  \n1  {'Monday': '0:0-0:0', 'Tuesday': '8:0-18:30', ...  \n2  {'Monday': '8:0-22:0', 'Tuesday': '8:0-22:0', ...  \n3  {'Monday': '7:0-20:0', 'Tuesday': '7:0-20:0', ...  \n4  {'Wednesday': '14:0-22:0', 'Thursday': '16:0-2...  ",
      "text/html": "<div>\n<style scoped>\n    .dataframe tbody tr th:only-of-type {\n        vertical-align: middle;\n    }\n\n    .dataframe tbody tr th {\n        vertical-align: top;\n    }\n\n    .dataframe thead th {\n        text-align: right;\n    }\n</style>\n<table border=\"1\" class=\"dataframe\">\n  <thead>\n    <tr style=\"text-align: right;\">\n      <th></th>\n      <th>business_id</th>\n      <th>name</th>\n      <th>address</th>\n      <th>city</th>\n      <th>state</th>\n      <th>postal_code</th>\n      <th>latitude</th>\n      <th>longitude</th>\n      <th>stars</th>\n      <th>review_count</th>\n      <th>is_open</th>\n      <th>attributes</th>\n      <th>categories</th>\n      <th>hours</th>\n    </tr>\n  </thead>\n  <tbody>\n    <tr>\n      <th>0</th>\n      <td>Pns2l4eNsfO8kk83dixA6A</td>\n      <td>Abby Rappoport, LAC, CMQ</td>\n      <td>1616 Chapala St, Ste 2</td>\n      <td>Santa Barbara</td>\n      <td>CA</td>\n      <td>93101</td>\n      <td>34.426679</td>\n      <td>-119.711197</td>\n      <td>5.0</td>\n      <td>7</td>\n      <td>0</td>\n      <td>{'ByAppointmentOnly': 'True'}</td>\n      <td>Doctors, Traditional Chinese Medicine, Naturop...</td>\n      <td>None</td>\n    </tr>\n    <tr>\n      <th>1</th>\n      <td>mpf3x-BjTdTEA3yCZrAYPw</td>\n      <td>The UPS Store</td>\n      <td>87 Grasso Plaza Shopping Center</td>\n      <td>Affton</td>\n      <td>MO</td>\n      <td>63123</td>\n      <td>38.551126</td>\n      <td>-90.335695</td>\n      <td>3.0</td>\n      <td>15</td>\n      <td>1</td>\n      <td>{'BusinessAcceptsCreditCards': 'True'}</td>\n      <td>Shipping Centers, Local Services, Notaries, Ma...</td>\n      <td>{'Monday': '0:0-0:0', 'Tuesday': '8:0-18:30', ...</td>\n    </tr>\n    <tr>\n      <th>2</th>\n      <td>tUFrWirKiKi_TAnsVWINQQ</td>\n      <td>Target</td>\n      <td>5255 E Broadway Blvd</td>\n      <td>Tucson</td>\n      <td>AZ</td>\n      <td>85711</td>\n      <td>32.223236</td>\n      <td>-110.880452</td>\n      <td>3.5</td>\n      <td>22</td>\n      <td>0</td>\n      <td>{'BikeParking': 'True', 'BusinessAcceptsCredit...</td>\n      <td>Department Stores, Shopping, Fashion, Home &amp; G...</td>\n      <td>{'Monday': '8:0-22:0', 'Tuesday': '8:0-22:0', ...</td>\n    </tr>\n    <tr>\n      <th>3</th>\n      <td>MTSW4McQd7CbVtyjqoe9mw</td>\n      <td>St Honore Pastries</td>\n      <td>935 Race St</td>\n      <td>Philadelphia</td>\n      <td>PA</td>\n      <td>19107</td>\n      <td>39.955505</td>\n      <td>-75.155564</td>\n      <td>4.0</td>\n      <td>80</td>\n      <td>1</td>\n      <td>{'RestaurantsDelivery': 'False', 'OutdoorSeati...</td>\n      <td>Restaurants, Food, Bubble Tea, Coffee &amp; Tea, B...</td>\n      <td>{'Monday': '7:0-20:0', 'Tuesday': '7:0-20:0', ...</td>\n    </tr>\n    <tr>\n      <th>4</th>\n      <td>mWMc6_wTdE0EUBKIGXDVfA</td>\n      <td>Perkiomen Valley Brewery</td>\n      <td>101 Walnut St</td>\n      <td>Green Lane</td>\n      <td>PA</td>\n      <td>18054</td>\n      <td>40.338183</td>\n      <td>-75.471659</td>\n      <td>4.5</td>\n      <td>13</td>\n      <td>1</td>\n      <td>{'BusinessAcceptsCreditCards': 'True', 'Wheelc...</td>\n      <td>Brewpubs, Breweries, Food</td>\n      <td>{'Wednesday': '14:0-22:0', 'Thursday': '16:0-2...</td>\n    </tr>\n  </tbody>\n</table>\n</div>"
     },
     "execution_count": 6,
     "metadata": {},
     "output_type": "execute_result"
    }
   ],
   "source": [
    "# Load Yelp Business\n",
    "df_yelp_business = pd.read_json(\n",
    "    'yelp_dataset/yelp_academic_dataset_business.json', \n",
    "    lines=True # Using \"lines\" because each line in the file is a separate JSON object\n",
    ")\n",
    "\n",
    "# Show data preview\n",
    "print(f'Rows & Cols count: {df_yelp_business.shape}')\n",
    "df_yelp_business.head()"
   ],
   "metadata": {
    "collapsed": false,
    "ExecuteTime": {
     "end_time": "2024-05-04T22:05:03.310521Z",
     "start_time": "2024-05-04T22:05:01.850767Z"
    }
   },
   "id": "74d66a53487bc2c5"
  },
  {
   "cell_type": "code",
   "execution_count": 7,
   "outputs": [],
   "source": [
    "# Renaming some columns for more clarity, specifying all columns to make sure column names are compatible with the rest of this notebook\n",
    "df_yelp_business.rename(\n",
    "    columns={\n",
    "        'business_id': 'business_id',\n",
    "        'name': 'business_name',\n",
    "        'address': 'business_address',\n",
    "        'city': 'business_city',\n",
    "        'state': 'business_state',\n",
    "        'postal_code': 'business_postal_code',\n",
    "        'latitude': 'business_latitude',\n",
    "        'longitude': 'business_longitude',\n",
    "        'stars': 'business_average_review_stars',\n",
    "        'review_count': 'business_review_count',\n",
    "        'is_open': 'is_business_open',\n",
    "        'attributes': 'business_attributes',\n",
    "        'categories': 'business_categories',\n",
    "        'hours': 'business_hours'\n",
    "    },\n",
    "    inplace=True\n",
    ")"
   ],
   "metadata": {
    "collapsed": false,
    "ExecuteTime": {
     "end_time": "2024-05-04T22:05:03.312129Z",
     "start_time": "2024-05-04T22:05:03.309378Z"
    }
   },
   "id": "dc260cdb74265c43"
  },
  {
   "cell_type": "markdown",
   "source": [
    "## Check Data Types"
   ],
   "metadata": {
    "collapsed": false
   },
   "id": "76bcc5522a361d6"
  },
  {
   "cell_type": "code",
   "execution_count": 8,
   "outputs": [
    {
     "name": "stdout",
     "output_type": "stream",
     "text": [
      "review_id                      object\n",
      "user_id                        object\n",
      "business_id                    object\n",
      "review_stars                    int64\n",
      "review_useful_count             int64\n",
      "review_funny_count              int64\n",
      "review_cool_count               int64\n",
      "review_text                    object\n",
      "review_date            datetime64[ns]\n",
      "dtype: object\n"
     ]
    }
   ],
   "source": [
    "# df_yelp_review\n",
    "print(df_yelp_review.dtypes)"
   ],
   "metadata": {
    "collapsed": false,
    "ExecuteTime": {
     "end_time": "2024-05-04T22:05:03.315071Z",
     "start_time": "2024-05-04T22:05:03.311038Z"
    }
   },
   "id": "8810db926ccfd0f5"
  },
  {
   "cell_type": "code",
   "execution_count": 9,
   "outputs": [
    {
     "name": "stdout",
     "output_type": "stream",
     "text": [
      "business_id                       object\n",
      "business_name                     object\n",
      "business_address                  object\n",
      "business_city                     object\n",
      "business_state                    object\n",
      "business_postal_code              object\n",
      "business_latitude                float64\n",
      "business_longitude               float64\n",
      "business_average_review_stars    float64\n",
      "business_review_count              int64\n",
      "is_business_open                   int64\n",
      "business_attributes               object\n",
      "business_categories               object\n",
      "business_hours                    object\n",
      "dtype: object\n"
     ]
    }
   ],
   "source": [
    "# df_yelp_business\n",
    "print(df_yelp_business.dtypes)"
   ],
   "metadata": {
    "collapsed": false,
    "ExecuteTime": {
     "end_time": "2024-05-04T22:05:03.317937Z",
     "start_time": "2024-05-04T22:05:03.314706Z"
    }
   },
   "id": "a6994b77a10d0daa"
  },
  {
   "cell_type": "markdown",
   "source": [
    "## Check for Duplicates"
   ],
   "metadata": {
    "collapsed": false
   },
   "id": "2d02a6c2dd96e141"
  },
  {
   "cell_type": "code",
   "execution_count": 10,
   "outputs": [],
   "source": [
    "# Function to show random duplicate examples\n",
    "def get_random_dupe_sample(df, dupe_col_subset, dupe_sample_count, col_to_include_in_dupe_sample):\n",
    "    \n",
    "    # Identify all duplicates based on 'user_id' and 'review_text'\n",
    "    is_duplicated = df.duplicated(subset=dupe_col_subset, keep=False)\n",
    "    print(f\"All rows containing duplicates: {is_duplicated.sum()} of {len(df)} total rows\")\n",
    "    \n",
    "    print(\"Sample of duplicate records:\")\n",
    "    # Group by 'user_id' and 'review_text' and sample X group randomly\n",
    "    return df[is_duplicated].groupby(dupe_col_subset, group_keys=False)[col_to_include_in_dupe_sample].apply(\n",
    "        lambda x: x.sample(min(len(x), dupe_sample_count))\n",
    "    )"
   ],
   "metadata": {
    "collapsed": false,
    "ExecuteTime": {
     "end_time": "2024-05-04T22:05:03.326671Z",
     "start_time": "2024-05-04T22:05:03.318514Z"
    }
   },
   "id": "3d922a86ff695b78"
  },
  {
   "cell_type": "markdown",
   "source": [
    "### Duplicates in \"df_yelp_review\"\n",
    "\n",
    "Despite no duplicates found by \"review_id\" among the 3.8 million rows, there are suspicious cases of duplication (note that categories #1 and #2 may overlap):\n",
    "\n",
    "1. By review_text (18,400 rows): It's unlikely for two different users to post identical long reviews, although there can be instances where different users post the same short reviews (e.g., \"Great service!\").\n",
    "2. By user_id and review_text (17,900 rows): These duplicates indicate a higher likelihood of repeated posts by the same users.\n",
    "\n",
    "Based on these observations, I will remove duplicates identified in category #2 only. This decision leaves out the remaining 500 cases from category #1. While these could potentially skew the sentiment analysis, they are retained because if they represent valid identical reviews from different users, their contributions should still be weighted in the sentiment analysis."
   ],
   "metadata": {
    "collapsed": false
   },
   "id": "7a9c4958dd9db26b"
  },
  {
   "cell_type": "code",
   "execution_count": 11,
   "outputs": [
    {
     "name": "stdout",
     "output_type": "stream",
     "text": [
      "0\n"
     ]
    }
   ],
   "source": [
    "# Check if there are duplicates by \"review_id\"\n",
    "print(df_yelp_review['review_id'].duplicated().sum())"
   ],
   "metadata": {
    "collapsed": false,
    "ExecuteTime": {
     "end_time": "2024-05-04T22:05:04.375364Z",
     "start_time": "2024-05-04T22:05:04.370484Z"
    }
   },
   "id": "f304daea2dad3351"
  },
  {
   "cell_type": "code",
   "execution_count": 12,
   "outputs": [
    {
     "name": "stdout",
     "output_type": "stream",
     "text": [
      "All rows containing duplicates: 18415 of 3806440 total rows\n",
      "Sample of duplicate records:\n"
     ]
    },
    {
     "data": {
      "text/plain": "                        user_id  \\\n3753724  5RZDMSpeMNEJcgtgMxzGDQ   \n3897864  5RZDMSpeMNEJcgtgMxzGDQ   \n4135424  dWu1E1lmdFZF7P621TPSEQ   \n4083345  dWu1E1lmdFZF7P621TPSEQ   \n586767   Xf5hPJl9P4r9rRAy-NR46g   \n...                         ...   \n1857210  nQqtZcL5IZnkfz50Egmq8Q   \n4338044  hSGexBI1k5mD-Vp6t2A-9w   \n4391575  hSGexBI1k5mD-Vp6t2A-9w   \n3966002  658KY3BAcjeSAK_d2LOMDA   \n3575985  658KY3BAcjeSAK_d2LOMDA   \n\n                                               review_text  \\\n3753724  !!!!!!!!\\n!!!!!!!!\\n!!!!!!!Do not eat here \\nI...   \n3897864  !!!!!!!!\\n!!!!!!!!\\n!!!!!!!Do not eat here \\nI...   \n4135424  \"Burger of the Moment\" Do it! It is fantastic!...   \n4083345  \"Burger of the Moment\" Do it! It is fantastic!...   \n586767   \"Prep's Breakfast Sammie\" is the BEST breakfas...   \n...                                                    ...   \n1857210  yay!  for the impossible burger!!!\\nBK Lounge ...   \n4338044  两星纯粹是给味道，可以称之为SB地区最正宗的中餐馆。扣的三星完全是因为服务态度。桌子不擦，上...   \n4391575  两星纯粹是给味道，可以称之为SB地区最正宗的中餐馆。扣的三星完全是因为服务态度。桌子不擦，上...   \n3966002  土曜日のブランチに来ました。たくさんの広い席があり自由に座れるので、とてもゆったり座れます。...   \n3575985  土曜日のブランチに来ました。たくさんの広い席があり自由に座れるので、とてもゆったり座れます。...   \n\n                    business_id         review_date  \n3753724  TjXbh5PwgCOFkvbi0_qrmA 2018-06-06 00:52:54  \n3897864  TjXbh5PwgCOFkvbi0_qrmA 2018-06-26 22:23:27  \n4135424  CySqUcNz8oPiQTu4EXTnig 2021-10-12 23:29:05  \n4083345  CySqUcNz8oPiQTu4EXTnig 2021-10-09 19:07:15  \n586767   UCMSWPqzXjd7QHq7v8PJjQ 2020-09-10 20:10:14  \n...                         ...                 ...  \n1857210  KL1xQGSxC5OmpZyq0PqjXg 2019-11-05 13:25:25  \n4338044  v_8DrVtUIHE0o62Ps926Yg 2018-03-09 22:38:07  \n4391575  v_8DrVtUIHE0o62Ps926Yg 2018-03-11 07:45:34  \n3966002  8yUdqNLViWhmfbYVltkJ7Q 2017-10-27 10:00:10  \n3575985  8yUdqNLViWhmfbYVltkJ7Q 2017-10-28 14:04:30  \n\n[18407 rows x 4 columns]",
      "text/html": "<div>\n<style scoped>\n    .dataframe tbody tr th:only-of-type {\n        vertical-align: middle;\n    }\n\n    .dataframe tbody tr th {\n        vertical-align: top;\n    }\n\n    .dataframe thead th {\n        text-align: right;\n    }\n</style>\n<table border=\"1\" class=\"dataframe\">\n  <thead>\n    <tr style=\"text-align: right;\">\n      <th></th>\n      <th>user_id</th>\n      <th>review_text</th>\n      <th>business_id</th>\n      <th>review_date</th>\n    </tr>\n  </thead>\n  <tbody>\n    <tr>\n      <th>3753724</th>\n      <td>5RZDMSpeMNEJcgtgMxzGDQ</td>\n      <td>!!!!!!!!\\n!!!!!!!!\\n!!!!!!!Do not eat here \\nI...</td>\n      <td>TjXbh5PwgCOFkvbi0_qrmA</td>\n      <td>2018-06-06 00:52:54</td>\n    </tr>\n    <tr>\n      <th>3897864</th>\n      <td>5RZDMSpeMNEJcgtgMxzGDQ</td>\n      <td>!!!!!!!!\\n!!!!!!!!\\n!!!!!!!Do not eat here \\nI...</td>\n      <td>TjXbh5PwgCOFkvbi0_qrmA</td>\n      <td>2018-06-26 22:23:27</td>\n    </tr>\n    <tr>\n      <th>4135424</th>\n      <td>dWu1E1lmdFZF7P621TPSEQ</td>\n      <td>\"Burger of the Moment\" Do it! It is fantastic!...</td>\n      <td>CySqUcNz8oPiQTu4EXTnig</td>\n      <td>2021-10-12 23:29:05</td>\n    </tr>\n    <tr>\n      <th>4083345</th>\n      <td>dWu1E1lmdFZF7P621TPSEQ</td>\n      <td>\"Burger of the Moment\" Do it! It is fantastic!...</td>\n      <td>CySqUcNz8oPiQTu4EXTnig</td>\n      <td>2021-10-09 19:07:15</td>\n    </tr>\n    <tr>\n      <th>586767</th>\n      <td>Xf5hPJl9P4r9rRAy-NR46g</td>\n      <td>\"Prep's Breakfast Sammie\" is the BEST breakfas...</td>\n      <td>UCMSWPqzXjd7QHq7v8PJjQ</td>\n      <td>2020-09-10 20:10:14</td>\n    </tr>\n    <tr>\n      <th>...</th>\n      <td>...</td>\n      <td>...</td>\n      <td>...</td>\n      <td>...</td>\n    </tr>\n    <tr>\n      <th>1857210</th>\n      <td>nQqtZcL5IZnkfz50Egmq8Q</td>\n      <td>yay!  for the impossible burger!!!\\nBK Lounge ...</td>\n      <td>KL1xQGSxC5OmpZyq0PqjXg</td>\n      <td>2019-11-05 13:25:25</td>\n    </tr>\n    <tr>\n      <th>4338044</th>\n      <td>hSGexBI1k5mD-Vp6t2A-9w</td>\n      <td>两星纯粹是给味道，可以称之为SB地区最正宗的中餐馆。扣的三星完全是因为服务态度。桌子不擦，上...</td>\n      <td>v_8DrVtUIHE0o62Ps926Yg</td>\n      <td>2018-03-09 22:38:07</td>\n    </tr>\n    <tr>\n      <th>4391575</th>\n      <td>hSGexBI1k5mD-Vp6t2A-9w</td>\n      <td>两星纯粹是给味道，可以称之为SB地区最正宗的中餐馆。扣的三星完全是因为服务态度。桌子不擦，上...</td>\n      <td>v_8DrVtUIHE0o62Ps926Yg</td>\n      <td>2018-03-11 07:45:34</td>\n    </tr>\n    <tr>\n      <th>3966002</th>\n      <td>658KY3BAcjeSAK_d2LOMDA</td>\n      <td>土曜日のブランチに来ました。たくさんの広い席があり自由に座れるので、とてもゆったり座れます。...</td>\n      <td>8yUdqNLViWhmfbYVltkJ7Q</td>\n      <td>2017-10-27 10:00:10</td>\n    </tr>\n    <tr>\n      <th>3575985</th>\n      <td>658KY3BAcjeSAK_d2LOMDA</td>\n      <td>土曜日のブランチに来ました。たくさんの広い席があり自由に座れるので、とてもゆったり座れます。...</td>\n      <td>8yUdqNLViWhmfbYVltkJ7Q</td>\n      <td>2017-10-28 14:04:30</td>\n    </tr>\n  </tbody>\n</table>\n<p>18407 rows × 4 columns</p>\n</div>"
     },
     "execution_count": 12,
     "metadata": {},
     "output_type": "execute_result"
    }
   ],
   "source": [
    "get_random_dupe_sample(\n",
    "    df=df_yelp_review, \n",
    "    dupe_col_subset=['review_text'], \n",
    "    dupe_sample_count=10, \n",
    "    col_to_include_in_dupe_sample=['user_id', 'review_text', 'business_id', 'review_date']\n",
    ")"
   ],
   "metadata": {
    "collapsed": false,
    "ExecuteTime": {
     "end_time": "2024-05-04T22:05:07.016475Z",
     "start_time": "2024-05-04T22:05:06.068847Z"
    }
   },
   "id": "718b8ecf9d034025"
  },
  {
   "cell_type": "code",
   "execution_count": 13,
   "outputs": [
    {
     "name": "stdout",
     "output_type": "stream",
     "text": [
      "All rows containing duplicates: 17909 of 3806440 total rows\n",
      "Sample of duplicate records:\n"
     ]
    },
    {
     "data": {
      "text/plain": "                        user_id  \\\n4478223  --6GckBYtTa4hj8pT09oAg   \n3783248  --6GckBYtTa4hj8pT09oAg   \n2443418  --rTlRNPla6azelpN66Y6A   \n2225400  --rTlRNPla6azelpN66Y6A   \n6045689  -0_v1Gvjhsi0AbKmQLdq0g   \n...                         ...   \n5872135  zyB2nCLs1x27K-sXLj8aDw   \n551182   zzAJb1SyZKQp5qOQ0EJjxA   \n2671413  zzAJb1SyZKQp5qOQ0EJjxA   \n5236070  zzW56xgATvt0CouuDYxkrA   \n5253108  zzW56xgATvt0CouuDYxkrA   \n\n                                               review_text  \\\n4478223  I gave this place two tries. They struck out b...   \n3783248  I gave this place two tries. They struck out b...   \n2443418  Just ate at this place and the food is horribl...   \n2225400  Just ate at this place and the food is horribl...   \n6045689  The food here is absolutely amazing. I've trie...   \n...                                                    ...   \n5872135  This a great little lunch spot tucked away in ...   \n551182   I strongly do not recommend this store. I aske...   \n2671413  I strongly do not recommend this store. I aske...   \n5236070  Horrible service again! I only go here for qui...   \n5253108  Horrible service again! I only go here for qui...   \n\n                    business_id         review_date  \n4478223  VTXE1OIWWE-IVFnMEsm39g 2017-12-15 18:25:32  \n3783248  3ALBXAloMWzu_HoFaNKJkA 2017-12-15 18:22:32  \n2443418  gMLd9wEcsB17vhraoIGydw 2018-03-14 04:48:36  \n2225400  gMLd9wEcsB17vhraoIGydw 2018-03-06 22:51:01  \n6045689  p3-FsWgkrRlT18Mw5Z1tHg 2018-10-31 16:51:24  \n...                         ...                 ...  \n5872135  zwd4dyQ5ovnjVojWfAuhMw 2018-11-08 17:20:34  \n551182   7WTy8p_Uc_iVDKugJc59oA 2020-11-24 18:02:45  \n2671413  Blu-xIRaFO7Ktyj3ZHZpdg 2020-11-24 18:06:29  \n5236070  mAEA3VaTrvs64VLP2p_SsQ 2019-08-01 22:55:47  \n5253108  mAEA3VaTrvs64VLP2p_SsQ 2019-07-26 02:28:13  \n\n[17874 rows x 4 columns]",
      "text/html": "<div>\n<style scoped>\n    .dataframe tbody tr th:only-of-type {\n        vertical-align: middle;\n    }\n\n    .dataframe tbody tr th {\n        vertical-align: top;\n    }\n\n    .dataframe thead th {\n        text-align: right;\n    }\n</style>\n<table border=\"1\" class=\"dataframe\">\n  <thead>\n    <tr style=\"text-align: right;\">\n      <th></th>\n      <th>user_id</th>\n      <th>review_text</th>\n      <th>business_id</th>\n      <th>review_date</th>\n    </tr>\n  </thead>\n  <tbody>\n    <tr>\n      <th>4478223</th>\n      <td>--6GckBYtTa4hj8pT09oAg</td>\n      <td>I gave this place two tries. They struck out b...</td>\n      <td>VTXE1OIWWE-IVFnMEsm39g</td>\n      <td>2017-12-15 18:25:32</td>\n    </tr>\n    <tr>\n      <th>3783248</th>\n      <td>--6GckBYtTa4hj8pT09oAg</td>\n      <td>I gave this place two tries. They struck out b...</td>\n      <td>3ALBXAloMWzu_HoFaNKJkA</td>\n      <td>2017-12-15 18:22:32</td>\n    </tr>\n    <tr>\n      <th>2443418</th>\n      <td>--rTlRNPla6azelpN66Y6A</td>\n      <td>Just ate at this place and the food is horribl...</td>\n      <td>gMLd9wEcsB17vhraoIGydw</td>\n      <td>2018-03-14 04:48:36</td>\n    </tr>\n    <tr>\n      <th>2225400</th>\n      <td>--rTlRNPla6azelpN66Y6A</td>\n      <td>Just ate at this place and the food is horribl...</td>\n      <td>gMLd9wEcsB17vhraoIGydw</td>\n      <td>2018-03-06 22:51:01</td>\n    </tr>\n    <tr>\n      <th>6045689</th>\n      <td>-0_v1Gvjhsi0AbKmQLdq0g</td>\n      <td>The food here is absolutely amazing. I've trie...</td>\n      <td>p3-FsWgkrRlT18Mw5Z1tHg</td>\n      <td>2018-10-31 16:51:24</td>\n    </tr>\n    <tr>\n      <th>...</th>\n      <td>...</td>\n      <td>...</td>\n      <td>...</td>\n      <td>...</td>\n    </tr>\n    <tr>\n      <th>5872135</th>\n      <td>zyB2nCLs1x27K-sXLj8aDw</td>\n      <td>This a great little lunch spot tucked away in ...</td>\n      <td>zwd4dyQ5ovnjVojWfAuhMw</td>\n      <td>2018-11-08 17:20:34</td>\n    </tr>\n    <tr>\n      <th>551182</th>\n      <td>zzAJb1SyZKQp5qOQ0EJjxA</td>\n      <td>I strongly do not recommend this store. I aske...</td>\n      <td>7WTy8p_Uc_iVDKugJc59oA</td>\n      <td>2020-11-24 18:02:45</td>\n    </tr>\n    <tr>\n      <th>2671413</th>\n      <td>zzAJb1SyZKQp5qOQ0EJjxA</td>\n      <td>I strongly do not recommend this store. I aske...</td>\n      <td>Blu-xIRaFO7Ktyj3ZHZpdg</td>\n      <td>2020-11-24 18:06:29</td>\n    </tr>\n    <tr>\n      <th>5236070</th>\n      <td>zzW56xgATvt0CouuDYxkrA</td>\n      <td>Horrible service again! I only go here for qui...</td>\n      <td>mAEA3VaTrvs64VLP2p_SsQ</td>\n      <td>2019-08-01 22:55:47</td>\n    </tr>\n    <tr>\n      <th>5253108</th>\n      <td>zzW56xgATvt0CouuDYxkrA</td>\n      <td>Horrible service again! I only go here for qui...</td>\n      <td>mAEA3VaTrvs64VLP2p_SsQ</td>\n      <td>2019-07-26 02:28:13</td>\n    </tr>\n  </tbody>\n</table>\n<p>17874 rows × 4 columns</p>\n</div>"
     },
     "execution_count": 13,
     "metadata": {},
     "output_type": "execute_result"
    }
   ],
   "source": [
    "get_random_dupe_sample(\n",
    "    df=df_yelp_review, \n",
    "    dupe_col_subset=['user_id', 'review_text'], \n",
    "    dupe_sample_count=5, \n",
    "    col_to_include_in_dupe_sample=['user_id', 'review_text', 'business_id', 'review_date']\n",
    ")"
   ],
   "metadata": {
    "collapsed": false,
    "ExecuteTime": {
     "end_time": "2024-05-04T22:05:18.505718Z",
     "start_time": "2024-05-04T22:05:07.111414Z"
    }
   },
   "id": "57d8369d7072a73e"
  },
  {
   "cell_type": "code",
   "execution_count": 14,
   "outputs": [
    {
     "name": "stdout",
     "output_type": "stream",
     "text": [
      "Total rows: 3806440\n",
      "Duplicate rows to remove: 9384\n",
      "Remaining rows: 3797310\n"
     ]
    }
   ],
   "source": [
    "print(f\"Total rows: {len(df_yelp_review)}\")\n",
    "# This means there are 9,130 duplicates which also include duplicates that happen >2 times \n",
    "print(f\"Duplicate rows to remove: {df_yelp_review.duplicated(subset=['review_text']).sum()}\")\n",
    "\n",
    "# Remove duplicates: keep the first occurrence, discard subsequent duplicates\n",
    "df_yelp_review = df_yelp_review.drop_duplicates(subset=['user_id', 'review_text'], keep='first')\n",
    "\n",
    "print(f\"Remaining rows: {len(df_yelp_review)}\") # Confirm successful deduplication"
   ],
   "metadata": {
    "collapsed": false,
    "ExecuteTime": {
     "end_time": "2024-05-04T22:05:30.172793Z",
     "start_time": "2024-05-04T22:05:19.411502Z"
    }
   },
   "id": "8cc9312700c6b746"
  },
  {
   "cell_type": "markdown",
   "source": [
    "#### \"df_yelp_business\""
   ],
   "metadata": {
    "collapsed": false
   },
   "id": "70f80f3cc58e423d"
  },
  {
   "cell_type": "code",
   "execution_count": 15,
   "outputs": [
    {
     "name": "stdout",
     "output_type": "stream",
     "text": [
      "0\n"
     ]
    }
   ],
   "source": [
    "# Check if there are duplicates by \"business_id\" column\n",
    "print(df_yelp_business['business_id'].duplicated().sum())"
   ],
   "metadata": {
    "collapsed": false,
    "ExecuteTime": {
     "end_time": "2024-05-04T22:05:30.190420Z",
     "start_time": "2024-05-04T22:05:30.187935Z"
    }
   },
   "id": "a91a99b0a83b76e8"
  },
  {
   "cell_type": "markdown",
   "source": [
    "I looked browsed these potential duplicates, but there are businesses that happened to be on the same addresses. No strong evidence found that these are duplicates."
   ],
   "metadata": {
    "collapsed": false
   },
   "id": "16d0d08059346983"
  },
  {
   "cell_type": "code",
   "execution_count": 16,
   "outputs": [
    {
     "name": "stdout",
     "output_type": "stream",
     "text": [
      "All rows containing duplicates: 9229 of 150346 total rows\n",
      "Sample of duplicate records:\n"
     ]
    },
    {
     "data": {
      "text/plain": "        business_latitude  business_longitude  \\\n70055           27.675726          -82.726385   \n46265           27.675726          -82.726385   \n133400          27.695851          -82.453611   \n142969          27.695851          -82.453611   \n80962           27.695851          -82.453611   \n...                   ...                 ...   \n107041          53.561002         -113.563625   \n1117            53.570634         -113.416455   \n10409           53.570634         -113.416455   \n32355           53.634785         -113.626740   \n47654           53.634785         -113.626740   \n\n                           business_name        business_address  \\\n70055   Tierra Verde Property Management  1110 Pinellas Bayway S   \n46265              Sea Worthy Fish + Bar  1110 Pinellas Bayway S   \n133400          Bob Billa's SHJ Plumbing                           \n142969          It's Time Auto Detailing                           \n80962                       Python Fence                           \n...                                  ...                     ...   \n107041            TELUS World of Science     11211 142 Street NW   \n1117               Mundare Sausage House      4824 118 Avenue NW   \n10409              Uncle Ed's Restaurant      4824 118 Avenue NW   \n32355                    Vinyl Rock Cafe        24 Perron Street   \n47654              Critical Mass Brewing        24 Perron Street   \n\n        is_business_open     business_city business_state  \\\n70055                  1  Saint Petersburg             FL   \n46265                  1      Tierra Verde             FL   \n133400                 1            Ruskin             FL   \n142969                 1            Ruskin             FL   \n80962                  1            Ruskin             FL   \n...                  ...               ...            ...   \n107041                 1          Edmonton             AB   \n1117                   1          Edmonton             AB   \n10409                  1          Edmonton             AB   \n32355                  0      Saint Albert             AB   \n47654                  0        St. Albert             AB   \n\n       business_postal_code  business_review_count  \\\n70055                 33715                      6   \n46265                 33715                     58   \n133400                33570                      5   \n142969                33570                     26   \n80962                 33570                     25   \n...                     ...                    ...   \n107041              T5M 4A1                     11   \n1117                T5W 1B4                      7   \n10409               T5W 1B4                     60   \n32355               T8N 1E7                      5   \n47654               T8N 1E7                     12   \n\n        business_average_review_stars  \n70055                             1.5  \n46265                             4.5  \n133400                            3.5  \n142969                            4.5  \n80962                             4.0  \n...                               ...  \n107041                            3.5  \n1117                              4.0  \n10409                             4.0  \n32355                             3.5  \n47654                             3.5  \n\n[8474 rows x 10 columns]",
      "text/html": "<div>\n<style scoped>\n    .dataframe tbody tr th:only-of-type {\n        vertical-align: middle;\n    }\n\n    .dataframe tbody tr th {\n        vertical-align: top;\n    }\n\n    .dataframe thead th {\n        text-align: right;\n    }\n</style>\n<table border=\"1\" class=\"dataframe\">\n  <thead>\n    <tr style=\"text-align: right;\">\n      <th></th>\n      <th>business_latitude</th>\n      <th>business_longitude</th>\n      <th>business_name</th>\n      <th>business_address</th>\n      <th>is_business_open</th>\n      <th>business_city</th>\n      <th>business_state</th>\n      <th>business_postal_code</th>\n      <th>business_review_count</th>\n      <th>business_average_review_stars</th>\n    </tr>\n  </thead>\n  <tbody>\n    <tr>\n      <th>70055</th>\n      <td>27.675726</td>\n      <td>-82.726385</td>\n      <td>Tierra Verde Property Management</td>\n      <td>1110 Pinellas Bayway S</td>\n      <td>1</td>\n      <td>Saint Petersburg</td>\n      <td>FL</td>\n      <td>33715</td>\n      <td>6</td>\n      <td>1.5</td>\n    </tr>\n    <tr>\n      <th>46265</th>\n      <td>27.675726</td>\n      <td>-82.726385</td>\n      <td>Sea Worthy Fish + Bar</td>\n      <td>1110 Pinellas Bayway S</td>\n      <td>1</td>\n      <td>Tierra Verde</td>\n      <td>FL</td>\n      <td>33715</td>\n      <td>58</td>\n      <td>4.5</td>\n    </tr>\n    <tr>\n      <th>133400</th>\n      <td>27.695851</td>\n      <td>-82.453611</td>\n      <td>Bob Billa's SHJ Plumbing</td>\n      <td></td>\n      <td>1</td>\n      <td>Ruskin</td>\n      <td>FL</td>\n      <td>33570</td>\n      <td>5</td>\n      <td>3.5</td>\n    </tr>\n    <tr>\n      <th>142969</th>\n      <td>27.695851</td>\n      <td>-82.453611</td>\n      <td>It's Time Auto Detailing</td>\n      <td></td>\n      <td>1</td>\n      <td>Ruskin</td>\n      <td>FL</td>\n      <td>33570</td>\n      <td>26</td>\n      <td>4.5</td>\n    </tr>\n    <tr>\n      <th>80962</th>\n      <td>27.695851</td>\n      <td>-82.453611</td>\n      <td>Python Fence</td>\n      <td></td>\n      <td>1</td>\n      <td>Ruskin</td>\n      <td>FL</td>\n      <td>33570</td>\n      <td>25</td>\n      <td>4.0</td>\n    </tr>\n    <tr>\n      <th>...</th>\n      <td>...</td>\n      <td>...</td>\n      <td>...</td>\n      <td>...</td>\n      <td>...</td>\n      <td>...</td>\n      <td>...</td>\n      <td>...</td>\n      <td>...</td>\n      <td>...</td>\n    </tr>\n    <tr>\n      <th>107041</th>\n      <td>53.561002</td>\n      <td>-113.563625</td>\n      <td>TELUS World of Science</td>\n      <td>11211 142 Street NW</td>\n      <td>1</td>\n      <td>Edmonton</td>\n      <td>AB</td>\n      <td>T5M 4A1</td>\n      <td>11</td>\n      <td>3.5</td>\n    </tr>\n    <tr>\n      <th>1117</th>\n      <td>53.570634</td>\n      <td>-113.416455</td>\n      <td>Mundare Sausage House</td>\n      <td>4824 118 Avenue NW</td>\n      <td>1</td>\n      <td>Edmonton</td>\n      <td>AB</td>\n      <td>T5W 1B4</td>\n      <td>7</td>\n      <td>4.0</td>\n    </tr>\n    <tr>\n      <th>10409</th>\n      <td>53.570634</td>\n      <td>-113.416455</td>\n      <td>Uncle Ed's Restaurant</td>\n      <td>4824 118 Avenue NW</td>\n      <td>1</td>\n      <td>Edmonton</td>\n      <td>AB</td>\n      <td>T5W 1B4</td>\n      <td>60</td>\n      <td>4.0</td>\n    </tr>\n    <tr>\n      <th>32355</th>\n      <td>53.634785</td>\n      <td>-113.626740</td>\n      <td>Vinyl Rock Cafe</td>\n      <td>24 Perron Street</td>\n      <td>0</td>\n      <td>Saint Albert</td>\n      <td>AB</td>\n      <td>T8N 1E7</td>\n      <td>5</td>\n      <td>3.5</td>\n    </tr>\n    <tr>\n      <th>47654</th>\n      <td>53.634785</td>\n      <td>-113.626740</td>\n      <td>Critical Mass Brewing</td>\n      <td>24 Perron Street</td>\n      <td>0</td>\n      <td>St. Albert</td>\n      <td>AB</td>\n      <td>T8N 1E7</td>\n      <td>12</td>\n      <td>3.5</td>\n    </tr>\n  </tbody>\n</table>\n<p>8474 rows × 10 columns</p>\n</div>"
     },
     "execution_count": 16,
     "metadata": {},
     "output_type": "execute_result"
    }
   ],
   "source": [
    "get_random_dupe_sample(\n",
    "    df=df_yelp_business, \n",
    "    dupe_col_subset=['business_latitude', 'business_longitude', 'business_address', 'is_business_open'], \n",
    "    dupe_sample_count=10, \n",
    "    col_to_include_in_dupe_sample=['business_latitude', 'business_longitude', 'business_name', 'business_address', 'is_business_open', 'business_city', 'business_state', 'business_postal_code', 'business_review_count', 'business_average_review_stars']\n",
    ")"
   ],
   "metadata": {
    "collapsed": false,
    "ExecuteTime": {
     "end_time": "2024-05-04T22:05:30.559233Z",
     "start_time": "2024-05-04T22:05:30.201518Z"
    }
   },
   "id": "4aac88f8839bb4b1"
  },
  {
   "cell_type": "markdown",
   "source": [
    "However, if adding \"name\" as duplicate condition, there are very few dupes found. However, I'm not excluding these because each review is connected with \"business_id\" and we want to make sure these reviews will have the business information when joining with this table. "
   ],
   "metadata": {
    "collapsed": false
   },
   "id": "54be4757986c5e34"
  },
  {
   "cell_type": "code",
   "execution_count": 17,
   "outputs": [
    {
     "name": "stdout",
     "output_type": "stream",
     "text": [
      "All rows containing duplicates: 32 of 150346 total rows\n",
      "Sample of duplicate records:\n"
     ]
    },
    {
     "data": {
      "text/plain": "        business_latitude  business_longitude  \\\n132063          27.952747          -82.450809   \n48391           27.952747          -82.450809   \n63945           29.982484          -90.114553   \n74227           29.982484          -90.114553   \n113827          30.005173          -90.105275   \n92261           30.005173          -90.105275   \n149608          30.016263          -90.199632   \n124926          30.016263          -90.199632   \n28944           32.251708         -110.890542   \n6087            32.251708         -110.890542   \n63496           34.440625         -119.732397   \n146478          34.440625         -119.732397   \n25025           36.210166          -86.732522   \n126374          36.210166          -86.732522   \n29766           38.565221          -90.353315   \n98909           38.565221          -90.353315   \n1089            38.672404          -90.414138   \n146209          38.672404          -90.414138   \n102015          39.526564         -119.739034   \n29874           39.526564         -119.739034   \n147359          39.635226          -86.092537   \n49972           39.635226          -86.092537   \n141250          39.913292          -86.200830   \n68              39.913292          -86.200830   \n6976            39.944368          -74.944076   \n101431          39.944368          -74.944076   \n144793          39.950745          -75.170168   \n9083            39.950745          -75.170168   \n11148           40.363467          -74.951450   \n57209           40.363467          -74.951450   \n39539           40.365504          -74.951830   \n67458           40.365504          -74.951830   \n\n                                       business_name  \\\n132063                           Tampa Union Station   \n48391                            Tampa Union Station   \n63945   Lake Lawn Metairie Funeral Home & Cemeteries   \n74227   Lake Lawn Metairie Funeral Home & Cemeteries   \n113827                              Lakeview Grocery   \n92261                               Lakeview Grocery   \n149608                         Robert’s Fresh Market   \n124926                         Robert’s Fresh Market   \n28944                                       Cupcakes   \n6087                                        Cupcakes   \n63496                              iGrill Korean BBQ   \n146478                             iGrill Korean BBQ   \n25025                                         Kroger   \n126374                                        Kroger   \n29766                     Sappington Farmers' Market   \n98909                     Sappington Farmers' Market   \n1089                            Schnucks Creve Coeur   \n146209                          Schnucks Creve Coeur   \n102015                        Independent Automotive   \n29874                         Independent Automotive   \n147359                            Urology of Indiana   \n49972                             Urology of Indiana   \n141250                       Sweet Things Chocolates   \n68                           Sweet Things Chocolates   \n6976                                Freedom Mortgage   \n101431                              Freedom Mortgage   \n144793                  Swiss Haus Cafe & Pastry Bar   \n9083                    Swiss Haus Cafe & Pastry Bar   \n11148                                      Logan Inn   \n57209                                      Logan Inn   \n39539                            Mother's Restaurant   \n67458                            Mother's Restaurant   \n\n                business_address  is_business_open          business_city  \\\n132063        601 N Nebraska Ave                 1                  Tampa   \n48391         601 N Nebraska Ave                 1                  Tampa   \n63945    5100 Pontchartrain Blvd                 1            New Orleans   \n74227    5100 Pontchartrain Blvd                 1            New Orleans   \n113827          801 Harrison Ave                 1            New Orleans   \n92261           801 Harrison Ave                 1            New Orleans   \n149608      5016 W Esplanade Ave                 1               Metairie   \n124926      5016 W Esplanade Ave                 1               Metairie   \n28944   4811 E Grant Rd, Ste 127                 0                 Tucson   \n6087    4811 E Grant Rd, Ste 127                 0                 Tucson   \n63496              3132 State St                 0          Santa Barbara   \n146478             3132 State St                 0          Santa Barbara   \n25025         3410 Gallatin Pike                 1              Nashville   \n126374        3410 Gallatin Pike                 1              Nashville   \n29766             8400 Watson Rd                 0            Saint Louis   \n98909             8400 Watson Rd                 0            Saint Louis   \n1089            10650 Olive Blvd                 1              St. Louis   \n146209          10650 Olive Blvd                 1            Saint Louis   \n102015            865 Bergin Way                 1                 Sparks   \n29874             865 Bergin Way                 1                 Sparks   \n147359      679 E County Line Rd                 1              Greenwood   \n49972       679 E County Line Rd                 1              Greenwood   \n141250            2288 W 86th St                 1           Indianapolis   \n68                2288 W 86th St                 1           Indianapolis   \n6976     907 Pleasant Valley Ave                 1  Mount Laurel Township   \n101431   907 Pleasant Valley Ave                 1           Mount Laurel   \n144793            1740 Sansom St                 0           Philadelphia   \n9083              1740 Sansom St                 0           Philadelphia   \n11148              10 W Ferry St                 1               New Hope   \n57209              10 W Ferry St                 1               New Hope   \n39539               34 N Main St                 0               New Hope   \n67458               34 N Main St                 0               New Hope   \n\n       business_state business_postal_code  business_review_count  \\\n132063             FL                33602                     21   \n48391              FL                33602                     19   \n63945              LA                70124                     17   \n74227              LA                70124                     39   \n113827             LA                70124                     48   \n92261              LA                70124                     13   \n149608             LA                70006                      8   \n124926             LA                70006                     16   \n28944              AZ                85712                     27   \n6087               AZ                85712                      6   \n63496              CA                93105                     65   \n146478             CA                93105                     38   \n25025              TN                37216                      7   \n126374             TN                37216                     41   \n29766              MO                63119                     24   \n98909              MO                63190                      7   \n1089               MO                63141                      7   \n146209             MO                63141                     10   \n102015             NV                89431                     43   \n29874              NV                89431                      5   \n147359             IN                46143                     12   \n49972              IN                46143                      8   \n141250             IN                46260                      6   \n68                 IN                46260                     13   \n6976               NJ                08054                     10   \n101431             NJ                08054                      8   \n144793             PA                19103                     11   \n9083               PA                19103                    261   \n11148              PA                18938                    111   \n57209              PA                18938                    153   \n39539              PA                18938                     44   \n67458              PA                18938                     32   \n\n        business_average_review_stars  \n132063                            4.0  \n48391                             3.0  \n63945                             5.0  \n74227                             4.5  \n113827                            3.5  \n92261                             3.5  \n149608                            3.0  \n124926                            3.0  \n28944                             2.0  \n6087                              3.0  \n63496                             2.5  \n146478                            3.5  \n25025                             1.5  \n126374                            2.5  \n29766                             4.0  \n98909                             4.0  \n1089                              2.5  \n146209                            2.5  \n102015                            4.5  \n29874                             4.0  \n147359                            2.5  \n49972                             1.5  \n141250                            4.5  \n68                                4.0  \n6976                              1.0  \n101431                            1.5  \n144793                            2.5  \n9083                              4.0  \n11148                             3.0  \n57209                             3.0  \n39539                             3.5  \n67458                             1.5  ",
      "text/html": "<div>\n<style scoped>\n    .dataframe tbody tr th:only-of-type {\n        vertical-align: middle;\n    }\n\n    .dataframe tbody tr th {\n        vertical-align: top;\n    }\n\n    .dataframe thead th {\n        text-align: right;\n    }\n</style>\n<table border=\"1\" class=\"dataframe\">\n  <thead>\n    <tr style=\"text-align: right;\">\n      <th></th>\n      <th>business_latitude</th>\n      <th>business_longitude</th>\n      <th>business_name</th>\n      <th>business_address</th>\n      <th>is_business_open</th>\n      <th>business_city</th>\n      <th>business_state</th>\n      <th>business_postal_code</th>\n      <th>business_review_count</th>\n      <th>business_average_review_stars</th>\n    </tr>\n  </thead>\n  <tbody>\n    <tr>\n      <th>132063</th>\n      <td>27.952747</td>\n      <td>-82.450809</td>\n      <td>Tampa Union Station</td>\n      <td>601 N Nebraska Ave</td>\n      <td>1</td>\n      <td>Tampa</td>\n      <td>FL</td>\n      <td>33602</td>\n      <td>21</td>\n      <td>4.0</td>\n    </tr>\n    <tr>\n      <th>48391</th>\n      <td>27.952747</td>\n      <td>-82.450809</td>\n      <td>Tampa Union Station</td>\n      <td>601 N Nebraska Ave</td>\n      <td>1</td>\n      <td>Tampa</td>\n      <td>FL</td>\n      <td>33602</td>\n      <td>19</td>\n      <td>3.0</td>\n    </tr>\n    <tr>\n      <th>63945</th>\n      <td>29.982484</td>\n      <td>-90.114553</td>\n      <td>Lake Lawn Metairie Funeral Home &amp; Cemeteries</td>\n      <td>5100 Pontchartrain Blvd</td>\n      <td>1</td>\n      <td>New Orleans</td>\n      <td>LA</td>\n      <td>70124</td>\n      <td>17</td>\n      <td>5.0</td>\n    </tr>\n    <tr>\n      <th>74227</th>\n      <td>29.982484</td>\n      <td>-90.114553</td>\n      <td>Lake Lawn Metairie Funeral Home &amp; Cemeteries</td>\n      <td>5100 Pontchartrain Blvd</td>\n      <td>1</td>\n      <td>New Orleans</td>\n      <td>LA</td>\n      <td>70124</td>\n      <td>39</td>\n      <td>4.5</td>\n    </tr>\n    <tr>\n      <th>113827</th>\n      <td>30.005173</td>\n      <td>-90.105275</td>\n      <td>Lakeview Grocery</td>\n      <td>801 Harrison Ave</td>\n      <td>1</td>\n      <td>New Orleans</td>\n      <td>LA</td>\n      <td>70124</td>\n      <td>48</td>\n      <td>3.5</td>\n    </tr>\n    <tr>\n      <th>92261</th>\n      <td>30.005173</td>\n      <td>-90.105275</td>\n      <td>Lakeview Grocery</td>\n      <td>801 Harrison Ave</td>\n      <td>1</td>\n      <td>New Orleans</td>\n      <td>LA</td>\n      <td>70124</td>\n      <td>13</td>\n      <td>3.5</td>\n    </tr>\n    <tr>\n      <th>149608</th>\n      <td>30.016263</td>\n      <td>-90.199632</td>\n      <td>Robert’s Fresh Market</td>\n      <td>5016 W Esplanade Ave</td>\n      <td>1</td>\n      <td>Metairie</td>\n      <td>LA</td>\n      <td>70006</td>\n      <td>8</td>\n      <td>3.0</td>\n    </tr>\n    <tr>\n      <th>124926</th>\n      <td>30.016263</td>\n      <td>-90.199632</td>\n      <td>Robert’s Fresh Market</td>\n      <td>5016 W Esplanade Ave</td>\n      <td>1</td>\n      <td>Metairie</td>\n      <td>LA</td>\n      <td>70006</td>\n      <td>16</td>\n      <td>3.0</td>\n    </tr>\n    <tr>\n      <th>28944</th>\n      <td>32.251708</td>\n      <td>-110.890542</td>\n      <td>Cupcakes</td>\n      <td>4811 E Grant Rd, Ste 127</td>\n      <td>0</td>\n      <td>Tucson</td>\n      <td>AZ</td>\n      <td>85712</td>\n      <td>27</td>\n      <td>2.0</td>\n    </tr>\n    <tr>\n      <th>6087</th>\n      <td>32.251708</td>\n      <td>-110.890542</td>\n      <td>Cupcakes</td>\n      <td>4811 E Grant Rd, Ste 127</td>\n      <td>0</td>\n      <td>Tucson</td>\n      <td>AZ</td>\n      <td>85712</td>\n      <td>6</td>\n      <td>3.0</td>\n    </tr>\n    <tr>\n      <th>63496</th>\n      <td>34.440625</td>\n      <td>-119.732397</td>\n      <td>iGrill Korean BBQ</td>\n      <td>3132 State St</td>\n      <td>0</td>\n      <td>Santa Barbara</td>\n      <td>CA</td>\n      <td>93105</td>\n      <td>65</td>\n      <td>2.5</td>\n    </tr>\n    <tr>\n      <th>146478</th>\n      <td>34.440625</td>\n      <td>-119.732397</td>\n      <td>iGrill Korean BBQ</td>\n      <td>3132 State St</td>\n      <td>0</td>\n      <td>Santa Barbara</td>\n      <td>CA</td>\n      <td>93105</td>\n      <td>38</td>\n      <td>3.5</td>\n    </tr>\n    <tr>\n      <th>25025</th>\n      <td>36.210166</td>\n      <td>-86.732522</td>\n      <td>Kroger</td>\n      <td>3410 Gallatin Pike</td>\n      <td>1</td>\n      <td>Nashville</td>\n      <td>TN</td>\n      <td>37216</td>\n      <td>7</td>\n      <td>1.5</td>\n    </tr>\n    <tr>\n      <th>126374</th>\n      <td>36.210166</td>\n      <td>-86.732522</td>\n      <td>Kroger</td>\n      <td>3410 Gallatin Pike</td>\n      <td>1</td>\n      <td>Nashville</td>\n      <td>TN</td>\n      <td>37216</td>\n      <td>41</td>\n      <td>2.5</td>\n    </tr>\n    <tr>\n      <th>29766</th>\n      <td>38.565221</td>\n      <td>-90.353315</td>\n      <td>Sappington Farmers' Market</td>\n      <td>8400 Watson Rd</td>\n      <td>0</td>\n      <td>Saint Louis</td>\n      <td>MO</td>\n      <td>63119</td>\n      <td>24</td>\n      <td>4.0</td>\n    </tr>\n    <tr>\n      <th>98909</th>\n      <td>38.565221</td>\n      <td>-90.353315</td>\n      <td>Sappington Farmers' Market</td>\n      <td>8400 Watson Rd</td>\n      <td>0</td>\n      <td>Saint Louis</td>\n      <td>MO</td>\n      <td>63190</td>\n      <td>7</td>\n      <td>4.0</td>\n    </tr>\n    <tr>\n      <th>1089</th>\n      <td>38.672404</td>\n      <td>-90.414138</td>\n      <td>Schnucks Creve Coeur</td>\n      <td>10650 Olive Blvd</td>\n      <td>1</td>\n      <td>St. Louis</td>\n      <td>MO</td>\n      <td>63141</td>\n      <td>7</td>\n      <td>2.5</td>\n    </tr>\n    <tr>\n      <th>146209</th>\n      <td>38.672404</td>\n      <td>-90.414138</td>\n      <td>Schnucks Creve Coeur</td>\n      <td>10650 Olive Blvd</td>\n      <td>1</td>\n      <td>Saint Louis</td>\n      <td>MO</td>\n      <td>63141</td>\n      <td>10</td>\n      <td>2.5</td>\n    </tr>\n    <tr>\n      <th>102015</th>\n      <td>39.526564</td>\n      <td>-119.739034</td>\n      <td>Independent Automotive</td>\n      <td>865 Bergin Way</td>\n      <td>1</td>\n      <td>Sparks</td>\n      <td>NV</td>\n      <td>89431</td>\n      <td>43</td>\n      <td>4.5</td>\n    </tr>\n    <tr>\n      <th>29874</th>\n      <td>39.526564</td>\n      <td>-119.739034</td>\n      <td>Independent Automotive</td>\n      <td>865 Bergin Way</td>\n      <td>1</td>\n      <td>Sparks</td>\n      <td>NV</td>\n      <td>89431</td>\n      <td>5</td>\n      <td>4.0</td>\n    </tr>\n    <tr>\n      <th>147359</th>\n      <td>39.635226</td>\n      <td>-86.092537</td>\n      <td>Urology of Indiana</td>\n      <td>679 E County Line Rd</td>\n      <td>1</td>\n      <td>Greenwood</td>\n      <td>IN</td>\n      <td>46143</td>\n      <td>12</td>\n      <td>2.5</td>\n    </tr>\n    <tr>\n      <th>49972</th>\n      <td>39.635226</td>\n      <td>-86.092537</td>\n      <td>Urology of Indiana</td>\n      <td>679 E County Line Rd</td>\n      <td>1</td>\n      <td>Greenwood</td>\n      <td>IN</td>\n      <td>46143</td>\n      <td>8</td>\n      <td>1.5</td>\n    </tr>\n    <tr>\n      <th>141250</th>\n      <td>39.913292</td>\n      <td>-86.200830</td>\n      <td>Sweet Things Chocolates</td>\n      <td>2288 W 86th St</td>\n      <td>1</td>\n      <td>Indianapolis</td>\n      <td>IN</td>\n      <td>46260</td>\n      <td>6</td>\n      <td>4.5</td>\n    </tr>\n    <tr>\n      <th>68</th>\n      <td>39.913292</td>\n      <td>-86.200830</td>\n      <td>Sweet Things Chocolates</td>\n      <td>2288 W 86th St</td>\n      <td>1</td>\n      <td>Indianapolis</td>\n      <td>IN</td>\n      <td>46260</td>\n      <td>13</td>\n      <td>4.0</td>\n    </tr>\n    <tr>\n      <th>6976</th>\n      <td>39.944368</td>\n      <td>-74.944076</td>\n      <td>Freedom Mortgage</td>\n      <td>907 Pleasant Valley Ave</td>\n      <td>1</td>\n      <td>Mount Laurel Township</td>\n      <td>NJ</td>\n      <td>08054</td>\n      <td>10</td>\n      <td>1.0</td>\n    </tr>\n    <tr>\n      <th>101431</th>\n      <td>39.944368</td>\n      <td>-74.944076</td>\n      <td>Freedom Mortgage</td>\n      <td>907 Pleasant Valley Ave</td>\n      <td>1</td>\n      <td>Mount Laurel</td>\n      <td>NJ</td>\n      <td>08054</td>\n      <td>8</td>\n      <td>1.5</td>\n    </tr>\n    <tr>\n      <th>144793</th>\n      <td>39.950745</td>\n      <td>-75.170168</td>\n      <td>Swiss Haus Cafe &amp; Pastry Bar</td>\n      <td>1740 Sansom St</td>\n      <td>0</td>\n      <td>Philadelphia</td>\n      <td>PA</td>\n      <td>19103</td>\n      <td>11</td>\n      <td>2.5</td>\n    </tr>\n    <tr>\n      <th>9083</th>\n      <td>39.950745</td>\n      <td>-75.170168</td>\n      <td>Swiss Haus Cafe &amp; Pastry Bar</td>\n      <td>1740 Sansom St</td>\n      <td>0</td>\n      <td>Philadelphia</td>\n      <td>PA</td>\n      <td>19103</td>\n      <td>261</td>\n      <td>4.0</td>\n    </tr>\n    <tr>\n      <th>11148</th>\n      <td>40.363467</td>\n      <td>-74.951450</td>\n      <td>Logan Inn</td>\n      <td>10 W Ferry St</td>\n      <td>1</td>\n      <td>New Hope</td>\n      <td>PA</td>\n      <td>18938</td>\n      <td>111</td>\n      <td>3.0</td>\n    </tr>\n    <tr>\n      <th>57209</th>\n      <td>40.363467</td>\n      <td>-74.951450</td>\n      <td>Logan Inn</td>\n      <td>10 W Ferry St</td>\n      <td>1</td>\n      <td>New Hope</td>\n      <td>PA</td>\n      <td>18938</td>\n      <td>153</td>\n      <td>3.0</td>\n    </tr>\n    <tr>\n      <th>39539</th>\n      <td>40.365504</td>\n      <td>-74.951830</td>\n      <td>Mother's Restaurant</td>\n      <td>34 N Main St</td>\n      <td>0</td>\n      <td>New Hope</td>\n      <td>PA</td>\n      <td>18938</td>\n      <td>44</td>\n      <td>3.5</td>\n    </tr>\n    <tr>\n      <th>67458</th>\n      <td>40.365504</td>\n      <td>-74.951830</td>\n      <td>Mother's Restaurant</td>\n      <td>34 N Main St</td>\n      <td>0</td>\n      <td>New Hope</td>\n      <td>PA</td>\n      <td>18938</td>\n      <td>32</td>\n      <td>1.5</td>\n    </tr>\n  </tbody>\n</table>\n</div>"
     },
     "execution_count": 17,
     "metadata": {},
     "output_type": "execute_result"
    }
   ],
   "source": [
    "get_random_dupe_sample(\n",
    "    df=df_yelp_business, \n",
    "    dupe_col_subset=['business_latitude', 'business_longitude', 'business_name', 'business_address', 'is_business_open'], \n",
    "    dupe_sample_count=10, \n",
    "    col_to_include_in_dupe_sample=['business_latitude', 'business_longitude', 'business_name', 'business_address', 'is_business_open', 'business_city', 'business_state', 'business_postal_code', 'business_review_count', 'business_average_review_stars']\n",
    ")"
   ],
   "metadata": {
    "collapsed": false,
    "ExecuteTime": {
     "end_time": "2024-05-04T22:05:30.663781Z",
     "start_time": "2024-05-04T22:05:30.569488Z"
    }
   },
   "id": "5e8968fc560f23ee"
  },
  {
   "cell_type": "markdown",
   "source": [
    "## Check Missing Values"
   ],
   "metadata": {
    "collapsed": false
   },
   "id": "fc3ed5069d3a3c69"
  },
  {
   "cell_type": "code",
   "execution_count": 18,
   "outputs": [
    {
     "data": {
      "text/plain": "review_id              0\nuser_id                0\nbusiness_id            0\nreview_stars           0\nreview_useful_count    0\nreview_funny_count     0\nreview_cool_count      0\nreview_text            0\nreview_date            0\ndtype: int64"
     },
     "execution_count": 18,
     "metadata": {},
     "output_type": "execute_result"
    }
   ],
   "source": [
    "# df_yelp_review\n",
    "df_yelp_review.isna().sum().sort_values(ascending=False)"
   ],
   "metadata": {
    "collapsed": false,
    "ExecuteTime": {
     "end_time": "2024-05-04T22:05:31.672408Z",
     "start_time": "2024-05-04T22:05:30.652517Z"
    }
   },
   "id": "79b43244dd69af16"
  },
  {
   "cell_type": "markdown",
   "source": [
    "These columns would likely be used more as secondary information when they're presented in the final dashboard, and not for model/text review analysis. Will revisit in EDA if these columns would be used for the model."
   ],
   "metadata": {
    "collapsed": false
   },
   "id": "3928abaa3779fe5a"
  },
  {
   "cell_type": "code",
   "execution_count": 19,
   "outputs": [
    {
     "name": "stdout",
     "output_type": "stream",
     "text": [
      "Total rows: 150346\n",
      "Count of missing values:\n"
     ]
    },
    {
     "data": {
      "text/plain": "                               total          %\nbusiness_hours                 23223  15.446370\nbusiness_attributes            13744   9.141580\nbusiness_categories              103   0.068509\nbusiness_id                        0   0.000000\nbusiness_name                      0   0.000000\nbusiness_address                   0   0.000000\nbusiness_city                      0   0.000000\nbusiness_state                     0   0.000000\nbusiness_postal_code               0   0.000000\nbusiness_latitude                  0   0.000000\nbusiness_longitude                 0   0.000000\nbusiness_average_review_stars      0   0.000000\nbusiness_review_count              0   0.000000\nis_business_open                   0   0.000000",
      "text/html": "<div>\n<style scoped>\n    .dataframe tbody tr th:only-of-type {\n        vertical-align: middle;\n    }\n\n    .dataframe tbody tr th {\n        vertical-align: top;\n    }\n\n    .dataframe thead th {\n        text-align: right;\n    }\n</style>\n<table border=\"1\" class=\"dataframe\">\n  <thead>\n    <tr style=\"text-align: right;\">\n      <th></th>\n      <th>total</th>\n      <th>%</th>\n    </tr>\n  </thead>\n  <tbody>\n    <tr>\n      <th>business_hours</th>\n      <td>23223</td>\n      <td>15.446370</td>\n    </tr>\n    <tr>\n      <th>business_attributes</th>\n      <td>13744</td>\n      <td>9.141580</td>\n    </tr>\n    <tr>\n      <th>business_categories</th>\n      <td>103</td>\n      <td>0.068509</td>\n    </tr>\n    <tr>\n      <th>business_id</th>\n      <td>0</td>\n      <td>0.000000</td>\n    </tr>\n    <tr>\n      <th>business_name</th>\n      <td>0</td>\n      <td>0.000000</td>\n    </tr>\n    <tr>\n      <th>business_address</th>\n      <td>0</td>\n      <td>0.000000</td>\n    </tr>\n    <tr>\n      <th>business_city</th>\n      <td>0</td>\n      <td>0.000000</td>\n    </tr>\n    <tr>\n      <th>business_state</th>\n      <td>0</td>\n      <td>0.000000</td>\n    </tr>\n    <tr>\n      <th>business_postal_code</th>\n      <td>0</td>\n      <td>0.000000</td>\n    </tr>\n    <tr>\n      <th>business_latitude</th>\n      <td>0</td>\n      <td>0.000000</td>\n    </tr>\n    <tr>\n      <th>business_longitude</th>\n      <td>0</td>\n      <td>0.000000</td>\n    </tr>\n    <tr>\n      <th>business_average_review_stars</th>\n      <td>0</td>\n      <td>0.000000</td>\n    </tr>\n    <tr>\n      <th>business_review_count</th>\n      <td>0</td>\n      <td>0.000000</td>\n    </tr>\n    <tr>\n      <th>is_business_open</th>\n      <td>0</td>\n      <td>0.000000</td>\n    </tr>\n  </tbody>\n</table>\n</div>"
     },
     "execution_count": 19,
     "metadata": {},
     "output_type": "execute_result"
    }
   ],
   "source": [
    "#df_yelp_business\n",
    "print(f'Total rows: {len(df_yelp_business)}')\n",
    "print('Count of missing values:')\n",
    "missing_data = pd.concat(\n",
    "    [\n",
    "    df_yelp_business.isna().sum().sort_values(ascending=False),\n",
    "    df_yelp_business.isna().mean() * 100\n",
    "    ],\n",
    "    axis=1\n",
    ")\n",
    "missing_data.columns = ['total', '%']\n",
    "missing_data"
   ],
   "metadata": {
    "collapsed": false,
    "ExecuteTime": {
     "end_time": "2024-05-04T22:05:31.868762Z",
     "start_time": "2024-05-04T22:05:31.672240Z"
    }
   },
   "id": "191a2f485f0c8dda"
  },
  {
   "cell_type": "markdown",
   "source": [
    "Double check if missing values are due to randomness"
   ],
   "metadata": {
    "collapsed": false
   },
   "id": "f9d0d0b24e62d6fb"
  },
  {
   "cell_type": "code",
   "execution_count": 20,
   "outputs": [
    {
     "data": {
      "text/plain": "<Figure size 1000x600 with 1 Axes>",
      "image/png": "[encoded data removed]"
     },
     "metadata": {},
     "output_type": "display_data"
    }
   ],
   "source": [
    "# Create a heatmap to visualize missing data\n",
    "plt.figure(figsize=(10, 6))\n",
    "sns.heatmap(\n",
    "    df_yelp_business[['business_hours', 'business_attributes', 'business_categories']].isnull(), \n",
    "    cbar=False, \n",
    "    cmap='viridis'\n",
    ")\n",
    "plt.title('Missing Values in Yelp Business Dataset (Appeared as Random)')\n",
    "plt.show()\n"
   ],
   "metadata": {
    "collapsed": false,
    "ExecuteTime": {
     "end_time": "2024-05-04T22:05:32.192091Z",
     "start_time": "2024-05-04T22:05:31.867489Z"
    }
   },
   "id": "3ff98b59584c8438"
  },
  {
   "cell_type": "markdown",
   "source": [
    "## Check for Business with No Reviews\n",
    "\n",
    "Need to excluding them to reduce the data size since we won't be able to use the data for model training (no reviews)."
   ],
   "metadata": {
    "collapsed": false
   },
   "id": "9961149d9e54fe6f"
  },
  {
   "cell_type": "code",
   "execution_count": 21,
   "outputs": [
    {
     "name": "stdout",
     "output_type": "stream",
     "text": [
      "Count of businesses without reviews: 0 of 150346 total\n"
     ]
    }
   ],
   "source": [
    "# Check if there are businesses without reviews\n",
    "business_with_no_review = df_yelp_business[(df_yelp_business['business_review_count'] == 0) | (df_yelp_business['business_review_count'].isna())]\n",
    "print(f'Count of businesses without reviews: {len(business_with_no_review)} of {len(df_yelp_business)} total')"
   ],
   "metadata": {
    "collapsed": false,
    "ExecuteTime": {
     "end_time": "2024-05-04T22:05:32.195145Z",
     "start_time": "2024-05-04T22:05:32.191732Z"
    }
   },
   "id": "b7beb1ec65adb76"
  },
  {
   "cell_type": "markdown",
   "source": [
    "## Quick check for obvious anomalies"
   ],
   "metadata": {
    "collapsed": false
   },
   "id": "e16cb488e2707ead"
  },
  {
   "cell_type": "markdown",
   "source": [
    "There are very rare cases where the useful/funny/cool counts are negative (4 out of 3.80M rows). For now I'm just correcting them to NaN as the other columns `review_text` and `review_stars` looked valid/useful."
   ],
   "metadata": {
    "collapsed": false
   },
   "id": "1cec1296e6d2b8b1"
  },
  {
   "cell_type": "code",
   "execution_count": 22,
   "outputs": [
    {
     "data": {
      "text/plain": "       review_stars  review_useful_count  review_funny_count  \\\ncount  3.797310e+06         3.797310e+06        3.797310e+06   \nmean   3.765176e+00         9.741646e-01        2.405979e-01   \nmin    1.000000e+00        -1.000000e+00       -1.000000e+00   \n25%    3.000000e+00         0.000000e+00        0.000000e+00   \n50%    5.000000e+00         0.000000e+00        0.000000e+00   \n75%    5.000000e+00         1.000000e+00        0.000000e+00   \nmax    5.000000e+00         9.330000e+02        7.920000e+02   \nstd    1.546696e+00         2.938160e+00        1.411966e+00   \n\n       review_cool_count                    review_date  \ncount       3.797310e+06                        3797310  \nmean        4.707680e-01  2019-04-17 22:02:54.739929088  \nmin        -1.000000e+00            2017-01-01 00:00:35  \n25%         0.000000e+00  2018-02-26 04:37:26.750000128  \n50%         0.000000e+00            2019-03-12 22:53:12  \n75%         0.000000e+00            2020-05-21 19:34:18  \nmax         3.040000e+02            2021-12-31 23:59:26  \nstd         2.269119e+00                            NaN  ",
      "text/html": "<div>\n<style scoped>\n    .dataframe tbody tr th:only-of-type {\n        vertical-align: middle;\n    }\n\n    .dataframe tbody tr th {\n        vertical-align: top;\n    }\n\n    .dataframe thead th {\n        text-align: right;\n    }\n</style>\n<table border=\"1\" class=\"dataframe\">\n  <thead>\n    <tr style=\"text-align: right;\">\n      <th></th>\n      <th>review_stars</th>\n      <th>review_useful_count</th>\n      <th>review_funny_count</th>\n      <th>review_cool_count</th>\n      <th>review_date</th>\n    </tr>\n  </thead>\n  <tbody>\n    <tr>\n      <th>count</th>\n      <td>3.797310e+06</td>\n      <td>3.797310e+06</td>\n      <td>3.797310e+06</td>\n      <td>3.797310e+06</td>\n      <td>3797310</td>\n    </tr>\n    <tr>\n      <th>mean</th>\n      <td>3.765176e+00</td>\n      <td>9.741646e-01</td>\n      <td>2.405979e-01</td>\n      <td>4.707680e-01</td>\n      <td>2019-04-17 22:02:54.739929088</td>\n    </tr>\n    <tr>\n      <th>min</th>\n      <td>1.000000e+00</td>\n      <td>-1.000000e+00</td>\n      <td>-1.000000e+00</td>\n      <td>-1.000000e+00</td>\n      <td>2017-01-01 00:00:35</td>\n    </tr>\n    <tr>\n      <th>25%</th>\n      <td>3.000000e+00</td>\n      <td>0.000000e+00</td>\n      <td>0.000000e+00</td>\n      <td>0.000000e+00</td>\n      <td>2018-02-26 04:37:26.750000128</td>\n    </tr>\n    <tr>\n      <th>50%</th>\n      <td>5.000000e+00</td>\n      <td>0.000000e+00</td>\n      <td>0.000000e+00</td>\n      <td>0.000000e+00</td>\n      <td>2019-03-12 22:53:12</td>\n    </tr>\n    <tr>\n      <th>75%</th>\n      <td>5.000000e+00</td>\n      <td>1.000000e+00</td>\n      <td>0.000000e+00</td>\n      <td>0.000000e+00</td>\n      <td>2020-05-21 19:34:18</td>\n    </tr>\n    <tr>\n      <th>max</th>\n      <td>5.000000e+00</td>\n      <td>9.330000e+02</td>\n      <td>7.920000e+02</td>\n      <td>3.040000e+02</td>\n      <td>2021-12-31 23:59:26</td>\n    </tr>\n    <tr>\n      <th>std</th>\n      <td>1.546696e+00</td>\n      <td>2.938160e+00</td>\n      <td>1.411966e+00</td>\n      <td>2.269119e+00</td>\n      <td>NaN</td>\n    </tr>\n  </tbody>\n</table>\n</div>"
     },
     "execution_count": 22,
     "metadata": {},
     "output_type": "execute_result"
    }
   ],
   "source": [
    "df_yelp_review.describe()"
   ],
   "metadata": {
    "collapsed": false,
    "ExecuteTime": {
     "end_time": "2024-05-04T22:05:32.444594Z",
     "start_time": "2024-05-04T22:05:32.193994Z"
    }
   },
   "id": "55eee485f339329a"
  },
  {
   "cell_type": "code",
   "execution_count": 23,
   "outputs": [
    {
     "data": {
      "text/plain": "                      review_id                 user_id  \\\n1933674  plhadSWfXZFKRAhEztb6Dw  0Q4ouqkcwrVE_Im6a6Tomw   \n2046381  iYS4pfUCUPT_TEmW6BOnrA  1p8Pu1pvAsuNtuZDtn2OkQ   \n2201840  JcWLycg0Hdsz6LBNAqS37A  04j3r2Psfw_LxX1UXPhnyg   \n4383627  7tlF2NEDiFqMRjKBgTPJ3g  VKK7pPl6DfjL9H5b3n2yCA   \n\n                    business_id  review_stars  review_useful_count  \\\n1933674  SJQePJL1bkeEk-6gp-6eeA             1                   -1   \n2046381  SJQePJL1bkeEk-6gp-6eeA             3                   -1   \n2201840  E3Qk7xTznkT0SABL2ltpHA             5                   -1   \n4383627  qjstXewt23oCZnf86CsHXg             1                    2   \n\n         review_funny_count  review_cool_count  \\\n1933674                   0                  0   \n2046381                   0                  0   \n2201840                  -1                 -1   \n4383627                  -1                  2   \n\n                                               review_text         review_date  \n1933674  This complaint has nothing to do with the qual... 2018-12-23 01:35:31  \n2046381  Having been to bouncy places across the countr... 2017-01-18 18:11:15  \n2201840  The food was so much better than I expected. T... 2017-10-05 02:47:33  \n4383627  The most horrible removal company I have ever ... 2017-02-25 23:40:34  ",
      "text/html": "<div>\n<style scoped>\n    .dataframe tbody tr th:only-of-type {\n        vertical-align: middle;\n    }\n\n    .dataframe tbody tr th {\n        vertical-align: top;\n    }\n\n    .dataframe thead th {\n        text-align: right;\n    }\n</style>\n<table border=\"1\" class=\"dataframe\">\n  <thead>\n    <tr style=\"text-align: right;\">\n      <th></th>\n      <th>review_id</th>\n      <th>user_id</th>\n      <th>business_id</th>\n      <th>review_stars</th>\n      <th>review_useful_count</th>\n      <th>review_funny_count</th>\n      <th>review_cool_count</th>\n      <th>review_text</th>\n      <th>review_date</th>\n    </tr>\n  </thead>\n  <tbody>\n    <tr>\n      <th>1933674</th>\n      <td>plhadSWfXZFKRAhEztb6Dw</td>\n      <td>0Q4ouqkcwrVE_Im6a6Tomw</td>\n      <td>SJQePJL1bkeEk-6gp-6eeA</td>\n      <td>1</td>\n      <td>-1</td>\n      <td>0</td>\n      <td>0</td>\n      <td>This complaint has nothing to do with the qual...</td>\n      <td>2018-12-23 01:35:31</td>\n    </tr>\n    <tr>\n      <th>2046381</th>\n      <td>iYS4pfUCUPT_TEmW6BOnrA</td>\n      <td>1p8Pu1pvAsuNtuZDtn2OkQ</td>\n      <td>SJQePJL1bkeEk-6gp-6eeA</td>\n      <td>3</td>\n      <td>-1</td>\n      <td>0</td>\n      <td>0</td>\n      <td>Having been to bouncy places across the countr...</td>\n      <td>2017-01-18 18:11:15</td>\n    </tr>\n    <tr>\n      <th>2201840</th>\n      <td>JcWLycg0Hdsz6LBNAqS37A</td>\n      <td>04j3r2Psfw_LxX1UXPhnyg</td>\n      <td>E3Qk7xTznkT0SABL2ltpHA</td>\n      <td>5</td>\n      <td>-1</td>\n      <td>-1</td>\n      <td>-1</td>\n      <td>The food was so much better than I expected. T...</td>\n      <td>2017-10-05 02:47:33</td>\n    </tr>\n    <tr>\n      <th>4383627</th>\n      <td>7tlF2NEDiFqMRjKBgTPJ3g</td>\n      <td>VKK7pPl6DfjL9H5b3n2yCA</td>\n      <td>qjstXewt23oCZnf86CsHXg</td>\n      <td>1</td>\n      <td>2</td>\n      <td>-1</td>\n      <td>2</td>\n      <td>The most horrible removal company I have ever ...</td>\n      <td>2017-02-25 23:40:34</td>\n    </tr>\n  </tbody>\n</table>\n</div>"
     },
     "execution_count": 23,
     "metadata": {},
     "output_type": "execute_result"
    }
   ],
   "source": [
    "is_count_negative = (df_yelp_review['review_useful_count'] < 0) | (df_yelp_review['review_funny_count'] < 0) | (df_yelp_review['review_cool_count'] < 0)\n",
    "df_yelp_review[is_count_negative]"
   ],
   "metadata": {
    "collapsed": false,
    "ExecuteTime": {
     "end_time": "2024-05-04T22:05:32.452587Z",
     "start_time": "2024-05-04T22:05:32.444498Z"
    }
   },
   "id": "adf41efd193eff12"
  },
  {
   "cell_type": "code",
   "execution_count": 24,
   "outputs": [
    {
     "data": {
      "text/plain": "                      review_id                 user_id  \\\n1933674  plhadSWfXZFKRAhEztb6Dw  0Q4ouqkcwrVE_Im6a6Tomw   \n2046381  iYS4pfUCUPT_TEmW6BOnrA  1p8Pu1pvAsuNtuZDtn2OkQ   \n2201840  JcWLycg0Hdsz6LBNAqS37A  04j3r2Psfw_LxX1UXPhnyg   \n4383627  7tlF2NEDiFqMRjKBgTPJ3g  VKK7pPl6DfjL9H5b3n2yCA   \n\n                    business_id  review_stars  review_useful_count  \\\n1933674  SJQePJL1bkeEk-6gp-6eeA             1                  NaN   \n2046381  SJQePJL1bkeEk-6gp-6eeA             3                  NaN   \n2201840  E3Qk7xTznkT0SABL2ltpHA             5                  NaN   \n4383627  qjstXewt23oCZnf86CsHXg             1                  2.0   \n\n         review_funny_count  review_cool_count  \\\n1933674                 0.0                0.0   \n2046381                 0.0                0.0   \n2201840                 NaN                NaN   \n4383627                 NaN                2.0   \n\n                                               review_text         review_date  \n1933674  This complaint has nothing to do with the qual... 2018-12-23 01:35:31  \n2046381  Having been to bouncy places across the countr... 2017-01-18 18:11:15  \n2201840  The food was so much better than I expected. T... 2017-10-05 02:47:33  \n4383627  The most horrible removal company I have ever ... 2017-02-25 23:40:34  ",
      "text/html": "<div>\n<style scoped>\n    .dataframe tbody tr th:only-of-type {\n        vertical-align: middle;\n    }\n\n    .dataframe tbody tr th {\n        vertical-align: top;\n    }\n\n    .dataframe thead th {\n        text-align: right;\n    }\n</style>\n<table border=\"1\" class=\"dataframe\">\n  <thead>\n    <tr style=\"text-align: right;\">\n      <th></th>\n      <th>review_id</th>\n      <th>user_id</th>\n      <th>business_id</th>\n      <th>review_stars</th>\n      <th>review_useful_count</th>\n      <th>review_funny_count</th>\n      <th>review_cool_count</th>\n      <th>review_text</th>\n      <th>review_date</th>\n    </tr>\n  </thead>\n  <tbody>\n    <tr>\n      <th>1933674</th>\n      <td>plhadSWfXZFKRAhEztb6Dw</td>\n      <td>0Q4ouqkcwrVE_Im6a6Tomw</td>\n      <td>SJQePJL1bkeEk-6gp-6eeA</td>\n      <td>1</td>\n      <td>NaN</td>\n      <td>0.0</td>\n      <td>0.0</td>\n      <td>This complaint has nothing to do with the qual...</td>\n      <td>2018-12-23 01:35:31</td>\n    </tr>\n    <tr>\n      <th>2046381</th>\n      <td>iYS4pfUCUPT_TEmW6BOnrA</td>\n      <td>1p8Pu1pvAsuNtuZDtn2OkQ</td>\n      <td>SJQePJL1bkeEk-6gp-6eeA</td>\n      <td>3</td>\n      <td>NaN</td>\n      <td>0.0</td>\n      <td>0.0</td>\n      <td>Having been to bouncy places across the countr...</td>\n      <td>2017-01-18 18:11:15</td>\n    </tr>\n    <tr>\n      <th>2201840</th>\n      <td>JcWLycg0Hdsz6LBNAqS37A</td>\n      <td>04j3r2Psfw_LxX1UXPhnyg</td>\n      <td>E3Qk7xTznkT0SABL2ltpHA</td>\n      <td>5</td>\n      <td>NaN</td>\n      <td>NaN</td>\n      <td>NaN</td>\n      <td>The food was so much better than I expected. T...</td>\n      <td>2017-10-05 02:47:33</td>\n    </tr>\n    <tr>\n      <th>4383627</th>\n      <td>7tlF2NEDiFqMRjKBgTPJ3g</td>\n      <td>VKK7pPl6DfjL9H5b3n2yCA</td>\n      <td>qjstXewt23oCZnf86CsHXg</td>\n      <td>1</td>\n      <td>2.0</td>\n      <td>NaN</td>\n      <td>2.0</td>\n      <td>The most horrible removal company I have ever ...</td>\n      <td>2017-02-25 23:40:34</td>\n    </tr>\n  </tbody>\n</table>\n</div>"
     },
     "execution_count": 24,
     "metadata": {},
     "output_type": "execute_result"
    }
   ],
   "source": [
    "# Convert negative counts to NaN\n",
    "cols_to_check = ['review_useful_count', 'review_funny_count', 'review_cool_count']\n",
    "for col in cols_to_check:\n",
    "    df_yelp_review.loc[df_yelp_review[col] < 0, col] = np.nan\n",
    "\n",
    "# Confirm NaN conversion was successful\n",
    "df_yelp_review[is_count_negative]"
   ],
   "metadata": {
    "collapsed": false,
    "ExecuteTime": {
     "end_time": "2024-05-04T22:05:32.527665Z",
     "start_time": "2024-05-04T22:05:32.452796Z"
    }
   },
   "id": "1df26675fbfd6155"
  },
  {
   "cell_type": "markdown",
   "source": [
    "No obvious issues found when looking at \"df_yelp_business\""
   ],
   "metadata": {
    "collapsed": false
   },
   "id": "fba6ec154d8f3906"
  },
  {
   "cell_type": "code",
   "execution_count": 25,
   "outputs": [
    {
     "data": {
      "text/plain": "       business_latitude  business_longitude  business_average_review_stars  \\\ncount      150346.000000       150346.000000                  150346.000000   \nmean           36.671150          -89.357339                       3.596724   \nstd             5.872759           14.918502                       0.974421   \nmin            27.555127         -120.095137                       1.000000   \n25%            32.187293          -90.357810                       3.000000   \n50%            38.777413          -86.121179                       3.500000   \n75%            39.954036          -75.421542                       4.500000   \nmax            53.679197          -73.200457                       5.000000   \n\n       business_review_count  is_business_open  \ncount          150346.000000      150346.00000  \nmean               44.866561           0.79615  \nstd               121.120136           0.40286  \nmin                 5.000000           0.00000  \n25%                 8.000000           1.00000  \n50%                15.000000           1.00000  \n75%                37.000000           1.00000  \nmax              7568.000000           1.00000  ",
      "text/html": "<div>\n<style scoped>\n    .dataframe tbody tr th:only-of-type {\n        vertical-align: middle;\n    }\n\n    .dataframe tbody tr th {\n        vertical-align: top;\n    }\n\n    .dataframe thead th {\n        text-align: right;\n    }\n</style>\n<table border=\"1\" class=\"dataframe\">\n  <thead>\n    <tr style=\"text-align: right;\">\n      <th></th>\n      <th>business_latitude</th>\n      <th>business_longitude</th>\n      <th>business_average_review_stars</th>\n      <th>business_review_count</th>\n      <th>is_business_open</th>\n    </tr>\n  </thead>\n  <tbody>\n    <tr>\n      <th>count</th>\n      <td>150346.000000</td>\n      <td>150346.000000</td>\n      <td>150346.000000</td>\n      <td>150346.000000</td>\n      <td>150346.00000</td>\n    </tr>\n    <tr>\n      <th>mean</th>\n      <td>36.671150</td>\n      <td>-89.357339</td>\n      <td>3.596724</td>\n      <td>44.866561</td>\n      <td>0.79615</td>\n    </tr>\n    <tr>\n      <th>std</th>\n      <td>5.872759</td>\n      <td>14.918502</td>\n      <td>0.974421</td>\n      <td>121.120136</td>\n      <td>0.40286</td>\n    </tr>\n    <tr>\n      <th>min</th>\n      <td>27.555127</td>\n      <td>-120.095137</td>\n      <td>1.000000</td>\n      <td>5.000000</td>\n      <td>0.00000</td>\n    </tr>\n    <tr>\n      <th>25%</th>\n      <td>32.187293</td>\n      <td>-90.357810</td>\n      <td>3.000000</td>\n      <td>8.000000</td>\n      <td>1.00000</td>\n    </tr>\n    <tr>\n      <th>50%</th>\n      <td>38.777413</td>\n      <td>-86.121179</td>\n      <td>3.500000</td>\n      <td>15.000000</td>\n      <td>1.00000</td>\n    </tr>\n    <tr>\n      <th>75%</th>\n      <td>39.954036</td>\n      <td>-75.421542</td>\n      <td>4.500000</td>\n      <td>37.000000</td>\n      <td>1.00000</td>\n    </tr>\n    <tr>\n      <th>max</th>\n      <td>53.679197</td>\n      <td>-73.200457</td>\n      <td>5.000000</td>\n      <td>7568.000000</td>\n      <td>1.00000</td>\n    </tr>\n  </tbody>\n</table>\n</div>"
     },
     "execution_count": 25,
     "metadata": {},
     "output_type": "execute_result"
    }
   ],
   "source": [
    "df_yelp_business.describe()"
   ],
   "metadata": {
    "collapsed": false,
    "ExecuteTime": {
     "end_time": "2024-05-04T22:05:32.589027Z",
     "start_time": "2024-05-04T22:05:32.476108Z"
    }
   },
   "id": "52ad2b30533e407e"
  },
  {
   "cell_type": "markdown",
   "source": [
    "## Text Cleaning for LDA and DistilBERT\n",
    "\n",
    "Since we'll use both LDA for splitting reviews into topics and DistilBERT for sentiment classification, our text cleaning strategy is designed to balance clarity for topic modeling and preserving contextual nuance for sentiment analysis.\n",
    "- LDA: Latent Dirichlet Allocation\n",
    "- BERT: Bidirectional Encoder Representations from Transformers\n",
    "\n",
    "&nbsp;\n",
    "### Key Steps:\n",
    "\n",
    "1. **Case Normalization**:\n",
    "    Ensure consistency in casing to reduce vocabulary size.\n",
    "\n",
    "2. **Emoji Conversion**:\n",
    "    Convert emojis to readable text to preserve their emotional and semantic content (eg. :) becomes \"happy_face\")\n",
    "\n",
    "3. **Special Characters and URL Removal**: \n",
    "    Remove URLs & non-essential characters that do not contribute to topic modeling or sentiment analysis.\n",
    "\n",
    "4. **Lemmatization and Stopword Removal**: \n",
    "    Reduce words to their base forms and remove common stopwords to focus on significant words for LDA, utilizing NLTK's `WordNetLemmatizer` and filter out stopwords. (eg. Am/Are/Is --> Be ; Car, Cars, Car's --> Car; Mice --> Mouse ; Went --> Go)"
   ],
   "metadata": {
    "collapsed": false
   },
   "id": "c24086e75d3e662b"
  },
  {
   "cell_type": "code",
   "execution_count": 26,
   "outputs": [],
   "source": [
    "# Pre-compile these Regex Patterns so we don't have to re-compile on every loop (especially considering millions of rows)\n",
    "regex_patterns = {\n",
    "    'urls': re.compile(r'https?://\\S+|www\\.\\S+'),\n",
    "    'special_chars': re.compile(r'[^A-Za-z0-9\\s]+'),\n",
    "    'numbers': re.compile(r'\\d+'),\n",
    "    'extra_spaces': re.compile(r'\\s+') \n",
    "}\n",
    "\n",
    "def clean_text(text):\n",
    "    # Normalize text to lowercase\n",
    "    text = text.lower()\n",
    "    \n",
    "    # Remove URLs and replace them with a space to avoid concatenation issues\n",
    "    text = regex_patterns['urls'].sub(' ', text)\n",
    "    \n",
    "    # Convert emojis to text\n",
    "    text = emoji.demojize(text, delimiters=(\" \", \" \"))\n",
    "    \n",
    "    # Remove special characters and replace them with a space\n",
    "    text = regex_patterns['special_chars'].sub(' ', text)\n",
    "    \n",
    "    # Remove numbers and replace them with a space if they are not part of a word\n",
    "    text = regex_patterns['numbers'].sub(' ', text)\n",
    "    \n",
    "    # Replace multiple spaces with a single space to clean up any resulting extra spaces\n",
    "    text = regex_patterns['extra_spaces'].sub(' ', text).strip()\n",
    "    \n",
    "    return text\n",
    "\n",
    "\n",
    "# Apply the cleaning function using vectorized operations\n",
    "df_yelp_review['cleaned_review_text'] = df_yelp_review['review_text'].apply(clean_text)\n",
    "\n",
    "# Removing stopwords and lemmatization\n",
    "stop_words = set(stopwords.words('english'))\n",
    "lemmatizer = WordNetLemmatizer()\n",
    "\n",
    "def remove_stopwords_and_lemmatize(text):\n",
    "    words = text.split()\n",
    "    filtered_words = [lemmatizer.lemmatize(word) for word in words if word not in stop_words]\n",
    "    return ' '.join(filtered_words)\n",
    "\n",
    "# Apply stopword removal and lemmatization\n",
    "df_yelp_review['cleaned_review_text'] = df_yelp_review['cleaned_review_text'].apply(remove_stopwords_and_lemmatize)"
   ],
   "metadata": {
    "collapsed": false,
    "ExecuteTime": {
     "end_time": "2024-05-04T22:21:15.518136Z",
     "start_time": "2024-05-04T22:05:32.500415Z"
    }
   },
   "id": "7521d41d771820aa"
  },
  {
   "cell_type": "markdown",
   "source": [
    "Let's see random examples for each cleaning case"
   ],
   "metadata": {
    "collapsed": false
   },
   "id": "877040ca44be5abe"
  },
  {
   "cell_type": "code",
   "execution_count": 27,
   "outputs": [
    {
     "data": {
      "text/plain": "        cleaning_case                                        review_text  \\\n0           uppercase  Friendly staff and very engaging. I also like ...   \n1           uppercase  I used to come here often when I worked in Pal...   \n2                urls  I cannot imagine a more heavy-handed group of ...   \n3                urls  September 19, 2017\\n\\nI rented a car for a wee...   \n4  special_characters  Let me start by saying that I only gave them o...   \n5  special_characters  I made a few visits to this restaurant in hope...   \n6             numbers  Incredibly poor service from laser esthetician...   \n7             numbers  Customer service was great but the sandwiches ...   \n8        extra_spaces  They're friendly, fast and efficient. Doesn't ...   \n9        extra_spaces  Horrible experience. They were deployed by AHS...   \n\n                                 cleaned_review_text  \n0  friendly staff engaging also like preferred ha...  \n1  used come often worked palm harbor found area ...  \n2  cannot imagine heavy handed group aspiring naz...  \n3  september rented car week advantage rental car...  \n4  let start saying gave one star give zero even ...  \n5  made visit restaurant hope trying find good ja...  \n6  incredibly poor service laser esthetician mana...  \n7  customer service great sandwich bland would ha...  \n8      friendly fast efficient get better easy peasy  \n9  horrible experience deployed ahs like many rev...  ",
      "text/html": "<div>\n<style scoped>\n    .dataframe tbody tr th:only-of-type {\n        vertical-align: middle;\n    }\n\n    .dataframe tbody tr th {\n        vertical-align: top;\n    }\n\n    .dataframe thead th {\n        text-align: right;\n    }\n</style>\n<table border=\"1\" class=\"dataframe\">\n  <thead>\n    <tr style=\"text-align: right;\">\n      <th></th>\n      <th>cleaning_case</th>\n      <th>review_text</th>\n      <th>cleaned_review_text</th>\n    </tr>\n  </thead>\n  <tbody>\n    <tr>\n      <th>0</th>\n      <td>uppercase</td>\n      <td>Friendly staff and very engaging. I also like ...</td>\n      <td>friendly staff engaging also like preferred ha...</td>\n    </tr>\n    <tr>\n      <th>1</th>\n      <td>uppercase</td>\n      <td>I used to come here often when I worked in Pal...</td>\n      <td>used come often worked palm harbor found area ...</td>\n    </tr>\n    <tr>\n      <th>2</th>\n      <td>urls</td>\n      <td>I cannot imagine a more heavy-handed group of ...</td>\n      <td>cannot imagine heavy handed group aspiring naz...</td>\n    </tr>\n    <tr>\n      <th>3</th>\n      <td>urls</td>\n      <td>September 19, 2017\\n\\nI rented a car for a wee...</td>\n      <td>september rented car week advantage rental car...</td>\n    </tr>\n    <tr>\n      <th>4</th>\n      <td>special_characters</td>\n      <td>Let me start by saying that I only gave them o...</td>\n      <td>let start saying gave one star give zero even ...</td>\n    </tr>\n    <tr>\n      <th>5</th>\n      <td>special_characters</td>\n      <td>I made a few visits to this restaurant in hope...</td>\n      <td>made visit restaurant hope trying find good ja...</td>\n    </tr>\n    <tr>\n      <th>6</th>\n      <td>numbers</td>\n      <td>Incredibly poor service from laser esthetician...</td>\n      <td>incredibly poor service laser esthetician mana...</td>\n    </tr>\n    <tr>\n      <th>7</th>\n      <td>numbers</td>\n      <td>Customer service was great but the sandwiches ...</td>\n      <td>customer service great sandwich bland would ha...</td>\n    </tr>\n    <tr>\n      <th>8</th>\n      <td>extra_spaces</td>\n      <td>They're friendly, fast and efficient. Doesn't ...</td>\n      <td>friendly fast efficient get better easy peasy</td>\n    </tr>\n    <tr>\n      <th>9</th>\n      <td>extra_spaces</td>\n      <td>Horrible experience. They were deployed by AHS...</td>\n      <td>horrible experience deployed ahs like many rev...</td>\n    </tr>\n  </tbody>\n</table>\n</div>"
     },
     "execution_count": 27,
     "metadata": {},
     "output_type": "execute_result"
    }
   ],
   "source": [
    "# Sample conditions\n",
    "conditions = {\n",
    "    'uppercase': df_yelp_review['review_text'].str.contains(r'[A-Z]'),\n",
    "    'urls': df_yelp_review['review_text'].str.contains(r'https?://\\S+|www\\.\\S+'),\n",
    "    'special_characters': df_yelp_review['review_text'].str.contains(r'[^\\w\\s]'),\n",
    "    'numbers': df_yelp_review['review_text'].str.contains(r'\\d'),\n",
    "    'extra_spaces': df_yelp_review['review_text'].str.contains(r'\\s+')\n",
    "}\n",
    "\n",
    "# Creating a DataFrame to store samples\n",
    "sampled_data = pd.DataFrame()\n",
    "\n",
    "for category, condition in conditions.items():\n",
    "    sampled_category = df_yelp_review[condition].sample(n=2, random_state=42)[['review_text', 'cleaned_review_text']]\n",
    "    sampled_category['cleaning_case'] = category\n",
    "    sampled_data = pd.concat([sampled_data, sampled_category], axis=0) # Append the new sample to \"sampled_data\" dataframe\n",
    "\n",
    "sampled_data.reset_index(drop=True, inplace=True) # Reset index for more clarity\n",
    "sampled_data[['cleaning_case', 'review_text', 'cleaned_review_text']]"
   ],
   "metadata": {
    "collapsed": false,
    "ExecuteTime": {
     "end_time": "2024-05-04T22:21:40.381160Z",
     "start_time": "2024-05-04T22:21:15.813726Z"
    }
   },
   "id": "866f35c98ed19548"
  },
  {
   "cell_type": "markdown",
   "source": [
    "## Detect the review languages\n",
    "\n",
    "Although the businesses are located in the US, it is essential to verify the languages of the reviews because:\n",
    "- User Demographics: Customers could be tourists or residents who prefer writing in their native language, reflecting the diverse cultural backdrop of the US.\n",
    "- Accuracy of Analysis: Using NLP tools specifically designed for English to process text in other languages could lead to incorrect or misleading analysis outcomes.\n",
    "\n",
    "Given the large dataset of 3.7 million rows, we are processing the data in batches of 1000 rows each to enhance efficiency, considering:\n",
    "- Efficiency: Processing in smaller batches allows more manageable memory usage and faster processing times.\n",
    "- Risk: While there is a minor risk of encountering mixed-language texts within a single batch, this risk is minimal considering each batch represents only about 0.03% of the total dataset. The likelihood of significant language mixing within these small batches is relatively low, thereby ensuring reliable language detection results."
   ],
   "metadata": {
    "collapsed": false
   },
   "id": "354a3f03244440a7"
  },
  {
   "cell_type": "code",
   "execution_count": 28,
   "outputs": [
    {
     "name": "stdout",
     "output_type": "stream",
     "text": [
      "Total time taken: 91.69 seconds\n"
     ]
    },
    {
     "data": {
      "text/plain": "language\nen          3798\nName: count, dtype: int64"
     },
     "execution_count": 28,
     "metadata": {},
     "output_type": "execute_result"
    }
   ],
   "source": [
    "def detect_language(text):\n",
    "    \"\"\"Detect language from a given text or return 'error' if detection fails.\"\"\"\n",
    "    try:\n",
    "        return detect(text)\n",
    "    except Exception:\n",
    "        return 'error'\n",
    "\n",
    "# Initial setup, the loop with go from index 0 to dataframe's length by specified number of increments as we're combining them into one text\n",
    "start_index = 0\n",
    "increment = 1000\n",
    "languages = []\n",
    "total_rows = len(df_yelp_review)\n",
    "\n",
    "start_time = time.time()\n",
    "\n",
    "while start_index < total_rows:\n",
    "    end_index = min(start_index + increment, total_rows)\n",
    "    # print(f'Processing: {start_index} to {end_index}')\n",
    "    # Concatenate all reviews in the current chunk into a single large string\n",
    "    chunk = df_yelp_review['review_text'][start_index:end_index].str.cat(sep=' ')\n",
    "    # Detect language of the concatenated chunk\n",
    "    languages.append(detect_language(chunk))\n",
    "    start_index += increment\n",
    "\n",
    "# Compute total time taken\n",
    "end_time = time.time()\n",
    "print(f'Total time taken: {end_time - start_time:.2f} seconds')\n",
    "\n",
    "# Optional: Store the results into a DataFrame\n",
    "language_results = pd.DataFrame(languages, columns=['language'])\n",
    "\n",
    "language_results.value_counts()"
   ],
   "metadata": {
    "collapsed": false,
    "ExecuteTime": {
     "end_time": "2024-05-04T22:23:12.078055Z",
     "start_time": "2024-05-04T22:21:40.383547Z"
    }
   },
   "id": "de5408d68412616e"
  },
  {
   "cell_type": "markdown",
   "source": [
    "## Merge the Cleaned Dataset\n",
    "Method: `df_yelp_review` LEFT JOIN `df_yelp_business` ON `business_id`"
   ],
   "metadata": {
    "collapsed": false
   },
   "id": "d2582a5b7c1240c6"
  },
  {
   "cell_type": "code",
   "execution_count": 29,
   "outputs": [
    {
     "name": "stdout",
     "output_type": "stream",
     "text": [
      "Checking nulls on 'business_id' column\n",
      "df_yelp_review: 0\n",
      "df_yelp_business: 0\n"
     ]
    }
   ],
   "source": [
    "# Before joining, double check if there's null on either table's key\n",
    "print(f\"\"\"Checking nulls on 'business_id' column\n",
    "df_yelp_review: {df_yelp_review['business_id'].isnull().sum()}\n",
    "df_yelp_business: {df_yelp_business['business_id'].isnull().sum()}\n",
    "\"\"\")"
   ],
   "metadata": {
    "collapsed": false,
    "ExecuteTime": {
     "end_time": "2024-05-04T22:23:12.785536Z",
     "start_time": "2024-05-04T22:23:12.771590Z"
    }
   },
   "id": "f6d57b1618b182db"
  },
  {
   "cell_type": "code",
   "execution_count": 30,
   "outputs": [
    {
     "data": {
      "text/plain": "                                 cleaned_review_text         review_date  \\\n0  decide eat aware going take hour beginning end... 2018-07-07 22:09:11   \n1  cute interior owner gave u tour upcoming patio... 2017-01-14 20:54:15   \n2  really star one love th street naked tchopstix... 2018-07-17 03:30:07   \n3  first time excellent feel like entering someon... 2017-02-19 13:32:05   \n4  great burger fry salad burger hint salt pepper... 2017-01-02 03:17:34   \n\n   review_stars  review_useful_count  review_funny_count  review_cool_count  \\\n0             3                  0.0                 0.0                0.0   \n1             4                  1.0                 0.0                1.0   \n2             4                  1.0                 0.0                1.0   \n3             5                  0.0                 0.0                0.0   \n4             5                  0.0                 0.0                0.0   \n\n                     business_name  business_average_review_stars  \\\n0     Turning Point of North Wales                            3.0   \n1                             Melt                            4.0   \n2          Naked Tchopstix Express                            3.5   \n3                  Portobello Cafe                            4.0   \n4  The Original Habit Burger Grill                            4.0   \n\n   business_review_count        business_address  is_business_open  \\\n0                    169     1460 Bethlehem Pike                 1   \n1                     32           2549 Banks St                 0   \n2                     33  2902 W 86th St, Ste 70                 0   \n3                    137       1423 Chester Pike                 1   \n4                    329      5735 Hollister Ave                 1   \n\n                                 business_categories business_city  \\\n0  Restaurants, Breakfast & Brunch, Food, Juice B...   North Wales   \n1  Sandwiches, Beer, Wine & Spirits, Bars, Food, ...   New Orleans   \n2      Restaurants, Food, Poke, Hawaiian, Sushi Bars  Indianapolis   \n3               Restaurants, Seafood, Cafes, Italian     Eddystone   \n4                    Fast Food, Burgers, Restaurants        Goleta   \n\n  business_state business_postal_code  \n0             PA                19454  \n1             LA                70119  \n2             IN                46268  \n3             PA                19022  \n4             CA                93117  ",
      "text/html": "<div>\n<style scoped>\n    .dataframe tbody tr th:only-of-type {\n        vertical-align: middle;\n    }\n\n    .dataframe tbody tr th {\n        vertical-align: top;\n    }\n\n    .dataframe thead th {\n        text-align: right;\n    }\n</style>\n<table border=\"1\" class=\"dataframe\">\n  <thead>\n    <tr style=\"text-align: right;\">\n      <th></th>\n      <th>cleaned_review_text</th>\n      <th>review_date</th>\n      <th>review_stars</th>\n      <th>review_useful_count</th>\n      <th>review_funny_count</th>\n      <th>review_cool_count</th>\n      <th>business_name</th>\n      <th>business_average_review_stars</th>\n      <th>business_review_count</th>\n      <th>business_address</th>\n      <th>is_business_open</th>\n      <th>business_categories</th>\n      <th>business_city</th>\n      <th>business_state</th>\n      <th>business_postal_code</th>\n    </tr>\n  </thead>\n  <tbody>\n    <tr>\n      <th>0</th>\n      <td>decide eat aware going take hour beginning end...</td>\n      <td>2018-07-07 22:09:11</td>\n      <td>3</td>\n      <td>0.0</td>\n      <td>0.0</td>\n      <td>0.0</td>\n      <td>Turning Point of North Wales</td>\n      <td>3.0</td>\n      <td>169</td>\n      <td>1460 Bethlehem Pike</td>\n      <td>1</td>\n      <td>Restaurants, Breakfast &amp; Brunch, Food, Juice B...</td>\n      <td>North Wales</td>\n      <td>PA</td>\n      <td>19454</td>\n    </tr>\n    <tr>\n      <th>1</th>\n      <td>cute interior owner gave u tour upcoming patio...</td>\n      <td>2017-01-14 20:54:15</td>\n      <td>4</td>\n      <td>1.0</td>\n      <td>0.0</td>\n      <td>1.0</td>\n      <td>Melt</td>\n      <td>4.0</td>\n      <td>32</td>\n      <td>2549 Banks St</td>\n      <td>0</td>\n      <td>Sandwiches, Beer, Wine &amp; Spirits, Bars, Food, ...</td>\n      <td>New Orleans</td>\n      <td>LA</td>\n      <td>70119</td>\n    </tr>\n    <tr>\n      <th>2</th>\n      <td>really star one love th street naked tchopstix...</td>\n      <td>2018-07-17 03:30:07</td>\n      <td>4</td>\n      <td>1.0</td>\n      <td>0.0</td>\n      <td>1.0</td>\n      <td>Naked Tchopstix Express</td>\n      <td>3.5</td>\n      <td>33</td>\n      <td>2902 W 86th St, Ste 70</td>\n      <td>0</td>\n      <td>Restaurants, Food, Poke, Hawaiian, Sushi Bars</td>\n      <td>Indianapolis</td>\n      <td>IN</td>\n      <td>46268</td>\n    </tr>\n    <tr>\n      <th>3</th>\n      <td>first time excellent feel like entering someon...</td>\n      <td>2017-02-19 13:32:05</td>\n      <td>5</td>\n      <td>0.0</td>\n      <td>0.0</td>\n      <td>0.0</td>\n      <td>Portobello Cafe</td>\n      <td>4.0</td>\n      <td>137</td>\n      <td>1423 Chester Pike</td>\n      <td>1</td>\n      <td>Restaurants, Seafood, Cafes, Italian</td>\n      <td>Eddystone</td>\n      <td>PA</td>\n      <td>19022</td>\n    </tr>\n    <tr>\n      <th>4</th>\n      <td>great burger fry salad burger hint salt pepper...</td>\n      <td>2017-01-02 03:17:34</td>\n      <td>5</td>\n      <td>0.0</td>\n      <td>0.0</td>\n      <td>0.0</td>\n      <td>The Original Habit Burger Grill</td>\n      <td>4.0</td>\n      <td>329</td>\n      <td>5735 Hollister Ave</td>\n      <td>1</td>\n      <td>Fast Food, Burgers, Restaurants</td>\n      <td>Goleta</td>\n      <td>CA</td>\n      <td>93117</td>\n    </tr>\n  </tbody>\n</table>\n</div>"
     },
     "execution_count": 30,
     "metadata": {},
     "output_type": "execute_result"
    }
   ],
   "source": [
    "# Perform LEFT JOIN, keeping only needed rows\n",
    "df_clean_yelp_review_and_business = df_yelp_review.merge(\n",
    "    df_yelp_business, \n",
    "    on='business_id', \n",
    "    how='left'\n",
    ")[[\n",
    "    # User Review\n",
    "    'cleaned_review_text',\n",
    "    'review_date',\n",
    "    'review_stars',\n",
    "    'review_useful_count',\n",
    "    'review_funny_count',\n",
    "    'review_cool_count',\n",
    "    \n",
    "    # Business Info\n",
    "    'business_name',\n",
    "    'business_average_review_stars',\n",
    "    'business_review_count',\n",
    "    'business_address',\n",
    "    'is_business_open',\n",
    "    'business_categories',\n",
    "    'business_city',\n",
    "    'business_state',\n",
    "    'business_postal_code'\n",
    "]]\n",
    "\n",
    "# Show the result\n",
    "df_clean_yelp_review_and_business.head()"
   ],
   "metadata": {
    "collapsed": false,
    "ExecuteTime": {
     "end_time": "2024-05-04T22:23:16.248248Z",
     "start_time": "2024-05-04T22:23:12.786343Z"
    }
   },
   "id": "6f45c42a908c02f7"
  },
  {
   "cell_type": "code",
   "execution_count": 31,
   "outputs": [
    {
     "data": {
      "text/plain": "Empty DataFrame\nColumns: [cleaned_review_text, review_date, review_stars, review_useful_count, review_funny_count, review_cool_count, business_name, business_average_review_stars, business_review_count, business_address, is_business_open, business_categories, business_city, business_state, business_postal_code]\nIndex: []",
      "text/html": "<div>\n<style scoped>\n    .dataframe tbody tr th:only-of-type {\n        vertical-align: middle;\n    }\n\n    .dataframe tbody tr th {\n        vertical-align: top;\n    }\n\n    .dataframe thead th {\n        text-align: right;\n    }\n</style>\n<table border=\"1\" class=\"dataframe\">\n  <thead>\n    <tr style=\"text-align: right;\">\n      <th></th>\n      <th>cleaned_review_text</th>\n      <th>review_date</th>\n      <th>review_stars</th>\n      <th>review_useful_count</th>\n      <th>review_funny_count</th>\n      <th>review_cool_count</th>\n      <th>business_name</th>\n      <th>business_average_review_stars</th>\n      <th>business_review_count</th>\n      <th>business_address</th>\n      <th>is_business_open</th>\n      <th>business_categories</th>\n      <th>business_city</th>\n      <th>business_state</th>\n      <th>business_postal_code</th>\n    </tr>\n  </thead>\n  <tbody>\n  </tbody>\n</table>\n</div>"
     },
     "execution_count": 31,
     "metadata": {},
     "output_type": "execute_result"
    }
   ],
   "source": [
    "# Double check in case there are LEFT JOIN results not matching\n",
    "df_clean_yelp_review_and_business[df_clean_yelp_review_and_business['business_name'].isna()].head()"
   ],
   "metadata": {
    "collapsed": false,
    "ExecuteTime": {
     "end_time": "2024-05-04T22:23:16.358665Z",
     "start_time": "2024-05-04T22:23:16.320603Z"
    }
   },
   "id": "a4c78cbca76a4697"
  },
  {
   "cell_type": "markdown",
   "source": [
    "### Add \"Business Country\" Column & Check \"State\" &  \"City\" Typos"
   ],
   "metadata": {
    "collapsed": false
   },
   "id": "5578a8d6cfdb06dc"
  },
  {
   "cell_type": "markdown",
   "source": [
    "#### Create Business State-City & Country Mapping"
   ],
   "metadata": {
    "collapsed": false
   },
   "id": "2e4e76297a06c079"
  },
  {
   "cell_type": "code",
   "execution_count": 32,
   "outputs": [],
   "source": [
    "# Creating a unique dataframe of state-city so we don't have to repeat the same operations\n",
    "df_city_state_country = df_yelp_business[['business_state', 'business_city']].drop_duplicates()\n",
    "\n",
    "# Function to retrieve the country name based on city-state combination\n",
    "geocode_cache = {} # Cache for storing geocode results to avoid repeated network calls\n",
    "\n",
    "def get_country(city, state):\n",
    "    geolocator = Nominatim(user_agent=\"geoapi_v1\")\n",
    "    key = (city, state)\n",
    "    \n",
    "    # Check if the result is already in cache\n",
    "    if key in geocode_cache:\n",
    "        return geocode_cache[key]\n",
    "    \n",
    "    try:\n",
    "        location = geolocator.geocode(f\"{city}, {state}\", timeout=10)\n",
    "        if location:\n",
    "            country = location.address.split(\",\")[-1].strip()\n",
    "            geocode_cache[key] = country  # Store in cache\n",
    "            return country\n",
    "        else:\n",
    "            geocode_cache[key] = \"Not Found\"\n",
    "            return \"Not Found\"\n",
    "    except (GeocoderTimedOut, GeocoderServiceError):\n",
    "        geocode_cache[key] = \"Service Timeout/Error\"\n",
    "        return \"Service Timeout/Error\"\n",
    "\n",
    "# Create the new column using apply function\n",
    "df_city_state_country['business_country'] = df_city_state_country.apply(\n",
    "    lambda row: get_country(city=row['business_city'], state=row['business_state']),\n",
    "    axis=1\n",
    ")"
   ],
   "metadata": {
    "collapsed": false,
    "ExecuteTime": {
     "end_time": "2024-05-04T22:36:13.381387Z",
     "start_time": "2024-05-04T22:23:16.326865Z"
    }
   },
   "id": "6c25c022eaf0e8"
  },
  {
   "cell_type": "markdown",
   "source": [
    "#### Example of Typos in  Business City"
   ],
   "metadata": {
    "collapsed": false
   },
   "id": "bad039f78e898c69"
  },
  {
   "cell_type": "code",
   "execution_count": 42,
   "outputs": [
    {
     "data": {
      "text/plain": "       business_state                                      business_city  \\\n2511               FL                                  Greater Northdale   \n6345               TN  Nashville-Davidson metropolitan government (ba...   \n6770               NJ                                  South Cinnaminson   \n8354               MO                                       Webster Grvs   \n8673               FL                                      Redingtn Shor   \n...               ...                                                ...   \n137817             NJ                                  South Cherry Hill   \n140738             FL                                      Safety Hatbor   \n144448             PA                                      Philiadelphia   \n146705             MO                                    Maryland Height   \n147191             PA                                      PLYMOUTH MTNG   \n\n       business_country  \n2511          Not Found  \n6345          Not Found  \n6770          Not Found  \n8354          Not Found  \n8673          Not Found  \n...                 ...  \n137817        Not Found  \n140738        Not Found  \n144448        Not Found  \n146705        Not Found  \n147191        Not Found  \n\n[98 rows x 3 columns]",
      "text/html": "<div>\n<style scoped>\n    .dataframe tbody tr th:only-of-type {\n        vertical-align: middle;\n    }\n\n    .dataframe tbody tr th {\n        vertical-align: top;\n    }\n\n    .dataframe thead th {\n        text-align: right;\n    }\n</style>\n<table border=\"1\" class=\"dataframe\">\n  <thead>\n    <tr style=\"text-align: right;\">\n      <th></th>\n      <th>business_state</th>\n      <th>business_city</th>\n      <th>business_country</th>\n    </tr>\n  </thead>\n  <tbody>\n    <tr>\n      <th>2511</th>\n      <td>FL</td>\n      <td>Greater Northdale</td>\n      <td>Not Found</td>\n    </tr>\n    <tr>\n      <th>6345</th>\n      <td>TN</td>\n      <td>Nashville-Davidson metropolitan government (ba...</td>\n      <td>Not Found</td>\n    </tr>\n    <tr>\n      <th>6770</th>\n      <td>NJ</td>\n      <td>South Cinnaminson</td>\n      <td>Not Found</td>\n    </tr>\n    <tr>\n      <th>8354</th>\n      <td>MO</td>\n      <td>Webster Grvs</td>\n      <td>Not Found</td>\n    </tr>\n    <tr>\n      <th>8673</th>\n      <td>FL</td>\n      <td>Redingtn Shor</td>\n      <td>Not Found</td>\n    </tr>\n    <tr>\n      <th>...</th>\n      <td>...</td>\n      <td>...</td>\n      <td>...</td>\n    </tr>\n    <tr>\n      <th>137817</th>\n      <td>NJ</td>\n      <td>South Cherry Hill</td>\n      <td>Not Found</td>\n    </tr>\n    <tr>\n      <th>140738</th>\n      <td>FL</td>\n      <td>Safety Hatbor</td>\n      <td>Not Found</td>\n    </tr>\n    <tr>\n      <th>144448</th>\n      <td>PA</td>\n      <td>Philiadelphia</td>\n      <td>Not Found</td>\n    </tr>\n    <tr>\n      <th>146705</th>\n      <td>MO</td>\n      <td>Maryland Height</td>\n      <td>Not Found</td>\n    </tr>\n    <tr>\n      <th>147191</th>\n      <td>PA</td>\n      <td>PLYMOUTH MTNG</td>\n      <td>Not Found</td>\n    </tr>\n  </tbody>\n</table>\n<p>98 rows × 3 columns</p>\n</div>"
     },
     "execution_count": 42,
     "metadata": {},
     "output_type": "execute_result"
    }
   ],
   "source": [
    "# Show non-US state-city\n",
    "df_city_state_country[df_city_state_country['business_country'] == 'Not Found']"
   ],
   "metadata": {
    "collapsed": false,
    "ExecuteTime": {
     "end_time": "2024-05-05T02:35:02.423884Z",
     "start_time": "2024-05-05T02:35:02.411440Z"
    }
   },
   "id": "2c8519b5ccef1a9a"
  },
  {
   "cell_type": "markdown",
   "source": [
    "#### LEFT JOIN Country Data to Main Dataframe"
   ],
   "metadata": {
    "collapsed": false
   },
   "id": "5f973e37457ea962"
  },
  {
   "cell_type": "code",
   "execution_count": 34,
   "outputs": [
    {
     "name": "stdout",
     "output_type": "stream",
     "text": [
      "Index(['cleaned_review_text', 'review_date', 'review_stars',\n",
      "       'review_useful_count', 'review_funny_count', 'review_cool_count',\n",
      "       'business_name', 'business_average_review_stars',\n",
      "       'business_review_count', 'business_address', 'is_business_open',\n",
      "       'business_categories', 'business_city', 'business_state',\n",
      "       'business_postal_code', 'business_country'],\n",
      "      dtype='object')\n"
     ]
    },
    {
     "data": {
      "text/plain": "                     business_name business_city business_state  \\\n0     Turning Point of North Wales   North Wales             PA   \n1                             Melt   New Orleans             LA   \n2          Naked Tchopstix Express  Indianapolis             IN   \n3                  Portobello Cafe     Eddystone             PA   \n4  The Original Habit Burger Grill        Goleta             CA   \n5                             Wawa    Norristown             PA   \n6            Landa Muffler & Brake          Reno             NV   \n7                  Peppermill Reno          Reno             NV   \n8                The Coventry Deli  Philadelphia             PA   \n9         Milk and Honey Nashville     Nashville             TN   \n\n  business_country  \n0    United States  \n1    United States  \n2    United States  \n3    United States  \n4    United States  \n5    United States  \n6    United States  \n7    United States  \n8    United States  \n9    United States  ",
      "text/html": "<div>\n<style scoped>\n    .dataframe tbody tr th:only-of-type {\n        vertical-align: middle;\n    }\n\n    .dataframe tbody tr th {\n        vertical-align: top;\n    }\n\n    .dataframe thead th {\n        text-align: right;\n    }\n</style>\n<table border=\"1\" class=\"dataframe\">\n  <thead>\n    <tr style=\"text-align: right;\">\n      <th></th>\n      <th>business_name</th>\n      <th>business_city</th>\n      <th>business_state</th>\n      <th>business_country</th>\n    </tr>\n  </thead>\n  <tbody>\n    <tr>\n      <th>0</th>\n      <td>Turning Point of North Wales</td>\n      <td>North Wales</td>\n      <td>PA</td>\n      <td>United States</td>\n    </tr>\n    <tr>\n      <th>1</th>\n      <td>Melt</td>\n      <td>New Orleans</td>\n      <td>LA</td>\n      <td>United States</td>\n    </tr>\n    <tr>\n      <th>2</th>\n      <td>Naked Tchopstix Express</td>\n      <td>Indianapolis</td>\n      <td>IN</td>\n      <td>United States</td>\n    </tr>\n    <tr>\n      <th>3</th>\n      <td>Portobello Cafe</td>\n      <td>Eddystone</td>\n      <td>PA</td>\n      <td>United States</td>\n    </tr>\n    <tr>\n      <th>4</th>\n      <td>The Original Habit Burger Grill</td>\n      <td>Goleta</td>\n      <td>CA</td>\n      <td>United States</td>\n    </tr>\n    <tr>\n      <th>5</th>\n      <td>Wawa</td>\n      <td>Norristown</td>\n      <td>PA</td>\n      <td>United States</td>\n    </tr>\n    <tr>\n      <th>6</th>\n      <td>Landa Muffler &amp; Brake</td>\n      <td>Reno</td>\n      <td>NV</td>\n      <td>United States</td>\n    </tr>\n    <tr>\n      <th>7</th>\n      <td>Peppermill Reno</td>\n      <td>Reno</td>\n      <td>NV</td>\n      <td>United States</td>\n    </tr>\n    <tr>\n      <th>8</th>\n      <td>The Coventry Deli</td>\n      <td>Philadelphia</td>\n      <td>PA</td>\n      <td>United States</td>\n    </tr>\n    <tr>\n      <th>9</th>\n      <td>Milk and Honey Nashville</td>\n      <td>Nashville</td>\n      <td>TN</td>\n      <td>United States</td>\n    </tr>\n  </tbody>\n</table>\n</div>"
     },
     "execution_count": 34,
     "metadata": {},
     "output_type": "execute_result"
    }
   ],
   "source": [
    "# LEFT JOIN \"df_yelp_business\" with \"df_city_state_country\" to get the Country info\n",
    "df_clean_yelp_review_and_business = df_clean_yelp_review_and_business.merge(\n",
    "    df_city_state_country,\n",
    "    how='left',\n",
    "    on=['business_city', 'business_state']\n",
    ")\n",
    "\n",
    "# Preview data\n",
    "print(df_clean_yelp_review_and_business.columns)\n",
    "df_clean_yelp_review_and_business[['business_name', 'business_city', 'business_state', 'business_country']].head(10)"
   ],
   "metadata": {
    "collapsed": false,
    "ExecuteTime": {
     "end_time": "2024-05-04T22:36:15.157731Z",
     "start_time": "2024-05-04T22:36:13.717565Z"
    }
   },
   "id": "4e686cb0a0d66dd6"
  },
  {
   "cell_type": "markdown",
   "source": [
    "#### Examples of Reviews with Country Outside USA & Canada\n",
    "\n",
    "Triple-checking in case there are non-English reviews."
   ],
   "metadata": {
    "collapsed": false
   },
   "id": "ab7ce820f9489c98"
  },
  {
   "cell_type": "code",
   "execution_count": 41,
   "outputs": [
    {
     "data": {
      "text/plain": "                                     cleaned_review_text  \\\n560    went time one weekend town baseball tournament...   \n8728   went twice time excellent service food great g...   \n9200   went grand opening new restaurant guy plum pit...   \n14624  nervous first go another tailor since father o...   \n15130  ordered burger plum bistro via uber eats wante...   \n15521  think good value money wash club sticker car c...   \n15841  got first custom tailored shirt master lee tod...   \n16070  aston small town devoid many appetizing lunch ...   \n19376  even member american heritage go frequently ma...   \n20975  absolutely love hometown local bar local over ...   \n\n                                business_name      business_city  \\\n560                               Aston Diner              Aston   \n8728                              Aston Diner              Aston   \n9200                         The Tattooed Pig              Aston   \n14624                  Lee's Custom Tailoring        Indianpolis   \n15130                        The Tattooed Pig              Aston   \n15521                      Mr Wizard of Aston              Aston   \n15841                  Lee's Custom Tailoring        Indianpolis   \n16070                        The Tattooed Pig              Aston   \n19376  American Heritage Federal Credit Union            Royford   \n20975                               The Local  Greater Northdale   \n\n      business_state business_country  \n560               PA           France  \n8728              PA           France  \n9200              PA           France  \n14624             IN        Not Found  \n15130             PA           France  \n15521             PA           France  \n15841             IN        Not Found  \n16070             PA           France  \n19376             PA        Not Found  \n20975             FL        Not Found  ",
      "text/html": "<div>\n<style scoped>\n    .dataframe tbody tr th:only-of-type {\n        vertical-align: middle;\n    }\n\n    .dataframe tbody tr th {\n        vertical-align: top;\n    }\n\n    .dataframe thead th {\n        text-align: right;\n    }\n</style>\n<table border=\"1\" class=\"dataframe\">\n  <thead>\n    <tr style=\"text-align: right;\">\n      <th></th>\n      <th>cleaned_review_text</th>\n      <th>business_name</th>\n      <th>business_city</th>\n      <th>business_state</th>\n      <th>business_country</th>\n    </tr>\n  </thead>\n  <tbody>\n    <tr>\n      <th>560</th>\n      <td>went time one weekend town baseball tournament...</td>\n      <td>Aston Diner</td>\n      <td>Aston</td>\n      <td>PA</td>\n      <td>France</td>\n    </tr>\n    <tr>\n      <th>8728</th>\n      <td>went twice time excellent service food great g...</td>\n      <td>Aston Diner</td>\n      <td>Aston</td>\n      <td>PA</td>\n      <td>France</td>\n    </tr>\n    <tr>\n      <th>9200</th>\n      <td>went grand opening new restaurant guy plum pit...</td>\n      <td>The Tattooed Pig</td>\n      <td>Aston</td>\n      <td>PA</td>\n      <td>France</td>\n    </tr>\n    <tr>\n      <th>14624</th>\n      <td>nervous first go another tailor since father o...</td>\n      <td>Lee's Custom Tailoring</td>\n      <td>Indianpolis</td>\n      <td>IN</td>\n      <td>Not Found</td>\n    </tr>\n    <tr>\n      <th>15130</th>\n      <td>ordered burger plum bistro via uber eats wante...</td>\n      <td>The Tattooed Pig</td>\n      <td>Aston</td>\n      <td>PA</td>\n      <td>France</td>\n    </tr>\n    <tr>\n      <th>15521</th>\n      <td>think good value money wash club sticker car c...</td>\n      <td>Mr Wizard of Aston</td>\n      <td>Aston</td>\n      <td>PA</td>\n      <td>France</td>\n    </tr>\n    <tr>\n      <th>15841</th>\n      <td>got first custom tailored shirt master lee tod...</td>\n      <td>Lee's Custom Tailoring</td>\n      <td>Indianpolis</td>\n      <td>IN</td>\n      <td>Not Found</td>\n    </tr>\n    <tr>\n      <th>16070</th>\n      <td>aston small town devoid many appetizing lunch ...</td>\n      <td>The Tattooed Pig</td>\n      <td>Aston</td>\n      <td>PA</td>\n      <td>France</td>\n    </tr>\n    <tr>\n      <th>19376</th>\n      <td>even member american heritage go frequently ma...</td>\n      <td>American Heritage Federal Credit Union</td>\n      <td>Royford</td>\n      <td>PA</td>\n      <td>Not Found</td>\n    </tr>\n    <tr>\n      <th>20975</th>\n      <td>absolutely love hometown local bar local over ...</td>\n      <td>The Local</td>\n      <td>Greater Northdale</td>\n      <td>FL</td>\n      <td>Not Found</td>\n    </tr>\n  </tbody>\n</table>\n</div>"
     },
     "execution_count": 41,
     "metadata": {},
     "output_type": "execute_result"
    }
   ],
   "source": [
    "# Show sample reviews for businesses that are not in US\n",
    "col_to_include = ['cleaned_review_text', 'business_name', 'business_city', 'business_state', 'business_country']\n",
    "df_clean_yelp_review_and_business[~df_clean_yelp_review_and_business['business_country'].isin(['United States', 'Canada'])][col_to_include].head(10)"
   ],
   "metadata": {
    "collapsed": false,
    "ExecuteTime": {
     "end_time": "2024-05-05T02:28:10.737758Z",
     "start_time": "2024-05-05T02:28:10.731010Z"
    }
   },
   "id": "4b33b3020a55bde3"
  },
  {
   "cell_type": "markdown",
   "source": [
    "## Save Dataset\n"
   ],
   "metadata": {
    "collapsed": false
   },
   "id": "8790f3acdb049408"
  },
  {
   "cell_type": "code",
   "execution_count": 43,
   "outputs": [
    {
     "name": "stdout",
     "output_type": "stream",
     "text": [
      "<class 'pandas.core.frame.DataFrame'>\n",
      "RangeIndex: 3797310 entries, 0 to 3797309\n",
      "Data columns (total 16 columns):\n",
      " #   Column                         Dtype         \n",
      "---  ------                         -----         \n",
      " 0   cleaned_review_text            object        \n",
      " 1   review_date                    datetime64[ns]\n",
      " 2   review_stars                   Int64         \n",
      " 3   review_useful_count            Int64         \n",
      " 4   review_funny_count             Int64         \n",
      " 5   review_cool_count              Int64         \n",
      " 6   business_name                  object        \n",
      " 7   business_average_review_stars  float64       \n",
      " 8   business_review_count          Int64         \n",
      " 9   business_address               object        \n",
      " 10  is_business_open               int64         \n",
      " 11  business_categories            object        \n",
      " 12  business_city                  object        \n",
      " 13  business_state                 object        \n",
      " 14  business_postal_code           object        \n",
      " 15  business_country               object        \n",
      "dtypes: Int64(5), datetime64[ns](1), float64(1), int64(1), object(8)\n",
      "memory usage: 481.6+ MB\n"
     ]
    }
   ],
   "source": [
    "# Make sure data types are in the right format\n",
    "integer_columns_to_convert = ['review_stars', 'review_useful_count', 'review_funny_count', 'review_cool_count', 'business_review_count']\n",
    "for col in integer_columns_to_convert:\n",
    "    df_clean_yelp_review_and_business[col] = df_clean_yelp_review_and_business[col].astype('Int64') # The capital \"I\" is to allow for NaNs in integer columns\n",
    "\n",
    "# Confirm data type conversion\n",
    "df_clean_yelp_review_and_business.info()"
   ],
   "metadata": {
    "collapsed": false,
    "ExecuteTime": {
     "end_time": "2024-05-05T02:45:27.123336Z",
     "start_time": "2024-05-05T02:45:26.298151Z"
    }
   },
   "id": "4553b5cc38cec3f8"
  },
  {
   "cell_type": "code",
   "execution_count": 44,
   "outputs": [],
   "source": [
    "# Save the DataFrame to a JSON file\n",
    "df_clean_yelp_review_and_business.to_json(\n",
    "    'clean_dataset/df_clean_yelp_review_and_business.json', \n",
    "    orient='records', # Each row as a JSON object, suited for item-based manipulation and API usage.\n",
    "    lines=True, # Each object on a new line, ideal for streaming and incremental processing.\n",
    "    index=False # Exclude index to prevent data redundancy, as unique identifiers are present.\n",
    ")"
   ],
   "metadata": {
    "collapsed": false,
    "ExecuteTime": {
     "end_time": "2024-05-05T02:46:03.118944Z",
     "start_time": "2024-05-05T02:45:37.477324Z"
    }
   },
   "id": "7206dd5f56308cc0"
  },
  {
   "cell_type": "code",
   "execution_count": null,
   "outputs": [],
   "source": [],
   "metadata": {
    "collapsed": false
   },
   "id": "911b1eb3bb733b36"
  }
 ],
 "metadata": {
  "kernelspec": {
   "display_name": "Python 3",
   "language": "python",
   "name": "python3"
  },
  "language_info": {
   "codemirror_mode": {
    "name": "ipython",
    "version": 2
   },
   "file_extension": ".py",
   "mimetype": "text/x-python",
   "name": "python",
   "nbconvert_exporter": "python",
   "pygments_lexer": "ipython2",
   "version": "2.7.6"
  }
 },
 "nbformat": 4,
 "nbformat_minor": 5
}
