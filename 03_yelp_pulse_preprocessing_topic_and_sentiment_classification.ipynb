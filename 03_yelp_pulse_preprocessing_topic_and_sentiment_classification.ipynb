{
 "cells": [
  {
   "cell_type": "markdown",
   "id": "929e2a6f0059f8be",
   "metadata": {
    "collapsed": false
   },
   "source": [
    "# Yelp Pulse\n",
    "\n",
    "##### Generating Positive vs Negative Mentions from Yelp reviews for deeper sentiment understanding, leveraging LDA and BERT.\n",
    "\n",
    "NOTE: Since the dataset is pretty huge (3.8M observations), we'll start with \"Restaurant\" businesses category as the most popular one and we'll start with California state (the state I currently live in). This is further reduce the computational cost when running the UMAP & BERTopic.\n",
    "\n",
    "Hypothetical Requirement: [https://github.com/clement-hironimus/yelp-pulse-sentiment-analysis/blob/main/README.md](https://github.com/clement-hironimus/yelp-pulse-sentiment-analysis/blob/main/README.md)\n",
    "\n",
    "&nbsp;\n",
    "PROJECT OUTLINE:\n",
    "- Step 1: Data Wrangling & Cleaning (see: 01_yelp_pulse_data_wrangling_and_cleaning.ipynb)\n",
    "- Step 2: Exploratory Data Analysis (see: 02_yelp_pulse_exploratory_data_analysis.ipynb)\n",
    "- Step 3: Topic Extraction and Sentiment Classification (THIS NOTEBOOK)"
   ]
  },
  {
   "cell_type": "markdown",
   "id": "230e141ec9753526",
   "metadata": {
    "collapsed": false
   },
   "source": [
    "# TL;DR Summary\n",
    "\n",
    "## Project Overview\n",
    "This project analyzes Yelp reviews for restaurants in California, identifying key topics and categorizing reviews into high-level themes such as food and service. By leveraging advanced NLP techniques, we aim to provide actionable insights for restaurant owners and potential customers.\n",
    "\n",
    "&nbsp;\n",
    "#### 1. Load Data & Filter for Restaurants in California\n",
    "- **Data Reduction**: Focused on restaurant reviews in California from 2017 to 2021 to ensure computational feasibility and relevance.\n",
    "- **Assumption**: The latest Yelp review data is from Jan 2022.\n",
    "\n",
    "#### 2. Create Sentence-Level Embeddings on Yelp Reviews\n",
    "- **Model**: Used `all-MiniLM-L6-v2` SentenceTransformers to create embeddings that capture the semantic content of the reviews.\n",
    "\n",
    "#### 3. UMAP Parameter Tuning\n",
    "- **Optimal Parameters**: `n_neighbors=20` and `min_dist=0.1`.\n",
    "- **Usage**: Employed higher dimensions (e.g., n_components=50) for HDBSCAN to capture more complex data structures.\n",
    "\n",
    "#### 4. HDBSCAN Parameter Tuning\n",
    "- **Optimal Parameter**: `min_cluster_size=300`.\n",
    "- **Goal**: Achieved a balance between detailed clustering and capturing high-level clusters.\n",
    "\n",
    "#### 5. Guided Topic Modeling with BERTopic\n",
    "- **Seed Topics**: Used predefined topics to guide the modeling process.\n",
    "- **Clustering Models**: Applied UMAP for dimensionality reduction and HDBSCAN for clustering.\n",
    "\n",
    "#### 6. Evaluate Model Prediction\n",
    "- **Prediction Confidence**: 42.06%\n",
    "  - Indicates moderate model confidence, understandable given the reduced data size.\n",
    "- **Average Prediction Spread**: 24.44%\n",
    "  - Suggests some overlap in topic probabilities, reflecting the complexity of review content.\n",
    "- **Outliers**: 40.23%\n",
    "  - High outlier rate, likely due to strict tuning and limited data size, indicating room for improvement with more data.\n",
    "\n",
    "#### 7. Analyze the Topic Result\n",
    "- **Service-Related Topics**: Service quality, friendliness, dietary options.\n",
    "- **Product-Related Topics**: \n",
    "  - By origins: Mexican, Italian, Chinese, Southeast Asian.\n",
    "  - By genres: Breakfast, brunch, bread, seafood, beverages.\n",
    "- **Future Work**: Further breakdown into categories like dietary, ambience, cleanliness, accessibility, wait-time, and price.\n",
    "\n",
    "#### 8. Export Data\n",
    "- Reviews categorized into topics with associated probabilities exported for dashboard visualization.\n",
    "\n",
    "#### 9. Potential Next Steps\n",
    "- **Include More Data & More Granular Topic Clusters**: Enhancing model prediction and discovering more topic categories.\n",
    "- **Handling Multiple Topics per Review**: Include top-N predictions to account for reviews with multiple topics.\n",
    "- **Deeper Sentiment Classification with BERT**: Incorporate a BERT-based sentiment classifier to provide deeper sentiment insights. Current \"star-based sentiment label\" already offers reasonable accuracy.\n"
   ]
  },
  {
   "cell_type": "code",
   "execution_count": 1,
   "id": "988dc2b928710b2",
   "metadata": {
    "collapsed": false,
    "ExecuteTime": {
     "end_time": "2024-05-30T02:19:31.391213Z",
     "start_time": "2024-05-30T02:19:23.576952Z"
    }
   },
   "outputs": [],
   "source": [
    "# Load Libraries\n",
    "import os\n",
    "\n",
    "# Data manipulation\n",
    "import pandas as pd\n",
    "import numpy as np\n",
    "\n",
    "# Dimensional Reduction\n",
    "from sklearn.decomposition import PCA\n",
    "from umap import UMAP\n",
    "\n",
    "# Topic Modeling\n",
    "from bertopic import BERTopic\n",
    "from sentence_transformers import SentenceTransformer # To create sentence embeddings\n",
    "from sklearn.feature_extraction.text import CountVectorizer # For topic representation\n",
    "import hdbscan\n",
    "\n",
    "# Metrics\n",
    "from sklearn.metrics import silhouette_score, davies_bouldin_score, calinski_harabasz_score\n",
    "\n",
    "# Viz\n",
    "import matplotlib.pyplot as plt\n",
    "\n",
    "# Utils\n",
    "import time\n",
    "import joblib # To save models\n"
   ]
  },
  {
   "cell_type": "markdown",
   "id": "19d30ddc3b89cc8c",
   "metadata": {
    "collapsed": false
   },
   "source": [
    "## 1. Load Data & Filter for Restaurants in California\n",
    "Reduce the dataset size to make it manageable for computational resources.\n",
    "- **Restaurant Category**: For more guided topic modeling, as different business categories can have completely different topics.\n",
    "- **Business Location=California**: To reduce the computational resource required (and since I live in this state too).\n",
    "\n",
    "Data Assumptions:\n",
    "- Yelp Open Dataset contains review data from `2005-02-16` to `2022-01-19`. This project only uses more recent data from 2017 to 2021.\n",
    "- Let's assume that \"TODAY\" is Jan 2022 as indicated from the latest Yelp review data."
   ]
  },
  {
   "cell_type": "markdown",
   "source": [
    "### Load Data"
   ],
   "metadata": {
    "collapsed": false
   },
   "id": "b0c72bb8b55874f7"
  },
  {
   "cell_type": "code",
   "execution_count": 2,
   "id": "b81d18b28f810a36",
   "metadata": {
    "collapsed": false,
    "ExecuteTime": {
     "end_time": "2024-05-30T02:20:55.764139Z",
     "start_time": "2024-05-30T02:19:31.391035Z"
    }
   },
   "outputs": [
    {
     "name": "stdout",
     "output_type": "stream",
     "text": [
      "Loading Yelp Reviews...\n",
      "Initial data loaded for df_clean_yelp_review_and_business: (3797310, 14)\n"
     ]
    },
    {
     "data": {
      "text/plain": "                review_id                                        review_text  \\\n0  KU_O5udG6zpxOg-VcAEodg  If you decide to eat here, just be aware it is...   \n1  Sx8TMOWLNuJBWer-0pcmoA  Cute interior and owner (?) gave us tour of up...   \n2  lUUhg8ltDsUZ9h0xnwY4Dg  I was really between 3 and 4 stars for this on...   \n3  -P5E9BYUaK7s3PwBF5oAyg  First time there and it was excellent!!! It fe...   \n4  YbMyvlDA2W3Py5lTz8VK-A  Great burgers,fries and salad!  Burgers have a...   \n\n                                 cleaned_review_text  \\\n0  if you decide to eat here, just be aware it is...   \n1  cute interior and owner (?) gave us tour of up...   \n2  i was really between and stars for this one. i...   \n3  first time there and it was excellent!!! it fe...   \n4  great burgers,fries and salad! burgers have a ...   \n\n   business_average_review_stars  business_review_count  \\\n0                            3.0                    169   \n1                            4.0                     32   \n2                            3.5                     33   \n3                            4.0                    137   \n4                            4.0                    329   \n\n   original_review_text_length  review_stars star_based_sentiment_label  \\\n0                          513             3                    neutral   \n1                          534             4                   positive   \n2                         1555             4                   positive   \n3                          222             5                   positive   \n4                          209             5                   positive   \n\n                     business_name  is_business_open  \\\n0     Turning Point of North Wales              True   \n1                             Melt             False   \n2          Naked Tchopstix Express             False   \n3                  Portobello Cafe              True   \n4  The Original Habit Burger Grill              True   \n\n                                 business_categories business_city  \\\n0  Restaurants, Breakfast & Brunch, Food, Juice B...   North Wales   \n1  Sandwiches, Beer, Wine & Spirits, Bars, Food, ...   New Orleans   \n2      Restaurants, Food, Poke, Hawaiian, Sushi Bars  Indianapolis   \n3               Restaurants, Seafood, Cafes, Italian     Eddystone   \n4                    Fast Food, Burgers, Restaurants        Goleta   \n\n  business_state business_country  \n0             PA    United States  \n1             LA    United States  \n2             IN    United States  \n3             PA    United States  \n4             CA    United States  ",
      "text/html": "<div>\n<style scoped>\n    .dataframe tbody tr th:only-of-type {\n        vertical-align: middle;\n    }\n\n    .dataframe tbody tr th {\n        vertical-align: top;\n    }\n\n    .dataframe thead th {\n        text-align: right;\n    }\n</style>\n<table border=\"1\" class=\"dataframe\">\n  <thead>\n    <tr style=\"text-align: right;\">\n      <th></th>\n      <th>review_id</th>\n      <th>review_text</th>\n      <th>cleaned_review_text</th>\n      <th>business_average_review_stars</th>\n      <th>business_review_count</th>\n      <th>original_review_text_length</th>\n      <th>review_stars</th>\n      <th>star_based_sentiment_label</th>\n      <th>business_name</th>\n      <th>is_business_open</th>\n      <th>business_categories</th>\n      <th>business_city</th>\n      <th>business_state</th>\n      <th>business_country</th>\n    </tr>\n  </thead>\n  <tbody>\n    <tr>\n      <th>0</th>\n      <td>KU_O5udG6zpxOg-VcAEodg</td>\n      <td>If you decide to eat here, just be aware it is...</td>\n      <td>if you decide to eat here, just be aware it is...</td>\n      <td>3.0</td>\n      <td>169</td>\n      <td>513</td>\n      <td>3</td>\n      <td>neutral</td>\n      <td>Turning Point of North Wales</td>\n      <td>True</td>\n      <td>Restaurants, Breakfast &amp; Brunch, Food, Juice B...</td>\n      <td>North Wales</td>\n      <td>PA</td>\n      <td>United States</td>\n    </tr>\n    <tr>\n      <th>1</th>\n      <td>Sx8TMOWLNuJBWer-0pcmoA</td>\n      <td>Cute interior and owner (?) gave us tour of up...</td>\n      <td>cute interior and owner (?) gave us tour of up...</td>\n      <td>4.0</td>\n      <td>32</td>\n      <td>534</td>\n      <td>4</td>\n      <td>positive</td>\n      <td>Melt</td>\n      <td>False</td>\n      <td>Sandwiches, Beer, Wine &amp; Spirits, Bars, Food, ...</td>\n      <td>New Orleans</td>\n      <td>LA</td>\n      <td>United States</td>\n    </tr>\n    <tr>\n      <th>2</th>\n      <td>lUUhg8ltDsUZ9h0xnwY4Dg</td>\n      <td>I was really between 3 and 4 stars for this on...</td>\n      <td>i was really between and stars for this one. i...</td>\n      <td>3.5</td>\n      <td>33</td>\n      <td>1555</td>\n      <td>4</td>\n      <td>positive</td>\n      <td>Naked Tchopstix Express</td>\n      <td>False</td>\n      <td>Restaurants, Food, Poke, Hawaiian, Sushi Bars</td>\n      <td>Indianapolis</td>\n      <td>IN</td>\n      <td>United States</td>\n    </tr>\n    <tr>\n      <th>3</th>\n      <td>-P5E9BYUaK7s3PwBF5oAyg</td>\n      <td>First time there and it was excellent!!! It fe...</td>\n      <td>first time there and it was excellent!!! it fe...</td>\n      <td>4.0</td>\n      <td>137</td>\n      <td>222</td>\n      <td>5</td>\n      <td>positive</td>\n      <td>Portobello Cafe</td>\n      <td>True</td>\n      <td>Restaurants, Seafood, Cafes, Italian</td>\n      <td>Eddystone</td>\n      <td>PA</td>\n      <td>United States</td>\n    </tr>\n    <tr>\n      <th>4</th>\n      <td>YbMyvlDA2W3Py5lTz8VK-A</td>\n      <td>Great burgers,fries and salad!  Burgers have a...</td>\n      <td>great burgers,fries and salad! burgers have a ...</td>\n      <td>4.0</td>\n      <td>329</td>\n      <td>209</td>\n      <td>5</td>\n      <td>positive</td>\n      <td>The Original Habit Burger Grill</td>\n      <td>True</td>\n      <td>Fast Food, Burgers, Restaurants</td>\n      <td>Goleta</td>\n      <td>CA</td>\n      <td>United States</td>\n    </tr>\n  </tbody>\n</table>\n</div>"
     },
     "execution_count": 2,
     "metadata": {},
     "output_type": "execute_result"
    }
   ],
   "source": [
    "# Load Yelp Reviews\n",
    "print(\"Loading Yelp Reviews...\")\n",
    "df_clean_yelp_review_and_business = pd.read_json(\n",
    "    'clean_dataset/02_features_yelp_review_and_business_metadata.json',\n",
    "    lines=True  # Using \"lines\" because each line in the file is a separate JSON object\n",
    ")\n",
    "\n",
    "# Preview Data\n",
    "print(f'Initial data loaded for df_clean_yelp_review_and_business: {df_clean_yelp_review_and_business.shape}')\n",
    "df_clean_yelp_review_and_business.head()"
   ]
  },
  {
   "cell_type": "markdown",
   "source": [
    "### Filter for Restaurants in California"
   ],
   "metadata": {
    "collapsed": false
   },
   "id": "a06d12c5685de440"
  },
  {
   "cell_type": "code",
   "execution_count": 3,
   "outputs": [
    {
     "name": "stdout",
     "output_type": "stream",
     "text": [
      "Filtering for restaurant businesses located in California...\n",
      "Filtered data: (103965, 14)\n"
     ]
    }
   ],
   "source": [
    "# Filter for restaurant businesses\n",
    "print(\"Filtering for restaurant businesses located in California...\")\n",
    "is_business_restaurant = df_clean_yelp_review_and_business['business_categories'].str.contains(\n",
    "    'restaurants',  # word to search\n",
    "    case=False,  # case=False to make search non-case sensitive\n",
    "    na=False  # handle NaN values as False (ie. not containing word \"restaurants\")\n",
    ")\n",
    "is_business_in_california = df_clean_yelp_review_and_business['business_state'] == 'CA'\n",
    "df_clean_yelp_review_and_business = df_clean_yelp_review_and_business[is_business_restaurant & is_business_in_california]\n",
    "print(f\"Filtered data: {df_clean_yelp_review_and_business.shape}\")\n"
   ],
   "metadata": {
    "collapsed": false,
    "ExecuteTime": {
     "end_time": "2024-05-30T02:20:57.982176Z",
     "start_time": "2024-05-30T02:20:56.023989Z"
    }
   },
   "id": "c93140104653c942"
  },
  {
   "cell_type": "code",
   "execution_count": 22,
   "outputs": [
    {
     "data": {
      "text/plain": "business_categories\nRestaurants                103965\nFood                        35907\nNightlife                   34327\nBars                        32632\nAmerican (New)              27022\n                            ...  \nBartenders                      3\nWholesalers                     1\nBoating                         1\nReligious Organizations         1\nChurches                        1\nName: count, Length: 239, dtype: int64"
     },
     "execution_count": 22,
     "metadata": {},
     "output_type": "execute_result"
    }
   ],
   "source": [
    "df_clean_yelp_review_and_business['business_categories'].str.split(', ').explode().value_counts()"
   ],
   "metadata": {
    "collapsed": false,
    "ExecuteTime": {
     "end_time": "2024-05-30T05:05:42.427871Z",
     "start_time": "2024-05-30T05:05:42.289259Z"
    }
   },
   "id": "b12d641c9a6db937"
  },
  {
   "cell_type": "markdown",
   "id": "bede8ff0463f15e4",
   "metadata": {
    "collapsed": false
   },
   "source": [
    "## 2. Create Sentence-Level Embeddings on Yelp Reviews\n",
    "\n",
    "Using `all-MiniLM-L6-v2` SentenceTransformers to capture the semantic content of the reviews and create the embeddings.\n"
   ]
  },
  {
   "cell_type": "code",
   "execution_count": 117,
   "id": "8d54bc99ead4ef64",
   "metadata": {
    "collapsed": false,
    "ExecuteTime": {
     "end_time": "2024-05-28T02:46:36.744543Z",
     "start_time": "2024-05-28T02:43:39.143660Z"
    }
   },
   "outputs": [
    {
     "name": "stdout",
     "output_type": "stream",
     "text": [
      "Converting review text to lowercase for consistency...\n",
      "Creating embeddings with SentenceTransformer 'all-MiniLM-L6-v2'...\n"
     ]
    },
    {
     "data": {
      "text/plain": "Batches:   0%|          | 0/813 [00:00<?, ?it/s]",
      "application/vnd.jupyter.widget-view+json": {
       "version_major": 2,
       "version_minor": 0,
       "model_id": "f2ee90996e1145469eefcacde934cad7"
      }
     },
     "metadata": {},
     "output_type": "display_data"
    },
    {
     "name": "stdout",
     "output_type": "stream",
     "text": [
      "Saving the embeddings result...\n",
      "Embeddings saved. Process completed. Total time taken: 177.60 seconds\n",
      "Embeddings shape: (103965, 384)\n",
      "[[ 0.00310427 -0.00871006  0.05627474 ...  0.03302469 -0.08433873\n",
      "   0.07478962]\n",
      " [-0.07137635  0.01459838  0.05616115 ...  0.01244401  0.01309771\n",
      "  -0.03240254]\n",
      " [-0.07648057 -0.051689    0.03715101 ... -0.02480879 -0.0016976\n",
      "   0.01311367]\n",
      " [-0.08753921  0.08483326 -0.00827177 ...  0.06044303 -0.06865957\n",
      "   0.013284  ]\n",
      " [-0.01195816 -0.08051581  0.0200472  ... -0.00040389 -0.06875212\n",
      "  -0.00902688]]\n"
     ]
    }
   ],
   "source": [
    "# Start timing\n",
    "start_time = time.time()\n",
    "\n",
    "# Configuration\n",
    "sentence_transformer_model_name = 'all-MiniLM-L6-v2'\n",
    "np_review_text_embeddings_file_name = 'np_review_text_embeddings.npy'\n",
    "save_directory = 'clean_dataset/dependencies'\n",
    "sentence_transformer_batch_size = 128  # To prevent memory overload\n",
    "\n",
    "\n",
    "# Create a new directory if it doesn't exist yet\n",
    "os.makedirs(save_directory, exist_ok=True)\n",
    "\n",
    "\n",
    "# Convert review text to lowercase for consistency\n",
    "print(\"Converting review text to lowercase for consistency...\")\n",
    "review_text_list = df_clean_yelp_review_and_business['cleaned_review_text'].str.lower().tolist()\n",
    "\n",
    "# Create embeddings with SentenceTransformer\n",
    "print(f\"Creating embeddings with SentenceTransformer '{sentence_transformer_model_name}'...\")\n",
    "sentence_transformer = SentenceTransformer(sentence_transformer_model_name)\n",
    "np_review_text_embeddings = sentence_transformer.encode(\n",
    "    review_text_list,\n",
    "    batch_size=sentence_transformer_batch_size,\n",
    "    show_progress_bar=True\n",
    ")\n",
    "\n",
    "# Save the embeddings to a file, so we don't have to repeat when there's downstream error\n",
    "print(\"Saving the embeddings result...\")\n",
    "np.save(\n",
    "    os.path.join(save_directory, np_review_text_embeddings_file_name),\n",
    "    np_review_text_embeddings\n",
    ")\n",
    "\n",
    "# Show time elapsed\n",
    "end_time = time.time()\n",
    "print(f\"Embeddings saved. Process completed. Total time taken: {end_time - start_time:.2f} seconds\")\n",
    "\n",
    "# Preview Results\n",
    "print(f\"Embeddings shape: {np_review_text_embeddings.shape}\")\n",
    "print(np_review_text_embeddings[:5])"
   ]
  },
  {
   "cell_type": "markdown",
   "source": [
    "## 3. UMAP Parameter Tuning\n",
    "\n",
    "Below are the examples of different UMAP parameter configurations in 2D space. **Optimal parameters: `n_neighbors=20` and `min_dist=0.1` (bottom-right)** seems to have good balance between capturing local structures and maintaining compact clusters.\n",
    "\n",
    "**Note**: The optimal parameters for UMAP will be used in conjunction with HDBSCAN for clustering the embeddings. Higher dimensions (e.g., n_components=50) will be used for HDBSCAN to capture more complex structures in the data.\n",
    "\n",
    "&nbsp;\n",
    "<table>\n",
    "  <tr>\n",
    "    <td><img src=\"images/umap_tuning/option7_UMAP_n_neighbors=2_n_components=2_min_dist=0.1.png\" style=\"width: 50%;\"></td>\n",
    "    <td><img src=\"images/umap_tuning/option8_UMAP_n_neighbors=3_n_components=2_min_dist=0.png\" style=\"width: 50%;\"></td>\n",
    "  </tr>\n",
    "  <tr>\n",
    "    <td><img src=\"images/umap_tuning/option1_UMAP_n_neighbors=5_n_components=2_min_dist=0.1.png\" style=\"width: 50%;\"></td>\n",
    "    <td><img src=\"images/umap_tuning/option6_UMAP_n_neighbors=20_n_components=2_min_dist=0.1.png\" style=\"width: 50%;\"></td>\n",
    "  </tr>\n",
    "</table>\n"
   ],
   "metadata": {
    "collapsed": false
   },
   "id": "ef2de9168f0330e4"
  },
  {
   "cell_type": "code",
   "execution_count": 30,
   "outputs": [
    {
     "name": "stdout",
     "output_type": "stream",
     "text": [
      "Running UMAP with n_neighbors=3, n_components=2, min_dist=0\n",
      "UMAP completed in 18.81 seconds\n",
      "Running UMAP with n_neighbors=3, n_components=2, min_dist=0.1\n",
      "UMAP completed in 17.70 seconds\n",
      "Running UMAP with n_neighbors=4, n_components=2, min_dist=0\n",
      "UMAP completed in 12.17 seconds\n",
      "Running UMAP with n_neighbors=4, n_components=2, min_dist=0.1\n",
      "UMAP completed in 15.80 seconds\n"
     ]
    }
   ],
   "source": [
    "# Ensure directory exists\n",
    "output_dir = \"images/umap_tuning\"\n",
    "os.makedirs(output_dir, exist_ok=True)\n",
    "\n",
    "# UMAP parameter grid\n",
    "n_neighbors_options = [5, 20, 30]\n",
    "min_dist_options = [0, 0.1, 0.2]\n",
    "n_components_chosen = 2\n",
    "\n",
    "# Function to plot UMAP\n",
    "def plot_umap(embedding, title):\n",
    "    plt.figure(figsize=(10, 8))\n",
    "    plt.scatter(embedding[:, 0], embedding[:, 1], s=1)\n",
    "    plt.title(title)\n",
    "    plt.xlabel('UMAP Dimension 1')\n",
    "    plt.ylabel('UMAP Dimension 2')\n",
    "    plt.grid(True)\n",
    "    plt.savefig(f\"{output_dir}/{title}.png\")\n",
    "    plt.close()\n",
    "\n",
    "# Loop through the parameter grid\n",
    "for n_neighbors in n_neighbors_options:\n",
    "        for min_dist in min_dist_options:\n",
    "            print(f\"Running UMAP with n_neighbors={n_neighbors}, n_components={n_components_chosen}, min_dist={min_dist}\")\n",
    "            umap_model = UMAP(\n",
    "                n_neighbors=n_neighbors,\n",
    "                n_components=n_components_chosen,\n",
    "                min_dist=min_dist,\n",
    "                metric='cosine', # Suitable for sparse text clustering\n",
    "                n_jobs=11, # Use 11 CPU cores\n",
    "                random_state=42 # For reproducibility\n",
    "            )\n",
    "            start_time = time.time()\n",
    "            umap_embedding = umap_model.fit_transform(np_review_text_embeddings)\n",
    "            end_time = time.time()\n",
    "            print(f\"UMAP completed in {end_time - start_time:.2f} seconds\")\n",
    "            plot_title = f\"UMAP_n_neighbors={n_neighbors}_n_components={n_components_chosen}_min_dist={min_dist}\"\n",
    "            plot_umap(umap_embedding, plot_title)\n"
   ],
   "metadata": {
    "collapsed": false,
    "ExecuteTime": {
     "end_time": "2024-05-27T00:06:40.459211Z",
     "start_time": "2024-05-27T00:05:35.152954Z"
    }
   },
   "id": "84a7fd87382f8720"
  },
  {
   "cell_type": "markdown",
   "source": [
    "## 4. HDBSCAN Parameter Tuning\n",
    "\n",
    "<table>\n",
    "    <tr>\n",
    "        <td><img src=\"images/hdbscan_tuning/iter1_HDBSCAN_visualization_umap_n_components=2_min_cluster_size=208.png\" style=\"height:200px;\"></td>\n",
    "        <td><img src=\"images/hdbscan_tuning/iter2_HDBSCAN_visualization_umap_n_components=2_min_cluster_size=312.png\" style=\"height:200px;\"></td>\n",
    "    </tr>\n",
    "    <tr>\n",
    "        <td><img src=\"images/hdbscan_tuning/iter3_HDBSCAN_visualization_umap_n_components=2_min_cluster_size=300.png\" style=\"height:200px;\"></td>\n",
    "    </tr>\n",
    "    \n",
    "</table>\n",
    "\n",
    "![HDBSCAN Tuning Overview](images/hdbscan_tuning/hdbscan_tuning.png)"
   ],
   "metadata": {
    "collapsed": false
   },
   "id": "d5be736210f192a"
  },
  {
   "cell_type": "code",
   "execution_count": 7,
   "outputs": [],
   "source": [
    "# Optimal UMAP parameters obtained from initial tuning\n",
    "optimal_n_neighbors = 20\n",
    "optimal_min_dist = 0.1"
   ],
   "metadata": {
    "collapsed": false,
    "ExecuteTime": {
     "end_time": "2024-05-27T02:15:02.568817Z",
     "start_time": "2024-05-27T02:15:02.562104Z"
    }
   },
   "id": "6a4a6b7794ed6711"
  },
  {
   "cell_type": "code",
   "execution_count": 37,
   "outputs": [
    {
     "name": "stdout",
     "output_type": "stream",
     "text": [
      "Initializing UMAP with n_components=50, n_neighbors=20, min_dist=0.1...\n",
      "UMAP transformation complete. Shape of UMAP embedding: (103965, 50)\n",
      "Running HDBSCAN with min_cluster_size=250...\n",
      "Clustering complete. Number of clusters found: 38\n",
      "Outlier Proportion: 0.4170730534314433\n",
      "Silhouette Score: 0.14272354543209076\n",
      "Davies-Bouldin Score: 0.8844499958672517\n",
      "Calinski-Harabasz Score: 6787.781830741457\n",
      "HDBSCAN run with n_components=50, min_cluster_size=250 completed.\n",
      "----------------------------------------------------------------------------------------\n",
      "Running HDBSCAN with min_cluster_size=350...\n",
      "Clustering complete. Number of clusters found: 2\n",
      "Outlier Proportion: 0.006127061992016544\n",
      "Silhouette Score: 0.3711826801300049\n",
      "Davies-Bouldin Score: 1.992668725157575\n",
      "Calinski-Harabasz Score: 1228.4118584360492\n",
      "HDBSCAN run with n_components=50, min_cluster_size=350 completed.\n",
      "----------------------------------------------------------------------------------------\n",
      "All UMAP and HDBSCAN parameter combinations have been processed.\n",
      "HDBSCAN metrics have been saved to hdbscan_tuning.csv.\n"
     ]
    },
    {
     "data": {
      "text/plain": "    UMAP_n_components  HDBSCAN_min_cluster_size  UMAP_n_neighbors  \\\n0                50.0                     100.0              20.0   \n1                50.0                     200.0              20.0   \n2                50.0                     300.0              20.0   \n3               100.0                     100.0              20.0   \n4                 5.0                      50.0              20.0   \n5                 5.0                     150.0              20.0   \n6                 5.0                     250.0              20.0   \n7                10.0                      50.0              20.0   \n8                10.0                     150.0              20.0   \n9                10.0                     250.0              20.0   \n10               20.0                      50.0              20.0   \n11               20.0                     150.0              20.0   \n12               20.0                     250.0              20.0   \n13               50.0                     300.0              20.0   \n14               50.0                     400.0              20.0   \n15               50.0                     500.0              20.0   \n16               60.0                     300.0              20.0   \n17               60.0                     400.0              20.0   \n18               60.0                     500.0              20.0   \n19               50.0                     250.0              20.0   \n20               50.0                     350.0              20.0   \n\n    UMAP_min_dist  Num_Clusters  Silhouette_Score  Davies_Bouldin_Score  \\\n0             0.1          65.0          0.110000              0.900000   \n1             0.1          45.0          0.120000              0.920000   \n2             0.1          34.0          0.150000              0.870000   \n3             0.1          65.0          0.080000              0.900000   \n4             0.1         135.0         -0.063279              0.947693   \n5             0.1          53.0          0.111418              0.943953   \n6             0.1          38.0          0.149044              0.980809   \n7             0.1         144.0         -0.092178              0.932060   \n8             0.1          57.0          0.108450              0.887338   \n9             0.1          38.0          0.152401              0.889673   \n10            0.1         135.0         -0.058791              0.919450   \n11            0.1          54.0          0.101704              0.873300   \n12            0.1          38.0          0.134926              0.877187   \n13            0.1          31.0          0.172211              0.886141   \n14            0.1          24.0          0.160334              0.980568   \n15            0.1          18.0          0.166027              1.089445   \n16            0.1          33.0          0.149338              0.858211   \n17            0.1          23.0          0.161671              0.987290   \n18            0.1          18.0          0.170907              1.101603   \n19            0.1          38.0          0.142724              0.884450   \n20            0.1           2.0          0.371183              1.992669   \n\n   Calinski_Harabasz_Score  Outlier_Proportion  \n0                    5,334            0.380000  \n1                    5,997            0.410000  \n2                    7,489            0.420000  \n3                    4,941            0.420000  \n4              1546.363139            0.475949  \n5              6194.797213            0.368307  \n6              7838.109976            0.364709  \n7              1325.103155            0.504122  \n8              5597.544505            0.406425  \n9              6938.917154            0.402308  \n10             1601.352757            0.478555  \n11             5659.484405            0.410311  \n12             6758.232156            0.426980  \n13             8453.576205            0.393786  \n14             9024.140344            0.404819  \n15             9902.603325            0.411138  \n16             7610.876766            0.422998  \n17             9305.515256            0.408359  \n18             9978.871756            0.405213  \n19             6787.781831            0.417073  \n20             1228.411858            0.006127  ",
      "text/html": "<div>\n<style scoped>\n    .dataframe tbody tr th:only-of-type {\n        vertical-align: middle;\n    }\n\n    .dataframe tbody tr th {\n        vertical-align: top;\n    }\n\n    .dataframe thead th {\n        text-align: right;\n    }\n</style>\n<table border=\"1\" class=\"dataframe\">\n  <thead>\n    <tr style=\"text-align: right;\">\n      <th></th>\n      <th>UMAP_n_components</th>\n      <th>HDBSCAN_min_cluster_size</th>\n      <th>UMAP_n_neighbors</th>\n      <th>UMAP_min_dist</th>\n      <th>Num_Clusters</th>\n      <th>Silhouette_Score</th>\n      <th>Davies_Bouldin_Score</th>\n      <th>Calinski_Harabasz_Score</th>\n      <th>Outlier_Proportion</th>\n    </tr>\n  </thead>\n  <tbody>\n    <tr>\n      <th>0</th>\n      <td>50.0</td>\n      <td>100.0</td>\n      <td>20.0</td>\n      <td>0.1</td>\n      <td>65.0</td>\n      <td>0.110000</td>\n      <td>0.900000</td>\n      <td>5,334</td>\n      <td>0.380000</td>\n    </tr>\n    <tr>\n      <th>1</th>\n      <td>50.0</td>\n      <td>200.0</td>\n      <td>20.0</td>\n      <td>0.1</td>\n      <td>45.0</td>\n      <td>0.120000</td>\n      <td>0.920000</td>\n      <td>5,997</td>\n      <td>0.410000</td>\n    </tr>\n    <tr>\n      <th>2</th>\n      <td>50.0</td>\n      <td>300.0</td>\n      <td>20.0</td>\n      <td>0.1</td>\n      <td>34.0</td>\n      <td>0.150000</td>\n      <td>0.870000</td>\n      <td>7,489</td>\n      <td>0.420000</td>\n    </tr>\n    <tr>\n      <th>3</th>\n      <td>100.0</td>\n      <td>100.0</td>\n      <td>20.0</td>\n      <td>0.1</td>\n      <td>65.0</td>\n      <td>0.080000</td>\n      <td>0.900000</td>\n      <td>4,941</td>\n      <td>0.420000</td>\n    </tr>\n    <tr>\n      <th>4</th>\n      <td>5.0</td>\n      <td>50.0</td>\n      <td>20.0</td>\n      <td>0.1</td>\n      <td>135.0</td>\n      <td>-0.063279</td>\n      <td>0.947693</td>\n      <td>1546.363139</td>\n      <td>0.475949</td>\n    </tr>\n    <tr>\n      <th>5</th>\n      <td>5.0</td>\n      <td>150.0</td>\n      <td>20.0</td>\n      <td>0.1</td>\n      <td>53.0</td>\n      <td>0.111418</td>\n      <td>0.943953</td>\n      <td>6194.797213</td>\n      <td>0.368307</td>\n    </tr>\n    <tr>\n      <th>6</th>\n      <td>5.0</td>\n      <td>250.0</td>\n      <td>20.0</td>\n      <td>0.1</td>\n      <td>38.0</td>\n      <td>0.149044</td>\n      <td>0.980809</td>\n      <td>7838.109976</td>\n      <td>0.364709</td>\n    </tr>\n    <tr>\n      <th>7</th>\n      <td>10.0</td>\n      <td>50.0</td>\n      <td>20.0</td>\n      <td>0.1</td>\n      <td>144.0</td>\n      <td>-0.092178</td>\n      <td>0.932060</td>\n      <td>1325.103155</td>\n      <td>0.504122</td>\n    </tr>\n    <tr>\n      <th>8</th>\n      <td>10.0</td>\n      <td>150.0</td>\n      <td>20.0</td>\n      <td>0.1</td>\n      <td>57.0</td>\n      <td>0.108450</td>\n      <td>0.887338</td>\n      <td>5597.544505</td>\n      <td>0.406425</td>\n    </tr>\n    <tr>\n      <th>9</th>\n      <td>10.0</td>\n      <td>250.0</td>\n      <td>20.0</td>\n      <td>0.1</td>\n      <td>38.0</td>\n      <td>0.152401</td>\n      <td>0.889673</td>\n      <td>6938.917154</td>\n      <td>0.402308</td>\n    </tr>\n    <tr>\n      <th>10</th>\n      <td>20.0</td>\n      <td>50.0</td>\n      <td>20.0</td>\n      <td>0.1</td>\n      <td>135.0</td>\n      <td>-0.058791</td>\n      <td>0.919450</td>\n      <td>1601.352757</td>\n      <td>0.478555</td>\n    </tr>\n    <tr>\n      <th>11</th>\n      <td>20.0</td>\n      <td>150.0</td>\n      <td>20.0</td>\n      <td>0.1</td>\n      <td>54.0</td>\n      <td>0.101704</td>\n      <td>0.873300</td>\n      <td>5659.484405</td>\n      <td>0.410311</td>\n    </tr>\n    <tr>\n      <th>12</th>\n      <td>20.0</td>\n      <td>250.0</td>\n      <td>20.0</td>\n      <td>0.1</td>\n      <td>38.0</td>\n      <td>0.134926</td>\n      <td>0.877187</td>\n      <td>6758.232156</td>\n      <td>0.426980</td>\n    </tr>\n    <tr>\n      <th>13</th>\n      <td>50.0</td>\n      <td>300.0</td>\n      <td>20.0</td>\n      <td>0.1</td>\n      <td>31.0</td>\n      <td>0.172211</td>\n      <td>0.886141</td>\n      <td>8453.576205</td>\n      <td>0.393786</td>\n    </tr>\n    <tr>\n      <th>14</th>\n      <td>50.0</td>\n      <td>400.0</td>\n      <td>20.0</td>\n      <td>0.1</td>\n      <td>24.0</td>\n      <td>0.160334</td>\n      <td>0.980568</td>\n      <td>9024.140344</td>\n      <td>0.404819</td>\n    </tr>\n    <tr>\n      <th>15</th>\n      <td>50.0</td>\n      <td>500.0</td>\n      <td>20.0</td>\n      <td>0.1</td>\n      <td>18.0</td>\n      <td>0.166027</td>\n      <td>1.089445</td>\n      <td>9902.603325</td>\n      <td>0.411138</td>\n    </tr>\n    <tr>\n      <th>16</th>\n      <td>60.0</td>\n      <td>300.0</td>\n      <td>20.0</td>\n      <td>0.1</td>\n      <td>33.0</td>\n      <td>0.149338</td>\n      <td>0.858211</td>\n      <td>7610.876766</td>\n      <td>0.422998</td>\n    </tr>\n    <tr>\n      <th>17</th>\n      <td>60.0</td>\n      <td>400.0</td>\n      <td>20.0</td>\n      <td>0.1</td>\n      <td>23.0</td>\n      <td>0.161671</td>\n      <td>0.987290</td>\n      <td>9305.515256</td>\n      <td>0.408359</td>\n    </tr>\n    <tr>\n      <th>18</th>\n      <td>60.0</td>\n      <td>500.0</td>\n      <td>20.0</td>\n      <td>0.1</td>\n      <td>18.0</td>\n      <td>0.170907</td>\n      <td>1.101603</td>\n      <td>9978.871756</td>\n      <td>0.405213</td>\n    </tr>\n    <tr>\n      <th>19</th>\n      <td>50.0</td>\n      <td>250.0</td>\n      <td>20.0</td>\n      <td>0.1</td>\n      <td>38.0</td>\n      <td>0.142724</td>\n      <td>0.884450</td>\n      <td>6787.781831</td>\n      <td>0.417073</td>\n    </tr>\n    <tr>\n      <th>20</th>\n      <td>50.0</td>\n      <td>350.0</td>\n      <td>20.0</td>\n      <td>0.1</td>\n      <td>2.0</td>\n      <td>0.371183</td>\n      <td>1.992669</td>\n      <td>1228.411858</td>\n      <td>0.006127</td>\n    </tr>\n  </tbody>\n</table>\n</div>"
     },
     "execution_count": 37,
     "metadata": {},
     "output_type": "execute_result"
    }
   ],
   "source": [
    "# Directory to save the plot and CSV results\n",
    "output_dir = 'images/hdbscan_tuning'\n",
    "os.makedirs(output_dir, exist_ok=True)  # Creates the directory only if missing\n",
    "\n",
    "# PARAMETER GRID\n",
    "\n",
    "# UMAP\n",
    "umap_n_components_options = [50] # Generally recommended for sparse text analysis\n",
    "\n",
    "# HDBSCAN\n",
    "data_length = len(df_clean_yelp_review_and_business)\n",
    "min_cluster_size_options = [250, 350]\n",
    "\n",
    "# Set environment variable for parallelism\n",
    "os.environ[\"TOKENIZERS_PARALLELISM\"] = \"false\"\n",
    "\n",
    "# Load existing metrics DataFrame if it exists (so we can keep adding the results as we do more experiments)\n",
    "csv_path = f\"{output_dir}/hdbscan_tuning.csv\"\n",
    "if os.path.exists(csv_path):\n",
    "    hdbscan_metrics_df = pd.read_csv(csv_path)\n",
    "else:\n",
    "    hdbscan_metrics_df = pd.DataFrame(columns=[\n",
    "        'UMAP_n_components', 'HDBSCAN_min_cluster_size', 'UMAP_n_neighbors', 'UMAP_min_dist',\n",
    "        'Num_Clusters', 'Silhouette_Score', 'Davies_Bouldin_Score', 'Calinski_Harabasz_Score', \n",
    "        'Outlier_Proportion'\n",
    "    ])\n",
    "\n",
    "# Function to run HDBSCAN and store results\n",
    "def run_hdbscan(embedding, hdbscan_min_cluster_size, umap_n_components):\n",
    "    \"\"\"\n",
    "    Runs HDBSCAN on the given embedding and plots the results.\n",
    "\n",
    "    Parameters:\n",
    "    - embedding: np.array, the UMAP reduced embedding.\n",
    "    - hdbscan_min_cluster_size: int, the minimum cluster size for HDBSCAN.\n",
    "    - umap_n_components: int, the number of UMAP components.\n",
    "    \"\"\"\n",
    "    # Initialize HDBSCAN\n",
    "    print(f\"Running HDBSCAN with min_cluster_size={hdbscan_min_cluster_size}...\")\n",
    "    hdbscan_model = hdbscan.HDBSCAN(\n",
    "        min_cluster_size=hdbscan_min_cluster_size,\n",
    "        metric='euclidean',  # Trying with default euclidean as faster to compute, will try \"cosine\" later if needed\n",
    "        core_dist_n_jobs=11  # Use 11 CPU cores\n",
    "    )\n",
    "\n",
    "    # Fit HDBSCAN model and count clusters\n",
    "    clusters = hdbscan_model.fit_predict(embedding)\n",
    "    num_clusters = len(set(clusters)) - (1 if -1 in clusters else 0)\n",
    "    num_outliers = list(clusters).count(-1)\n",
    "    outlier_proportion = num_outliers / len(clusters)\n",
    "    print(f\"Clustering complete. Number of clusters found: {num_clusters}\")\n",
    "    print(f\"Outlier Proportion: {outlier_proportion}\")\n",
    "\n",
    "    # Calculate silhouette score if there are more than one clusters\n",
    "    if num_clusters > 1:\n",
    "        silhouette_avg = silhouette_score(embedding, clusters)\n",
    "        davies_bouldin_avg = davies_bouldin_score(embedding, clusters)\n",
    "        calinski_harabasz_avg = calinski_harabasz_score(embedding, clusters)\n",
    "        print(f\"Silhouette Score: {silhouette_avg}\")\n",
    "        print(f\"Davies-Bouldin Score: {davies_bouldin_avg}\")\n",
    "        print(f\"Calinski-Harabasz Score: {calinski_harabasz_avg}\")\n",
    "    else:\n",
    "        silhouette_avg = None\n",
    "        davies_bouldin_avg = None\n",
    "        calinski_harabasz_avg = None\n",
    "        print(\"Silhouette Score: Not applicable (only one cluster or noise).\")\n",
    "        print(\"Davies-Bouldin Score: Not applicable (only one cluster or noise).\")\n",
    "        print(\"Calinski-Harabasz Score: Not applicable (only one cluster or noise).\")\n",
    "\n",
    "    # Store metrics in the DataFrame\n",
    "    hdbscan_metrics_df.loc[len(hdbscan_metrics_df)] = [\n",
    "        umap_n_components, hdbscan_min_cluster_size, optimal_n_neighbors, optimal_min_dist, \n",
    "        num_clusters, silhouette_avg, davies_bouldin_avg, calinski_harabasz_avg,\n",
    "        outlier_proportion\n",
    "    ]\n",
    "\n",
    "# Loop through each UMAP \"n_components\"\n",
    "for n_components in umap_n_components_options:\n",
    "    \n",
    "    # Dimensional reduction with UMAP\n",
    "    print(f\"Initializing UMAP with n_components={n_components}, n_neighbors={optimal_n_neighbors}, min_dist={optimal_min_dist}...\")\n",
    "    umap_model = UMAP(\n",
    "        n_neighbors=optimal_n_neighbors,\n",
    "        min_dist=optimal_min_dist,\n",
    "        n_components=n_components,\n",
    "        metric='cosine',  # Optimal for sparse text clustering\n",
    "        n_jobs=11,  # Use 11 CPU cores\n",
    "        random_state=42 # For reproducibility\n",
    "    )\n",
    "    umap_result = umap_model.fit_transform(np_review_text_embeddings)\n",
    "    print(f\"UMAP transformation complete. Shape of UMAP embedding: {umap_result.shape}\")\n",
    "\n",
    "    # Loop through each HDBSCAN parameters\n",
    "    for min_cluster_size in min_cluster_size_options:\n",
    "        run_hdbscan(\n",
    "            embedding=umap_result, \n",
    "            hdbscan_min_cluster_size=min_cluster_size, \n",
    "            umap_n_components=n_components\n",
    "        )\n",
    "        print(f\"HDBSCAN run with n_components={n_components}, min_cluster_size={min_cluster_size} completed.\")\n",
    "        print('----------------------------------------------------------------------------------------')\n",
    "\n",
    "print(\"All UMAP and HDBSCAN parameter combinations have been processed.\")\n",
    "\n",
    "# Save the metrics DataFrame to a CSV file\n",
    "hdbscan_metrics_df.to_csv(csv_path, index=False)\n",
    "print(\"HDBSCAN metrics have been saved to hdbscan_tuning.csv.\")\n",
    "\n",
    "# Show metric results\n",
    "hdbscan_metrics_df\n"
   ],
   "metadata": {
    "collapsed": false,
    "ExecuteTime": {
     "end_time": "2024-05-27T01:50:59.104691Z",
     "start_time": "2024-05-27T01:46:14.920259Z"
    }
   },
   "id": "54cd83603bfda1ba"
  },
  {
   "cell_type": "markdown",
   "source": [
    "### HDBSCAN Cluster Visualization\n",
    "\n",
    "From the optimal UMAP & HDBSCAN parameters. Data is converted into UMAP 2-D for visualization purpose.\n",
    "\n",
    "<img src=\"images/hdbscan_tuning/iter3_HDBSCAN_visualization_umap_n_components=2_min_cluster_size=300.png\" style=\"height:200px;\">"
   ],
   "metadata": {
    "collapsed": false
   },
   "id": "ab573832810f9b7f"
  },
  {
   "cell_type": "code",
   "execution_count": null,
   "outputs": [],
   "source": [
    "# Visualize using a specific UMAP \"n_components=2\". More representative than using the above \"n_components=50\" and takes only the first two dimensions.\n",
    "\n",
    "best_min_cluster_size = 300 # Optimal from above parameter tuning (about 0.3% of the dataset length)\n",
    "\n",
    "# Recompute UMAP with n_components=2 for visualization\n",
    "print(f\"Recomputing UMAP with n_components=2 for visualization...\")\n",
    "umap_model_2d = UMAP(\n",
    "    n_neighbors=optimal_n_neighbors,\n",
    "    min_dist=optimal_min_dist,\n",
    "    n_components=2,\n",
    "    metric='cosine',  # Optimal for sparse text clustering\n",
    "    n_jobs=11,  # Use 11 CPU cores\n",
    "    random_state=42 # For reproducibility\n",
    ")\n",
    "umap_result_2d = umap_model_2d.fit_transform(np_review_text_embeddings)\n",
    "print(f\"UMAP (2D) transformation complete. Shape of UMAP embedding: {umap_result_2d.shape}\")\n",
    "\n",
    "# Run HDBSCAN with the best parameters\n",
    "print(f\"Running HDBSCAN with the best min_cluster_size={best_min_cluster_size} for visualization...\")\n",
    "hdbscan_model_best = hdbscan.HDBSCAN(\n",
    "    min_cluster_size=int(best_min_cluster_size),\n",
    "    metric='euclidean',\n",
    "    core_dist_n_jobs=11 # Use 11 CPU cores\n",
    ")\n",
    "clusters_best = hdbscan_model_best.fit_predict(umap_result_2d)\n",
    "\n",
    "# Plot the DBSCAN clusters\n",
    "plt.figure(figsize=(10, 8))\n",
    "plt.scatter(umap_result_2d[:, 0], umap_result_2d[:, 1], c=clusters_best, cmap='Spectral', s=1)\n",
    "plt.title(f\"HDBSCAN Visualization (UMAP n_components=2, n_neighbors={optimal_n_neighbors}, min_dist={optimal_min_dist}, min_cluster_size={best_min_cluster_size})\")\n",
    "plt.xlabel('UMAP Dimension 1')\n",
    "plt.ylabel('UMAP Dimension 2')\n",
    "plt.grid(True)\n",
    "plt.savefig(f\"{output_dir}/HDBSCAN_visualization_umap_n_components=2_min_cluster_size={best_min_cluster_size}.png\") # Save for later use\n",
    "plt.show()\n"
   ],
   "metadata": {
    "collapsed": false
   },
   "id": "c3aebed0696290d8"
  },
  {
   "cell_type": "markdown",
   "source": [
    "## 5. Guided Topic Modeling with BERTopic\n"
   ],
   "metadata": {
    "collapsed": false
   },
   "id": "d9335d2642777d54"
  },
  {
   "cell_type": "code",
   "execution_count": 123,
   "id": "277e1f2d5bbb566d",
   "metadata": {
    "collapsed": false,
    "ExecuteTime": {
     "end_time": "2024-05-28T03:06:56.228982Z",
     "start_time": "2024-05-28T03:02:18.700216Z"
    }
   },
   "outputs": [
    {
     "name": "stdout",
     "output_type": "stream",
     "text": [
      "Defining seed topics...\n",
      "np_review_text_embeddings shape: (103965, 384)\n",
      "Initializing UMAP...\n",
      "Initializing HDBSCAN...\n",
      "Initializing CountVectorizer...\n",
      "Initializing BERTopic modeling...\n",
      "Fitting BERTopic model...\n"
     ]
    },
    {
     "name": "stderr",
     "output_type": "stream",
     "text": [
      "2024-05-27 20:02:18,973 - BERTopic - Dimensionality - Fitting the dimensionality reduction algorithm\n"
     ]
    },
    {
     "name": "stdout",
     "output_type": "stream",
     "text": [
      "UMAP(angular_rp_forest=True, metric='cosine', n_components=50, n_jobs=1, n_neighbors=20, random_state=42, verbose=True)\n",
      "Mon May 27 20:02:19 2024 Construct fuzzy simplicial set\n",
      "Mon May 27 20:02:19 2024 Finding Nearest Neighbors\n",
      "Mon May 27 20:02:19 2024 Building RP forest with 21 trees\n",
      "Mon May 27 20:02:22 2024 NN descent for 17 iterations\n",
      "\t 1  /  17\n",
      "\t 2  /  17\n",
      "\t 3  /  17\n",
      "\t 4  /  17\n",
      "\t 5  /  17\n",
      "\t 6  /  17\n",
      "\tStopping threshold met -- exiting after 6 iterations\n",
      "Mon May 27 20:02:39 2024 Finished Nearest Neighbor Search\n",
      "Mon May 27 20:02:40 2024 Construct embedding\n"
     ]
    },
    {
     "data": {
      "text/plain": "Epochs completed:   0%|            0/200 [00:00]",
      "application/vnd.jupyter.widget-view+json": {
       "version_major": 2,
       "version_minor": 0,
       "model_id": "98779a10bf244c999cd50c9abd1d0b91"
      }
     },
     "metadata": {},
     "output_type": "display_data"
    },
    {
     "name": "stdout",
     "output_type": "stream",
     "text": [
      "\tcompleted  0  /  200 epochs\n",
      "\tcompleted  20  /  200 epochs\n",
      "\tcompleted  40  /  200 epochs\n",
      "\tcompleted  60  /  200 epochs\n",
      "\tcompleted  80  /  200 epochs\n",
      "\tcompleted  100  /  200 epochs\n",
      "\tcompleted  120  /  200 epochs\n",
      "\tcompleted  140  /  200 epochs\n",
      "\tcompleted  160  /  200 epochs\n",
      "\tcompleted  180  /  200 epochs\n",
      "Mon May 27 20:04:26 2024 Finished embedding\n"
     ]
    },
    {
     "name": "stderr",
     "output_type": "stream",
     "text": [
      "2024-05-27 20:04:27,328 - BERTopic - Dimensionality - Completed ✓\n",
      "2024-05-27 20:04:27,337 - BERTopic - Cluster - Start clustering the reduced embeddings\n",
      "2024-05-27 20:05:52,184 - BERTopic - Cluster - Completed ✓\n",
      "2024-05-27 20:05:52,185 - BERTopic - Representation - Extracting topics from clusters using representation models.\n",
      "2024-05-27 20:06:23,112 - BERTopic - Representation - Completed ✓\n",
      "2024-05-27 20:06:23,150 - BERTopic - Topic reduction - Reducing number of topics\n",
      "2024-05-27 20:06:54,577 - BERTopic - Topic reduction - Reduced number of topics from 34 to 34\n"
     ]
    },
    {
     "data": {
      "text/plain": "                  review_id  \\\n4    YbMyvlDA2W3Py5lTz8VK-A   \n16   5obXxR0b94b5q6j1zYCAzw   \n100  b1GkT5ojVlMCM6jdwPi3wQ   \n108  LFpaQzYkP5Pzm5lEjJpTRw   \n165  raMmqAddReOruHYmUTdT9Q   \n204  A-AIvNIGCwUplBhjd2OMhg   \n207  GSyttRJvd5VqKK6O0WV1Eg   \n228  s_X5uNLjLSgK_itDNFiadg   \n274  Q3fPo_x6xKxafAzy1hFITg   \n275  bc9aVpeB0WyByVVTnmOCWQ   \n\n                                           review_text  \\\n4    Great burgers,fries and salad!  Burgers have a...   \n16   We visited once and were very disappointed in ...   \n100  Best smoothies in the whole world. And fresh b...   \n108  Possibly the best breakfast sandwich EVER.  On...   \n165  I love this place. It's been in La Cumbre Plaz...   \n204  Their sushi is pretty good. Mesa rolls are my ...   \n207  According to my experience, there is just one ...   \n228  I am from Colorado and am visiting Santa Barba...   \n274  Pricey ( a ham and cheese croissant was $5.50)...   \n275  I can say this is the best burger of my life!\\...   \n\n                                   cleaned_review_text  \\\n4    great burgers,fries and salad! burgers have a ...   \n16   we visited once and were very disappointed in ...   \n100  best smoothies in the whole world. and fresh b...   \n108  possibly the best breakfast sandwich ever. on ...   \n165  i love this place. it's been in la cumbre plaz...   \n204  their sushi is pretty good. mesa rolls are my ...   \n207  according to my experience, there is just one ...   \n228  i am from colorado and am visiting santa barba...   \n274  pricey ( a ham and cheese croissant was $ . ) ...   \n275  i can say this is the best burger of my life! ...   \n\n     business_average_review_stars  business_review_count  \\\n4                              4.0                    329   \n16                             4.0                    124   \n100                            4.5                     97   \n108                            4.0                    389   \n165                            4.0                    188   \n204                            3.5                    227   \n207                            4.0                   2404   \n228                            4.0                    807   \n274                            4.0                    389   \n275                            4.0                    329   \n\n     original_review_text_length  review_stars star_based_sentiment_label  \\\n4                            209             5                   positive   \n16                           315             1                   negative   \n100                           88             5                   positive   \n108                           86             5                   positive   \n165                          888             4                   positive   \n204                          200             3                    neutral   \n207                          648             5                   positive   \n228                          338             4                   positive   \n274                          392             4                   positive   \n275                          135             5                   positive   \n\n                       business_name  is_business_open  \\\n4    The Original Habit Burger Grill              True   \n16                    PizzaMan Dan's              True   \n100             Pacific Health Foods              True   \n108             Helena Avenue Bakery              True   \n165                       Plaza Deli              True   \n204                          Ichiban              True   \n207  Santa Barbara Shellfish Company              True   \n228                      Dawn Patrol              True   \n274             Helena Avenue Bakery              True   \n275  The Original Habit Burger Grill              True   \n\n                                   business_categories  business_city  \\\n4                      Fast Food, Burgers, Restaurants         Goleta   \n16   Chicken Wings, Restaurants, Beer, Wine & Spiri...    Carpinteria   \n100  Sandwiches, Specialty Food, Food, Health Marke...    Carpinteria   \n108  Food, Restaurants, Salad, Coffee & Tea, Breakf...  Santa Barbara   \n165    Sandwiches, Restaurants, Salad, Hot Dogs, Delis  Santa Barbara   \n204                  Restaurants, Japanese, Sushi Bars  Santa Barbara   \n207  Live/Raw Food, Restaurants, Seafood, Beer Bar,...  Santa Barbara   \n228  Coffee & Tea, Breakfast & Brunch, Restaurants,...  Santa Barbara   \n274  Food, Restaurants, Salad, Coffee & Tea, Breakf...  Santa Barbara   \n275                    Fast Food, Burgers, Restaurants         Goleta   \n\n    business_state business_country  Topic  topic_probability  \n4               CA    United States      8           1.000000  \n16              CA    United States      4           1.000000  \n100             CA    United States     30           1.000000  \n108             CA    United States     -1           0.000000  \n165             CA    United States      7           0.204797  \n204             CA    United States      9           0.774801  \n207             CA    United States      3           0.152615  \n228             CA    United States      5           0.053964  \n274             CA    United States      5           0.061375  \n275             CA    United States      8           1.000000  ",
      "text/html": "<div>\n<style scoped>\n    .dataframe tbody tr th:only-of-type {\n        vertical-align: middle;\n    }\n\n    .dataframe tbody tr th {\n        vertical-align: top;\n    }\n\n    .dataframe thead th {\n        text-align: right;\n    }\n</style>\n<table border=\"1\" class=\"dataframe\">\n  <thead>\n    <tr style=\"text-align: right;\">\n      <th></th>\n      <th>review_id</th>\n      <th>review_text</th>\n      <th>cleaned_review_text</th>\n      <th>business_average_review_stars</th>\n      <th>business_review_count</th>\n      <th>original_review_text_length</th>\n      <th>review_stars</th>\n      <th>star_based_sentiment_label</th>\n      <th>business_name</th>\n      <th>is_business_open</th>\n      <th>business_categories</th>\n      <th>business_city</th>\n      <th>business_state</th>\n      <th>business_country</th>\n      <th>Topic</th>\n      <th>topic_probability</th>\n    </tr>\n  </thead>\n  <tbody>\n    <tr>\n      <th>4</th>\n      <td>YbMyvlDA2W3Py5lTz8VK-A</td>\n      <td>Great burgers,fries and salad!  Burgers have a...</td>\n      <td>great burgers,fries and salad! burgers have a ...</td>\n      <td>4.0</td>\n      <td>329</td>\n      <td>209</td>\n      <td>5</td>\n      <td>positive</td>\n      <td>The Original Habit Burger Grill</td>\n      <td>True</td>\n      <td>Fast Food, Burgers, Restaurants</td>\n      <td>Goleta</td>\n      <td>CA</td>\n      <td>United States</td>\n      <td>8</td>\n      <td>1.000000</td>\n    </tr>\n    <tr>\n      <th>16</th>\n      <td>5obXxR0b94b5q6j1zYCAzw</td>\n      <td>We visited once and were very disappointed in ...</td>\n      <td>we visited once and were very disappointed in ...</td>\n      <td>4.0</td>\n      <td>124</td>\n      <td>315</td>\n      <td>1</td>\n      <td>negative</td>\n      <td>PizzaMan Dan's</td>\n      <td>True</td>\n      <td>Chicken Wings, Restaurants, Beer, Wine &amp; Spiri...</td>\n      <td>Carpinteria</td>\n      <td>CA</td>\n      <td>United States</td>\n      <td>4</td>\n      <td>1.000000</td>\n    </tr>\n    <tr>\n      <th>100</th>\n      <td>b1GkT5ojVlMCM6jdwPi3wQ</td>\n      <td>Best smoothies in the whole world. And fresh b...</td>\n      <td>best smoothies in the whole world. and fresh b...</td>\n      <td>4.5</td>\n      <td>97</td>\n      <td>88</td>\n      <td>5</td>\n      <td>positive</td>\n      <td>Pacific Health Foods</td>\n      <td>True</td>\n      <td>Sandwiches, Specialty Food, Food, Health Marke...</td>\n      <td>Carpinteria</td>\n      <td>CA</td>\n      <td>United States</td>\n      <td>30</td>\n      <td>1.000000</td>\n    </tr>\n    <tr>\n      <th>108</th>\n      <td>LFpaQzYkP5Pzm5lEjJpTRw</td>\n      <td>Possibly the best breakfast sandwich EVER.  On...</td>\n      <td>possibly the best breakfast sandwich ever. on ...</td>\n      <td>4.0</td>\n      <td>389</td>\n      <td>86</td>\n      <td>5</td>\n      <td>positive</td>\n      <td>Helena Avenue Bakery</td>\n      <td>True</td>\n      <td>Food, Restaurants, Salad, Coffee &amp; Tea, Breakf...</td>\n      <td>Santa Barbara</td>\n      <td>CA</td>\n      <td>United States</td>\n      <td>-1</td>\n      <td>0.000000</td>\n    </tr>\n    <tr>\n      <th>165</th>\n      <td>raMmqAddReOruHYmUTdT9Q</td>\n      <td>I love this place. It's been in La Cumbre Plaz...</td>\n      <td>i love this place. it's been in la cumbre plaz...</td>\n      <td>4.0</td>\n      <td>188</td>\n      <td>888</td>\n      <td>4</td>\n      <td>positive</td>\n      <td>Plaza Deli</td>\n      <td>True</td>\n      <td>Sandwiches, Restaurants, Salad, Hot Dogs, Delis</td>\n      <td>Santa Barbara</td>\n      <td>CA</td>\n      <td>United States</td>\n      <td>7</td>\n      <td>0.204797</td>\n    </tr>\n    <tr>\n      <th>204</th>\n      <td>A-AIvNIGCwUplBhjd2OMhg</td>\n      <td>Their sushi is pretty good. Mesa rolls are my ...</td>\n      <td>their sushi is pretty good. mesa rolls are my ...</td>\n      <td>3.5</td>\n      <td>227</td>\n      <td>200</td>\n      <td>3</td>\n      <td>neutral</td>\n      <td>Ichiban</td>\n      <td>True</td>\n      <td>Restaurants, Japanese, Sushi Bars</td>\n      <td>Santa Barbara</td>\n      <td>CA</td>\n      <td>United States</td>\n      <td>9</td>\n      <td>0.774801</td>\n    </tr>\n    <tr>\n      <th>207</th>\n      <td>GSyttRJvd5VqKK6O0WV1Eg</td>\n      <td>According to my experience, there is just one ...</td>\n      <td>according to my experience, there is just one ...</td>\n      <td>4.0</td>\n      <td>2404</td>\n      <td>648</td>\n      <td>5</td>\n      <td>positive</td>\n      <td>Santa Barbara Shellfish Company</td>\n      <td>True</td>\n      <td>Live/Raw Food, Restaurants, Seafood, Beer Bar,...</td>\n      <td>Santa Barbara</td>\n      <td>CA</td>\n      <td>United States</td>\n      <td>3</td>\n      <td>0.152615</td>\n    </tr>\n    <tr>\n      <th>228</th>\n      <td>s_X5uNLjLSgK_itDNFiadg</td>\n      <td>I am from Colorado and am visiting Santa Barba...</td>\n      <td>i am from colorado and am visiting santa barba...</td>\n      <td>4.0</td>\n      <td>807</td>\n      <td>338</td>\n      <td>4</td>\n      <td>positive</td>\n      <td>Dawn Patrol</td>\n      <td>True</td>\n      <td>Coffee &amp; Tea, Breakfast &amp; Brunch, Restaurants,...</td>\n      <td>Santa Barbara</td>\n      <td>CA</td>\n      <td>United States</td>\n      <td>5</td>\n      <td>0.053964</td>\n    </tr>\n    <tr>\n      <th>274</th>\n      <td>Q3fPo_x6xKxafAzy1hFITg</td>\n      <td>Pricey ( a ham and cheese croissant was $5.50)...</td>\n      <td>pricey ( a ham and cheese croissant was $ . ) ...</td>\n      <td>4.0</td>\n      <td>389</td>\n      <td>392</td>\n      <td>4</td>\n      <td>positive</td>\n      <td>Helena Avenue Bakery</td>\n      <td>True</td>\n      <td>Food, Restaurants, Salad, Coffee &amp; Tea, Breakf...</td>\n      <td>Santa Barbara</td>\n      <td>CA</td>\n      <td>United States</td>\n      <td>5</td>\n      <td>0.061375</td>\n    </tr>\n    <tr>\n      <th>275</th>\n      <td>bc9aVpeB0WyByVVTnmOCWQ</td>\n      <td>I can say this is the best burger of my life!\\...</td>\n      <td>i can say this is the best burger of my life! ...</td>\n      <td>4.0</td>\n      <td>329</td>\n      <td>135</td>\n      <td>5</td>\n      <td>positive</td>\n      <td>The Original Habit Burger Grill</td>\n      <td>True</td>\n      <td>Fast Food, Burgers, Restaurants</td>\n      <td>Goleta</td>\n      <td>CA</td>\n      <td>United States</td>\n      <td>8</td>\n      <td>1.000000</td>\n    </tr>\n  </tbody>\n</table>\n</div>"
     },
     "execution_count": 123,
     "metadata": {},
     "output_type": "execute_result"
    }
   ],
   "source": [
    "# Obtained from previous parameter tuning\n",
    "optimal_n_neighbors = 20\n",
    "optimal_min_dist = 0.1\n",
    "best_min_cluster_size = 300  # Optimal from above parameter tuning (about 0.3% of the dataset length)\n",
    "optimal_n_components = 50\n",
    "\n",
    "# Define seed topics\n",
    "print(\"Defining seed topics...\")\n",
    "seed_topic_list = [\n",
    "    [\"food\", \"quality\", \"taste\", \"delicious\", \"flavor\", \"fresh\", \"ingredients\", \"cuisine\"],\n",
    "    [\"service\", \"waiter\", \"staff\", \"attentive\", \"friendly\", \"helpful\", \"polite\", \"rude\", \"customer\", \"manager\"],\n",
    "    [\"wait\", \"time\", \"delay\", \"quick\", \"slow\", \"waiting\", \"line\", \"queue\"],\n",
    "    [\"price\", \"cost\", \"value\", \"expensive\", \"cheap\", \"affordable\", \"reasonable\", \"worth\"],\n",
    "    [\"clean\", \"dirty\", \"hygiene\", \"tidy\", \"sanitary\", \"spotless\", \"neat\", \"bathroom\", \"restroom\", \"kitchen\"],\n",
    "    [\"dietary\", \"vegan\", \"vegetarian\", \"gluten-free\", \"allergy\", \"intolerance\", \"options\", \"healthy\", \"gluten\"],\n",
    "    [\"ambience\", \"atmosphere\", \"vibe\", \"mood\", \"decor\", \"setting\", \"environment\", \"views\", \"interior\"],\n",
    "    [\"accessibility\", \"parking\", \"wheelchair\", \"access\", \"entrance\", \"stairs\", \"ramps\", \"handicap\", \"service animal\"]\n",
    "]\n",
    "\n",
    "# Ensure lengths of DataFrame and embeddings match\n",
    "assert len(df_clean_yelp_review_and_business) == len(np_review_text_embeddings), \"Mismatch between DataFrame and embeddings lengths\"\n",
    "print(f'np_review_text_embeddings shape: {np_review_text_embeddings.shape}')\n",
    "\n",
    "# Initialize UMAP\n",
    "print(\"Initializing UMAP...\")\n",
    "umap_model = UMAP(\n",
    "    n_components=optimal_n_components, \n",
    "    n_neighbors=optimal_n_neighbors,  # Balances local and global structure\n",
    "    min_dist=optimal_min_dist,  # Minimum distance between points\n",
    "    metric=\"cosine\",  # Effective for text data\n",
    "    n_jobs=11,  # Utilize 11 CPU cores\n",
    "    verbose=True, # Show progress log\n",
    "    random_state=42  # For reproducibility\n",
    ")\n",
    "\n",
    "# Initialize HDBSCAN\n",
    "print(\"Initializing HDBSCAN...\")\n",
    "hdbscan_model = hdbscan.HDBSCAN(\n",
    "    min_cluster_size=best_min_cluster_size,  # Balancing major vs micro clusters\n",
    "    prediction_data=True,  # Enable prediction for new data\n",
    "    cluster_selection_epsilon=0,  # Default value, utilizing the hierarchical nature in clustering process\n",
    "    core_dist_n_jobs=11  # Utilize 11 CPU cores\n",
    ")\n",
    "\n",
    "# Initialize CountVectorizer\n",
    "print(\"Initializing CountVectorizer...\")\n",
    "vectorizer_model = CountVectorizer(\n",
    "    stop_words=\"english\",  # Remove stop words\n",
    "    ngram_range=(1, 3)  # Use 1-3 words when summarizing the topic\n",
    ")\n",
    "\n",
    "# Set environment variable for parallelism\n",
    "os.environ[\"TOKENIZERS_PARALLELISM\"] = \"false\"\n",
    "\n",
    "# Initialize BERTopic\n",
    "print(\"Initializing BERTopic modeling...\")\n",
    "bertopic_model = BERTopic(\n",
    "    seed_topic_list=seed_topic_list,  # Guide the modeling with predefined topics\n",
    "    calculate_probabilities=True,  # Allow multiple topics per document\n",
    "    min_topic_size=round(0.0003 * len(df_clean_yelp_review_and_business)),  # Default is 0.0001 (100 of 1M documents), setting 0.0003 to prevent too many micro-topics appearing\n",
    "    vectorizer_model=vectorizer_model,  # Use custom vectorizer modeling with stop words removal\n",
    "    umap_model=umap_model,  # Use the customized UMAP modeling\n",
    "    hdbscan_model=hdbscan_model,  # Use the customized HDBSCAN modeling\n",
    "    verbose=True,  # Provide detailed progress indicators\n",
    "    nr_topics='auto',  # Automatically determine the optimal number of topics\n",
    "    top_n_words=15  # Use 15 words to describe each topic\n",
    ")\n",
    "\n",
    "# Fit BERTopic model\n",
    "print(\"Fitting BERTopic model...\")\n",
    "topics, probabilities = bertopic_model.fit_transform(\n",
    "    documents=df_clean_yelp_review_and_business['cleaned_review_text'],\n",
    "    embeddings=np_review_text_embeddings\n",
    ")\n",
    "\n",
    "# Ensure that the lengths match\n",
    "assert len(topics) == len(df_clean_yelp_review_and_business), \"Mismatch between topics and DataFrame lengths\"\n",
    "\n",
    "# Add the \"Topic\" id to the original dataframe \n",
    "df_clean_yelp_review_and_business['Topic'] = topics\n",
    "\n",
    "# Extract the probability associated with each predicted \"Topic\" on each row\n",
    "df_clean_yelp_review_and_business['topic_probability'] = [\n",
    "    probabilities[i][topic_id] if topic_id != -1 else 0 for i, topic_id in enumerate(topics)\n",
    "]\n",
    "\n",
    "# Preview the result\n",
    "df_clean_yelp_review_and_business.head(10)\n"
   ]
  },
  {
   "cell_type": "markdown",
   "id": "b8e6a4cb8de2d053",
   "metadata": {
    "collapsed": false,
    "jp-MarkdownHeadingCollapsed": true
   },
   "source": [
    "### Store BERT Topic Info in Dataframe"
   ]
  },
  {
   "cell_type": "code",
   "execution_count": 124,
   "outputs": [
    {
     "name": "stdout",
     "output_type": "stream",
     "text": [
      "'topic_representation' data type: <class 'list'>\n",
      "'topic_representative_docs' data type: <class 'list'>\n"
     ]
    },
    {
     "data": {
      "text/plain": "   Topic  topic_count                   topic_name  \\\n0     -1        41825   -1_food_service_good_great   \n1      0        11821    0_tacos_food_mexican_taco   \n2      1         6296   1_food_great_service_place   \n3      2         5785    2_food_service_order_said   \n4      3         4707  3_chowder_fish_seafood_crab   \n\n                                topic_representation  \\\n0  [food, service, good, great, place, time, deli...   \n1  [tacos, food, mexican, taco, salsa, burrito, g...   \n2  [food, great, service, place, friendly, good, ...   \n3  [food, service, order, said, minutes, asked, t...   \n4  [chowder, fish, seafood, crab, clam, lobster, ...   \n\n                           topic_representative_docs  \n0  [my boyfriend took me here for my birthday din...  \n1  [great tacos! i would highly recommend this ta...  \n2  [this restaurant is absolutely delicious!!! gr...  \n3  [stars for the service tonight. we love this p...  \n4  [not bad. a . star rating for me. neighed bad ...  ",
      "text/html": "<div>\n<style scoped>\n    .dataframe tbody tr th:only-of-type {\n        vertical-align: middle;\n    }\n\n    .dataframe tbody tr th {\n        vertical-align: top;\n    }\n\n    .dataframe thead th {\n        text-align: right;\n    }\n</style>\n<table border=\"1\" class=\"dataframe\">\n  <thead>\n    <tr style=\"text-align: right;\">\n      <th></th>\n      <th>Topic</th>\n      <th>topic_count</th>\n      <th>topic_name</th>\n      <th>topic_representation</th>\n      <th>topic_representative_docs</th>\n    </tr>\n  </thead>\n  <tbody>\n    <tr>\n      <th>0</th>\n      <td>-1</td>\n      <td>41825</td>\n      <td>-1_food_service_good_great</td>\n      <td>[food, service, good, great, place, time, deli...</td>\n      <td>[my boyfriend took me here for my birthday din...</td>\n    </tr>\n    <tr>\n      <th>1</th>\n      <td>0</td>\n      <td>11821</td>\n      <td>0_tacos_food_mexican_taco</td>\n      <td>[tacos, food, mexican, taco, salsa, burrito, g...</td>\n      <td>[great tacos! i would highly recommend this ta...</td>\n    </tr>\n    <tr>\n      <th>2</th>\n      <td>1</td>\n      <td>6296</td>\n      <td>1_food_great_service_place</td>\n      <td>[food, great, service, place, friendly, good, ...</td>\n      <td>[this restaurant is absolutely delicious!!! gr...</td>\n    </tr>\n    <tr>\n      <th>3</th>\n      <td>2</td>\n      <td>5785</td>\n      <td>2_food_service_order_said</td>\n      <td>[food, service, order, said, minutes, asked, t...</td>\n      <td>[stars for the service tonight. we love this p...</td>\n    </tr>\n    <tr>\n      <th>4</th>\n      <td>3</td>\n      <td>4707</td>\n      <td>3_chowder_fish_seafood_crab</td>\n      <td>[chowder, fish, seafood, crab, clam, lobster, ...</td>\n      <td>[not bad. a . star rating for me. neighed bad ...</td>\n    </tr>\n  </tbody>\n</table>\n</div>"
     },
     "execution_count": 124,
     "metadata": {},
     "output_type": "execute_result"
    }
   ],
   "source": [
    "# Get topic info and convert list columns into the right format\n",
    "df_bertopic_model_topic = bertopic_model.get_topic_info()\n",
    "df_bertopic_model_topic.rename(\n",
    "    columns={\n",
    "        'Count': 'topic_count', \n",
    "        'Name': 'topic_name', \n",
    "        'Representation': 'topic_representation', \n",
    "        'Representative_Docs': 'topic_representative_docs'\n",
    "    },\n",
    "    inplace=True\n",
    ")\n",
    "\n",
    "# Check column format\n",
    "print(f\"'topic_representation' data type: {type(df_bertopic_model_topic['topic_representation'][0])}\")\n",
    "print(f\"'topic_representative_docs' data type: {type(df_bertopic_model_topic['topic_representative_docs'][0])}\")\n",
    "\n",
    "df_bertopic_model_topic.head()"
   ],
   "metadata": {
    "collapsed": false,
    "ExecuteTime": {
     "end_time": "2024-05-28T03:06:56.238479Z",
     "start_time": "2024-05-28T03:06:56.231938Z"
    }
   },
   "id": "e4c32e0e65eb826e"
  },
  {
   "cell_type": "markdown",
   "source": [
    "## 6. Evaluate Model Prediction"
   ],
   "metadata": {
    "collapsed": false
   },
   "id": "6a4197d3ea59a096"
  },
  {
   "cell_type": "markdown",
   "source": [
    "### Average Prediction Confidence Score\n",
    "\n",
    "Represents the percentage of predictions where the model is confident about the assigned topic. A confidence score of 42.06% indicates that the model is moderately confident in its predictions.\n",
    "\n",
    "- Given the reduced dataset size, a confidence score of 42.06% is understandable. The model is performing reasonably well given the limited data (reducing from 2.5M to 105K).\n",
    "- Potential Improvements:\n",
    "    - Incorporating more training data to help the model learn better.\n",
    "    - Fine-tuning model parameters and exploring different configurations of the UMAP and HDBSCAN models.\n",
    "    - Utilizing top-N predictions instead of just the highest probability topic to account for reviews with multiple relevant topics."
   ],
   "metadata": {
    "collapsed": false
   },
   "id": "96f0e967ab4b6c3a"
  },
  {
   "cell_type": "code",
   "execution_count": 202,
   "outputs": [
    {
     "name": "stdout",
     "output_type": "stream",
     "text": [
      "Average Prediction Confidence (can be confidently right or wrong): 42.06%\n"
     ]
    }
   ],
   "source": [
    "# Get all prediction probabilities excluding outliers\n",
    "prediction_probabilities = df_clean_yelp_review_and_business[df_clean_yelp_review_and_business['Topic'] != -1]['topic_probability']\n",
    "print(f\"Average Prediction Confidence (can be confidently right or wrong): {np.mean(prediction_probabilities) * 100:.2f}%\")"
   ],
   "metadata": {
    "collapsed": false,
    "ExecuteTime": {
     "end_time": "2024-05-28T03:53:45.387423Z",
     "start_time": "2024-05-28T03:53:44.524284Z"
    }
   },
   "id": "d2f5ec3d035afac3"
  },
  {
   "cell_type": "markdown",
   "source": [
    "### Prediction Spread\n",
    "\n",
    "Measures the average difference in probabilities between the top predicted topic and the other topics. A lower spread indicates that the model often finds multiple topics equally probable for a given review.\n",
    "- A spread of 24.44% suggests that there is considerable overlap in the model's topic probabilities, indicating that reviews might be related to multiple topics.\n",
    "- Potential Improvements:\n",
    "    - Adjusting the granularity of topics to ensure more distinct topic categories.\n",
    "    - Exploring alternative topic modeling methods or configurations that can better differentiate between topics."
   ],
   "metadata": {
    "collapsed": false
   },
   "id": "23c988f43c83f934"
  },
  {
   "cell_type": "code",
   "execution_count": 196,
   "outputs": [
    {
     "name": "stdout",
     "output_type": "stream",
     "text": [
      "Average Prediction Spread (lower means clusters are more distinct): 24.44%\n"
     ]
    }
   ],
   "source": [
    "# Prediction spread excluding outliers\n",
    "np_topics = pd.Series(topics)\n",
    "outlier_index = np_topics[np_topics == -1].index\n",
    "probabilities_excluding_outliers = probabilities[~outlier_index]\n",
    "\n",
    "prediction_spread = [\n",
    "    sorted(row, reverse=True)[0] - sorted(row, reverse=True)[1] for row in probabilities_excluding_outliers\n",
    "]\n",
    "\n",
    "print(f\"Average Prediction Spread (lower means clusters are more distinct): {np.mean(prediction_spread) * 100:.2f}%\")"
   ],
   "metadata": {
    "collapsed": false,
    "ExecuteTime": {
     "end_time": "2024-05-28T03:47:30.151352Z",
     "start_time": "2024-05-28T03:47:29.906431Z"
    }
   },
   "id": "fbfb89e5c0ac1384"
  },
  {
   "cell_type": "markdown",
   "source": [
    "### Outliers Percentage\n",
    "\n",
    "Shows the percentage of reviews that were not assigned to any meaningful topic cluster, often due to the review content being too unique or diverse.\n",
    "- A high outlier rate of 40.23% indicates that a substantial portion of the data does not fit well into the discovered topics, which is not ideal.\n",
    "- Potential Improvements:\n",
    "    - Reducing the outlier rate by fine-tuning the clustering parameters.\n",
    "    - Increasing the amount of training data to help the model form more robust clusters.\n",
    "    - Adjusting the definition and granularity of topics to better capture the diversity in the reviews."
   ],
   "metadata": {
    "collapsed": false
   },
   "id": "c3db09055fbbf582"
  },
  {
   "cell_type": "code",
   "execution_count": 161,
   "outputs": [
    {
     "name": "stdout",
     "output_type": "stream",
     "text": [
      "Outliers Percentage: 40.23%\n"
     ]
    }
   ],
   "source": [
    "print(f\"Outliers Percentage: {sum([1 for topic_id in topics if topic_id == -1]) / len(topics) * 100:.2f}%\")"
   ],
   "metadata": {
    "collapsed": false,
    "ExecuteTime": {
     "end_time": "2024-05-28T03:28:15.289084Z",
     "start_time": "2024-05-28T03:28:15.279538Z"
    }
   },
   "id": "eef1d1af895a085c"
  },
  {
   "cell_type": "markdown",
   "source": [
    "## 7. Analyze the Topic Result\n",
    "\n",
    "For restaurants in California, the topic clusters are mostly separated by:\n",
    "\n",
    "Service-Related:\n",
    "- Service: service, friendly, order, place, view, atmosphere. \n",
    "- Dietary: gluten-free, vegan options\n",
    "\n",
    "Product-Related:\n",
    "- By origins:\n",
    "    - Mexican: tacos, empanadas, salsa.\n",
    "    - Italian: pizza, pasta.\n",
    "    - Chinese & Southeast Asian food: Chinese, masala, curry, ramen, pho.\n",
    "- By genres:\n",
    "    - Breakfast & Brunch: eggs, brunch, toast, cake, donuts.\n",
    "    - Bread: burger, sandwich, bagel, gluten-free, hot dog.\n",
    "    - Seafood: fish, chowder, poke bowl, sushi, crab.\n",
    "    - Beverage: coffee, boba, smoothie.\n"
   ],
   "metadata": {
    "collapsed": false
   },
   "id": "3feab0556a3613a7"
  },
  {
   "cell_type": "markdown",
   "source": [
    "Hover the map below to see more details"
   ],
   "metadata": {
    "collapsed": false
   },
   "id": "ced958dbcd243a36"
  },
  {
   "cell_type": "code",
   "execution_count": 125,
   "outputs": [
    {
     "data": {
      "application/vnd.plotly.v1+json": {
       "data": [
        {
         "customdata": [
          [
           0,
           "tacos | food | mexican | taco | salsa",
           11821
          ],
          [
           1,
           "food | great | service | place | friendly",
           6296
          ],
          [
           2,
           "food | service | order | said | minutes",
           5785
          ],
          [
           3,
           "chowder | fish | seafood | crab | clam",
           4707
          ],
          [
           4,
           "pizza | crust | pizzas | good | place",
           3829
          ],
          [
           5,
           "santa | barbara | santa barbara | food | great",
           3553
          ],
          [
           6,
           "breakfast | eggs | brunch | benedict | toast",
           3485
          ],
          [
           7,
           "sandwich | sandwiches | pickles | salad | great",
           2549
          ],
          [
           8,
           "burger | fries | burgers | good | great",
           2379
          ],
          [
           9,
           "sushi | roll | rolls | fresh | place",
           2246
          ],
          [
           10,
           "italian | pasta | food | italian food | restaurant",
           1673
          ],
          [
           11,
           "vegan | options | food | vegetarian | delicious",
           1628
          ],
          [
           12,
           "coffee | latte | coffee shop | shop | milk",
           1169
          ],
          [
           13,
           "thai | pad | pad thai | curry | thai food",
           1165
          ],
          [
           14,
           "room | hotel | pool | stay | rooms",
           1142
          ],
          [
           15,
           "ramen | broth | pork | noodles | spicy",
           1089
          ],
          [
           16,
           "indian | indian food | naan | food | masala",
           1015
          ],
          [
           17,
           "chinese | chinese food | food | chicken | chinese restaurant",
           746
          ],
          [
           18,
           "poke | bowl | poke bowl | fish | poke place",
           492
          ],
          [
           19,
           "donuts | donut | doughnuts | flavors | doughnut",
           455
          ],
          [
           20,
           "bowl | bowls | acai | aa | backyard",
           454
          ],
          [
           21,
           "beach | great | food | view | ocean",
           448
          ],
          [
           22,
           "pho | vietnamese | broth | food | noodle",
           423
          ],
          [
           23,
           "boba | tea | milk | milk tea | drink",
           407
          ],
          [
           24,
           "gluten | gluten free | free | options | glutenfree",
           392
          ],
          [
           25,
           "stars | food | star | service | place",
           384
          ],
          [
           26,
           "empanadas | empanada | buena | onda | buena onda",
           378
          ],
          [
           27,
           "carpinteria | carp | food | great | place",
           374
          ],
          [
           28,
           "cake | cupcakes | crushcakes | frosting | cupcake",
           361
          ],
          [
           29,
           "dog | dogs | hot | daves | hot dog",
           339
          ],
          [
           30,
           "smoothie | blenders | smoothies | juice | jamba",
           339
          ],
          [
           31,
           "covid | food | great | service | good",
           316
          ],
          [
           32,
           "bagel | bagels | cream cheese | cheese | cream",
           301
          ]
         ],
         "hovertemplate": "<b>Topic %{customdata[0]}</b><br>%{customdata[1]}<br>Size: %{customdata[2]}",
         "legendgroup": "",
         "marker": {
          "color": "#B0BEC5",
          "size": [
           11821,
           6296,
           5785,
           4707,
           3829,
           3553,
           3485,
           2549,
           2379,
           2246,
           1673,
           1628,
           1169,
           1165,
           1142,
           1089,
           1015,
           746,
           492,
           455,
           454,
           448,
           423,
           407,
           392,
           384,
           378,
           374,
           361,
           339,
           339,
           316,
           301
          ],
          "sizemode": "area",
          "sizeref": 7.388125,
          "symbol": "circle",
          "line": {
           "color": "DarkSlateGrey",
           "width": 2
          }
         },
         "mode": "markers",
         "name": "",
         "orientation": "v",
         "showlegend": false,
         "x": [
          13.495463371276855,
          11.13684368133545,
          11.323955535888672,
          -0.5578792095184326,
          -1.2743562459945679,
          11.462606430053711,
          12.50408935546875,
          13.396279335021973,
          13.44558334350586,
          -0.641430139541626,
          -1.1665904521942139,
          13.848319053649902,
          5.312781810760498,
          1.992226243019104,
          11.364670753479004,
          2.4888875484466553,
          2.357447862625122,
          1.7774591445922852,
          -0.25118860602378845,
          12.790149688720703,
          -0.10190120339393616,
          12.04181957244873,
          2.1387553215026855,
          4.98919153213501,
          13.069631576538086,
          11.620687484741211,
          13.34780216217041,
          -0.877658486366272,
          12.622953414916992,
          13.536620140075684,
          5.22319221496582,
          11.00263786315918,
          13.31423568725586
         ],
         "xaxis": "x",
         "y": [
          -3.5965704917907715,
          -0.1388433873653412,
          0.07998953014612198,
          4.249945163726807,
          -7.280096530914307,
          -0.02750234119594097,
          -1.077659010887146,
          -1.9843344688415527,
          -2.989541530609131,
          4.165101051330566,
          -7.174396514892578,
          -3.75784969329834,
          3.70601487159729,
          17.526107788085938,
          -0.46499139070510864,
          18.038461685180664,
          17.904443740844727,
          17.311817169189453,
          4.562800407409668,
          -0.6609177589416504,
          4.711565017700195,
          0.1946885883808136,
          17.670299530029297,
          4.02933931350708,
          -1.721734881401062,
          0.6376804709434509,
          -3.739535331726074,
          3.9273786544799805,
          -0.9851972460746765,
          -2.9075353145599365,
          3.7953035831451416,
          0.24367351830005646,
          -2.0094542503356934
         ],
         "yaxis": "y",
         "type": "scatter"
        }
       ],
       "layout": {
        "template": {
         "data": {
          "barpolar": [
           {
            "marker": {
             "line": {
              "color": "white",
              "width": 0.5
             },
             "pattern": {
              "fillmode": "overlay",
              "size": 10,
              "solidity": 0.2
             }
            },
            "type": "barpolar"
           }
          ],
          "bar": [
           {
            "error_x": {
             "color": "rgb(36,36,36)"
            },
            "error_y": {
             "color": "rgb(36,36,36)"
            },
            "marker": {
             "line": {
              "color": "white",
              "width": 0.5
             },
             "pattern": {
              "fillmode": "overlay",
              "size": 10,
              "solidity": 0.2
             }
            },
            "type": "bar"
           }
          ],
          "carpet": [
           {
            "aaxis": {
             "endlinecolor": "rgb(36,36,36)",
             "gridcolor": "white",
             "linecolor": "white",
             "minorgridcolor": "white",
             "startlinecolor": "rgb(36,36,36)"
            },
            "baxis": {
             "endlinecolor": "rgb(36,36,36)",
             "gridcolor": "white",
             "linecolor": "white",
             "minorgridcolor": "white",
             "startlinecolor": "rgb(36,36,36)"
            },
            "type": "carpet"
           }
          ],
          "choropleth": [
           {
            "colorbar": {
             "outlinewidth": 1,
             "tickcolor": "rgb(36,36,36)",
             "ticks": "outside"
            },
            "type": "choropleth"
           }
          ],
          "contourcarpet": [
           {
            "colorbar": {
             "outlinewidth": 1,
             "tickcolor": "rgb(36,36,36)",
             "ticks": "outside"
            },
            "type": "contourcarpet"
           }
          ],
          "contour": [
           {
            "colorbar": {
             "outlinewidth": 1,
             "tickcolor": "rgb(36,36,36)",
             "ticks": "outside"
            },
            "colorscale": [
             [
              0.0,
              "#440154"
             ],
             [
              0.1111111111111111,
              "#482878"
             ],
             [
              0.2222222222222222,
              "#3e4989"
             ],
             [
              0.3333333333333333,
              "#31688e"
             ],
             [
              0.4444444444444444,
              "#26828e"
             ],
             [
              0.5555555555555556,
              "#1f9e89"
             ],
             [
              0.6666666666666666,
              "#35b779"
             ],
             [
              0.7777777777777778,
              "#6ece58"
             ],
             [
              0.8888888888888888,
              "#b5de2b"
             ],
             [
              1.0,
              "#fde725"
             ]
            ],
            "type": "contour"
           }
          ],
          "heatmapgl": [
           {
            "colorbar": {
             "outlinewidth": 1,
             "tickcolor": "rgb(36,36,36)",
             "ticks": "outside"
            },
            "colorscale": [
             [
              0.0,
              "#440154"
             ],
             [
              0.1111111111111111,
              "#482878"
             ],
             [
              0.2222222222222222,
              "#3e4989"
             ],
             [
              0.3333333333333333,
              "#31688e"
             ],
             [
              0.4444444444444444,
              "#26828e"
             ],
             [
              0.5555555555555556,
              "#1f9e89"
             ],
             [
              0.6666666666666666,
              "#35b779"
             ],
             [
              0.7777777777777778,
              "#6ece58"
             ],
             [
              0.8888888888888888,
              "#b5de2b"
             ],
             [
              1.0,
              "#fde725"
             ]
            ],
            "type": "heatmapgl"
           }
          ],
          "heatmap": [
           {
            "colorbar": {
             "outlinewidth": 1,
             "tickcolor": "rgb(36,36,36)",
             "ticks": "outside"
            },
            "colorscale": [
             [
              0.0,
              "#440154"
             ],
             [
              0.1111111111111111,
              "#482878"
             ],
             [
              0.2222222222222222,
              "#3e4989"
             ],
             [
              0.3333333333333333,
              "#31688e"
             ],
             [
              0.4444444444444444,
              "#26828e"
             ],
             [
              0.5555555555555556,
              "#1f9e89"
             ],
             [
              0.6666666666666666,
              "#35b779"
             ],
             [
              0.7777777777777778,
              "#6ece58"
             ],
             [
              0.8888888888888888,
              "#b5de2b"
             ],
             [
              1.0,
              "#fde725"
             ]
            ],
            "type": "heatmap"
           }
          ],
          "histogram2dcontour": [
           {
            "colorbar": {
             "outlinewidth": 1,
             "tickcolor": "rgb(36,36,36)",
             "ticks": "outside"
            },
            "colorscale": [
             [
              0.0,
              "#440154"
             ],
             [
              0.1111111111111111,
              "#482878"
             ],
             [
              0.2222222222222222,
              "#3e4989"
             ],
             [
              0.3333333333333333,
              "#31688e"
             ],
             [
              0.4444444444444444,
              "#26828e"
             ],
             [
              0.5555555555555556,
              "#1f9e89"
             ],
             [
              0.6666666666666666,
              "#35b779"
             ],
             [
              0.7777777777777778,
              "#6ece58"
             ],
             [
              0.8888888888888888,
              "#b5de2b"
             ],
             [
              1.0,
              "#fde725"
             ]
            ],
            "type": "histogram2dcontour"
           }
          ],
          "histogram2d": [
           {
            "colorbar": {
             "outlinewidth": 1,
             "tickcolor": "rgb(36,36,36)",
             "ticks": "outside"
            },
            "colorscale": [
             [
              0.0,
              "#440154"
             ],
             [
              0.1111111111111111,
              "#482878"
             ],
             [
              0.2222222222222222,
              "#3e4989"
             ],
             [
              0.3333333333333333,
              "#31688e"
             ],
             [
              0.4444444444444444,
              "#26828e"
             ],
             [
              0.5555555555555556,
              "#1f9e89"
             ],
             [
              0.6666666666666666,
              "#35b779"
             ],
             [
              0.7777777777777778,
              "#6ece58"
             ],
             [
              0.8888888888888888,
              "#b5de2b"
             ],
             [
              1.0,
              "#fde725"
             ]
            ],
            "type": "histogram2d"
           }
          ],
          "histogram": [
           {
            "marker": {
             "line": {
              "color": "white",
              "width": 0.6
             }
            },
            "type": "histogram"
           }
          ],
          "mesh3d": [
           {
            "colorbar": {
             "outlinewidth": 1,
             "tickcolor": "rgb(36,36,36)",
             "ticks": "outside"
            },
            "type": "mesh3d"
           }
          ],
          "parcoords": [
           {
            "line": {
             "colorbar": {
              "outlinewidth": 1,
              "tickcolor": "rgb(36,36,36)",
              "ticks": "outside"
             }
            },
            "type": "parcoords"
           }
          ],
          "pie": [
           {
            "automargin": true,
            "type": "pie"
           }
          ],
          "scatter3d": [
           {
            "line": {
             "colorbar": {
              "outlinewidth": 1,
              "tickcolor": "rgb(36,36,36)",
              "ticks": "outside"
             }
            },
            "marker": {
             "colorbar": {
              "outlinewidth": 1,
              "tickcolor": "rgb(36,36,36)",
              "ticks": "outside"
             }
            },
            "type": "scatter3d"
           }
          ],
          "scattercarpet": [
           {
            "marker": {
             "colorbar": {
              "outlinewidth": 1,
              "tickcolor": "rgb(36,36,36)",
              "ticks": "outside"
             }
            },
            "type": "scattercarpet"
           }
          ],
          "scattergeo": [
           {
            "marker": {
             "colorbar": {
              "outlinewidth": 1,
              "tickcolor": "rgb(36,36,36)",
              "ticks": "outside"
             }
            },
            "type": "scattergeo"
           }
          ],
          "scattergl": [
           {
            "marker": {
             "colorbar": {
              "outlinewidth": 1,
              "tickcolor": "rgb(36,36,36)",
              "ticks": "outside"
             }
            },
            "type": "scattergl"
           }
          ],
          "scattermapbox": [
           {
            "marker": {
             "colorbar": {
              "outlinewidth": 1,
              "tickcolor": "rgb(36,36,36)",
              "ticks": "outside"
             }
            },
            "type": "scattermapbox"
           }
          ],
          "scatterpolargl": [
           {
            "marker": {
             "colorbar": {
              "outlinewidth": 1,
              "tickcolor": "rgb(36,36,36)",
              "ticks": "outside"
             }
            },
            "type": "scatterpolargl"
           }
          ],
          "scatterpolar": [
           {
            "marker": {
             "colorbar": {
              "outlinewidth": 1,
              "tickcolor": "rgb(36,36,36)",
              "ticks": "outside"
             }
            },
            "type": "scatterpolar"
           }
          ],
          "scatter": [
           {
            "fillpattern": {
             "fillmode": "overlay",
             "size": 10,
             "solidity": 0.2
            },
            "type": "scatter"
           }
          ],
          "scatterternary": [
           {
            "marker": {
             "colorbar": {
              "outlinewidth": 1,
              "tickcolor": "rgb(36,36,36)",
              "ticks": "outside"
             }
            },
            "type": "scatterternary"
           }
          ],
          "surface": [
           {
            "colorbar": {
             "outlinewidth": 1,
             "tickcolor": "rgb(36,36,36)",
             "ticks": "outside"
            },
            "colorscale": [
             [
              0.0,
              "#440154"
             ],
             [
              0.1111111111111111,
              "#482878"
             ],
             [
              0.2222222222222222,
              "#3e4989"
             ],
             [
              0.3333333333333333,
              "#31688e"
             ],
             [
              0.4444444444444444,
              "#26828e"
             ],
             [
              0.5555555555555556,
              "#1f9e89"
             ],
             [
              0.6666666666666666,
              "#35b779"
             ],
             [
              0.7777777777777778,
              "#6ece58"
             ],
             [
              0.8888888888888888,
              "#b5de2b"
             ],
             [
              1.0,
              "#fde725"
             ]
            ],
            "type": "surface"
           }
          ],
          "table": [
           {
            "cells": {
             "fill": {
              "color": "rgb(237,237,237)"
             },
             "line": {
              "color": "white"
             }
            },
            "header": {
             "fill": {
              "color": "rgb(217,217,217)"
             },
             "line": {
              "color": "white"
             }
            },
            "type": "table"
           }
          ]
         },
         "layout": {
          "annotationdefaults": {
           "arrowhead": 0,
           "arrowwidth": 1
          },
          "autotypenumbers": "strict",
          "coloraxis": {
           "colorbar": {
            "outlinewidth": 1,
            "tickcolor": "rgb(36,36,36)",
            "ticks": "outside"
           }
          },
          "colorscale": {
           "diverging": [
            [
             0.0,
             "rgb(103,0,31)"
            ],
            [
             0.1,
             "rgb(178,24,43)"
            ],
            [
             0.2,
             "rgb(214,96,77)"
            ],
            [
             0.3,
             "rgb(244,165,130)"
            ],
            [
             0.4,
             "rgb(253,219,199)"
            ],
            [
             0.5,
             "rgb(247,247,247)"
            ],
            [
             0.6,
             "rgb(209,229,240)"
            ],
            [
             0.7,
             "rgb(146,197,222)"
            ],
            [
             0.8,
             "rgb(67,147,195)"
            ],
            [
             0.9,
             "rgb(33,102,172)"
            ],
            [
             1.0,
             "rgb(5,48,97)"
            ]
           ],
           "sequential": [
            [
             0.0,
             "#440154"
            ],
            [
             0.1111111111111111,
             "#482878"
            ],
            [
             0.2222222222222222,
             "#3e4989"
            ],
            [
             0.3333333333333333,
             "#31688e"
            ],
            [
             0.4444444444444444,
             "#26828e"
            ],
            [
             0.5555555555555556,
             "#1f9e89"
            ],
            [
             0.6666666666666666,
             "#35b779"
            ],
            [
             0.7777777777777778,
             "#6ece58"
            ],
            [
             0.8888888888888888,
             "#b5de2b"
            ],
            [
             1.0,
             "#fde725"
            ]
           ],
           "sequentialminus": [
            [
             0.0,
             "#440154"
            ],
            [
             0.1111111111111111,
             "#482878"
            ],
            [
             0.2222222222222222,
             "#3e4989"
            ],
            [
             0.3333333333333333,
             "#31688e"
            ],
            [
             0.4444444444444444,
             "#26828e"
            ],
            [
             0.5555555555555556,
             "#1f9e89"
            ],
            [
             0.6666666666666666,
             "#35b779"
            ],
            [
             0.7777777777777778,
             "#6ece58"
            ],
            [
             0.8888888888888888,
             "#b5de2b"
            ],
            [
             1.0,
             "#fde725"
            ]
           ]
          },
          "colorway": [
           "#1F77B4",
           "#FF7F0E",
           "#2CA02C",
           "#D62728",
           "#9467BD",
           "#8C564B",
           "#E377C2",
           "#7F7F7F",
           "#BCBD22",
           "#17BECF"
          ],
          "font": {
           "color": "rgb(36,36,36)"
          },
          "geo": {
           "bgcolor": "white",
           "lakecolor": "white",
           "landcolor": "white",
           "showlakes": true,
           "showland": true,
           "subunitcolor": "white"
          },
          "hoverlabel": {
           "align": "left"
          },
          "hovermode": "closest",
          "mapbox": {
           "style": "light"
          },
          "paper_bgcolor": "white",
          "plot_bgcolor": "white",
          "polar": {
           "angularaxis": {
            "gridcolor": "rgb(232,232,232)",
            "linecolor": "rgb(36,36,36)",
            "showgrid": false,
            "showline": true,
            "ticks": "outside"
           },
           "bgcolor": "white",
           "radialaxis": {
            "gridcolor": "rgb(232,232,232)",
            "linecolor": "rgb(36,36,36)",
            "showgrid": false,
            "showline": true,
            "ticks": "outside"
           }
          },
          "scene": {
           "xaxis": {
            "backgroundcolor": "white",
            "gridcolor": "rgb(232,232,232)",
            "gridwidth": 2,
            "linecolor": "rgb(36,36,36)",
            "showbackground": true,
            "showgrid": false,
            "showline": true,
            "ticks": "outside",
            "zeroline": false,
            "zerolinecolor": "rgb(36,36,36)"
           },
           "yaxis": {
            "backgroundcolor": "white",
            "gridcolor": "rgb(232,232,232)",
            "gridwidth": 2,
            "linecolor": "rgb(36,36,36)",
            "showbackground": true,
            "showgrid": false,
            "showline": true,
            "ticks": "outside",
            "zeroline": false,
            "zerolinecolor": "rgb(36,36,36)"
           },
           "zaxis": {
            "backgroundcolor": "white",
            "gridcolor": "rgb(232,232,232)",
            "gridwidth": 2,
            "linecolor": "rgb(36,36,36)",
            "showbackground": true,
            "showgrid": false,
            "showline": true,
            "ticks": "outside",
            "zeroline": false,
            "zerolinecolor": "rgb(36,36,36)"
           }
          },
          "shapedefaults": {
           "fillcolor": "black",
           "line": {
            "width": 0
           },
           "opacity": 0.3
          },
          "ternary": {
           "aaxis": {
            "gridcolor": "rgb(232,232,232)",
            "linecolor": "rgb(36,36,36)",
            "showgrid": false,
            "showline": true,
            "ticks": "outside"
           },
           "baxis": {
            "gridcolor": "rgb(232,232,232)",
            "linecolor": "rgb(36,36,36)",
            "showgrid": false,
            "showline": true,
            "ticks": "outside"
           },
           "bgcolor": "white",
           "caxis": {
            "gridcolor": "rgb(232,232,232)",
            "linecolor": "rgb(36,36,36)",
            "showgrid": false,
            "showline": true,
            "ticks": "outside"
           }
          },
          "title": {
           "x": 0.05
          },
          "xaxis": {
           "automargin": true,
           "gridcolor": "rgb(232,232,232)",
           "linecolor": "rgb(36,36,36)",
           "showgrid": false,
           "showline": true,
           "ticks": "outside",
           "title": {
            "standoff": 15
           },
           "zeroline": false,
           "zerolinecolor": "rgb(36,36,36)"
          },
          "yaxis": {
           "automargin": true,
           "gridcolor": "rgb(232,232,232)",
           "linecolor": "rgb(36,36,36)",
           "showgrid": false,
           "showline": true,
           "ticks": "outside",
           "title": {
            "standoff": 15
           },
           "zeroline": false,
           "zerolinecolor": "rgb(36,36,36)"
          }
         }
        },
        "xaxis": {
         "anchor": "y",
         "domain": [
          0.0,
          1.0
         ],
         "title": {
          "text": ""
         },
         "visible": false,
         "range": [
          -1.465509682893753,
          15.925566911697388
         ]
        },
        "yaxis": {
         "anchor": "x",
         "domain": [
          0.0,
          1.0
         ],
         "title": {
          "text": ""
         },
         "visible": false,
         "range": [
          -8.372111010551453,
          20.744230937957763
         ]
        },
        "legend": {
         "tracegroupgap": 0,
         "itemsizing": "constant"
        },
        "margin": {
         "t": 60
        },
        "title": {
         "font": {
          "size": 22,
          "color": "Black"
         },
         "text": "<b>Intertopic Distance Map</b>",
         "y": 0.95,
         "x": 0.5,
         "xanchor": "center",
         "yanchor": "top"
        },
        "hoverlabel": {
         "font": {
          "size": 16,
          "family": "Rockwell"
         },
         "bgcolor": "white"
        },
        "width": 650,
        "height": 650,
        "sliders": [
         {
          "active": 0,
          "pad": {
           "t": 50
          },
          "steps": [
           {
            "args": [
             {
              "marker.color": [
               [
                "red",
                "#B0BEC5",
                "#B0BEC5",
                "#B0BEC5",
                "#B0BEC5",
                "#B0BEC5",
                "#B0BEC5",
                "#B0BEC5",
                "#B0BEC5",
                "#B0BEC5",
                "#B0BEC5",
                "#B0BEC5",
                "#B0BEC5",
                "#B0BEC5",
                "#B0BEC5",
                "#B0BEC5",
                "#B0BEC5",
                "#B0BEC5",
                "#B0BEC5",
                "#B0BEC5",
                "#B0BEC5",
                "#B0BEC5",
                "#B0BEC5",
                "#B0BEC5",
                "#B0BEC5",
                "#B0BEC5",
                "#B0BEC5",
                "#B0BEC5",
                "#B0BEC5",
                "#B0BEC5",
                "#B0BEC5",
                "#B0BEC5",
                "#B0BEC5"
               ]
              ]
             }
            ],
            "label": "Topic 0",
            "method": "update"
           },
           {
            "args": [
             {
              "marker.color": [
               [
                "#B0BEC5",
                "red",
                "#B0BEC5",
                "#B0BEC5",
                "#B0BEC5",
                "#B0BEC5",
                "#B0BEC5",
                "#B0BEC5",
                "#B0BEC5",
                "#B0BEC5",
                "#B0BEC5",
                "#B0BEC5",
                "#B0BEC5",
                "#B0BEC5",
                "#B0BEC5",
                "#B0BEC5",
                "#B0BEC5",
                "#B0BEC5",
                "#B0BEC5",
                "#B0BEC5",
                "#B0BEC5",
                "#B0BEC5",
                "#B0BEC5",
                "#B0BEC5",
                "#B0BEC5",
                "#B0BEC5",
                "#B0BEC5",
                "#B0BEC5",
                "#B0BEC5",
                "#B0BEC5",
                "#B0BEC5",
                "#B0BEC5",
                "#B0BEC5"
               ]
              ]
             }
            ],
            "label": "Topic 1",
            "method": "update"
           },
           {
            "args": [
             {
              "marker.color": [
               [
                "#B0BEC5",
                "#B0BEC5",
                "red",
                "#B0BEC5",
                "#B0BEC5",
                "#B0BEC5",
                "#B0BEC5",
                "#B0BEC5",
                "#B0BEC5",
                "#B0BEC5",
                "#B0BEC5",
                "#B0BEC5",
                "#B0BEC5",
                "#B0BEC5",
                "#B0BEC5",
                "#B0BEC5",
                "#B0BEC5",
                "#B0BEC5",
                "#B0BEC5",
                "#B0BEC5",
                "#B0BEC5",
                "#B0BEC5",
                "#B0BEC5",
                "#B0BEC5",
                "#B0BEC5",
                "#B0BEC5",
                "#B0BEC5",
                "#B0BEC5",
                "#B0BEC5",
                "#B0BEC5",
                "#B0BEC5",
                "#B0BEC5",
                "#B0BEC5"
               ]
              ]
             }
            ],
            "label": "Topic 2",
            "method": "update"
           },
           {
            "args": [
             {
              "marker.color": [
               [
                "#B0BEC5",
                "#B0BEC5",
                "#B0BEC5",
                "red",
                "#B0BEC5",
                "#B0BEC5",
                "#B0BEC5",
                "#B0BEC5",
                "#B0BEC5",
                "#B0BEC5",
                "#B0BEC5",
                "#B0BEC5",
                "#B0BEC5",
                "#B0BEC5",
                "#B0BEC5",
                "#B0BEC5",
                "#B0BEC5",
                "#B0BEC5",
                "#B0BEC5",
                "#B0BEC5",
                "#B0BEC5",
                "#B0BEC5",
                "#B0BEC5",
                "#B0BEC5",
                "#B0BEC5",
                "#B0BEC5",
                "#B0BEC5",
                "#B0BEC5",
                "#B0BEC5",
                "#B0BEC5",
                "#B0BEC5",
                "#B0BEC5",
                "#B0BEC5"
               ]
              ]
             }
            ],
            "label": "Topic 3",
            "method": "update"
           },
           {
            "args": [
             {
              "marker.color": [
               [
                "#B0BEC5",
                "#B0BEC5",
                "#B0BEC5",
                "#B0BEC5",
                "red",
                "#B0BEC5",
                "#B0BEC5",
                "#B0BEC5",
                "#B0BEC5",
                "#B0BEC5",
                "#B0BEC5",
                "#B0BEC5",
                "#B0BEC5",
                "#B0BEC5",
                "#B0BEC5",
                "#B0BEC5",
                "#B0BEC5",
                "#B0BEC5",
                "#B0BEC5",
                "#B0BEC5",
                "#B0BEC5",
                "#B0BEC5",
                "#B0BEC5",
                "#B0BEC5",
                "#B0BEC5",
                "#B0BEC5",
                "#B0BEC5",
                "#B0BEC5",
                "#B0BEC5",
                "#B0BEC5",
                "#B0BEC5",
                "#B0BEC5",
                "#B0BEC5"
               ]
              ]
             }
            ],
            "label": "Topic 4",
            "method": "update"
           },
           {
            "args": [
             {
              "marker.color": [
               [
                "#B0BEC5",
                "#B0BEC5",
                "#B0BEC5",
                "#B0BEC5",
                "#B0BEC5",
                "red",
                "#B0BEC5",
                "#B0BEC5",
                "#B0BEC5",
                "#B0BEC5",
                "#B0BEC5",
                "#B0BEC5",
                "#B0BEC5",
                "#B0BEC5",
                "#B0BEC5",
                "#B0BEC5",
                "#B0BEC5",
                "#B0BEC5",
                "#B0BEC5",
                "#B0BEC5",
                "#B0BEC5",
                "#B0BEC5",
                "#B0BEC5",
                "#B0BEC5",
                "#B0BEC5",
                "#B0BEC5",
                "#B0BEC5",
                "#B0BEC5",
                "#B0BEC5",
                "#B0BEC5",
                "#B0BEC5",
                "#B0BEC5",
                "#B0BEC5"
               ]
              ]
             }
            ],
            "label": "Topic 5",
            "method": "update"
           },
           {
            "args": [
             {
              "marker.color": [
               [
                "#B0BEC5",
                "#B0BEC5",
                "#B0BEC5",
                "#B0BEC5",
                "#B0BEC5",
                "#B0BEC5",
                "red",
                "#B0BEC5",
                "#B0BEC5",
                "#B0BEC5",
                "#B0BEC5",
                "#B0BEC5",
                "#B0BEC5",
                "#B0BEC5",
                "#B0BEC5",
                "#B0BEC5",
                "#B0BEC5",
                "#B0BEC5",
                "#B0BEC5",
                "#B0BEC5",
                "#B0BEC5",
                "#B0BEC5",
                "#B0BEC5",
                "#B0BEC5",
                "#B0BEC5",
                "#B0BEC5",
                "#B0BEC5",
                "#B0BEC5",
                "#B0BEC5",
                "#B0BEC5",
                "#B0BEC5",
                "#B0BEC5",
                "#B0BEC5"
               ]
              ]
             }
            ],
            "label": "Topic 6",
            "method": "update"
           },
           {
            "args": [
             {
              "marker.color": [
               [
                "#B0BEC5",
                "#B0BEC5",
                "#B0BEC5",
                "#B0BEC5",
                "#B0BEC5",
                "#B0BEC5",
                "#B0BEC5",
                "red",
                "#B0BEC5",
                "#B0BEC5",
                "#B0BEC5",
                "#B0BEC5",
                "#B0BEC5",
                "#B0BEC5",
                "#B0BEC5",
                "#B0BEC5",
                "#B0BEC5",
                "#B0BEC5",
                "#B0BEC5",
                "#B0BEC5",
                "#B0BEC5",
                "#B0BEC5",
                "#B0BEC5",
                "#B0BEC5",
                "#B0BEC5",
                "#B0BEC5",
                "#B0BEC5",
                "#B0BEC5",
                "#B0BEC5",
                "#B0BEC5",
                "#B0BEC5",
                "#B0BEC5",
                "#B0BEC5"
               ]
              ]
             }
            ],
            "label": "Topic 7",
            "method": "update"
           },
           {
            "args": [
             {
              "marker.color": [
               [
                "#B0BEC5",
                "#B0BEC5",
                "#B0BEC5",
                "#B0BEC5",
                "#B0BEC5",
                "#B0BEC5",
                "#B0BEC5",
                "#B0BEC5",
                "red",
                "#B0BEC5",
                "#B0BEC5",
                "#B0BEC5",
                "#B0BEC5",
                "#B0BEC5",
                "#B0BEC5",
                "#B0BEC5",
                "#B0BEC5",
                "#B0BEC5",
                "#B0BEC5",
                "#B0BEC5",
                "#B0BEC5",
                "#B0BEC5",
                "#B0BEC5",
                "#B0BEC5",
                "#B0BEC5",
                "#B0BEC5",
                "#B0BEC5",
                "#B0BEC5",
                "#B0BEC5",
                "#B0BEC5",
                "#B0BEC5",
                "#B0BEC5",
                "#B0BEC5"
               ]
              ]
             }
            ],
            "label": "Topic 8",
            "method": "update"
           },
           {
            "args": [
             {
              "marker.color": [
               [
                "#B0BEC5",
                "#B0BEC5",
                "#B0BEC5",
                "#B0BEC5",
                "#B0BEC5",
                "#B0BEC5",
                "#B0BEC5",
                "#B0BEC5",
                "#B0BEC5",
                "red",
                "#B0BEC5",
                "#B0BEC5",
                "#B0BEC5",
                "#B0BEC5",
                "#B0BEC5",
                "#B0BEC5",
                "#B0BEC5",
                "#B0BEC5",
                "#B0BEC5",
                "#B0BEC5",
                "#B0BEC5",
                "#B0BEC5",
                "#B0BEC5",
                "#B0BEC5",
                "#B0BEC5",
                "#B0BEC5",
                "#B0BEC5",
                "#B0BEC5",
                "#B0BEC5",
                "#B0BEC5",
                "#B0BEC5",
                "#B0BEC5",
                "#B0BEC5"
               ]
              ]
             }
            ],
            "label": "Topic 9",
            "method": "update"
           },
           {
            "args": [
             {
              "marker.color": [
               [
                "#B0BEC5",
                "#B0BEC5",
                "#B0BEC5",
                "#B0BEC5",
                "#B0BEC5",
                "#B0BEC5",
                "#B0BEC5",
                "#B0BEC5",
                "#B0BEC5",
                "#B0BEC5",
                "red",
                "#B0BEC5",
                "#B0BEC5",
                "#B0BEC5",
                "#B0BEC5",
                "#B0BEC5",
                "#B0BEC5",
                "#B0BEC5",
                "#B0BEC5",
                "#B0BEC5",
                "#B0BEC5",
                "#B0BEC5",
                "#B0BEC5",
                "#B0BEC5",
                "#B0BEC5",
                "#B0BEC5",
                "#B0BEC5",
                "#B0BEC5",
                "#B0BEC5",
                "#B0BEC5",
                "#B0BEC5",
                "#B0BEC5",
                "#B0BEC5"
               ]
              ]
             }
            ],
            "label": "Topic 10",
            "method": "update"
           },
           {
            "args": [
             {
              "marker.color": [
               [
                "#B0BEC5",
                "#B0BEC5",
                "#B0BEC5",
                "#B0BEC5",
                "#B0BEC5",
                "#B0BEC5",
                "#B0BEC5",
                "#B0BEC5",
                "#B0BEC5",
                "#B0BEC5",
                "#B0BEC5",
                "red",
                "#B0BEC5",
                "#B0BEC5",
                "#B0BEC5",
                "#B0BEC5",
                "#B0BEC5",
                "#B0BEC5",
                "#B0BEC5",
                "#B0BEC5",
                "#B0BEC5",
                "#B0BEC5",
                "#B0BEC5",
                "#B0BEC5",
                "#B0BEC5",
                "#B0BEC5",
                "#B0BEC5",
                "#B0BEC5",
                "#B0BEC5",
                "#B0BEC5",
                "#B0BEC5",
                "#B0BEC5",
                "#B0BEC5"
               ]
              ]
             }
            ],
            "label": "Topic 11",
            "method": "update"
           },
           {
            "args": [
             {
              "marker.color": [
               [
                "#B0BEC5",
                "#B0BEC5",
                "#B0BEC5",
                "#B0BEC5",
                "#B0BEC5",
                "#B0BEC5",
                "#B0BEC5",
                "#B0BEC5",
                "#B0BEC5",
                "#B0BEC5",
                "#B0BEC5",
                "#B0BEC5",
                "red",
                "#B0BEC5",
                "#B0BEC5",
                "#B0BEC5",
                "#B0BEC5",
                "#B0BEC5",
                "#B0BEC5",
                "#B0BEC5",
                "#B0BEC5",
                "#B0BEC5",
                "#B0BEC5",
                "#B0BEC5",
                "#B0BEC5",
                "#B0BEC5",
                "#B0BEC5",
                "#B0BEC5",
                "#B0BEC5",
                "#B0BEC5",
                "#B0BEC5",
                "#B0BEC5",
                "#B0BEC5"
               ]
              ]
             }
            ],
            "label": "Topic 12",
            "method": "update"
           },
           {
            "args": [
             {
              "marker.color": [
               [
                "#B0BEC5",
                "#B0BEC5",
                "#B0BEC5",
                "#B0BEC5",
                "#B0BEC5",
                "#B0BEC5",
                "#B0BEC5",
                "#B0BEC5",
                "#B0BEC5",
                "#B0BEC5",
                "#B0BEC5",
                "#B0BEC5",
                "#B0BEC5",
                "red",
                "#B0BEC5",
                "#B0BEC5",
                "#B0BEC5",
                "#B0BEC5",
                "#B0BEC5",
                "#B0BEC5",
                "#B0BEC5",
                "#B0BEC5",
                "#B0BEC5",
                "#B0BEC5",
                "#B0BEC5",
                "#B0BEC5",
                "#B0BEC5",
                "#B0BEC5",
                "#B0BEC5",
                "#B0BEC5",
                "#B0BEC5",
                "#B0BEC5",
                "#B0BEC5"
               ]
              ]
             }
            ],
            "label": "Topic 13",
            "method": "update"
           },
           {
            "args": [
             {
              "marker.color": [
               [
                "#B0BEC5",
                "#B0BEC5",
                "#B0BEC5",
                "#B0BEC5",
                "#B0BEC5",
                "#B0BEC5",
                "#B0BEC5",
                "#B0BEC5",
                "#B0BEC5",
                "#B0BEC5",
                "#B0BEC5",
                "#B0BEC5",
                "#B0BEC5",
                "#B0BEC5",
                "red",
                "#B0BEC5",
                "#B0BEC5",
                "#B0BEC5",
                "#B0BEC5",
                "#B0BEC5",
                "#B0BEC5",
                "#B0BEC5",
                "#B0BEC5",
                "#B0BEC5",
                "#B0BEC5",
                "#B0BEC5",
                "#B0BEC5",
                "#B0BEC5",
                "#B0BEC5",
                "#B0BEC5",
                "#B0BEC5",
                "#B0BEC5",
                "#B0BEC5"
               ]
              ]
             }
            ],
            "label": "Topic 14",
            "method": "update"
           },
           {
            "args": [
             {
              "marker.color": [
               [
                "#B0BEC5",
                "#B0BEC5",
                "#B0BEC5",
                "#B0BEC5",
                "#B0BEC5",
                "#B0BEC5",
                "#B0BEC5",
                "#B0BEC5",
                "#B0BEC5",
                "#B0BEC5",
                "#B0BEC5",
                "#B0BEC5",
                "#B0BEC5",
                "#B0BEC5",
                "#B0BEC5",
                "red",
                "#B0BEC5",
                "#B0BEC5",
                "#B0BEC5",
                "#B0BEC5",
                "#B0BEC5",
                "#B0BEC5",
                "#B0BEC5",
                "#B0BEC5",
                "#B0BEC5",
                "#B0BEC5",
                "#B0BEC5",
                "#B0BEC5",
                "#B0BEC5",
                "#B0BEC5",
                "#B0BEC5",
                "#B0BEC5",
                "#B0BEC5"
               ]
              ]
             }
            ],
            "label": "Topic 15",
            "method": "update"
           },
           {
            "args": [
             {
              "marker.color": [
               [
                "#B0BEC5",
                "#B0BEC5",
                "#B0BEC5",
                "#B0BEC5",
                "#B0BEC5",
                "#B0BEC5",
                "#B0BEC5",
                "#B0BEC5",
                "#B0BEC5",
                "#B0BEC5",
                "#B0BEC5",
                "#B0BEC5",
                "#B0BEC5",
                "#B0BEC5",
                "#B0BEC5",
                "#B0BEC5",
                "red",
                "#B0BEC5",
                "#B0BEC5",
                "#B0BEC5",
                "#B0BEC5",
                "#B0BEC5",
                "#B0BEC5",
                "#B0BEC5",
                "#B0BEC5",
                "#B0BEC5",
                "#B0BEC5",
                "#B0BEC5",
                "#B0BEC5",
                "#B0BEC5",
                "#B0BEC5",
                "#B0BEC5",
                "#B0BEC5"
               ]
              ]
             }
            ],
            "label": "Topic 16",
            "method": "update"
           },
           {
            "args": [
             {
              "marker.color": [
               [
                "#B0BEC5",
                "#B0BEC5",
                "#B0BEC5",
                "#B0BEC5",
                "#B0BEC5",
                "#B0BEC5",
                "#B0BEC5",
                "#B0BEC5",
                "#B0BEC5",
                "#B0BEC5",
                "#B0BEC5",
                "#B0BEC5",
                "#B0BEC5",
                "#B0BEC5",
                "#B0BEC5",
                "#B0BEC5",
                "#B0BEC5",
                "red",
                "#B0BEC5",
                "#B0BEC5",
                "#B0BEC5",
                "#B0BEC5",
                "#B0BEC5",
                "#B0BEC5",
                "#B0BEC5",
                "#B0BEC5",
                "#B0BEC5",
                "#B0BEC5",
                "#B0BEC5",
                "#B0BEC5",
                "#B0BEC5",
                "#B0BEC5",
                "#B0BEC5"
               ]
              ]
             }
            ],
            "label": "Topic 17",
            "method": "update"
           },
           {
            "args": [
             {
              "marker.color": [
               [
                "#B0BEC5",
                "#B0BEC5",
                "#B0BEC5",
                "#B0BEC5",
                "#B0BEC5",
                "#B0BEC5",
                "#B0BEC5",
                "#B0BEC5",
                "#B0BEC5",
                "#B0BEC5",
                "#B0BEC5",
                "#B0BEC5",
                "#B0BEC5",
                "#B0BEC5",
                "#B0BEC5",
                "#B0BEC5",
                "#B0BEC5",
                "#B0BEC5",
                "red",
                "#B0BEC5",
                "#B0BEC5",
                "#B0BEC5",
                "#B0BEC5",
                "#B0BEC5",
                "#B0BEC5",
                "#B0BEC5",
                "#B0BEC5",
                "#B0BEC5",
                "#B0BEC5",
                "#B0BEC5",
                "#B0BEC5",
                "#B0BEC5",
                "#B0BEC5"
               ]
              ]
             }
            ],
            "label": "Topic 18",
            "method": "update"
           },
           {
            "args": [
             {
              "marker.color": [
               [
                "#B0BEC5",
                "#B0BEC5",
                "#B0BEC5",
                "#B0BEC5",
                "#B0BEC5",
                "#B0BEC5",
                "#B0BEC5",
                "#B0BEC5",
                "#B0BEC5",
                "#B0BEC5",
                "#B0BEC5",
                "#B0BEC5",
                "#B0BEC5",
                "#B0BEC5",
                "#B0BEC5",
                "#B0BEC5",
                "#B0BEC5",
                "#B0BEC5",
                "#B0BEC5",
                "red",
                "#B0BEC5",
                "#B0BEC5",
                "#B0BEC5",
                "#B0BEC5",
                "#B0BEC5",
                "#B0BEC5",
                "#B0BEC5",
                "#B0BEC5",
                "#B0BEC5",
                "#B0BEC5",
                "#B0BEC5",
                "#B0BEC5",
                "#B0BEC5"
               ]
              ]
             }
            ],
            "label": "Topic 19",
            "method": "update"
           },
           {
            "args": [
             {
              "marker.color": [
               [
                "#B0BEC5",
                "#B0BEC5",
                "#B0BEC5",
                "#B0BEC5",
                "#B0BEC5",
                "#B0BEC5",
                "#B0BEC5",
                "#B0BEC5",
                "#B0BEC5",
                "#B0BEC5",
                "#B0BEC5",
                "#B0BEC5",
                "#B0BEC5",
                "#B0BEC5",
                "#B0BEC5",
                "#B0BEC5",
                "#B0BEC5",
                "#B0BEC5",
                "#B0BEC5",
                "#B0BEC5",
                "red",
                "#B0BEC5",
                "#B0BEC5",
                "#B0BEC5",
                "#B0BEC5",
                "#B0BEC5",
                "#B0BEC5",
                "#B0BEC5",
                "#B0BEC5",
                "#B0BEC5",
                "#B0BEC5",
                "#B0BEC5",
                "#B0BEC5"
               ]
              ]
             }
            ],
            "label": "Topic 20",
            "method": "update"
           },
           {
            "args": [
             {
              "marker.color": [
               [
                "#B0BEC5",
                "#B0BEC5",
                "#B0BEC5",
                "#B0BEC5",
                "#B0BEC5",
                "#B0BEC5",
                "#B0BEC5",
                "#B0BEC5",
                "#B0BEC5",
                "#B0BEC5",
                "#B0BEC5",
                "#B0BEC5",
                "#B0BEC5",
                "#B0BEC5",
                "#B0BEC5",
                "#B0BEC5",
                "#B0BEC5",
                "#B0BEC5",
                "#B0BEC5",
                "#B0BEC5",
                "#B0BEC5",
                "red",
                "#B0BEC5",
                "#B0BEC5",
                "#B0BEC5",
                "#B0BEC5",
                "#B0BEC5",
                "#B0BEC5",
                "#B0BEC5",
                "#B0BEC5",
                "#B0BEC5",
                "#B0BEC5",
                "#B0BEC5"
               ]
              ]
             }
            ],
            "label": "Topic 21",
            "method": "update"
           },
           {
            "args": [
             {
              "marker.color": [
               [
                "#B0BEC5",
                "#B0BEC5",
                "#B0BEC5",
                "#B0BEC5",
                "#B0BEC5",
                "#B0BEC5",
                "#B0BEC5",
                "#B0BEC5",
                "#B0BEC5",
                "#B0BEC5",
                "#B0BEC5",
                "#B0BEC5",
                "#B0BEC5",
                "#B0BEC5",
                "#B0BEC5",
                "#B0BEC5",
                "#B0BEC5",
                "#B0BEC5",
                "#B0BEC5",
                "#B0BEC5",
                "#B0BEC5",
                "#B0BEC5",
                "red",
                "#B0BEC5",
                "#B0BEC5",
                "#B0BEC5",
                "#B0BEC5",
                "#B0BEC5",
                "#B0BEC5",
                "#B0BEC5",
                "#B0BEC5",
                "#B0BEC5",
                "#B0BEC5"
               ]
              ]
             }
            ],
            "label": "Topic 22",
            "method": "update"
           },
           {
            "args": [
             {
              "marker.color": [
               [
                "#B0BEC5",
                "#B0BEC5",
                "#B0BEC5",
                "#B0BEC5",
                "#B0BEC5",
                "#B0BEC5",
                "#B0BEC5",
                "#B0BEC5",
                "#B0BEC5",
                "#B0BEC5",
                "#B0BEC5",
                "#B0BEC5",
                "#B0BEC5",
                "#B0BEC5",
                "#B0BEC5",
                "#B0BEC5",
                "#B0BEC5",
                "#B0BEC5",
                "#B0BEC5",
                "#B0BEC5",
                "#B0BEC5",
                "#B0BEC5",
                "#B0BEC5",
                "red",
                "#B0BEC5",
                "#B0BEC5",
                "#B0BEC5",
                "#B0BEC5",
                "#B0BEC5",
                "#B0BEC5",
                "#B0BEC5",
                "#B0BEC5",
                "#B0BEC5"
               ]
              ]
             }
            ],
            "label": "Topic 23",
            "method": "update"
           },
           {
            "args": [
             {
              "marker.color": [
               [
                "#B0BEC5",
                "#B0BEC5",
                "#B0BEC5",
                "#B0BEC5",
                "#B0BEC5",
                "#B0BEC5",
                "#B0BEC5",
                "#B0BEC5",
                "#B0BEC5",
                "#B0BEC5",
                "#B0BEC5",
                "#B0BEC5",
                "#B0BEC5",
                "#B0BEC5",
                "#B0BEC5",
                "#B0BEC5",
                "#B0BEC5",
                "#B0BEC5",
                "#B0BEC5",
                "#B0BEC5",
                "#B0BEC5",
                "#B0BEC5",
                "#B0BEC5",
                "#B0BEC5",
                "red",
                "#B0BEC5",
                "#B0BEC5",
                "#B0BEC5",
                "#B0BEC5",
                "#B0BEC5",
                "#B0BEC5",
                "#B0BEC5",
                "#B0BEC5"
               ]
              ]
             }
            ],
            "label": "Topic 24",
            "method": "update"
           },
           {
            "args": [
             {
              "marker.color": [
               [
                "#B0BEC5",
                "#B0BEC5",
                "#B0BEC5",
                "#B0BEC5",
                "#B0BEC5",
                "#B0BEC5",
                "#B0BEC5",
                "#B0BEC5",
                "#B0BEC5",
                "#B0BEC5",
                "#B0BEC5",
                "#B0BEC5",
                "#B0BEC5",
                "#B0BEC5",
                "#B0BEC5",
                "#B0BEC5",
                "#B0BEC5",
                "#B0BEC5",
                "#B0BEC5",
                "#B0BEC5",
                "#B0BEC5",
                "#B0BEC5",
                "#B0BEC5",
                "#B0BEC5",
                "#B0BEC5",
                "red",
                "#B0BEC5",
                "#B0BEC5",
                "#B0BEC5",
                "#B0BEC5",
                "#B0BEC5",
                "#B0BEC5",
                "#B0BEC5"
               ]
              ]
             }
            ],
            "label": "Topic 25",
            "method": "update"
           },
           {
            "args": [
             {
              "marker.color": [
               [
                "#B0BEC5",
                "#B0BEC5",
                "#B0BEC5",
                "#B0BEC5",
                "#B0BEC5",
                "#B0BEC5",
                "#B0BEC5",
                "#B0BEC5",
                "#B0BEC5",
                "#B0BEC5",
                "#B0BEC5",
                "#B0BEC5",
                "#B0BEC5",
                "#B0BEC5",
                "#B0BEC5",
                "#B0BEC5",
                "#B0BEC5",
                "#B0BEC5",
                "#B0BEC5",
                "#B0BEC5",
                "#B0BEC5",
                "#B0BEC5",
                "#B0BEC5",
                "#B0BEC5",
                "#B0BEC5",
                "#B0BEC5",
                "red",
                "#B0BEC5",
                "#B0BEC5",
                "#B0BEC5",
                "#B0BEC5",
                "#B0BEC5",
                "#B0BEC5"
               ]
              ]
             }
            ],
            "label": "Topic 26",
            "method": "update"
           },
           {
            "args": [
             {
              "marker.color": [
               [
                "#B0BEC5",
                "#B0BEC5",
                "#B0BEC5",
                "#B0BEC5",
                "#B0BEC5",
                "#B0BEC5",
                "#B0BEC5",
                "#B0BEC5",
                "#B0BEC5",
                "#B0BEC5",
                "#B0BEC5",
                "#B0BEC5",
                "#B0BEC5",
                "#B0BEC5",
                "#B0BEC5",
                "#B0BEC5",
                "#B0BEC5",
                "#B0BEC5",
                "#B0BEC5",
                "#B0BEC5",
                "#B0BEC5",
                "#B0BEC5",
                "#B0BEC5",
                "#B0BEC5",
                "#B0BEC5",
                "#B0BEC5",
                "#B0BEC5",
                "red",
                "#B0BEC5",
                "#B0BEC5",
                "#B0BEC5",
                "#B0BEC5",
                "#B0BEC5"
               ]
              ]
             }
            ],
            "label": "Topic 27",
            "method": "update"
           },
           {
            "args": [
             {
              "marker.color": [
               [
                "#B0BEC5",
                "#B0BEC5",
                "#B0BEC5",
                "#B0BEC5",
                "#B0BEC5",
                "#B0BEC5",
                "#B0BEC5",
                "#B0BEC5",
                "#B0BEC5",
                "#B0BEC5",
                "#B0BEC5",
                "#B0BEC5",
                "#B0BEC5",
                "#B0BEC5",
                "#B0BEC5",
                "#B0BEC5",
                "#B0BEC5",
                "#B0BEC5",
                "#B0BEC5",
                "#B0BEC5",
                "#B0BEC5",
                "#B0BEC5",
                "#B0BEC5",
                "#B0BEC5",
                "#B0BEC5",
                "#B0BEC5",
                "#B0BEC5",
                "#B0BEC5",
                "red",
                "#B0BEC5",
                "#B0BEC5",
                "#B0BEC5",
                "#B0BEC5"
               ]
              ]
             }
            ],
            "label": "Topic 28",
            "method": "update"
           },
           {
            "args": [
             {
              "marker.color": [
               [
                "#B0BEC5",
                "#B0BEC5",
                "#B0BEC5",
                "#B0BEC5",
                "#B0BEC5",
                "#B0BEC5",
                "#B0BEC5",
                "#B0BEC5",
                "#B0BEC5",
                "#B0BEC5",
                "#B0BEC5",
                "#B0BEC5",
                "#B0BEC5",
                "#B0BEC5",
                "#B0BEC5",
                "#B0BEC5",
                "#B0BEC5",
                "#B0BEC5",
                "#B0BEC5",
                "#B0BEC5",
                "#B0BEC5",
                "#B0BEC5",
                "#B0BEC5",
                "#B0BEC5",
                "#B0BEC5",
                "#B0BEC5",
                "#B0BEC5",
                "#B0BEC5",
                "#B0BEC5",
                "red",
                "#B0BEC5",
                "#B0BEC5",
                "#B0BEC5"
               ]
              ]
             }
            ],
            "label": "Topic 29",
            "method": "update"
           },
           {
            "args": [
             {
              "marker.color": [
               [
                "#B0BEC5",
                "#B0BEC5",
                "#B0BEC5",
                "#B0BEC5",
                "#B0BEC5",
                "#B0BEC5",
                "#B0BEC5",
                "#B0BEC5",
                "#B0BEC5",
                "#B0BEC5",
                "#B0BEC5",
                "#B0BEC5",
                "#B0BEC5",
                "#B0BEC5",
                "#B0BEC5",
                "#B0BEC5",
                "#B0BEC5",
                "#B0BEC5",
                "#B0BEC5",
                "#B0BEC5",
                "#B0BEC5",
                "#B0BEC5",
                "#B0BEC5",
                "#B0BEC5",
                "#B0BEC5",
                "#B0BEC5",
                "#B0BEC5",
                "#B0BEC5",
                "#B0BEC5",
                "#B0BEC5",
                "red",
                "#B0BEC5",
                "#B0BEC5"
               ]
              ]
             }
            ],
            "label": "Topic 30",
            "method": "update"
           },
           {
            "args": [
             {
              "marker.color": [
               [
                "#B0BEC5",
                "#B0BEC5",
                "#B0BEC5",
                "#B0BEC5",
                "#B0BEC5",
                "#B0BEC5",
                "#B0BEC5",
                "#B0BEC5",
                "#B0BEC5",
                "#B0BEC5",
                "#B0BEC5",
                "#B0BEC5",
                "#B0BEC5",
                "#B0BEC5",
                "#B0BEC5",
                "#B0BEC5",
                "#B0BEC5",
                "#B0BEC5",
                "#B0BEC5",
                "#B0BEC5",
                "#B0BEC5",
                "#B0BEC5",
                "#B0BEC5",
                "#B0BEC5",
                "#B0BEC5",
                "#B0BEC5",
                "#B0BEC5",
                "#B0BEC5",
                "#B0BEC5",
                "#B0BEC5",
                "#B0BEC5",
                "red",
                "#B0BEC5"
               ]
              ]
             }
            ],
            "label": "Topic 31",
            "method": "update"
           },
           {
            "args": [
             {
              "marker.color": [
               [
                "#B0BEC5",
                "#B0BEC5",
                "#B0BEC5",
                "#B0BEC5",
                "#B0BEC5",
                "#B0BEC5",
                "#B0BEC5",
                "#B0BEC5",
                "#B0BEC5",
                "#B0BEC5",
                "#B0BEC5",
                "#B0BEC5",
                "#B0BEC5",
                "#B0BEC5",
                "#B0BEC5",
                "#B0BEC5",
                "#B0BEC5",
                "#B0BEC5",
                "#B0BEC5",
                "#B0BEC5",
                "#B0BEC5",
                "#B0BEC5",
                "#B0BEC5",
                "#B0BEC5",
                "#B0BEC5",
                "#B0BEC5",
                "#B0BEC5",
                "#B0BEC5",
                "#B0BEC5",
                "#B0BEC5",
                "#B0BEC5",
                "#B0BEC5",
                "red"
               ]
              ]
             }
            ],
            "label": "Topic 32",
            "method": "update"
           }
          ]
         }
        ],
        "shapes": [
         {
          "line": {
           "color": "#CFD8DC",
           "width": 2
          },
          "type": "line",
          "x0": 7.230028614401817,
          "x1": 7.230028614401817,
          "y0": -8.372111010551453,
          "y1": 20.744230937957763
         },
         {
          "line": {
           "color": "#9E9E9E",
           "width": 2
          },
          "type": "line",
          "x0": -1.465509682893753,
          "x1": 15.925566911697388,
          "y0": 6.186059963703155,
          "y1": 6.186059963703155
         }
        ],
        "annotations": [
         {
          "showarrow": false,
          "text": "D1",
          "x": -1.465509682893753,
          "y": 6.186059963703155,
          "yshift": 10
         },
         {
          "showarrow": false,
          "text": "D2",
          "x": 7.230028614401817,
          "xshift": 10,
          "y": 20.744230937957763
         }
        ]
       },
       "config": {
        "plotlyServerURL": "https://plot.ly"
       }
      },
      "text/html": "<div>                            <div id=\"81c383c1-bc3d-4fd1-899b-acac330d89ac\" class=\"plotly-graph-div\" style=\"height:650px; width:650px;\"></div>            <script type=\"text/javascript\">                require([\"plotly\"], function(Plotly) {                    window.PLOTLYENV=window.PLOTLYENV || {};                                    if (document.getElementById(\"81c383c1-bc3d-4fd1-899b-acac330d89ac\")) {                    Plotly.newPlot(                        \"81c383c1-bc3d-4fd1-899b-acac330d89ac\",                        [{\"customdata\":[[0,\"tacos | food | mexican | taco | salsa\",11821],[1,\"food | great | service | place | friendly\",6296],[2,\"food | service | order | said | minutes\",5785],[3,\"chowder | fish | seafood | crab | clam\",4707],[4,\"pizza | crust | pizzas | good | place\",3829],[5,\"santa | barbara | santa barbara | food | great\",3553],[6,\"breakfast | eggs | brunch | benedict | toast\",3485],[7,\"sandwich | sandwiches | pickles | salad | great\",2549],[8,\"burger | fries | burgers | good | great\",2379],[9,\"sushi | roll | rolls | fresh | place\",2246],[10,\"italian | pasta | food | italian food | restaurant\",1673],[11,\"vegan | options | food | vegetarian | delicious\",1628],[12,\"coffee | latte | coffee shop | shop | milk\",1169],[13,\"thai | pad | pad thai | curry | thai food\",1165],[14,\"room | hotel | pool | stay | rooms\",1142],[15,\"ramen | broth | pork | noodles | spicy\",1089],[16,\"indian | indian food | naan | food | masala\",1015],[17,\"chinese | chinese food | food | chicken | chinese restaurant\",746],[18,\"poke | bowl | poke bowl | fish | poke place\",492],[19,\"donuts | donut | doughnuts | flavors | doughnut\",455],[20,\"bowl | bowls | acai | aa | backyard\",454],[21,\"beach | great | food | view | ocean\",448],[22,\"pho | vietnamese | broth | food | noodle\",423],[23,\"boba | tea | milk | milk tea | drink\",407],[24,\"gluten | gluten free | free | options | glutenfree\",392],[25,\"stars | food | star | service | place\",384],[26,\"empanadas | empanada | buena | onda | buena onda\",378],[27,\"carpinteria | carp | food | great | place\",374],[28,\"cake | cupcakes | crushcakes | frosting | cupcake\",361],[29,\"dog | dogs | hot | daves | hot dog\",339],[30,\"smoothie | blenders | smoothies | juice | jamba\",339],[31,\"covid | food | great | service | good\",316],[32,\"bagel | bagels | cream cheese | cheese | cream\",301]],\"hovertemplate\":\"\\u003cb\\u003eTopic %{customdata[0]}\\u003c\\u002fb\\u003e\\u003cbr\\u003e%{customdata[1]}\\u003cbr\\u003eSize: %{customdata[2]}\",\"legendgroup\":\"\",\"marker\":{\"color\":\"#B0BEC5\",\"size\":[11821,6296,5785,4707,3829,3553,3485,2549,2379,2246,1673,1628,1169,1165,1142,1089,1015,746,492,455,454,448,423,407,392,384,378,374,361,339,339,316,301],\"sizemode\":\"area\",\"sizeref\":7.388125,\"symbol\":\"circle\",\"line\":{\"color\":\"DarkSlateGrey\",\"width\":2}},\"mode\":\"markers\",\"name\":\"\",\"orientation\":\"v\",\"showlegend\":false,\"x\":[13.495463371276855,11.13684368133545,11.323955535888672,-0.5578792095184326,-1.2743562459945679,11.462606430053711,12.50408935546875,13.396279335021973,13.44558334350586,-0.641430139541626,-1.1665904521942139,13.848319053649902,5.312781810760498,1.992226243019104,11.364670753479004,2.4888875484466553,2.357447862625122,1.7774591445922852,-0.25118860602378845,12.790149688720703,-0.10190120339393616,12.04181957244873,2.1387553215026855,4.98919153213501,13.069631576538086,11.620687484741211,13.34780216217041,-0.877658486366272,12.622953414916992,13.536620140075684,5.22319221496582,11.00263786315918,13.31423568725586],\"xaxis\":\"x\",\"y\":[-3.5965704917907715,-0.1388433873653412,0.07998953014612198,4.249945163726807,-7.280096530914307,-0.02750234119594097,-1.077659010887146,-1.9843344688415527,-2.989541530609131,4.165101051330566,-7.174396514892578,-3.75784969329834,3.70601487159729,17.526107788085938,-0.46499139070510864,18.038461685180664,17.904443740844727,17.311817169189453,4.562800407409668,-0.6609177589416504,4.711565017700195,0.1946885883808136,17.670299530029297,4.02933931350708,-1.721734881401062,0.6376804709434509,-3.739535331726074,3.9273786544799805,-0.9851972460746765,-2.9075353145599365,3.7953035831451416,0.24367351830005646,-2.0094542503356934],\"yaxis\":\"y\",\"type\":\"scatter\"}],                        {\"template\":{\"data\":{\"barpolar\":[{\"marker\":{\"line\":{\"color\":\"white\",\"width\":0.5},\"pattern\":{\"fillmode\":\"overlay\",\"size\":10,\"solidity\":0.2}},\"type\":\"barpolar\"}],\"bar\":[{\"error_x\":{\"color\":\"rgb(36,36,36)\"},\"error_y\":{\"color\":\"rgb(36,36,36)\"},\"marker\":{\"line\":{\"color\":\"white\",\"width\":0.5},\"pattern\":{\"fillmode\":\"overlay\",\"size\":10,\"solidity\":0.2}},\"type\":\"bar\"}],\"carpet\":[{\"aaxis\":{\"endlinecolor\":\"rgb(36,36,36)\",\"gridcolor\":\"white\",\"linecolor\":\"white\",\"minorgridcolor\":\"white\",\"startlinecolor\":\"rgb(36,36,36)\"},\"baxis\":{\"endlinecolor\":\"rgb(36,36,36)\",\"gridcolor\":\"white\",\"linecolor\":\"white\",\"minorgridcolor\":\"white\",\"startlinecolor\":\"rgb(36,36,36)\"},\"type\":\"carpet\"}],\"choropleth\":[{\"colorbar\":{\"outlinewidth\":1,\"tickcolor\":\"rgb(36,36,36)\",\"ticks\":\"outside\"},\"type\":\"choropleth\"}],\"contourcarpet\":[{\"colorbar\":{\"outlinewidth\":1,\"tickcolor\":\"rgb(36,36,36)\",\"ticks\":\"outside\"},\"type\":\"contourcarpet\"}],\"contour\":[{\"colorbar\":{\"outlinewidth\":1,\"tickcolor\":\"rgb(36,36,36)\",\"ticks\":\"outside\"},\"colorscale\":[[0.0,\"#440154\"],[0.1111111111111111,\"#482878\"],[0.2222222222222222,\"#3e4989\"],[0.3333333333333333,\"#31688e\"],[0.4444444444444444,\"#26828e\"],[0.5555555555555556,\"#1f9e89\"],[0.6666666666666666,\"#35b779\"],[0.7777777777777778,\"#6ece58\"],[0.8888888888888888,\"#b5de2b\"],[1.0,\"#fde725\"]],\"type\":\"contour\"}],\"heatmapgl\":[{\"colorbar\":{\"outlinewidth\":1,\"tickcolor\":\"rgb(36,36,36)\",\"ticks\":\"outside\"},\"colorscale\":[[0.0,\"#440154\"],[0.1111111111111111,\"#482878\"],[0.2222222222222222,\"#3e4989\"],[0.3333333333333333,\"#31688e\"],[0.4444444444444444,\"#26828e\"],[0.5555555555555556,\"#1f9e89\"],[0.6666666666666666,\"#35b779\"],[0.7777777777777778,\"#6ece58\"],[0.8888888888888888,\"#b5de2b\"],[1.0,\"#fde725\"]],\"type\":\"heatmapgl\"}],\"heatmap\":[{\"colorbar\":{\"outlinewidth\":1,\"tickcolor\":\"rgb(36,36,36)\",\"ticks\":\"outside\"},\"colorscale\":[[0.0,\"#440154\"],[0.1111111111111111,\"#482878\"],[0.2222222222222222,\"#3e4989\"],[0.3333333333333333,\"#31688e\"],[0.4444444444444444,\"#26828e\"],[0.5555555555555556,\"#1f9e89\"],[0.6666666666666666,\"#35b779\"],[0.7777777777777778,\"#6ece58\"],[0.8888888888888888,\"#b5de2b\"],[1.0,\"#fde725\"]],\"type\":\"heatmap\"}],\"histogram2dcontour\":[{\"colorbar\":{\"outlinewidth\":1,\"tickcolor\":\"rgb(36,36,36)\",\"ticks\":\"outside\"},\"colorscale\":[[0.0,\"#440154\"],[0.1111111111111111,\"#482878\"],[0.2222222222222222,\"#3e4989\"],[0.3333333333333333,\"#31688e\"],[0.4444444444444444,\"#26828e\"],[0.5555555555555556,\"#1f9e89\"],[0.6666666666666666,\"#35b779\"],[0.7777777777777778,\"#6ece58\"],[0.8888888888888888,\"#b5de2b\"],[1.0,\"#fde725\"]],\"type\":\"histogram2dcontour\"}],\"histogram2d\":[{\"colorbar\":{\"outlinewidth\":1,\"tickcolor\":\"rgb(36,36,36)\",\"ticks\":\"outside\"},\"colorscale\":[[0.0,\"#440154\"],[0.1111111111111111,\"#482878\"],[0.2222222222222222,\"#3e4989\"],[0.3333333333333333,\"#31688e\"],[0.4444444444444444,\"#26828e\"],[0.5555555555555556,\"#1f9e89\"],[0.6666666666666666,\"#35b779\"],[0.7777777777777778,\"#6ece58\"],[0.8888888888888888,\"#b5de2b\"],[1.0,\"#fde725\"]],\"type\":\"histogram2d\"}],\"histogram\":[{\"marker\":{\"line\":{\"color\":\"white\",\"width\":0.6}},\"type\":\"histogram\"}],\"mesh3d\":[{\"colorbar\":{\"outlinewidth\":1,\"tickcolor\":\"rgb(36,36,36)\",\"ticks\":\"outside\"},\"type\":\"mesh3d\"}],\"parcoords\":[{\"line\":{\"colorbar\":{\"outlinewidth\":1,\"tickcolor\":\"rgb(36,36,36)\",\"ticks\":\"outside\"}},\"type\":\"parcoords\"}],\"pie\":[{\"automargin\":true,\"type\":\"pie\"}],\"scatter3d\":[{\"line\":{\"colorbar\":{\"outlinewidth\":1,\"tickcolor\":\"rgb(36,36,36)\",\"ticks\":\"outside\"}},\"marker\":{\"colorbar\":{\"outlinewidth\":1,\"tickcolor\":\"rgb(36,36,36)\",\"ticks\":\"outside\"}},\"type\":\"scatter3d\"}],\"scattercarpet\":[{\"marker\":{\"colorbar\":{\"outlinewidth\":1,\"tickcolor\":\"rgb(36,36,36)\",\"ticks\":\"outside\"}},\"type\":\"scattercarpet\"}],\"scattergeo\":[{\"marker\":{\"colorbar\":{\"outlinewidth\":1,\"tickcolor\":\"rgb(36,36,36)\",\"ticks\":\"outside\"}},\"type\":\"scattergeo\"}],\"scattergl\":[{\"marker\":{\"colorbar\":{\"outlinewidth\":1,\"tickcolor\":\"rgb(36,36,36)\",\"ticks\":\"outside\"}},\"type\":\"scattergl\"}],\"scattermapbox\":[{\"marker\":{\"colorbar\":{\"outlinewidth\":1,\"tickcolor\":\"rgb(36,36,36)\",\"ticks\":\"outside\"}},\"type\":\"scattermapbox\"}],\"scatterpolargl\":[{\"marker\":{\"colorbar\":{\"outlinewidth\":1,\"tickcolor\":\"rgb(36,36,36)\",\"ticks\":\"outside\"}},\"type\":\"scatterpolargl\"}],\"scatterpolar\":[{\"marker\":{\"colorbar\":{\"outlinewidth\":1,\"tickcolor\":\"rgb(36,36,36)\",\"ticks\":\"outside\"}},\"type\":\"scatterpolar\"}],\"scatter\":[{\"fillpattern\":{\"fillmode\":\"overlay\",\"size\":10,\"solidity\":0.2},\"type\":\"scatter\"}],\"scatterternary\":[{\"marker\":{\"colorbar\":{\"outlinewidth\":1,\"tickcolor\":\"rgb(36,36,36)\",\"ticks\":\"outside\"}},\"type\":\"scatterternary\"}],\"surface\":[{\"colorbar\":{\"outlinewidth\":1,\"tickcolor\":\"rgb(36,36,36)\",\"ticks\":\"outside\"},\"colorscale\":[[0.0,\"#440154\"],[0.1111111111111111,\"#482878\"],[0.2222222222222222,\"#3e4989\"],[0.3333333333333333,\"#31688e\"],[0.4444444444444444,\"#26828e\"],[0.5555555555555556,\"#1f9e89\"],[0.6666666666666666,\"#35b779\"],[0.7777777777777778,\"#6ece58\"],[0.8888888888888888,\"#b5de2b\"],[1.0,\"#fde725\"]],\"type\":\"surface\"}],\"table\":[{\"cells\":{\"fill\":{\"color\":\"rgb(237,237,237)\"},\"line\":{\"color\":\"white\"}},\"header\":{\"fill\":{\"color\":\"rgb(217,217,217)\"},\"line\":{\"color\":\"white\"}},\"type\":\"table\"}]},\"layout\":{\"annotationdefaults\":{\"arrowhead\":0,\"arrowwidth\":1},\"autotypenumbers\":\"strict\",\"coloraxis\":{\"colorbar\":{\"outlinewidth\":1,\"tickcolor\":\"rgb(36,36,36)\",\"ticks\":\"outside\"}},\"colorscale\":{\"diverging\":[[0.0,\"rgb(103,0,31)\"],[0.1,\"rgb(178,24,43)\"],[0.2,\"rgb(214,96,77)\"],[0.3,\"rgb(244,165,130)\"],[0.4,\"rgb(253,219,199)\"],[0.5,\"rgb(247,247,247)\"],[0.6,\"rgb(209,229,240)\"],[0.7,\"rgb(146,197,222)\"],[0.8,\"rgb(67,147,195)\"],[0.9,\"rgb(33,102,172)\"],[1.0,\"rgb(5,48,97)\"]],\"sequential\":[[0.0,\"#440154\"],[0.1111111111111111,\"#482878\"],[0.2222222222222222,\"#3e4989\"],[0.3333333333333333,\"#31688e\"],[0.4444444444444444,\"#26828e\"],[0.5555555555555556,\"#1f9e89\"],[0.6666666666666666,\"#35b779\"],[0.7777777777777778,\"#6ece58\"],[0.8888888888888888,\"#b5de2b\"],[1.0,\"#fde725\"]],\"sequentialminus\":[[0.0,\"#440154\"],[0.1111111111111111,\"#482878\"],[0.2222222222222222,\"#3e4989\"],[0.3333333333333333,\"#31688e\"],[0.4444444444444444,\"#26828e\"],[0.5555555555555556,\"#1f9e89\"],[0.6666666666666666,\"#35b779\"],[0.7777777777777778,\"#6ece58\"],[0.8888888888888888,\"#b5de2b\"],[1.0,\"#fde725\"]]},\"colorway\":[\"#1F77B4\",\"#FF7F0E\",\"#2CA02C\",\"#D62728\",\"#9467BD\",\"#8C564B\",\"#E377C2\",\"#7F7F7F\",\"#BCBD22\",\"#17BECF\"],\"font\":{\"color\":\"rgb(36,36,36)\"},\"geo\":{\"bgcolor\":\"white\",\"lakecolor\":\"white\",\"landcolor\":\"white\",\"showlakes\":true,\"showland\":true,\"subunitcolor\":\"white\"},\"hoverlabel\":{\"align\":\"left\"},\"hovermode\":\"closest\",\"mapbox\":{\"style\":\"light\"},\"paper_bgcolor\":\"white\",\"plot_bgcolor\":\"white\",\"polar\":{\"angularaxis\":{\"gridcolor\":\"rgb(232,232,232)\",\"linecolor\":\"rgb(36,36,36)\",\"showgrid\":false,\"showline\":true,\"ticks\":\"outside\"},\"bgcolor\":\"white\",\"radialaxis\":{\"gridcolor\":\"rgb(232,232,232)\",\"linecolor\":\"rgb(36,36,36)\",\"showgrid\":false,\"showline\":true,\"ticks\":\"outside\"}},\"scene\":{\"xaxis\":{\"backgroundcolor\":\"white\",\"gridcolor\":\"rgb(232,232,232)\",\"gridwidth\":2,\"linecolor\":\"rgb(36,36,36)\",\"showbackground\":true,\"showgrid\":false,\"showline\":true,\"ticks\":\"outside\",\"zeroline\":false,\"zerolinecolor\":\"rgb(36,36,36)\"},\"yaxis\":{\"backgroundcolor\":\"white\",\"gridcolor\":\"rgb(232,232,232)\",\"gridwidth\":2,\"linecolor\":\"rgb(36,36,36)\",\"showbackground\":true,\"showgrid\":false,\"showline\":true,\"ticks\":\"outside\",\"zeroline\":false,\"zerolinecolor\":\"rgb(36,36,36)\"},\"zaxis\":{\"backgroundcolor\":\"white\",\"gridcolor\":\"rgb(232,232,232)\",\"gridwidth\":2,\"linecolor\":\"rgb(36,36,36)\",\"showbackground\":true,\"showgrid\":false,\"showline\":true,\"ticks\":\"outside\",\"zeroline\":false,\"zerolinecolor\":\"rgb(36,36,36)\"}},\"shapedefaults\":{\"fillcolor\":\"black\",\"line\":{\"width\":0},\"opacity\":0.3},\"ternary\":{\"aaxis\":{\"gridcolor\":\"rgb(232,232,232)\",\"linecolor\":\"rgb(36,36,36)\",\"showgrid\":false,\"showline\":true,\"ticks\":\"outside\"},\"baxis\":{\"gridcolor\":\"rgb(232,232,232)\",\"linecolor\":\"rgb(36,36,36)\",\"showgrid\":false,\"showline\":true,\"ticks\":\"outside\"},\"bgcolor\":\"white\",\"caxis\":{\"gridcolor\":\"rgb(232,232,232)\",\"linecolor\":\"rgb(36,36,36)\",\"showgrid\":false,\"showline\":true,\"ticks\":\"outside\"}},\"title\":{\"x\":0.05},\"xaxis\":{\"automargin\":true,\"gridcolor\":\"rgb(232,232,232)\",\"linecolor\":\"rgb(36,36,36)\",\"showgrid\":false,\"showline\":true,\"ticks\":\"outside\",\"title\":{\"standoff\":15},\"zeroline\":false,\"zerolinecolor\":\"rgb(36,36,36)\"},\"yaxis\":{\"automargin\":true,\"gridcolor\":\"rgb(232,232,232)\",\"linecolor\":\"rgb(36,36,36)\",\"showgrid\":false,\"showline\":true,\"ticks\":\"outside\",\"title\":{\"standoff\":15},\"zeroline\":false,\"zerolinecolor\":\"rgb(36,36,36)\"}}},\"xaxis\":{\"anchor\":\"y\",\"domain\":[0.0,1.0],\"title\":{\"text\":\"\"},\"visible\":false,\"range\":[-1.465509682893753,15.925566911697388]},\"yaxis\":{\"anchor\":\"x\",\"domain\":[0.0,1.0],\"title\":{\"text\":\"\"},\"visible\":false,\"range\":[-8.372111010551453,20.744230937957763]},\"legend\":{\"tracegroupgap\":0,\"itemsizing\":\"constant\"},\"margin\":{\"t\":60},\"title\":{\"font\":{\"size\":22,\"color\":\"Black\"},\"text\":\"\\u003cb\\u003eIntertopic Distance Map\\u003c\\u002fb\\u003e\",\"y\":0.95,\"x\":0.5,\"xanchor\":\"center\",\"yanchor\":\"top\"},\"hoverlabel\":{\"font\":{\"size\":16,\"family\":\"Rockwell\"},\"bgcolor\":\"white\"},\"width\":650,\"height\":650,\"sliders\":[{\"active\":0,\"pad\":{\"t\":50},\"steps\":[{\"args\":[{\"marker.color\":[[\"red\",\"#B0BEC5\",\"#B0BEC5\",\"#B0BEC5\",\"#B0BEC5\",\"#B0BEC5\",\"#B0BEC5\",\"#B0BEC5\",\"#B0BEC5\",\"#B0BEC5\",\"#B0BEC5\",\"#B0BEC5\",\"#B0BEC5\",\"#B0BEC5\",\"#B0BEC5\",\"#B0BEC5\",\"#B0BEC5\",\"#B0BEC5\",\"#B0BEC5\",\"#B0BEC5\",\"#B0BEC5\",\"#B0BEC5\",\"#B0BEC5\",\"#B0BEC5\",\"#B0BEC5\",\"#B0BEC5\",\"#B0BEC5\",\"#B0BEC5\",\"#B0BEC5\",\"#B0BEC5\",\"#B0BEC5\",\"#B0BEC5\",\"#B0BEC5\"]]}],\"label\":\"Topic 0\",\"method\":\"update\"},{\"args\":[{\"marker.color\":[[\"#B0BEC5\",\"red\",\"#B0BEC5\",\"#B0BEC5\",\"#B0BEC5\",\"#B0BEC5\",\"#B0BEC5\",\"#B0BEC5\",\"#B0BEC5\",\"#B0BEC5\",\"#B0BEC5\",\"#B0BEC5\",\"#B0BEC5\",\"#B0BEC5\",\"#B0BEC5\",\"#B0BEC5\",\"#B0BEC5\",\"#B0BEC5\",\"#B0BEC5\",\"#B0BEC5\",\"#B0BEC5\",\"#B0BEC5\",\"#B0BEC5\",\"#B0BEC5\",\"#B0BEC5\",\"#B0BEC5\",\"#B0BEC5\",\"#B0BEC5\",\"#B0BEC5\",\"#B0BEC5\",\"#B0BEC5\",\"#B0BEC5\",\"#B0BEC5\"]]}],\"label\":\"Topic 1\",\"method\":\"update\"},{\"args\":[{\"marker.color\":[[\"#B0BEC5\",\"#B0BEC5\",\"red\",\"#B0BEC5\",\"#B0BEC5\",\"#B0BEC5\",\"#B0BEC5\",\"#B0BEC5\",\"#B0BEC5\",\"#B0BEC5\",\"#B0BEC5\",\"#B0BEC5\",\"#B0BEC5\",\"#B0BEC5\",\"#B0BEC5\",\"#B0BEC5\",\"#B0BEC5\",\"#B0BEC5\",\"#B0BEC5\",\"#B0BEC5\",\"#B0BEC5\",\"#B0BEC5\",\"#B0BEC5\",\"#B0BEC5\",\"#B0BEC5\",\"#B0BEC5\",\"#B0BEC5\",\"#B0BEC5\",\"#B0BEC5\",\"#B0BEC5\",\"#B0BEC5\",\"#B0BEC5\",\"#B0BEC5\"]]}],\"label\":\"Topic 2\",\"method\":\"update\"},{\"args\":[{\"marker.color\":[[\"#B0BEC5\",\"#B0BEC5\",\"#B0BEC5\",\"red\",\"#B0BEC5\",\"#B0BEC5\",\"#B0BEC5\",\"#B0BEC5\",\"#B0BEC5\",\"#B0BEC5\",\"#B0BEC5\",\"#B0BEC5\",\"#B0BEC5\",\"#B0BEC5\",\"#B0BEC5\",\"#B0BEC5\",\"#B0BEC5\",\"#B0BEC5\",\"#B0BEC5\",\"#B0BEC5\",\"#B0BEC5\",\"#B0BEC5\",\"#B0BEC5\",\"#B0BEC5\",\"#B0BEC5\",\"#B0BEC5\",\"#B0BEC5\",\"#B0BEC5\",\"#B0BEC5\",\"#B0BEC5\",\"#B0BEC5\",\"#B0BEC5\",\"#B0BEC5\"]]}],\"label\":\"Topic 3\",\"method\":\"update\"},{\"args\":[{\"marker.color\":[[\"#B0BEC5\",\"#B0BEC5\",\"#B0BEC5\",\"#B0BEC5\",\"red\",\"#B0BEC5\",\"#B0BEC5\",\"#B0BEC5\",\"#B0BEC5\",\"#B0BEC5\",\"#B0BEC5\",\"#B0BEC5\",\"#B0BEC5\",\"#B0BEC5\",\"#B0BEC5\",\"#B0BEC5\",\"#B0BEC5\",\"#B0BEC5\",\"#B0BEC5\",\"#B0BEC5\",\"#B0BEC5\",\"#B0BEC5\",\"#B0BEC5\",\"#B0BEC5\",\"#B0BEC5\",\"#B0BEC5\",\"#B0BEC5\",\"#B0BEC5\",\"#B0BEC5\",\"#B0BEC5\",\"#B0BEC5\",\"#B0BEC5\",\"#B0BEC5\"]]}],\"label\":\"Topic 4\",\"method\":\"update\"},{\"args\":[{\"marker.color\":[[\"#B0BEC5\",\"#B0BEC5\",\"#B0BEC5\",\"#B0BEC5\",\"#B0BEC5\",\"red\",\"#B0BEC5\",\"#B0BEC5\",\"#B0BEC5\",\"#B0BEC5\",\"#B0BEC5\",\"#B0BEC5\",\"#B0BEC5\",\"#B0BEC5\",\"#B0BEC5\",\"#B0BEC5\",\"#B0BEC5\",\"#B0BEC5\",\"#B0BEC5\",\"#B0BEC5\",\"#B0BEC5\",\"#B0BEC5\",\"#B0BEC5\",\"#B0BEC5\",\"#B0BEC5\",\"#B0BEC5\",\"#B0BEC5\",\"#B0BEC5\",\"#B0BEC5\",\"#B0BEC5\",\"#B0BEC5\",\"#B0BEC5\",\"#B0BEC5\"]]}],\"label\":\"Topic 5\",\"method\":\"update\"},{\"args\":[{\"marker.color\":[[\"#B0BEC5\",\"#B0BEC5\",\"#B0BEC5\",\"#B0BEC5\",\"#B0BEC5\",\"#B0BEC5\",\"red\",\"#B0BEC5\",\"#B0BEC5\",\"#B0BEC5\",\"#B0BEC5\",\"#B0BEC5\",\"#B0BEC5\",\"#B0BEC5\",\"#B0BEC5\",\"#B0BEC5\",\"#B0BEC5\",\"#B0BEC5\",\"#B0BEC5\",\"#B0BEC5\",\"#B0BEC5\",\"#B0BEC5\",\"#B0BEC5\",\"#B0BEC5\",\"#B0BEC5\",\"#B0BEC5\",\"#B0BEC5\",\"#B0BEC5\",\"#B0BEC5\",\"#B0BEC5\",\"#B0BEC5\",\"#B0BEC5\",\"#B0BEC5\"]]}],\"label\":\"Topic 6\",\"method\":\"update\"},{\"args\":[{\"marker.color\":[[\"#B0BEC5\",\"#B0BEC5\",\"#B0BEC5\",\"#B0BEC5\",\"#B0BEC5\",\"#B0BEC5\",\"#B0BEC5\",\"red\",\"#B0BEC5\",\"#B0BEC5\",\"#B0BEC5\",\"#B0BEC5\",\"#B0BEC5\",\"#B0BEC5\",\"#B0BEC5\",\"#B0BEC5\",\"#B0BEC5\",\"#B0BEC5\",\"#B0BEC5\",\"#B0BEC5\",\"#B0BEC5\",\"#B0BEC5\",\"#B0BEC5\",\"#B0BEC5\",\"#B0BEC5\",\"#B0BEC5\",\"#B0BEC5\",\"#B0BEC5\",\"#B0BEC5\",\"#B0BEC5\",\"#B0BEC5\",\"#B0BEC5\",\"#B0BEC5\"]]}],\"label\":\"Topic 7\",\"method\":\"update\"},{\"args\":[{\"marker.color\":[[\"#B0BEC5\",\"#B0BEC5\",\"#B0BEC5\",\"#B0BEC5\",\"#B0BEC5\",\"#B0BEC5\",\"#B0BEC5\",\"#B0BEC5\",\"red\",\"#B0BEC5\",\"#B0BEC5\",\"#B0BEC5\",\"#B0BEC5\",\"#B0BEC5\",\"#B0BEC5\",\"#B0BEC5\",\"#B0BEC5\",\"#B0BEC5\",\"#B0BEC5\",\"#B0BEC5\",\"#B0BEC5\",\"#B0BEC5\",\"#B0BEC5\",\"#B0BEC5\",\"#B0BEC5\",\"#B0BEC5\",\"#B0BEC5\",\"#B0BEC5\",\"#B0BEC5\",\"#B0BEC5\",\"#B0BEC5\",\"#B0BEC5\",\"#B0BEC5\"]]}],\"label\":\"Topic 8\",\"method\":\"update\"},{\"args\":[{\"marker.color\":[[\"#B0BEC5\",\"#B0BEC5\",\"#B0BEC5\",\"#B0BEC5\",\"#B0BEC5\",\"#B0BEC5\",\"#B0BEC5\",\"#B0BEC5\",\"#B0BEC5\",\"red\",\"#B0BEC5\",\"#B0BEC5\",\"#B0BEC5\",\"#B0BEC5\",\"#B0BEC5\",\"#B0BEC5\",\"#B0BEC5\",\"#B0BEC5\",\"#B0BEC5\",\"#B0BEC5\",\"#B0BEC5\",\"#B0BEC5\",\"#B0BEC5\",\"#B0BEC5\",\"#B0BEC5\",\"#B0BEC5\",\"#B0BEC5\",\"#B0BEC5\",\"#B0BEC5\",\"#B0BEC5\",\"#B0BEC5\",\"#B0BEC5\",\"#B0BEC5\"]]}],\"label\":\"Topic 9\",\"method\":\"update\"},{\"args\":[{\"marker.color\":[[\"#B0BEC5\",\"#B0BEC5\",\"#B0BEC5\",\"#B0BEC5\",\"#B0BEC5\",\"#B0BEC5\",\"#B0BEC5\",\"#B0BEC5\",\"#B0BEC5\",\"#B0BEC5\",\"red\",\"#B0BEC5\",\"#B0BEC5\",\"#B0BEC5\",\"#B0BEC5\",\"#B0BEC5\",\"#B0BEC5\",\"#B0BEC5\",\"#B0BEC5\",\"#B0BEC5\",\"#B0BEC5\",\"#B0BEC5\",\"#B0BEC5\",\"#B0BEC5\",\"#B0BEC5\",\"#B0BEC5\",\"#B0BEC5\",\"#B0BEC5\",\"#B0BEC5\",\"#B0BEC5\",\"#B0BEC5\",\"#B0BEC5\",\"#B0BEC5\"]]}],\"label\":\"Topic 10\",\"method\":\"update\"},{\"args\":[{\"marker.color\":[[\"#B0BEC5\",\"#B0BEC5\",\"#B0BEC5\",\"#B0BEC5\",\"#B0BEC5\",\"#B0BEC5\",\"#B0BEC5\",\"#B0BEC5\",\"#B0BEC5\",\"#B0BEC5\",\"#B0BEC5\",\"red\",\"#B0BEC5\",\"#B0BEC5\",\"#B0BEC5\",\"#B0BEC5\",\"#B0BEC5\",\"#B0BEC5\",\"#B0BEC5\",\"#B0BEC5\",\"#B0BEC5\",\"#B0BEC5\",\"#B0BEC5\",\"#B0BEC5\",\"#B0BEC5\",\"#B0BEC5\",\"#B0BEC5\",\"#B0BEC5\",\"#B0BEC5\",\"#B0BEC5\",\"#B0BEC5\",\"#B0BEC5\",\"#B0BEC5\"]]}],\"label\":\"Topic 11\",\"method\":\"update\"},{\"args\":[{\"marker.color\":[[\"#B0BEC5\",\"#B0BEC5\",\"#B0BEC5\",\"#B0BEC5\",\"#B0BEC5\",\"#B0BEC5\",\"#B0BEC5\",\"#B0BEC5\",\"#B0BEC5\",\"#B0BEC5\",\"#B0BEC5\",\"#B0BEC5\",\"red\",\"#B0BEC5\",\"#B0BEC5\",\"#B0BEC5\",\"#B0BEC5\",\"#B0BEC5\",\"#B0BEC5\",\"#B0BEC5\",\"#B0BEC5\",\"#B0BEC5\",\"#B0BEC5\",\"#B0BEC5\",\"#B0BEC5\",\"#B0BEC5\",\"#B0BEC5\",\"#B0BEC5\",\"#B0BEC5\",\"#B0BEC5\",\"#B0BEC5\",\"#B0BEC5\",\"#B0BEC5\"]]}],\"label\":\"Topic 12\",\"method\":\"update\"},{\"args\":[{\"marker.color\":[[\"#B0BEC5\",\"#B0BEC5\",\"#B0BEC5\",\"#B0BEC5\",\"#B0BEC5\",\"#B0BEC5\",\"#B0BEC5\",\"#B0BEC5\",\"#B0BEC5\",\"#B0BEC5\",\"#B0BEC5\",\"#B0BEC5\",\"#B0BEC5\",\"red\",\"#B0BEC5\",\"#B0BEC5\",\"#B0BEC5\",\"#B0BEC5\",\"#B0BEC5\",\"#B0BEC5\",\"#B0BEC5\",\"#B0BEC5\",\"#B0BEC5\",\"#B0BEC5\",\"#B0BEC5\",\"#B0BEC5\",\"#B0BEC5\",\"#B0BEC5\",\"#B0BEC5\",\"#B0BEC5\",\"#B0BEC5\",\"#B0BEC5\",\"#B0BEC5\"]]}],\"label\":\"Topic 13\",\"method\":\"update\"},{\"args\":[{\"marker.color\":[[\"#B0BEC5\",\"#B0BEC5\",\"#B0BEC5\",\"#B0BEC5\",\"#B0BEC5\",\"#B0BEC5\",\"#B0BEC5\",\"#B0BEC5\",\"#B0BEC5\",\"#B0BEC5\",\"#B0BEC5\",\"#B0BEC5\",\"#B0BEC5\",\"#B0BEC5\",\"red\",\"#B0BEC5\",\"#B0BEC5\",\"#B0BEC5\",\"#B0BEC5\",\"#B0BEC5\",\"#B0BEC5\",\"#B0BEC5\",\"#B0BEC5\",\"#B0BEC5\",\"#B0BEC5\",\"#B0BEC5\",\"#B0BEC5\",\"#B0BEC5\",\"#B0BEC5\",\"#B0BEC5\",\"#B0BEC5\",\"#B0BEC5\",\"#B0BEC5\"]]}],\"label\":\"Topic 14\",\"method\":\"update\"},{\"args\":[{\"marker.color\":[[\"#B0BEC5\",\"#B0BEC5\",\"#B0BEC5\",\"#B0BEC5\",\"#B0BEC5\",\"#B0BEC5\",\"#B0BEC5\",\"#B0BEC5\",\"#B0BEC5\",\"#B0BEC5\",\"#B0BEC5\",\"#B0BEC5\",\"#B0BEC5\",\"#B0BEC5\",\"#B0BEC5\",\"red\",\"#B0BEC5\",\"#B0BEC5\",\"#B0BEC5\",\"#B0BEC5\",\"#B0BEC5\",\"#B0BEC5\",\"#B0BEC5\",\"#B0BEC5\",\"#B0BEC5\",\"#B0BEC5\",\"#B0BEC5\",\"#B0BEC5\",\"#B0BEC5\",\"#B0BEC5\",\"#B0BEC5\",\"#B0BEC5\",\"#B0BEC5\"]]}],\"label\":\"Topic 15\",\"method\":\"update\"},{\"args\":[{\"marker.color\":[[\"#B0BEC5\",\"#B0BEC5\",\"#B0BEC5\",\"#B0BEC5\",\"#B0BEC5\",\"#B0BEC5\",\"#B0BEC5\",\"#B0BEC5\",\"#B0BEC5\",\"#B0BEC5\",\"#B0BEC5\",\"#B0BEC5\",\"#B0BEC5\",\"#B0BEC5\",\"#B0BEC5\",\"#B0BEC5\",\"red\",\"#B0BEC5\",\"#B0BEC5\",\"#B0BEC5\",\"#B0BEC5\",\"#B0BEC5\",\"#B0BEC5\",\"#B0BEC5\",\"#B0BEC5\",\"#B0BEC5\",\"#B0BEC5\",\"#B0BEC5\",\"#B0BEC5\",\"#B0BEC5\",\"#B0BEC5\",\"#B0BEC5\",\"#B0BEC5\"]]}],\"label\":\"Topic 16\",\"method\":\"update\"},{\"args\":[{\"marker.color\":[[\"#B0BEC5\",\"#B0BEC5\",\"#B0BEC5\",\"#B0BEC5\",\"#B0BEC5\",\"#B0BEC5\",\"#B0BEC5\",\"#B0BEC5\",\"#B0BEC5\",\"#B0BEC5\",\"#B0BEC5\",\"#B0BEC5\",\"#B0BEC5\",\"#B0BEC5\",\"#B0BEC5\",\"#B0BEC5\",\"#B0BEC5\",\"red\",\"#B0BEC5\",\"#B0BEC5\",\"#B0BEC5\",\"#B0BEC5\",\"#B0BEC5\",\"#B0BEC5\",\"#B0BEC5\",\"#B0BEC5\",\"#B0BEC5\",\"#B0BEC5\",\"#B0BEC5\",\"#B0BEC5\",\"#B0BEC5\",\"#B0BEC5\",\"#B0BEC5\"]]}],\"label\":\"Topic 17\",\"method\":\"update\"},{\"args\":[{\"marker.color\":[[\"#B0BEC5\",\"#B0BEC5\",\"#B0BEC5\",\"#B0BEC5\",\"#B0BEC5\",\"#B0BEC5\",\"#B0BEC5\",\"#B0BEC5\",\"#B0BEC5\",\"#B0BEC5\",\"#B0BEC5\",\"#B0BEC5\",\"#B0BEC5\",\"#B0BEC5\",\"#B0BEC5\",\"#B0BEC5\",\"#B0BEC5\",\"#B0BEC5\",\"red\",\"#B0BEC5\",\"#B0BEC5\",\"#B0BEC5\",\"#B0BEC5\",\"#B0BEC5\",\"#B0BEC5\",\"#B0BEC5\",\"#B0BEC5\",\"#B0BEC5\",\"#B0BEC5\",\"#B0BEC5\",\"#B0BEC5\",\"#B0BEC5\",\"#B0BEC5\"]]}],\"label\":\"Topic 18\",\"method\":\"update\"},{\"args\":[{\"marker.color\":[[\"#B0BEC5\",\"#B0BEC5\",\"#B0BEC5\",\"#B0BEC5\",\"#B0BEC5\",\"#B0BEC5\",\"#B0BEC5\",\"#B0BEC5\",\"#B0BEC5\",\"#B0BEC5\",\"#B0BEC5\",\"#B0BEC5\",\"#B0BEC5\",\"#B0BEC5\",\"#B0BEC5\",\"#B0BEC5\",\"#B0BEC5\",\"#B0BEC5\",\"#B0BEC5\",\"red\",\"#B0BEC5\",\"#B0BEC5\",\"#B0BEC5\",\"#B0BEC5\",\"#B0BEC5\",\"#B0BEC5\",\"#B0BEC5\",\"#B0BEC5\",\"#B0BEC5\",\"#B0BEC5\",\"#B0BEC5\",\"#B0BEC5\",\"#B0BEC5\"]]}],\"label\":\"Topic 19\",\"method\":\"update\"},{\"args\":[{\"marker.color\":[[\"#B0BEC5\",\"#B0BEC5\",\"#B0BEC5\",\"#B0BEC5\",\"#B0BEC5\",\"#B0BEC5\",\"#B0BEC5\",\"#B0BEC5\",\"#B0BEC5\",\"#B0BEC5\",\"#B0BEC5\",\"#B0BEC5\",\"#B0BEC5\",\"#B0BEC5\",\"#B0BEC5\",\"#B0BEC5\",\"#B0BEC5\",\"#B0BEC5\",\"#B0BEC5\",\"#B0BEC5\",\"red\",\"#B0BEC5\",\"#B0BEC5\",\"#B0BEC5\",\"#B0BEC5\",\"#B0BEC5\",\"#B0BEC5\",\"#B0BEC5\",\"#B0BEC5\",\"#B0BEC5\",\"#B0BEC5\",\"#B0BEC5\",\"#B0BEC5\"]]}],\"label\":\"Topic 20\",\"method\":\"update\"},{\"args\":[{\"marker.color\":[[\"#B0BEC5\",\"#B0BEC5\",\"#B0BEC5\",\"#B0BEC5\",\"#B0BEC5\",\"#B0BEC5\",\"#B0BEC5\",\"#B0BEC5\",\"#B0BEC5\",\"#B0BEC5\",\"#B0BEC5\",\"#B0BEC5\",\"#B0BEC5\",\"#B0BEC5\",\"#B0BEC5\",\"#B0BEC5\",\"#B0BEC5\",\"#B0BEC5\",\"#B0BEC5\",\"#B0BEC5\",\"#B0BEC5\",\"red\",\"#B0BEC5\",\"#B0BEC5\",\"#B0BEC5\",\"#B0BEC5\",\"#B0BEC5\",\"#B0BEC5\",\"#B0BEC5\",\"#B0BEC5\",\"#B0BEC5\",\"#B0BEC5\",\"#B0BEC5\"]]}],\"label\":\"Topic 21\",\"method\":\"update\"},{\"args\":[{\"marker.color\":[[\"#B0BEC5\",\"#B0BEC5\",\"#B0BEC5\",\"#B0BEC5\",\"#B0BEC5\",\"#B0BEC5\",\"#B0BEC5\",\"#B0BEC5\",\"#B0BEC5\",\"#B0BEC5\",\"#B0BEC5\",\"#B0BEC5\",\"#B0BEC5\",\"#B0BEC5\",\"#B0BEC5\",\"#B0BEC5\",\"#B0BEC5\",\"#B0BEC5\",\"#B0BEC5\",\"#B0BEC5\",\"#B0BEC5\",\"#B0BEC5\",\"red\",\"#B0BEC5\",\"#B0BEC5\",\"#B0BEC5\",\"#B0BEC5\",\"#B0BEC5\",\"#B0BEC5\",\"#B0BEC5\",\"#B0BEC5\",\"#B0BEC5\",\"#B0BEC5\"]]}],\"label\":\"Topic 22\",\"method\":\"update\"},{\"args\":[{\"marker.color\":[[\"#B0BEC5\",\"#B0BEC5\",\"#B0BEC5\",\"#B0BEC5\",\"#B0BEC5\",\"#B0BEC5\",\"#B0BEC5\",\"#B0BEC5\",\"#B0BEC5\",\"#B0BEC5\",\"#B0BEC5\",\"#B0BEC5\",\"#B0BEC5\",\"#B0BEC5\",\"#B0BEC5\",\"#B0BEC5\",\"#B0BEC5\",\"#B0BEC5\",\"#B0BEC5\",\"#B0BEC5\",\"#B0BEC5\",\"#B0BEC5\",\"#B0BEC5\",\"red\",\"#B0BEC5\",\"#B0BEC5\",\"#B0BEC5\",\"#B0BEC5\",\"#B0BEC5\",\"#B0BEC5\",\"#B0BEC5\",\"#B0BEC5\",\"#B0BEC5\"]]}],\"label\":\"Topic 23\",\"method\":\"update\"},{\"args\":[{\"marker.color\":[[\"#B0BEC5\",\"#B0BEC5\",\"#B0BEC5\",\"#B0BEC5\",\"#B0BEC5\",\"#B0BEC5\",\"#B0BEC5\",\"#B0BEC5\",\"#B0BEC5\",\"#B0BEC5\",\"#B0BEC5\",\"#B0BEC5\",\"#B0BEC5\",\"#B0BEC5\",\"#B0BEC5\",\"#B0BEC5\",\"#B0BEC5\",\"#B0BEC5\",\"#B0BEC5\",\"#B0BEC5\",\"#B0BEC5\",\"#B0BEC5\",\"#B0BEC5\",\"#B0BEC5\",\"red\",\"#B0BEC5\",\"#B0BEC5\",\"#B0BEC5\",\"#B0BEC5\",\"#B0BEC5\",\"#B0BEC5\",\"#B0BEC5\",\"#B0BEC5\"]]}],\"label\":\"Topic 24\",\"method\":\"update\"},{\"args\":[{\"marker.color\":[[\"#B0BEC5\",\"#B0BEC5\",\"#B0BEC5\",\"#B0BEC5\",\"#B0BEC5\",\"#B0BEC5\",\"#B0BEC5\",\"#B0BEC5\",\"#B0BEC5\",\"#B0BEC5\",\"#B0BEC5\",\"#B0BEC5\",\"#B0BEC5\",\"#B0BEC5\",\"#B0BEC5\",\"#B0BEC5\",\"#B0BEC5\",\"#B0BEC5\",\"#B0BEC5\",\"#B0BEC5\",\"#B0BEC5\",\"#B0BEC5\",\"#B0BEC5\",\"#B0BEC5\",\"#B0BEC5\",\"red\",\"#B0BEC5\",\"#B0BEC5\",\"#B0BEC5\",\"#B0BEC5\",\"#B0BEC5\",\"#B0BEC5\",\"#B0BEC5\"]]}],\"label\":\"Topic 25\",\"method\":\"update\"},{\"args\":[{\"marker.color\":[[\"#B0BEC5\",\"#B0BEC5\",\"#B0BEC5\",\"#B0BEC5\",\"#B0BEC5\",\"#B0BEC5\",\"#B0BEC5\",\"#B0BEC5\",\"#B0BEC5\",\"#B0BEC5\",\"#B0BEC5\",\"#B0BEC5\",\"#B0BEC5\",\"#B0BEC5\",\"#B0BEC5\",\"#B0BEC5\",\"#B0BEC5\",\"#B0BEC5\",\"#B0BEC5\",\"#B0BEC5\",\"#B0BEC5\",\"#B0BEC5\",\"#B0BEC5\",\"#B0BEC5\",\"#B0BEC5\",\"#B0BEC5\",\"red\",\"#B0BEC5\",\"#B0BEC5\",\"#B0BEC5\",\"#B0BEC5\",\"#B0BEC5\",\"#B0BEC5\"]]}],\"label\":\"Topic 26\",\"method\":\"update\"},{\"args\":[{\"marker.color\":[[\"#B0BEC5\",\"#B0BEC5\",\"#B0BEC5\",\"#B0BEC5\",\"#B0BEC5\",\"#B0BEC5\",\"#B0BEC5\",\"#B0BEC5\",\"#B0BEC5\",\"#B0BEC5\",\"#B0BEC5\",\"#B0BEC5\",\"#B0BEC5\",\"#B0BEC5\",\"#B0BEC5\",\"#B0BEC5\",\"#B0BEC5\",\"#B0BEC5\",\"#B0BEC5\",\"#B0BEC5\",\"#B0BEC5\",\"#B0BEC5\",\"#B0BEC5\",\"#B0BEC5\",\"#B0BEC5\",\"#B0BEC5\",\"#B0BEC5\",\"red\",\"#B0BEC5\",\"#B0BEC5\",\"#B0BEC5\",\"#B0BEC5\",\"#B0BEC5\"]]}],\"label\":\"Topic 27\",\"method\":\"update\"},{\"args\":[{\"marker.color\":[[\"#B0BEC5\",\"#B0BEC5\",\"#B0BEC5\",\"#B0BEC5\",\"#B0BEC5\",\"#B0BEC5\",\"#B0BEC5\",\"#B0BEC5\",\"#B0BEC5\",\"#B0BEC5\",\"#B0BEC5\",\"#B0BEC5\",\"#B0BEC5\",\"#B0BEC5\",\"#B0BEC5\",\"#B0BEC5\",\"#B0BEC5\",\"#B0BEC5\",\"#B0BEC5\",\"#B0BEC5\",\"#B0BEC5\",\"#B0BEC5\",\"#B0BEC5\",\"#B0BEC5\",\"#B0BEC5\",\"#B0BEC5\",\"#B0BEC5\",\"#B0BEC5\",\"red\",\"#B0BEC5\",\"#B0BEC5\",\"#B0BEC5\",\"#B0BEC5\"]]}],\"label\":\"Topic 28\",\"method\":\"update\"},{\"args\":[{\"marker.color\":[[\"#B0BEC5\",\"#B0BEC5\",\"#B0BEC5\",\"#B0BEC5\",\"#B0BEC5\",\"#B0BEC5\",\"#B0BEC5\",\"#B0BEC5\",\"#B0BEC5\",\"#B0BEC5\",\"#B0BEC5\",\"#B0BEC5\",\"#B0BEC5\",\"#B0BEC5\",\"#B0BEC5\",\"#B0BEC5\",\"#B0BEC5\",\"#B0BEC5\",\"#B0BEC5\",\"#B0BEC5\",\"#B0BEC5\",\"#B0BEC5\",\"#B0BEC5\",\"#B0BEC5\",\"#B0BEC5\",\"#B0BEC5\",\"#B0BEC5\",\"#B0BEC5\",\"#B0BEC5\",\"red\",\"#B0BEC5\",\"#B0BEC5\",\"#B0BEC5\"]]}],\"label\":\"Topic 29\",\"method\":\"update\"},{\"args\":[{\"marker.color\":[[\"#B0BEC5\",\"#B0BEC5\",\"#B0BEC5\",\"#B0BEC5\",\"#B0BEC5\",\"#B0BEC5\",\"#B0BEC5\",\"#B0BEC5\",\"#B0BEC5\",\"#B0BEC5\",\"#B0BEC5\",\"#B0BEC5\",\"#B0BEC5\",\"#B0BEC5\",\"#B0BEC5\",\"#B0BEC5\",\"#B0BEC5\",\"#B0BEC5\",\"#B0BEC5\",\"#B0BEC5\",\"#B0BEC5\",\"#B0BEC5\",\"#B0BEC5\",\"#B0BEC5\",\"#B0BEC5\",\"#B0BEC5\",\"#B0BEC5\",\"#B0BEC5\",\"#B0BEC5\",\"#B0BEC5\",\"red\",\"#B0BEC5\",\"#B0BEC5\"]]}],\"label\":\"Topic 30\",\"method\":\"update\"},{\"args\":[{\"marker.color\":[[\"#B0BEC5\",\"#B0BEC5\",\"#B0BEC5\",\"#B0BEC5\",\"#B0BEC5\",\"#B0BEC5\",\"#B0BEC5\",\"#B0BEC5\",\"#B0BEC5\",\"#B0BEC5\",\"#B0BEC5\",\"#B0BEC5\",\"#B0BEC5\",\"#B0BEC5\",\"#B0BEC5\",\"#B0BEC5\",\"#B0BEC5\",\"#B0BEC5\",\"#B0BEC5\",\"#B0BEC5\",\"#B0BEC5\",\"#B0BEC5\",\"#B0BEC5\",\"#B0BEC5\",\"#B0BEC5\",\"#B0BEC5\",\"#B0BEC5\",\"#B0BEC5\",\"#B0BEC5\",\"#B0BEC5\",\"#B0BEC5\",\"red\",\"#B0BEC5\"]]}],\"label\":\"Topic 31\",\"method\":\"update\"},{\"args\":[{\"marker.color\":[[\"#B0BEC5\",\"#B0BEC5\",\"#B0BEC5\",\"#B0BEC5\",\"#B0BEC5\",\"#B0BEC5\",\"#B0BEC5\",\"#B0BEC5\",\"#B0BEC5\",\"#B0BEC5\",\"#B0BEC5\",\"#B0BEC5\",\"#B0BEC5\",\"#B0BEC5\",\"#B0BEC5\",\"#B0BEC5\",\"#B0BEC5\",\"#B0BEC5\",\"#B0BEC5\",\"#B0BEC5\",\"#B0BEC5\",\"#B0BEC5\",\"#B0BEC5\",\"#B0BEC5\",\"#B0BEC5\",\"#B0BEC5\",\"#B0BEC5\",\"#B0BEC5\",\"#B0BEC5\",\"#B0BEC5\",\"#B0BEC5\",\"#B0BEC5\",\"red\"]]}],\"label\":\"Topic 32\",\"method\":\"update\"}]}],\"shapes\":[{\"line\":{\"color\":\"#CFD8DC\",\"width\":2},\"type\":\"line\",\"x0\":7.230028614401817,\"x1\":7.230028614401817,\"y0\":-8.372111010551453,\"y1\":20.744230937957763},{\"line\":{\"color\":\"#9E9E9E\",\"width\":2},\"type\":\"line\",\"x0\":-1.465509682893753,\"x1\":15.925566911697388,\"y0\":6.186059963703155,\"y1\":6.186059963703155}],\"annotations\":[{\"showarrow\":false,\"text\":\"D1\",\"x\":-1.465509682893753,\"y\":6.186059963703155,\"yshift\":10},{\"showarrow\":false,\"text\":\"D2\",\"x\":7.230028614401817,\"xshift\":10,\"y\":20.744230937957763}]},                        {\"responsive\": true}                    ).then(function(){\n                            \nvar gd = document.getElementById('81c383c1-bc3d-4fd1-899b-acac330d89ac');\nvar x = new MutationObserver(function (mutations, observer) {{\n        var display = window.getComputedStyle(gd).display;\n        if (!display || display === 'none') {{\n            console.log([gd, 'removed!']);\n            Plotly.purge(gd);\n            observer.disconnect();\n        }}\n}});\n\n// Listen for the removal of the full notebook cells\nvar notebookContainer = gd.closest('#notebook-container');\nif (notebookContainer) {{\n    x.observe(notebookContainer, {childList: true});\n}}\n\n// Listen for the clearing of the current output cell\nvar outputEl = gd.closest('.output');\nif (outputEl) {{\n    x.observe(outputEl, {childList: true});\n}}\n\n                        })                };                });            </script>        </div>"
     },
     "metadata": {},
     "output_type": "display_data"
    }
   ],
   "source": [
    "# To see more details of the clusters separation\n",
    "bertopic_model.visualize_topics()"
   ],
   "metadata": {
    "collapsed": false,
    "ExecuteTime": {
     "end_time": "2024-05-28T03:06:57.244694Z",
     "start_time": "2024-05-28T03:06:56.237818Z"
    }
   },
   "id": "e805875bff498ac7"
  },
  {
   "cell_type": "markdown",
   "source": [
    "#### Top Topic & Keywords"
   ],
   "metadata": {
    "collapsed": false
   },
   "id": "9acffe8c559d480f"
  },
  {
   "cell_type": "code",
   "execution_count": 126,
   "outputs": [
    {
     "data": {
      "application/vnd.plotly.v1+json": {
       "data": [
        {
         "marker": {
          "color": "#D55E00"
         },
         "orientation": "h",
         "x": [
          0.012832207991468898,
          0.01458529866848258,
          0.022068350519928122
         ],
         "y": [
          "mexican  ",
          "food  ",
          "tacos  "
         ],
         "type": "bar",
         "xaxis": "x",
         "yaxis": "y"
        },
        {
         "marker": {
          "color": "#0072B2"
         },
         "orientation": "h",
         "x": [
          0.019129265493645034,
          0.022845156927289556,
          0.02606659939759131
         ],
         "y": [
          "service  ",
          "great  ",
          "food  "
         ],
         "type": "bar",
         "xaxis": "x2",
         "yaxis": "y2"
        },
        {
         "marker": {
          "color": "#CC79A7"
         },
         "orientation": "h",
         "x": [
          0.011585554102081508,
          0.01244472175015123,
          0.014003321625553197
         ],
         "y": [
          "order  ",
          "service  ",
          "food  "
         ],
         "type": "bar",
         "xaxis": "x3",
         "yaxis": "y3"
        },
        {
         "marker": {
          "color": "#E69F00"
         },
         "orientation": "h",
         "x": [
          0.013586207083067492,
          0.013792750048177354,
          0.014501997050945825
         ],
         "y": [
          "seafood  ",
          "fish  ",
          "chowder  "
         ],
         "type": "bar",
         "xaxis": "x4",
         "yaxis": "y4"
        },
        {
         "marker": {
          "color": "#56B4E9"
         },
         "orientation": "h",
         "x": [
          0.011787626658907903,
          0.01492072956364485,
          0.06706180425007066
         ],
         "y": [
          "pizzas  ",
          "crust  ",
          "pizza  "
         ],
         "type": "bar",
         "xaxis": "x5",
         "yaxis": "y5"
        },
        {
         "marker": {
          "color": "#009E73"
         },
         "orientation": "h",
         "x": [
          0.03126426576204111,
          0.03133839395164775,
          0.03265035633011032
         ],
         "y": [
          "santa barbara  ",
          "barbara  ",
          "santa  "
         ],
         "type": "bar",
         "xaxis": "x6",
         "yaxis": "y6"
        },
        {
         "marker": {
          "color": "#F0E442"
         },
         "orientation": "h",
         "x": [
          0.015192021524363532,
          0.015231014194104005,
          0.024884866299312934
         ],
         "y": [
          "brunch  ",
          "eggs  ",
          "breakfast  "
         ],
         "type": "bar",
         "xaxis": "x7",
         "yaxis": "y7"
        },
        {
         "marker": {
          "color": "#D55E00"
         },
         "orientation": "h",
         "x": [
          0.012499020895615517,
          0.02780140200468726,
          0.03788218152447442
         ],
         "y": [
          "pickles  ",
          "sandwiches  ",
          "sandwich  "
         ],
         "type": "bar",
         "xaxis": "x8",
         "yaxis": "y8"
        },
        {
         "marker": {
          "color": "#0072B2"
         },
         "orientation": "h",
         "x": [
          0.021703032238059333,
          0.027542003750028906,
          0.04756828160849231
         ],
         "y": [
          "burgers  ",
          "fries  ",
          "burger  "
         ],
         "type": "bar",
         "xaxis": "x9",
         "yaxis": "y9"
        },
        {
         "marker": {
          "color": "#CC79A7"
         },
         "orientation": "h",
         "x": [
          0.01629025923361331,
          0.023876143760787488,
          0.05793969462130853
         ],
         "y": [
          "rolls  ",
          "roll  ",
          "sushi  "
         ],
         "type": "bar",
         "xaxis": "x10",
         "yaxis": "y10"
        }
       ],
       "layout": {
        "template": {
         "data": {
          "barpolar": [
           {
            "marker": {
             "line": {
              "color": "white",
              "width": 0.5
             },
             "pattern": {
              "fillmode": "overlay",
              "size": 10,
              "solidity": 0.2
             }
            },
            "type": "barpolar"
           }
          ],
          "bar": [
           {
            "error_x": {
             "color": "#2a3f5f"
            },
            "error_y": {
             "color": "#2a3f5f"
            },
            "marker": {
             "line": {
              "color": "white",
              "width": 0.5
             },
             "pattern": {
              "fillmode": "overlay",
              "size": 10,
              "solidity": 0.2
             }
            },
            "type": "bar"
           }
          ],
          "carpet": [
           {
            "aaxis": {
             "endlinecolor": "#2a3f5f",
             "gridcolor": "#C8D4E3",
             "linecolor": "#C8D4E3",
             "minorgridcolor": "#C8D4E3",
             "startlinecolor": "#2a3f5f"
            },
            "baxis": {
             "endlinecolor": "#2a3f5f",
             "gridcolor": "#C8D4E3",
             "linecolor": "#C8D4E3",
             "minorgridcolor": "#C8D4E3",
             "startlinecolor": "#2a3f5f"
            },
            "type": "carpet"
           }
          ],
          "choropleth": [
           {
            "colorbar": {
             "outlinewidth": 0,
             "ticks": ""
            },
            "type": "choropleth"
           }
          ],
          "contourcarpet": [
           {
            "colorbar": {
             "outlinewidth": 0,
             "ticks": ""
            },
            "type": "contourcarpet"
           }
          ],
          "contour": [
           {
            "colorbar": {
             "outlinewidth": 0,
             "ticks": ""
            },
            "colorscale": [
             [
              0.0,
              "#0d0887"
             ],
             [
              0.1111111111111111,
              "#46039f"
             ],
             [
              0.2222222222222222,
              "#7201a8"
             ],
             [
              0.3333333333333333,
              "#9c179e"
             ],
             [
              0.4444444444444444,
              "#bd3786"
             ],
             [
              0.5555555555555556,
              "#d8576b"
             ],
             [
              0.6666666666666666,
              "#ed7953"
             ],
             [
              0.7777777777777778,
              "#fb9f3a"
             ],
             [
              0.8888888888888888,
              "#fdca26"
             ],
             [
              1.0,
              "#f0f921"
             ]
            ],
            "type": "contour"
           }
          ],
          "heatmapgl": [
           {
            "colorbar": {
             "outlinewidth": 0,
             "ticks": ""
            },
            "colorscale": [
             [
              0.0,
              "#0d0887"
             ],
             [
              0.1111111111111111,
              "#46039f"
             ],
             [
              0.2222222222222222,
              "#7201a8"
             ],
             [
              0.3333333333333333,
              "#9c179e"
             ],
             [
              0.4444444444444444,
              "#bd3786"
             ],
             [
              0.5555555555555556,
              "#d8576b"
             ],
             [
              0.6666666666666666,
              "#ed7953"
             ],
             [
              0.7777777777777778,
              "#fb9f3a"
             ],
             [
              0.8888888888888888,
              "#fdca26"
             ],
             [
              1.0,
              "#f0f921"
             ]
            ],
            "type": "heatmapgl"
           }
          ],
          "heatmap": [
           {
            "colorbar": {
             "outlinewidth": 0,
             "ticks": ""
            },
            "colorscale": [
             [
              0.0,
              "#0d0887"
             ],
             [
              0.1111111111111111,
              "#46039f"
             ],
             [
              0.2222222222222222,
              "#7201a8"
             ],
             [
              0.3333333333333333,
              "#9c179e"
             ],
             [
              0.4444444444444444,
              "#bd3786"
             ],
             [
              0.5555555555555556,
              "#d8576b"
             ],
             [
              0.6666666666666666,
              "#ed7953"
             ],
             [
              0.7777777777777778,
              "#fb9f3a"
             ],
             [
              0.8888888888888888,
              "#fdca26"
             ],
             [
              1.0,
              "#f0f921"
             ]
            ],
            "type": "heatmap"
           }
          ],
          "histogram2dcontour": [
           {
            "colorbar": {
             "outlinewidth": 0,
             "ticks": ""
            },
            "colorscale": [
             [
              0.0,
              "#0d0887"
             ],
             [
              0.1111111111111111,
              "#46039f"
             ],
             [
              0.2222222222222222,
              "#7201a8"
             ],
             [
              0.3333333333333333,
              "#9c179e"
             ],
             [
              0.4444444444444444,
              "#bd3786"
             ],
             [
              0.5555555555555556,
              "#d8576b"
             ],
             [
              0.6666666666666666,
              "#ed7953"
             ],
             [
              0.7777777777777778,
              "#fb9f3a"
             ],
             [
              0.8888888888888888,
              "#fdca26"
             ],
             [
              1.0,
              "#f0f921"
             ]
            ],
            "type": "histogram2dcontour"
           }
          ],
          "histogram2d": [
           {
            "colorbar": {
             "outlinewidth": 0,
             "ticks": ""
            },
            "colorscale": [
             [
              0.0,
              "#0d0887"
             ],
             [
              0.1111111111111111,
              "#46039f"
             ],
             [
              0.2222222222222222,
              "#7201a8"
             ],
             [
              0.3333333333333333,
              "#9c179e"
             ],
             [
              0.4444444444444444,
              "#bd3786"
             ],
             [
              0.5555555555555556,
              "#d8576b"
             ],
             [
              0.6666666666666666,
              "#ed7953"
             ],
             [
              0.7777777777777778,
              "#fb9f3a"
             ],
             [
              0.8888888888888888,
              "#fdca26"
             ],
             [
              1.0,
              "#f0f921"
             ]
            ],
            "type": "histogram2d"
           }
          ],
          "histogram": [
           {
            "marker": {
             "pattern": {
              "fillmode": "overlay",
              "size": 10,
              "solidity": 0.2
             }
            },
            "type": "histogram"
           }
          ],
          "mesh3d": [
           {
            "colorbar": {
             "outlinewidth": 0,
             "ticks": ""
            },
            "type": "mesh3d"
           }
          ],
          "parcoords": [
           {
            "line": {
             "colorbar": {
              "outlinewidth": 0,
              "ticks": ""
             }
            },
            "type": "parcoords"
           }
          ],
          "pie": [
           {
            "automargin": true,
            "type": "pie"
           }
          ],
          "scatter3d": [
           {
            "line": {
             "colorbar": {
              "outlinewidth": 0,
              "ticks": ""
             }
            },
            "marker": {
             "colorbar": {
              "outlinewidth": 0,
              "ticks": ""
             }
            },
            "type": "scatter3d"
           }
          ],
          "scattercarpet": [
           {
            "marker": {
             "colorbar": {
              "outlinewidth": 0,
              "ticks": ""
             }
            },
            "type": "scattercarpet"
           }
          ],
          "scattergeo": [
           {
            "marker": {
             "colorbar": {
              "outlinewidth": 0,
              "ticks": ""
             }
            },
            "type": "scattergeo"
           }
          ],
          "scattergl": [
           {
            "marker": {
             "colorbar": {
              "outlinewidth": 0,
              "ticks": ""
             }
            },
            "type": "scattergl"
           }
          ],
          "scattermapbox": [
           {
            "marker": {
             "colorbar": {
              "outlinewidth": 0,
              "ticks": ""
             }
            },
            "type": "scattermapbox"
           }
          ],
          "scatterpolargl": [
           {
            "marker": {
             "colorbar": {
              "outlinewidth": 0,
              "ticks": ""
             }
            },
            "type": "scatterpolargl"
           }
          ],
          "scatterpolar": [
           {
            "marker": {
             "colorbar": {
              "outlinewidth": 0,
              "ticks": ""
             }
            },
            "type": "scatterpolar"
           }
          ],
          "scatter": [
           {
            "fillpattern": {
             "fillmode": "overlay",
             "size": 10,
             "solidity": 0.2
            },
            "type": "scatter"
           }
          ],
          "scatterternary": [
           {
            "marker": {
             "colorbar": {
              "outlinewidth": 0,
              "ticks": ""
             }
            },
            "type": "scatterternary"
           }
          ],
          "surface": [
           {
            "colorbar": {
             "outlinewidth": 0,
             "ticks": ""
            },
            "colorscale": [
             [
              0.0,
              "#0d0887"
             ],
             [
              0.1111111111111111,
              "#46039f"
             ],
             [
              0.2222222222222222,
              "#7201a8"
             ],
             [
              0.3333333333333333,
              "#9c179e"
             ],
             [
              0.4444444444444444,
              "#bd3786"
             ],
             [
              0.5555555555555556,
              "#d8576b"
             ],
             [
              0.6666666666666666,
              "#ed7953"
             ],
             [
              0.7777777777777778,
              "#fb9f3a"
             ],
             [
              0.8888888888888888,
              "#fdca26"
             ],
             [
              1.0,
              "#f0f921"
             ]
            ],
            "type": "surface"
           }
          ],
          "table": [
           {
            "cells": {
             "fill": {
              "color": "#EBF0F8"
             },
             "line": {
              "color": "white"
             }
            },
            "header": {
             "fill": {
              "color": "#C8D4E3"
             },
             "line": {
              "color": "white"
             }
            },
            "type": "table"
           }
          ]
         },
         "layout": {
          "annotationdefaults": {
           "arrowcolor": "#2a3f5f",
           "arrowhead": 0,
           "arrowwidth": 1
          },
          "autotypenumbers": "strict",
          "coloraxis": {
           "colorbar": {
            "outlinewidth": 0,
            "ticks": ""
           }
          },
          "colorscale": {
           "diverging": [
            [
             0,
             "#8e0152"
            ],
            [
             0.1,
             "#c51b7d"
            ],
            [
             0.2,
             "#de77ae"
            ],
            [
             0.3,
             "#f1b6da"
            ],
            [
             0.4,
             "#fde0ef"
            ],
            [
             0.5,
             "#f7f7f7"
            ],
            [
             0.6,
             "#e6f5d0"
            ],
            [
             0.7,
             "#b8e186"
            ],
            [
             0.8,
             "#7fbc41"
            ],
            [
             0.9,
             "#4d9221"
            ],
            [
             1,
             "#276419"
            ]
           ],
           "sequential": [
            [
             0.0,
             "#0d0887"
            ],
            [
             0.1111111111111111,
             "#46039f"
            ],
            [
             0.2222222222222222,
             "#7201a8"
            ],
            [
             0.3333333333333333,
             "#9c179e"
            ],
            [
             0.4444444444444444,
             "#bd3786"
            ],
            [
             0.5555555555555556,
             "#d8576b"
            ],
            [
             0.6666666666666666,
             "#ed7953"
            ],
            [
             0.7777777777777778,
             "#fb9f3a"
            ],
            [
             0.8888888888888888,
             "#fdca26"
            ],
            [
             1.0,
             "#f0f921"
            ]
           ],
           "sequentialminus": [
            [
             0.0,
             "#0d0887"
            ],
            [
             0.1111111111111111,
             "#46039f"
            ],
            [
             0.2222222222222222,
             "#7201a8"
            ],
            [
             0.3333333333333333,
             "#9c179e"
            ],
            [
             0.4444444444444444,
             "#bd3786"
            ],
            [
             0.5555555555555556,
             "#d8576b"
            ],
            [
             0.6666666666666666,
             "#ed7953"
            ],
            [
             0.7777777777777778,
             "#fb9f3a"
            ],
            [
             0.8888888888888888,
             "#fdca26"
            ],
            [
             1.0,
             "#f0f921"
            ]
           ]
          },
          "colorway": [
           "#636efa",
           "#EF553B",
           "#00cc96",
           "#ab63fa",
           "#FFA15A",
           "#19d3f3",
           "#FF6692",
           "#B6E880",
           "#FF97FF",
           "#FECB52"
          ],
          "font": {
           "color": "#2a3f5f"
          },
          "geo": {
           "bgcolor": "white",
           "lakecolor": "white",
           "landcolor": "white",
           "showlakes": true,
           "showland": true,
           "subunitcolor": "#C8D4E3"
          },
          "hoverlabel": {
           "align": "left"
          },
          "hovermode": "closest",
          "mapbox": {
           "style": "light"
          },
          "paper_bgcolor": "white",
          "plot_bgcolor": "white",
          "polar": {
           "angularaxis": {
            "gridcolor": "#EBF0F8",
            "linecolor": "#EBF0F8",
            "ticks": ""
           },
           "bgcolor": "white",
           "radialaxis": {
            "gridcolor": "#EBF0F8",
            "linecolor": "#EBF0F8",
            "ticks": ""
           }
          },
          "scene": {
           "xaxis": {
            "backgroundcolor": "white",
            "gridcolor": "#DFE8F3",
            "gridwidth": 2,
            "linecolor": "#EBF0F8",
            "showbackground": true,
            "ticks": "",
            "zerolinecolor": "#EBF0F8"
           },
           "yaxis": {
            "backgroundcolor": "white",
            "gridcolor": "#DFE8F3",
            "gridwidth": 2,
            "linecolor": "#EBF0F8",
            "showbackground": true,
            "ticks": "",
            "zerolinecolor": "#EBF0F8"
           },
           "zaxis": {
            "backgroundcolor": "white",
            "gridcolor": "#DFE8F3",
            "gridwidth": 2,
            "linecolor": "#EBF0F8",
            "showbackground": true,
            "ticks": "",
            "zerolinecolor": "#EBF0F8"
           }
          },
          "shapedefaults": {
           "line": {
            "color": "#2a3f5f"
           }
          },
          "ternary": {
           "aaxis": {
            "gridcolor": "#DFE8F3",
            "linecolor": "#A2B1C6",
            "ticks": ""
           },
           "baxis": {
            "gridcolor": "#DFE8F3",
            "linecolor": "#A2B1C6",
            "ticks": ""
           },
           "bgcolor": "white",
           "caxis": {
            "gridcolor": "#DFE8F3",
            "linecolor": "#A2B1C6",
            "ticks": ""
           }
          },
          "title": {
           "x": 0.05
          },
          "xaxis": {
           "automargin": true,
           "gridcolor": "#EBF0F8",
           "linecolor": "#EBF0F8",
           "ticks": "",
           "title": {
            "standoff": 15
           },
           "zerolinecolor": "#EBF0F8",
           "zerolinewidth": 2
          },
          "yaxis": {
           "automargin": true,
           "gridcolor": "#EBF0F8",
           "linecolor": "#EBF0F8",
           "ticks": "",
           "title": {
            "standoff": 15
           },
           "zerolinecolor": "#EBF0F8",
           "zerolinewidth": 2
          }
         }
        },
        "xaxis": {
         "anchor": "y",
         "domain": [
          0.0,
          0.175
         ],
         "showgrid": true
        },
        "yaxis": {
         "anchor": "x",
         "domain": [
          0.7555555555555555,
          1.0
         ],
         "showgrid": true
        },
        "xaxis2": {
         "anchor": "y2",
         "domain": [
          0.275,
          0.45
         ],
         "showgrid": true
        },
        "yaxis2": {
         "anchor": "x2",
         "domain": [
          0.7555555555555555,
          1.0
         ],
         "showgrid": true
        },
        "xaxis3": {
         "anchor": "y3",
         "domain": [
          0.55,
          0.7250000000000001
         ],
         "showgrid": true
        },
        "yaxis3": {
         "anchor": "x3",
         "domain": [
          0.7555555555555555,
          1.0
         ],
         "showgrid": true
        },
        "xaxis4": {
         "anchor": "y4",
         "domain": [
          0.825,
          1.0
         ],
         "showgrid": true
        },
        "yaxis4": {
         "anchor": "x4",
         "domain": [
          0.7555555555555555,
          1.0
         ],
         "showgrid": true
        },
        "xaxis5": {
         "anchor": "y5",
         "domain": [
          0.0,
          0.175
         ],
         "showgrid": true
        },
        "yaxis5": {
         "anchor": "x5",
         "domain": [
          0.37777777777777777,
          0.6222222222222222
         ],
         "showgrid": true
        },
        "xaxis6": {
         "anchor": "y6",
         "domain": [
          0.275,
          0.45
         ],
         "showgrid": true
        },
        "yaxis6": {
         "anchor": "x6",
         "domain": [
          0.37777777777777777,
          0.6222222222222222
         ],
         "showgrid": true
        },
        "xaxis7": {
         "anchor": "y7",
         "domain": [
          0.55,
          0.7250000000000001
         ],
         "showgrid": true
        },
        "yaxis7": {
         "anchor": "x7",
         "domain": [
          0.37777777777777777,
          0.6222222222222222
         ],
         "showgrid": true
        },
        "xaxis8": {
         "anchor": "y8",
         "domain": [
          0.825,
          1.0
         ],
         "showgrid": true
        },
        "yaxis8": {
         "anchor": "x8",
         "domain": [
          0.37777777777777777,
          0.6222222222222222
         ],
         "showgrid": true
        },
        "xaxis9": {
         "anchor": "y9",
         "domain": [
          0.0,
          0.175
         ],
         "showgrid": true
        },
        "yaxis9": {
         "anchor": "x9",
         "domain": [
          0.0,
          0.24444444444444446
         ],
         "showgrid": true
        },
        "xaxis10": {
         "anchor": "y10",
         "domain": [
          0.275,
          0.45
         ],
         "showgrid": true
        },
        "yaxis10": {
         "anchor": "x10",
         "domain": [
          0.0,
          0.24444444444444446
         ],
         "showgrid": true
        },
        "xaxis11": {
         "anchor": "y11",
         "domain": [
          0.55,
          0.7250000000000001
         ],
         "showgrid": true
        },
        "yaxis11": {
         "anchor": "x11",
         "domain": [
          0.0,
          0.24444444444444446
         ],
         "showgrid": true
        },
        "xaxis12": {
         "anchor": "y12",
         "domain": [
          0.825,
          1.0
         ],
         "showgrid": true
        },
        "yaxis12": {
         "anchor": "x12",
         "domain": [
          0.0,
          0.24444444444444446
         ],
         "showgrid": true
        },
        "annotations": [
         {
          "font": {
           "size": 16
          },
          "showarrow": false,
          "text": "0_tacos_food_mexican_taco",
          "x": 0.0875,
          "xanchor": "center",
          "xref": "paper",
          "y": 1.0,
          "yanchor": "bottom",
          "yref": "paper"
         },
         {
          "font": {
           "size": 16
          },
          "showarrow": false,
          "text": "1_food_great_service_place",
          "x": 0.36250000000000004,
          "xanchor": "center",
          "xref": "paper",
          "y": 1.0,
          "yanchor": "bottom",
          "yref": "paper"
         },
         {
          "font": {
           "size": 16
          },
          "showarrow": false,
          "text": "2_food_service_order_said",
          "x": 0.6375000000000001,
          "xanchor": "center",
          "xref": "paper",
          "y": 1.0,
          "yanchor": "bottom",
          "yref": "paper"
         },
         {
          "font": {
           "size": 16
          },
          "showarrow": false,
          "text": "3_chowder_fish_seafood_crab",
          "x": 0.9125,
          "xanchor": "center",
          "xref": "paper",
          "y": 1.0,
          "yanchor": "bottom",
          "yref": "paper"
         },
         {
          "font": {
           "size": 16
          },
          "showarrow": false,
          "text": "4_pizza_crust_pizzas_good",
          "x": 0.0875,
          "xanchor": "center",
          "xref": "paper",
          "y": 0.6222222222222222,
          "yanchor": "bottom",
          "yref": "paper"
         },
         {
          "font": {
           "size": 16
          },
          "showarrow": false,
          "text": "5_santa_barbara_santa barbara_food",
          "x": 0.36250000000000004,
          "xanchor": "center",
          "xref": "paper",
          "y": 0.6222222222222222,
          "yanchor": "bottom",
          "yref": "paper"
         },
         {
          "font": {
           "size": 16
          },
          "showarrow": false,
          "text": "6_breakfast_eggs_brunch_benedict",
          "x": 0.6375000000000001,
          "xanchor": "center",
          "xref": "paper",
          "y": 0.6222222222222222,
          "yanchor": "bottom",
          "yref": "paper"
         },
         {
          "font": {
           "size": 16
          },
          "showarrow": false,
          "text": "7_sandwich_sandwiches_pickles_salad",
          "x": 0.9125,
          "xanchor": "center",
          "xref": "paper",
          "y": 0.6222222222222222,
          "yanchor": "bottom",
          "yref": "paper"
         },
         {
          "font": {
           "size": 16
          },
          "showarrow": false,
          "text": "8_burger_fries_burgers_good",
          "x": 0.0875,
          "xanchor": "center",
          "xref": "paper",
          "y": 0.24444444444444446,
          "yanchor": "bottom",
          "yref": "paper"
         },
         {
          "font": {
           "size": 16
          },
          "showarrow": false,
          "text": "9_sushi_roll_rolls_fresh",
          "x": 0.36250000000000004,
          "xanchor": "center",
          "xref": "paper",
          "y": 0.24444444444444446,
          "yanchor": "bottom",
          "yref": "paper"
         }
        ],
        "title": {
         "font": {
          "size": 22,
          "color": "Black"
         },
         "text": "Top-10 Topic & Keywords",
         "x": 0.5,
         "xanchor": "center",
         "yanchor": "top"
        },
        "hoverlabel": {
         "font": {
          "size": 16,
          "family": "Rockwell"
         },
         "bgcolor": "white"
        },
        "showlegend": false,
        "width": 1400,
        "height": 750
       },
       "config": {
        "plotlyServerURL": "https://plot.ly"
       }
      },
      "text/html": "<div>                            <div id=\"7bbadb8d-fdbf-4382-bd84-5d3c344581ff\" class=\"plotly-graph-div\" style=\"height:750px; width:1400px;\"></div>            <script type=\"text/javascript\">                require([\"plotly\"], function(Plotly) {                    window.PLOTLYENV=window.PLOTLYENV || {};                                    if (document.getElementById(\"7bbadb8d-fdbf-4382-bd84-5d3c344581ff\")) {                    Plotly.newPlot(                        \"7bbadb8d-fdbf-4382-bd84-5d3c344581ff\",                        [{\"marker\":{\"color\":\"#D55E00\"},\"orientation\":\"h\",\"x\":[0.012832207991468898,0.01458529866848258,0.022068350519928122],\"y\":[\"mexican  \",\"food  \",\"tacos  \"],\"type\":\"bar\",\"xaxis\":\"x\",\"yaxis\":\"y\"},{\"marker\":{\"color\":\"#0072B2\"},\"orientation\":\"h\",\"x\":[0.019129265493645034,0.022845156927289556,0.02606659939759131],\"y\":[\"service  \",\"great  \",\"food  \"],\"type\":\"bar\",\"xaxis\":\"x2\",\"yaxis\":\"y2\"},{\"marker\":{\"color\":\"#CC79A7\"},\"orientation\":\"h\",\"x\":[0.011585554102081508,0.01244472175015123,0.014003321625553197],\"y\":[\"order  \",\"service  \",\"food  \"],\"type\":\"bar\",\"xaxis\":\"x3\",\"yaxis\":\"y3\"},{\"marker\":{\"color\":\"#E69F00\"},\"orientation\":\"h\",\"x\":[0.013586207083067492,0.013792750048177354,0.014501997050945825],\"y\":[\"seafood  \",\"fish  \",\"chowder  \"],\"type\":\"bar\",\"xaxis\":\"x4\",\"yaxis\":\"y4\"},{\"marker\":{\"color\":\"#56B4E9\"},\"orientation\":\"h\",\"x\":[0.011787626658907903,0.01492072956364485,0.06706180425007066],\"y\":[\"pizzas  \",\"crust  \",\"pizza  \"],\"type\":\"bar\",\"xaxis\":\"x5\",\"yaxis\":\"y5\"},{\"marker\":{\"color\":\"#009E73\"},\"orientation\":\"h\",\"x\":[0.03126426576204111,0.03133839395164775,0.03265035633011032],\"y\":[\"santa barbara  \",\"barbara  \",\"santa  \"],\"type\":\"bar\",\"xaxis\":\"x6\",\"yaxis\":\"y6\"},{\"marker\":{\"color\":\"#F0E442\"},\"orientation\":\"h\",\"x\":[0.015192021524363532,0.015231014194104005,0.024884866299312934],\"y\":[\"brunch  \",\"eggs  \",\"breakfast  \"],\"type\":\"bar\",\"xaxis\":\"x7\",\"yaxis\":\"y7\"},{\"marker\":{\"color\":\"#D55E00\"},\"orientation\":\"h\",\"x\":[0.012499020895615517,0.02780140200468726,0.03788218152447442],\"y\":[\"pickles  \",\"sandwiches  \",\"sandwich  \"],\"type\":\"bar\",\"xaxis\":\"x8\",\"yaxis\":\"y8\"},{\"marker\":{\"color\":\"#0072B2\"},\"orientation\":\"h\",\"x\":[0.021703032238059333,0.027542003750028906,0.04756828160849231],\"y\":[\"burgers  \",\"fries  \",\"burger  \"],\"type\":\"bar\",\"xaxis\":\"x9\",\"yaxis\":\"y9\"},{\"marker\":{\"color\":\"#CC79A7\"},\"orientation\":\"h\",\"x\":[0.01629025923361331,0.023876143760787488,0.05793969462130853],\"y\":[\"rolls  \",\"roll  \",\"sushi  \"],\"type\":\"bar\",\"xaxis\":\"x10\",\"yaxis\":\"y10\"}],                        {\"template\":{\"data\":{\"barpolar\":[{\"marker\":{\"line\":{\"color\":\"white\",\"width\":0.5},\"pattern\":{\"fillmode\":\"overlay\",\"size\":10,\"solidity\":0.2}},\"type\":\"barpolar\"}],\"bar\":[{\"error_x\":{\"color\":\"#2a3f5f\"},\"error_y\":{\"color\":\"#2a3f5f\"},\"marker\":{\"line\":{\"color\":\"white\",\"width\":0.5},\"pattern\":{\"fillmode\":\"overlay\",\"size\":10,\"solidity\":0.2}},\"type\":\"bar\"}],\"carpet\":[{\"aaxis\":{\"endlinecolor\":\"#2a3f5f\",\"gridcolor\":\"#C8D4E3\",\"linecolor\":\"#C8D4E3\",\"minorgridcolor\":\"#C8D4E3\",\"startlinecolor\":\"#2a3f5f\"},\"baxis\":{\"endlinecolor\":\"#2a3f5f\",\"gridcolor\":\"#C8D4E3\",\"linecolor\":\"#C8D4E3\",\"minorgridcolor\":\"#C8D4E3\",\"startlinecolor\":\"#2a3f5f\"},\"type\":\"carpet\"}],\"choropleth\":[{\"colorbar\":{\"outlinewidth\":0,\"ticks\":\"\"},\"type\":\"choropleth\"}],\"contourcarpet\":[{\"colorbar\":{\"outlinewidth\":0,\"ticks\":\"\"},\"type\":\"contourcarpet\"}],\"contour\":[{\"colorbar\":{\"outlinewidth\":0,\"ticks\":\"\"},\"colorscale\":[[0.0,\"#0d0887\"],[0.1111111111111111,\"#46039f\"],[0.2222222222222222,\"#7201a8\"],[0.3333333333333333,\"#9c179e\"],[0.4444444444444444,\"#bd3786\"],[0.5555555555555556,\"#d8576b\"],[0.6666666666666666,\"#ed7953\"],[0.7777777777777778,\"#fb9f3a\"],[0.8888888888888888,\"#fdca26\"],[1.0,\"#f0f921\"]],\"type\":\"contour\"}],\"heatmapgl\":[{\"colorbar\":{\"outlinewidth\":0,\"ticks\":\"\"},\"colorscale\":[[0.0,\"#0d0887\"],[0.1111111111111111,\"#46039f\"],[0.2222222222222222,\"#7201a8\"],[0.3333333333333333,\"#9c179e\"],[0.4444444444444444,\"#bd3786\"],[0.5555555555555556,\"#d8576b\"],[0.6666666666666666,\"#ed7953\"],[0.7777777777777778,\"#fb9f3a\"],[0.8888888888888888,\"#fdca26\"],[1.0,\"#f0f921\"]],\"type\":\"heatmapgl\"}],\"heatmap\":[{\"colorbar\":{\"outlinewidth\":0,\"ticks\":\"\"},\"colorscale\":[[0.0,\"#0d0887\"],[0.1111111111111111,\"#46039f\"],[0.2222222222222222,\"#7201a8\"],[0.3333333333333333,\"#9c179e\"],[0.4444444444444444,\"#bd3786\"],[0.5555555555555556,\"#d8576b\"],[0.6666666666666666,\"#ed7953\"],[0.7777777777777778,\"#fb9f3a\"],[0.8888888888888888,\"#fdca26\"],[1.0,\"#f0f921\"]],\"type\":\"heatmap\"}],\"histogram2dcontour\":[{\"colorbar\":{\"outlinewidth\":0,\"ticks\":\"\"},\"colorscale\":[[0.0,\"#0d0887\"],[0.1111111111111111,\"#46039f\"],[0.2222222222222222,\"#7201a8\"],[0.3333333333333333,\"#9c179e\"],[0.4444444444444444,\"#bd3786\"],[0.5555555555555556,\"#d8576b\"],[0.6666666666666666,\"#ed7953\"],[0.7777777777777778,\"#fb9f3a\"],[0.8888888888888888,\"#fdca26\"],[1.0,\"#f0f921\"]],\"type\":\"histogram2dcontour\"}],\"histogram2d\":[{\"colorbar\":{\"outlinewidth\":0,\"ticks\":\"\"},\"colorscale\":[[0.0,\"#0d0887\"],[0.1111111111111111,\"#46039f\"],[0.2222222222222222,\"#7201a8\"],[0.3333333333333333,\"#9c179e\"],[0.4444444444444444,\"#bd3786\"],[0.5555555555555556,\"#d8576b\"],[0.6666666666666666,\"#ed7953\"],[0.7777777777777778,\"#fb9f3a\"],[0.8888888888888888,\"#fdca26\"],[1.0,\"#f0f921\"]],\"type\":\"histogram2d\"}],\"histogram\":[{\"marker\":{\"pattern\":{\"fillmode\":\"overlay\",\"size\":10,\"solidity\":0.2}},\"type\":\"histogram\"}],\"mesh3d\":[{\"colorbar\":{\"outlinewidth\":0,\"ticks\":\"\"},\"type\":\"mesh3d\"}],\"parcoords\":[{\"line\":{\"colorbar\":{\"outlinewidth\":0,\"ticks\":\"\"}},\"type\":\"parcoords\"}],\"pie\":[{\"automargin\":true,\"type\":\"pie\"}],\"scatter3d\":[{\"line\":{\"colorbar\":{\"outlinewidth\":0,\"ticks\":\"\"}},\"marker\":{\"colorbar\":{\"outlinewidth\":0,\"ticks\":\"\"}},\"type\":\"scatter3d\"}],\"scattercarpet\":[{\"marker\":{\"colorbar\":{\"outlinewidth\":0,\"ticks\":\"\"}},\"type\":\"scattercarpet\"}],\"scattergeo\":[{\"marker\":{\"colorbar\":{\"outlinewidth\":0,\"ticks\":\"\"}},\"type\":\"scattergeo\"}],\"scattergl\":[{\"marker\":{\"colorbar\":{\"outlinewidth\":0,\"ticks\":\"\"}},\"type\":\"scattergl\"}],\"scattermapbox\":[{\"marker\":{\"colorbar\":{\"outlinewidth\":0,\"ticks\":\"\"}},\"type\":\"scattermapbox\"}],\"scatterpolargl\":[{\"marker\":{\"colorbar\":{\"outlinewidth\":0,\"ticks\":\"\"}},\"type\":\"scatterpolargl\"}],\"scatterpolar\":[{\"marker\":{\"colorbar\":{\"outlinewidth\":0,\"ticks\":\"\"}},\"type\":\"scatterpolar\"}],\"scatter\":[{\"fillpattern\":{\"fillmode\":\"overlay\",\"size\":10,\"solidity\":0.2},\"type\":\"scatter\"}],\"scatterternary\":[{\"marker\":{\"colorbar\":{\"outlinewidth\":0,\"ticks\":\"\"}},\"type\":\"scatterternary\"}],\"surface\":[{\"colorbar\":{\"outlinewidth\":0,\"ticks\":\"\"},\"colorscale\":[[0.0,\"#0d0887\"],[0.1111111111111111,\"#46039f\"],[0.2222222222222222,\"#7201a8\"],[0.3333333333333333,\"#9c179e\"],[0.4444444444444444,\"#bd3786\"],[0.5555555555555556,\"#d8576b\"],[0.6666666666666666,\"#ed7953\"],[0.7777777777777778,\"#fb9f3a\"],[0.8888888888888888,\"#fdca26\"],[1.0,\"#f0f921\"]],\"type\":\"surface\"}],\"table\":[{\"cells\":{\"fill\":{\"color\":\"#EBF0F8\"},\"line\":{\"color\":\"white\"}},\"header\":{\"fill\":{\"color\":\"#C8D4E3\"},\"line\":{\"color\":\"white\"}},\"type\":\"table\"}]},\"layout\":{\"annotationdefaults\":{\"arrowcolor\":\"#2a3f5f\",\"arrowhead\":0,\"arrowwidth\":1},\"autotypenumbers\":\"strict\",\"coloraxis\":{\"colorbar\":{\"outlinewidth\":0,\"ticks\":\"\"}},\"colorscale\":{\"diverging\":[[0,\"#8e0152\"],[0.1,\"#c51b7d\"],[0.2,\"#de77ae\"],[0.3,\"#f1b6da\"],[0.4,\"#fde0ef\"],[0.5,\"#f7f7f7\"],[0.6,\"#e6f5d0\"],[0.7,\"#b8e186\"],[0.8,\"#7fbc41\"],[0.9,\"#4d9221\"],[1,\"#276419\"]],\"sequential\":[[0.0,\"#0d0887\"],[0.1111111111111111,\"#46039f\"],[0.2222222222222222,\"#7201a8\"],[0.3333333333333333,\"#9c179e\"],[0.4444444444444444,\"#bd3786\"],[0.5555555555555556,\"#d8576b\"],[0.6666666666666666,\"#ed7953\"],[0.7777777777777778,\"#fb9f3a\"],[0.8888888888888888,\"#fdca26\"],[1.0,\"#f0f921\"]],\"sequentialminus\":[[0.0,\"#0d0887\"],[0.1111111111111111,\"#46039f\"],[0.2222222222222222,\"#7201a8\"],[0.3333333333333333,\"#9c179e\"],[0.4444444444444444,\"#bd3786\"],[0.5555555555555556,\"#d8576b\"],[0.6666666666666666,\"#ed7953\"],[0.7777777777777778,\"#fb9f3a\"],[0.8888888888888888,\"#fdca26\"],[1.0,\"#f0f921\"]]},\"colorway\":[\"#636efa\",\"#EF553B\",\"#00cc96\",\"#ab63fa\",\"#FFA15A\",\"#19d3f3\",\"#FF6692\",\"#B6E880\",\"#FF97FF\",\"#FECB52\"],\"font\":{\"color\":\"#2a3f5f\"},\"geo\":{\"bgcolor\":\"white\",\"lakecolor\":\"white\",\"landcolor\":\"white\",\"showlakes\":true,\"showland\":true,\"subunitcolor\":\"#C8D4E3\"},\"hoverlabel\":{\"align\":\"left\"},\"hovermode\":\"closest\",\"mapbox\":{\"style\":\"light\"},\"paper_bgcolor\":\"white\",\"plot_bgcolor\":\"white\",\"polar\":{\"angularaxis\":{\"gridcolor\":\"#EBF0F8\",\"linecolor\":\"#EBF0F8\",\"ticks\":\"\"},\"bgcolor\":\"white\",\"radialaxis\":{\"gridcolor\":\"#EBF0F8\",\"linecolor\":\"#EBF0F8\",\"ticks\":\"\"}},\"scene\":{\"xaxis\":{\"backgroundcolor\":\"white\",\"gridcolor\":\"#DFE8F3\",\"gridwidth\":2,\"linecolor\":\"#EBF0F8\",\"showbackground\":true,\"ticks\":\"\",\"zerolinecolor\":\"#EBF0F8\"},\"yaxis\":{\"backgroundcolor\":\"white\",\"gridcolor\":\"#DFE8F3\",\"gridwidth\":2,\"linecolor\":\"#EBF0F8\",\"showbackground\":true,\"ticks\":\"\",\"zerolinecolor\":\"#EBF0F8\"},\"zaxis\":{\"backgroundcolor\":\"white\",\"gridcolor\":\"#DFE8F3\",\"gridwidth\":2,\"linecolor\":\"#EBF0F8\",\"showbackground\":true,\"ticks\":\"\",\"zerolinecolor\":\"#EBF0F8\"}},\"shapedefaults\":{\"line\":{\"color\":\"#2a3f5f\"}},\"ternary\":{\"aaxis\":{\"gridcolor\":\"#DFE8F3\",\"linecolor\":\"#A2B1C6\",\"ticks\":\"\"},\"baxis\":{\"gridcolor\":\"#DFE8F3\",\"linecolor\":\"#A2B1C6\",\"ticks\":\"\"},\"bgcolor\":\"white\",\"caxis\":{\"gridcolor\":\"#DFE8F3\",\"linecolor\":\"#A2B1C6\",\"ticks\":\"\"}},\"title\":{\"x\":0.05},\"xaxis\":{\"automargin\":true,\"gridcolor\":\"#EBF0F8\",\"linecolor\":\"#EBF0F8\",\"ticks\":\"\",\"title\":{\"standoff\":15},\"zerolinecolor\":\"#EBF0F8\",\"zerolinewidth\":2},\"yaxis\":{\"automargin\":true,\"gridcolor\":\"#EBF0F8\",\"linecolor\":\"#EBF0F8\",\"ticks\":\"\",\"title\":{\"standoff\":15},\"zerolinecolor\":\"#EBF0F8\",\"zerolinewidth\":2}}},\"xaxis\":{\"anchor\":\"y\",\"domain\":[0.0,0.175],\"showgrid\":true},\"yaxis\":{\"anchor\":\"x\",\"domain\":[0.7555555555555555,1.0],\"showgrid\":true},\"xaxis2\":{\"anchor\":\"y2\",\"domain\":[0.275,0.45],\"showgrid\":true},\"yaxis2\":{\"anchor\":\"x2\",\"domain\":[0.7555555555555555,1.0],\"showgrid\":true},\"xaxis3\":{\"anchor\":\"y3\",\"domain\":[0.55,0.7250000000000001],\"showgrid\":true},\"yaxis3\":{\"anchor\":\"x3\",\"domain\":[0.7555555555555555,1.0],\"showgrid\":true},\"xaxis4\":{\"anchor\":\"y4\",\"domain\":[0.825,1.0],\"showgrid\":true},\"yaxis4\":{\"anchor\":\"x4\",\"domain\":[0.7555555555555555,1.0],\"showgrid\":true},\"xaxis5\":{\"anchor\":\"y5\",\"domain\":[0.0,0.175],\"showgrid\":true},\"yaxis5\":{\"anchor\":\"x5\",\"domain\":[0.37777777777777777,0.6222222222222222],\"showgrid\":true},\"xaxis6\":{\"anchor\":\"y6\",\"domain\":[0.275,0.45],\"showgrid\":true},\"yaxis6\":{\"anchor\":\"x6\",\"domain\":[0.37777777777777777,0.6222222222222222],\"showgrid\":true},\"xaxis7\":{\"anchor\":\"y7\",\"domain\":[0.55,0.7250000000000001],\"showgrid\":true},\"yaxis7\":{\"anchor\":\"x7\",\"domain\":[0.37777777777777777,0.6222222222222222],\"showgrid\":true},\"xaxis8\":{\"anchor\":\"y8\",\"domain\":[0.825,1.0],\"showgrid\":true},\"yaxis8\":{\"anchor\":\"x8\",\"domain\":[0.37777777777777777,0.6222222222222222],\"showgrid\":true},\"xaxis9\":{\"anchor\":\"y9\",\"domain\":[0.0,0.175],\"showgrid\":true},\"yaxis9\":{\"anchor\":\"x9\",\"domain\":[0.0,0.24444444444444446],\"showgrid\":true},\"xaxis10\":{\"anchor\":\"y10\",\"domain\":[0.275,0.45],\"showgrid\":true},\"yaxis10\":{\"anchor\":\"x10\",\"domain\":[0.0,0.24444444444444446],\"showgrid\":true},\"xaxis11\":{\"anchor\":\"y11\",\"domain\":[0.55,0.7250000000000001],\"showgrid\":true},\"yaxis11\":{\"anchor\":\"x11\",\"domain\":[0.0,0.24444444444444446],\"showgrid\":true},\"xaxis12\":{\"anchor\":\"y12\",\"domain\":[0.825,1.0],\"showgrid\":true},\"yaxis12\":{\"anchor\":\"x12\",\"domain\":[0.0,0.24444444444444446],\"showgrid\":true},\"annotations\":[{\"font\":{\"size\":16},\"showarrow\":false,\"text\":\"0_tacos_food_mexican_taco\",\"x\":0.0875,\"xanchor\":\"center\",\"xref\":\"paper\",\"y\":1.0,\"yanchor\":\"bottom\",\"yref\":\"paper\"},{\"font\":{\"size\":16},\"showarrow\":false,\"text\":\"1_food_great_service_place\",\"x\":0.36250000000000004,\"xanchor\":\"center\",\"xref\":\"paper\",\"y\":1.0,\"yanchor\":\"bottom\",\"yref\":\"paper\"},{\"font\":{\"size\":16},\"showarrow\":false,\"text\":\"2_food_service_order_said\",\"x\":0.6375000000000001,\"xanchor\":\"center\",\"xref\":\"paper\",\"y\":1.0,\"yanchor\":\"bottom\",\"yref\":\"paper\"},{\"font\":{\"size\":16},\"showarrow\":false,\"text\":\"3_chowder_fish_seafood_crab\",\"x\":0.9125,\"xanchor\":\"center\",\"xref\":\"paper\",\"y\":1.0,\"yanchor\":\"bottom\",\"yref\":\"paper\"},{\"font\":{\"size\":16},\"showarrow\":false,\"text\":\"4_pizza_crust_pizzas_good\",\"x\":0.0875,\"xanchor\":\"center\",\"xref\":\"paper\",\"y\":0.6222222222222222,\"yanchor\":\"bottom\",\"yref\":\"paper\"},{\"font\":{\"size\":16},\"showarrow\":false,\"text\":\"5_santa_barbara_santa barbara_food\",\"x\":0.36250000000000004,\"xanchor\":\"center\",\"xref\":\"paper\",\"y\":0.6222222222222222,\"yanchor\":\"bottom\",\"yref\":\"paper\"},{\"font\":{\"size\":16},\"showarrow\":false,\"text\":\"6_breakfast_eggs_brunch_benedict\",\"x\":0.6375000000000001,\"xanchor\":\"center\",\"xref\":\"paper\",\"y\":0.6222222222222222,\"yanchor\":\"bottom\",\"yref\":\"paper\"},{\"font\":{\"size\":16},\"showarrow\":false,\"text\":\"7_sandwich_sandwiches_pickles_salad\",\"x\":0.9125,\"xanchor\":\"center\",\"xref\":\"paper\",\"y\":0.6222222222222222,\"yanchor\":\"bottom\",\"yref\":\"paper\"},{\"font\":{\"size\":16},\"showarrow\":false,\"text\":\"8_burger_fries_burgers_good\",\"x\":0.0875,\"xanchor\":\"center\",\"xref\":\"paper\",\"y\":0.24444444444444446,\"yanchor\":\"bottom\",\"yref\":\"paper\"},{\"font\":{\"size\":16},\"showarrow\":false,\"text\":\"9_sushi_roll_rolls_fresh\",\"x\":0.36250000000000004,\"xanchor\":\"center\",\"xref\":\"paper\",\"y\":0.24444444444444446,\"yanchor\":\"bottom\",\"yref\":\"paper\"}],\"title\":{\"font\":{\"size\":22,\"color\":\"Black\"},\"text\":\"Top-10 Topic & Keywords\",\"x\":0.5,\"xanchor\":\"center\",\"yanchor\":\"top\"},\"hoverlabel\":{\"font\":{\"size\":16,\"family\":\"Rockwell\"},\"bgcolor\":\"white\"},\"showlegend\":false,\"width\":1400,\"height\":750},                        {\"responsive\": true}                    ).then(function(){\n                            \nvar gd = document.getElementById('7bbadb8d-fdbf-4382-bd84-5d3c344581ff');\nvar x = new MutationObserver(function (mutations, observer) {{\n        var display = window.getComputedStyle(gd).display;\n        if (!display || display === 'none') {{\n            console.log([gd, 'removed!']);\n            Plotly.purge(gd);\n            observer.disconnect();\n        }}\n}});\n\n// Listen for the removal of the full notebook cells\nvar notebookContainer = gd.closest('#notebook-container');\nif (notebookContainer) {{\n    x.observe(notebookContainer, {childList: true});\n}}\n\n// Listen for the clearing of the current output cell\nvar outputEl = gd.closest('.output');\nif (outputEl) {{\n    x.observe(outputEl, {childList: true});\n}}\n\n                        })                };                });            </script>        </div>"
     },
     "metadata": {},
     "output_type": "display_data"
    }
   ],
   "source": [
    "# Create custom labels\n",
    "custom_labels = df_bertopic_model_topic.set_index('Topic')['topic_name'].to_dict() # Create a dictionary of {Topic: Name}\n",
    "bertopic_model.set_topic_labels(custom_labels) # Update the custom label\n",
    "\n",
    "# Step 4: Visualize the updated topics\n",
    "bertopic_model.visualize_barchart(\n",
    "    n_words=3,\n",
    "    top_n_topics=10,\n",
    "    title='Top-10 Topic & Keywords', \n",
    "    autoscale=True,\n",
    "    custom_labels=True,\n",
    "    width=350\n",
    ")\n"
   ],
   "metadata": {
    "collapsed": false,
    "ExecuteTime": {
     "end_time": "2024-05-28T03:06:57.277112Z",
     "start_time": "2024-05-28T03:06:57.246771Z"
    }
   },
   "id": "254f4f7e386ff4de"
  },
  {
   "cell_type": "markdown",
   "source": [
    "#### Topic Similarity Matrix\n",
    "\n",
    "Code: ```bertopic_model.visualize_heatmap(top_n_topics=16, width=1000)```\n",
    "\n",
    "<img src=\"images/topic_similarity_matrix.png\" style=\"width: 50%;\">"
   ],
   "metadata": {
    "collapsed": false
   },
   "id": "c77717859ebaaefc"
  },
  {
   "cell_type": "markdown",
   "source": [
    "### Map Yelp Reviews with Topic Categories (Food/Service)\n",
    "\n",
    "Given reviews are heavily distributed to either Service-Related or Food-Related, we'll create these two high-level categories.\n",
    "\n",
    "In the future, I might incorporate more data so we can further breakdown the topics into `dietary`, `ambience`, `cleanliness`, `accessibility`, `wait-time`, and/or `price`."
   ],
   "metadata": {
    "collapsed": false
   },
   "id": "2e549f0e6fa49b71"
  },
  {
   "cell_type": "code",
   "execution_count": 127,
   "outputs": [
    {
     "data": {
      "text/plain": "   Topic  topic_count                   topic_name  topic_food  topic_service\n0     -1        41825   -1_food_service_good_great       False          False\n1      0        11821    0_tacos_food_mexican_taco        True          False\n2      1         6296   1_food_great_service_place        True           True\n3      2         5785    2_food_service_order_said        True           True\n4      3         4707  3_chowder_fish_seafood_crab        True          False",
      "text/html": "<div>\n<style scoped>\n    .dataframe tbody tr th:only-of-type {\n        vertical-align: middle;\n    }\n\n    .dataframe tbody tr th {\n        vertical-align: top;\n    }\n\n    .dataframe thead th {\n        text-align: right;\n    }\n</style>\n<table border=\"1\" class=\"dataframe\">\n  <thead>\n    <tr style=\"text-align: right;\">\n      <th></th>\n      <th>Topic</th>\n      <th>topic_count</th>\n      <th>topic_name</th>\n      <th>topic_food</th>\n      <th>topic_service</th>\n    </tr>\n  </thead>\n  <tbody>\n    <tr>\n      <th>0</th>\n      <td>-1</td>\n      <td>41825</td>\n      <td>-1_food_service_good_great</td>\n      <td>False</td>\n      <td>False</td>\n    </tr>\n    <tr>\n      <th>1</th>\n      <td>0</td>\n      <td>11821</td>\n      <td>0_tacos_food_mexican_taco</td>\n      <td>True</td>\n      <td>False</td>\n    </tr>\n    <tr>\n      <th>2</th>\n      <td>1</td>\n      <td>6296</td>\n      <td>1_food_great_service_place</td>\n      <td>True</td>\n      <td>True</td>\n    </tr>\n    <tr>\n      <th>3</th>\n      <td>2</td>\n      <td>5785</td>\n      <td>2_food_service_order_said</td>\n      <td>True</td>\n      <td>True</td>\n    </tr>\n    <tr>\n      <th>4</th>\n      <td>3</td>\n      <td>4707</td>\n      <td>3_chowder_fish_seafood_crab</td>\n      <td>True</td>\n      <td>False</td>\n    </tr>\n  </tbody>\n</table>\n</div>"
     },
     "execution_count": 127,
     "metadata": {},
     "output_type": "execute_result"
    }
   ],
   "source": [
    "# Set the category & keywords\n",
    "food_category_keywords = {\n",
    "    'food', 'taco', 'seafood', 'pizza', 'breakfast', 'sandwich', 'burger', 'sushi', 'italian',\n",
    "    'coffee', 'thai', 'ramen', 'indian', 'chinese', 'poke', 'donut', 'acai', 'vietnamese', 'boba',\n",
    "    'empanada', 'cake', 'dogs', 'smoothie', 'bagel'\n",
    "}\n",
    "\n",
    "service_category_keywords = {'service', 'vegan', 'option', 'gluten', 'view'}\n",
    "\n",
    "categories = {\n",
    "    \"topic_food\": food_category_keywords,\n",
    "    \"topic_service\": service_category_keywords\n",
    "}\n",
    "\n",
    "# To map each topic_label (\"Name\" column) to one or more categories\n",
    "def map_topic_to_categories(topic_label):\n",
    "    \n",
    "    # Initialize setup: {'food_category': False, 'service_category': False}\n",
    "    category_mapping = {category: False for category in categories}\n",
    "    \n",
    "    # To not assign food/service category for outliers (marked by \"-1\")\n",
    "    if \"-1\" in topic_label:\n",
    "        return category_mapping\n",
    "    \n",
    "    # For each category, check if \"topic_label\" contains any of the category's keywords\n",
    "    for category, keywords in categories.items():\n",
    "        if any(keyword in topic_label for keyword in keywords):\n",
    "            category_mapping[category] = True\n",
    "            \n",
    "    return category_mapping\n",
    "\n",
    "# Map each topic into one or more categories (food, service)\n",
    "bertopic_category_mappings = df_bertopic_model_topic['topic_name'].apply(map_topic_to_categories)\n",
    "\n",
    "# Since the result is in dictionary, we convert each key into a separate column\n",
    "bertopic_category_mappings = bertopic_category_mappings.apply(pd.Series)\n",
    "\n",
    "# Create a dataframe containing the topic and food/service labels\n",
    "bertopic_category_mappings.index = df_bertopic_model_topic.index # Ensure indexes are matching\n",
    "df_bertopic_model_topic_and_category = pd.concat(\n",
    "    [df_bertopic_model_topic, bertopic_category_mappings],\n",
    "    axis=1 # Combine by columns\n",
    ")\n",
    "\n",
    "# Preview results\n",
    "df_bertopic_model_topic_and_category[\n",
    "    ['Topic', 'topic_count', 'topic_name', 'topic_food', 'topic_service']\n",
    "].head()\n"
   ],
   "metadata": {
    "collapsed": false,
    "ExecuteTime": {
     "end_time": "2024-05-28T03:06:57.287501Z",
     "start_time": "2024-05-28T03:06:57.282840Z"
    }
   },
   "id": "2624df87dbe95ecd"
  },
  {
   "cell_type": "markdown",
   "source": [
    "## 8. Export Data"
   ],
   "metadata": {
    "collapsed": false
   },
   "id": "c8e9c7813f1bf3be"
  },
  {
   "cell_type": "code",
   "execution_count": 203,
   "outputs": [
    {
     "data": {
      "text/plain": "                                   business_name  \\\n46672      Jeannine's American Bakery Restaurant   \n2                           Pacific Health Foods   \n32609                 South Coast Deli- Carrillo   \n52966                                   Cafe Ana   \n753              Santa Barbara Shellfish Company   \n16345                    Mac N Cheese After Dark   \n95373                                 Mesa Verde   \n84013  Los Arroyos Mexican Restaurant & Take Out   \n22366                                     Bar 29   \n57375                                   Wingstop   \n\n                                     business_categories  \\\n46672  Food, Breakfast & Brunch, Bakeries, Restaurant...   \n2      Sandwiches, Specialty Food, Food, Health Marke...   \n32609              Salad, Sandwiches, Restaurants, Delis   \n52966  Donuts, Wine Bars, Bars, Breakfast & Brunch, B...   \n753    Live/Raw Food, Restaurants, Seafood, Beer Bar,...   \n16345  Nightlife, Soul Food, Restaurants, Comfort Foo...   \n95373  Garage Door Services, Restaurants, Live/Raw Fo...   \n84013  Mexican, Coffee & Tea, Food, Cocktail Bars, Ni...   \n22366  Restaurants, Bars, Gastropubs, American (Tradi...   \n57375                         Chicken Wings, Restaurants   \n\n                                 topic_name  topic_probability  topic_food  \\\n46672      12_coffee_latte_coffee shop_shop           0.100880        True   \n2      30_smoothie_blenders_smoothies_juice           1.000000        True   \n32609   7_sandwich_sandwiches_pickles_salad           0.255777        True   \n52966            -1_food_service_good_great           0.000000       False   \n753             3_chowder_fish_seafood_crab           1.000000        True   \n16345            1_food_great_service_place           0.176587        True   \n95373      11_vegan_options_food_vegetarian           0.166393        True   \n84013             0_tacos_food_mexican_taco           0.679147        True   \n22366           8_burger_fries_burgers_good           0.076583        True   \n57375            -1_food_service_good_great           0.000000       False   \n\n       topic_service                                cleaned_review_text  \n46672          False  i had a delicious latte here, and a smashing b...  \n2              False  best smoothies in the whole world. and fresh b...  \n32609          False  can't attach photo, food gone too quickly. max...  \n52966          False  this place is amazing. their breakfast platter...  \n753            False  stopped by to visit stearns wharf and came acr...  \n16345           True  my friends and i go here when we need a break ...  \n95373           True  this was such a wonderful dining experience! t...  \n84013          False  my husband and i absolutely love this place. w...  \n22366          False  rather disappointing experience. came in becau...  \n57375          False  this is why santa barbara cannot have nice thi...  ",
      "text/html": "<div>\n<style scoped>\n    .dataframe tbody tr th:only-of-type {\n        vertical-align: middle;\n    }\n\n    .dataframe tbody tr th {\n        vertical-align: top;\n    }\n\n    .dataframe thead th {\n        text-align: right;\n    }\n</style>\n<table border=\"1\" class=\"dataframe\">\n  <thead>\n    <tr style=\"text-align: right;\">\n      <th></th>\n      <th>business_name</th>\n      <th>business_categories</th>\n      <th>topic_name</th>\n      <th>topic_probability</th>\n      <th>topic_food</th>\n      <th>topic_service</th>\n      <th>cleaned_review_text</th>\n    </tr>\n  </thead>\n  <tbody>\n    <tr>\n      <th>46672</th>\n      <td>Jeannine's American Bakery Restaurant</td>\n      <td>Food, Breakfast &amp; Brunch, Bakeries, Restaurant...</td>\n      <td>12_coffee_latte_coffee shop_shop</td>\n      <td>0.100880</td>\n      <td>True</td>\n      <td>False</td>\n      <td>i had a delicious latte here, and a smashing b...</td>\n    </tr>\n    <tr>\n      <th>2</th>\n      <td>Pacific Health Foods</td>\n      <td>Sandwiches, Specialty Food, Food, Health Marke...</td>\n      <td>30_smoothie_blenders_smoothies_juice</td>\n      <td>1.000000</td>\n      <td>True</td>\n      <td>False</td>\n      <td>best smoothies in the whole world. and fresh b...</td>\n    </tr>\n    <tr>\n      <th>32609</th>\n      <td>South Coast Deli- Carrillo</td>\n      <td>Salad, Sandwiches, Restaurants, Delis</td>\n      <td>7_sandwich_sandwiches_pickles_salad</td>\n      <td>0.255777</td>\n      <td>True</td>\n      <td>False</td>\n      <td>can't attach photo, food gone too quickly. max...</td>\n    </tr>\n    <tr>\n      <th>52966</th>\n      <td>Cafe Ana</td>\n      <td>Donuts, Wine Bars, Bars, Breakfast &amp; Brunch, B...</td>\n      <td>-1_food_service_good_great</td>\n      <td>0.000000</td>\n      <td>False</td>\n      <td>False</td>\n      <td>this place is amazing. their breakfast platter...</td>\n    </tr>\n    <tr>\n      <th>753</th>\n      <td>Santa Barbara Shellfish Company</td>\n      <td>Live/Raw Food, Restaurants, Seafood, Beer Bar,...</td>\n      <td>3_chowder_fish_seafood_crab</td>\n      <td>1.000000</td>\n      <td>True</td>\n      <td>False</td>\n      <td>stopped by to visit stearns wharf and came acr...</td>\n    </tr>\n    <tr>\n      <th>16345</th>\n      <td>Mac N Cheese After Dark</td>\n      <td>Nightlife, Soul Food, Restaurants, Comfort Foo...</td>\n      <td>1_food_great_service_place</td>\n      <td>0.176587</td>\n      <td>True</td>\n      <td>True</td>\n      <td>my friends and i go here when we need a break ...</td>\n    </tr>\n    <tr>\n      <th>95373</th>\n      <td>Mesa Verde</td>\n      <td>Garage Door Services, Restaurants, Live/Raw Fo...</td>\n      <td>11_vegan_options_food_vegetarian</td>\n      <td>0.166393</td>\n      <td>True</td>\n      <td>True</td>\n      <td>this was such a wonderful dining experience! t...</td>\n    </tr>\n    <tr>\n      <th>84013</th>\n      <td>Los Arroyos Mexican Restaurant &amp; Take Out</td>\n      <td>Mexican, Coffee &amp; Tea, Food, Cocktail Bars, Ni...</td>\n      <td>0_tacos_food_mexican_taco</td>\n      <td>0.679147</td>\n      <td>True</td>\n      <td>False</td>\n      <td>my husband and i absolutely love this place. w...</td>\n    </tr>\n    <tr>\n      <th>22366</th>\n      <td>Bar 29</td>\n      <td>Restaurants, Bars, Gastropubs, American (Tradi...</td>\n      <td>8_burger_fries_burgers_good</td>\n      <td>0.076583</td>\n      <td>True</td>\n      <td>False</td>\n      <td>rather disappointing experience. came in becau...</td>\n    </tr>\n    <tr>\n      <th>57375</th>\n      <td>Wingstop</td>\n      <td>Chicken Wings, Restaurants</td>\n      <td>-1_food_service_good_great</td>\n      <td>0.000000</td>\n      <td>False</td>\n      <td>False</td>\n      <td>this is why santa barbara cannot have nice thi...</td>\n    </tr>\n  </tbody>\n</table>\n</div>"
     },
     "execution_count": 203,
     "metadata": {},
     "output_type": "execute_result"
    }
   ],
   "source": [
    "# Create the final dataframe, combining the original dataframe with the topic categorization\n",
    "df_final_clean_yelp_review_and_business_topic_and_category = pd.merge(\n",
    "    df_clean_yelp_review_and_business, \n",
    "    df_bertopic_model_topic_and_category[['Topic', 'topic_name', 'topic_food', 'topic_service']],\n",
    "    on='Topic',\n",
    "    how='left'\n",
    ")\n",
    "\n",
    "# Export data to csv\n",
    "df_final_clean_yelp_review_and_business_topic_and_category.to_csv('clean_dataset/03_yelp_pulse_final_data.csv', index=False)\n",
    "\n",
    "# Preview results\n",
    "df_final_clean_yelp_review_and_business_topic_and_category[\n",
    "    ['business_name', 'business_categories', 'topic_name', 'topic_probability', 'topic_food', 'topic_service', 'cleaned_review_text']\n",
    "].sample(10, random_state=24) # The random state=24 shows examples of reviews with both \"topic_food\" and \"topic_service\"\n"
   ],
   "metadata": {
    "collapsed": false,
    "ExecuteTime": {
     "end_time": "2024-05-28T04:17:45.793843Z",
     "start_time": "2024-05-28T04:17:43.135236Z"
    }
   },
   "id": "19c4b1aeb827a59"
  },
  {
   "cell_type": "markdown",
   "source": [
    "## 9. Potential Next Steps\n",
    "\n",
    "1) **Include More Data & More Granular Topic Clusters**: Given we have 40% outliers in the topic clusters, this is due to stricter tuning and potentially not enough data for the model to be confident in forming a cluster. Adding more data can enhance the model's overall prediction performance (more data to learn) and potentially discover more \"topic categories\" (e.g., Cleanliness, Ambience, Dietary Options).\n",
    "    - Action Items:\n",
    "        - Collect and incorporate additional data to reduce the outlier rate and improve model confidence.\n",
    "        - Explore different granularity levels in topic modeling to ensure that topics are neither too broad nor too specific.\n",
    " \n",
    "2) **Handling Multiple Topics per Review**: As reviews can contain multiple topics, consider modifying the model to include top-N predictions. This will involve:\n",
    "    - Identifying the optimal N value to capture multiple relevant topics without increasing the prediction spread excessively.\n",
    "    - Refining the model to better handle multi-topic reviews, potentially improving overall prediction confidence and reducing outliers.\n",
    "\n",
    "3) **Deeper Sentiment Classification with BERT**: As I iterate and improve this project further, I might incorporate a BERT-based sentiment classifier to provide deeper insights into customer sentiment. This may include utilizing a pretrained BERT model and fine-tuning it specifically for this dataset. I am not including this yet since the \"star-based sentiment label\" already provides reasonable accuracy and insights.\n",
    "\n",
    "\n"
   ],
   "metadata": {
    "collapsed": false
   },
   "id": "e9d2ae4a4aa5de43"
  },
  {
   "cell_type": "code",
   "execution_count": null,
   "outputs": [],
   "source": [],
   "metadata": {
    "collapsed": false
   },
   "id": "887f47f29658df7c"
  }
 ],
 "metadata": {
  "kernelspec": {
   "display_name": "Python 3 (ipykernel)",
   "language": "python",
   "name": "python3"
  },
  "language_info": {
   "codemirror_mode": {
    "name": "ipython",
    "version": 3
   },
   "file_extension": ".py",
   "mimetype": "text/x-python",
   "name": "python",
   "nbconvert_exporter": "python",
   "pygments_lexer": "ipython3",
   "version": "3.11.9"
  }
 },
 "nbformat": 4,
 "nbformat_minor": 5
}
