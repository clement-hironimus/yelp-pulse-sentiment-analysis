{
 "cells": [
  {
   "cell_type": "markdown",
   "source": [
    "# Yelp Pulse\n",
    "\n",
    "##### Generating Positive vs Negative Mentions from Yelp reviews for deeper sentiment understanding, leveraging LDA and BERT.\n",
    "\n",
    "Hypothetical Requirement: [https://github.com/clement-hironimus/yelp-pulse-sentiment-analysis/blob/main/README.md](https://github.com/clement-hironimus/yelp-pulse-sentiment-analysis/blob/main/README.md)\n",
    "&nbsp;\n",
    "\n",
    "PROJECT OUTLINE:\n",
    "\n",
    "Step 1: Data Preprocessing (see: yelp_pulse_data_preprocessing)\n",
    "\n",
    "Step 2: Exploratory Data Analysis (see: yelp_pulse_exploratory_data_analysis.ipynb)\n",
    "\n",
    "Step 3: Topic Extraction and Sentiment Classification (see: yelp_pulse_topic_extraction_and_sentiment_classification.ipynb)\n",
    "\n",
    "Step 4: LSTM Model Building and Tuning (see: yelp_pulse_lstm_model.ipynb)\n",
    "1. LSTM Model Development\n",
    "2. Training the LSTM Model\n",
    "3. Model Tuning and Validation"
   ],
   "metadata": {
    "collapsed": false
   },
   "id": "c2f7d78ed23feed8"
  },
  {
   "cell_type": "markdown",
   "source": [
    "## Executive Summary: Key Preprocessing Steps and Decisions"
   ],
   "metadata": {
    "collapsed": false
   },
   "id": "dac791c1bdfe80fc"
  },
  {
   "cell_type": "code",
   "execution_count": null,
   "outputs": [],
   "source": [],
   "metadata": {
    "collapsed": false
   },
   "id": "77a11a7d3ee45c1"
  }
 ],
 "metadata": {
  "kernelspec": {
   "display_name": "Python 3",
   "language": "python",
   "name": "python3"
  },
  "language_info": {
   "codemirror_mode": {
    "name": "ipython",
    "version": 2
   },
   "file_extension": ".py",
   "mimetype": "text/x-python",
   "name": "python",
   "nbconvert_exporter": "python",
   "pygments_lexer": "ipython2",
   "version": "2.7.6"
  }
 },
 "nbformat": 4,
 "nbformat_minor": 5
}
