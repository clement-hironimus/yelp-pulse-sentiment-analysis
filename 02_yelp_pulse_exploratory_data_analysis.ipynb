{
 "cells": [
  {
   "cell_type": "markdown",
   "source": [
    "# Yelp Pulse\n",
    "\n",
    "##### Generating Positive vs Negative Mentions from Yelp reviews for deeper sentiment understanding, leveraging LDA and BERT.\n",
    "\n",
    "Hypothetical Requirement: [https://github.com/clement-hironimus/yelp-pulse-sentiment-analysis/blob/main/README.md](https://github.com/clement-hironimus/yelp-pulse-sentiment-analysis/blob/main/README.md)\n",
    "&nbsp;\n",
    "\n",
    "PROJECT OUTLINE:\n",
    "\n",
    "Step 1: Data Preprocessing (see: yelp_pulse_data_preprocessing)\n",
    "\n",
    "Step 2: Exploratory Data Analysis (THIS NOTEBOOK)\n",
    "1. Sentiment Distribution Analysis\n",
    "2. Business Attributes Analysis\n",
    "3. Review Length and Engagement\n",
    "\n",
    "Step 3: Topic Extraction and Sentiment Classification (see: yelp_pulse_topic_extraction_and_sentiment_classification.ipynb)\n",
    "\n",
    "Step 4: LSTM Model Building and Tuning (see: yelp_pulse_lstm_model.ipynb)"
   ],
   "metadata": {
    "collapsed": false
   },
   "id": "929e2a6f0059f8be"
  },
  {
   "cell_type": "markdown",
   "source": [
    "## Executive Summary: Key Preprocessing Steps and Decisions"
   ],
   "metadata": {
    "collapsed": false
   },
   "id": "a3e8eea0f7cf8c55"
  },
  {
   "cell_type": "code",
   "execution_count": null,
   "outputs": [],
   "source": [],
   "metadata": {
    "collapsed": false
   },
   "id": "26c6b0de5fca2aea"
  },
  {
   "cell_type": "code",
   "execution_count": null,
   "outputs": [],
   "source": [],
   "metadata": {
    "collapsed": false
   },
   "id": "9106d6156b0a1feb"
  },
  {
   "cell_type": "markdown",
   "source": [
    "### Create Review-Level Sentiment Label"
   ],
   "metadata": {
    "collapsed": false
   },
   "id": "9bfd39e793bf007f"
  },
  {
   "cell_type": "code",
   "execution_count": null,
   "outputs": [],
   "source": [
    "# Create the column"
   ],
   "metadata": {
    "collapsed": false
   },
   "id": "ea481e71581954ce"
  },
  {
   "cell_type": "code",
   "execution_count": null,
   "outputs": [],
   "source": [
    "# Quick visualization/distribution\n"
   ],
   "metadata": {
    "collapsed": false
   },
   "id": "14b23baad14631f4"
  },
  {
   "cell_type": "markdown",
   "source": [
    "### Checking Outliers"
   ],
   "metadata": {
    "collapsed": false
   },
   "id": "5363566a7f28988a"
  },
  {
   "cell_type": "markdown",
   "source": [
    "#### Numerical Outliers"
   ],
   "metadata": {
    "collapsed": false
   },
   "id": "7fa2dd3d3813a0eb"
  },
  {
   "cell_type": "code",
   "execution_count": null,
   "outputs": [],
   "source": [],
   "metadata": {
    "collapsed": false
   },
   "id": "3201c5a072a0cc48"
  },
  {
   "cell_type": "markdown",
   "source": [
    "### Categorical Outliers\n",
    "\n",
    "Also for possible categorical imbalances"
   ],
   "metadata": {
    "collapsed": false
   },
   "id": "ac37c9ab02724b8b"
  },
  {
   "cell_type": "code",
   "execution_count": null,
   "outputs": [],
   "source": [],
   "metadata": {
    "collapsed": false
   },
   "id": "c5f957b1ab904f8c"
  },
  {
   "cell_type": "markdown",
   "source": [
    "### Date-based Outliers"
   ],
   "metadata": {
    "collapsed": false
   },
   "id": "d28ce58bf4f38d37"
  },
  {
   "cell_type": "code",
   "execution_count": null,
   "outputs": [],
   "source": [],
   "metadata": {
    "collapsed": false
   },
   "id": "8286324a636cb3bc"
  }
 ],
 "metadata": {
  "kernelspec": {
   "display_name": "Python 3",
   "language": "python",
   "name": "python3"
  },
  "language_info": {
   "codemirror_mode": {
    "name": "ipython",
    "version": 2
   },
   "file_extension": ".py",
   "mimetype": "text/x-python",
   "name": "python",
   "nbconvert_exporter": "python",
   "pygments_lexer": "ipython2",
   "version": "2.7.6"
  }
 },
 "nbformat": 4,
 "nbformat_minor": 5
}
